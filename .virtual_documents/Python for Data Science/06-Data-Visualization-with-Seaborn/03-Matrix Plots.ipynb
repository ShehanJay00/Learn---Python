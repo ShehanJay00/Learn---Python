





import seaborn as sns
%matplotlib inline


flights = sns.load_dataset('flights')


tips = sns.load_dataset('tips')


tips.head()


flights.head()








tips.head()


import numpy as np
tips_numeric = tips.select_dtypes(include=[np.number])
tips_numeric.corr()


sns.heatmap(tips_numeric.corr())


sns.heatmap(tips_numeric.corr(),cmap='coolwarm',annot=True)
#Annot puts th correlation values on the cells





flights.pivot_table(values='passengers',index='month',columns='year')


pvflights = flights.pivot_table(values='passengers',index='month',columns='year')
sns.heatmap(pvflights)





sns.heatmap(pvflights,cmap='magma',linecolor='white',linewidths=1)





sns.clustermap(pvflights)





# More options to get the information a little clearer like normalization
sns.clustermap(pvflights,cmap='coolwarm',standard_scale=1)



