

















pip install chart-studio


import chart_studio.plotly as py
import plotly.graph_objs as go 
from plotly.offline import download_plotlyjs, init_notebook_mode, plot, iplot





init_notebook_mode(connected=True) 








import pandas as pd





data = dict(
    type='choropleth',                # Type of the plot: a choropleth map
    locations=['AZ', 'CA', 'NY'],     # List of state codes to plot (Arizona, California, New York)
    locationmode='USA-states',        # Specifies that the locations are USA state codes
    colorscale='Portland',             # Color scale used to represent the data; 'Portland' is one of the predefined color scales in Plotly
    text=['text1', 'text2', 'text3'], # Hover text for each state, displayed when you hover over a state on the map
    z=[1.0, 2.0, 3.0],                 # Values corresponding to each location, which determine the color intensity; higher values will have darker shades
    colorbar={'title': 'Colorbar Title'}  # Title for the color bar that explains what the colors represent
)






layout = dict(geo = {'scope':'usa'})





choromap = go.Figure(data = [data],layout = layout)


iplot(choromap)





df = pd.read_csv('2011_US_AGRI_Exports')
df.head()





data = dict(type='choropleth',
            colorscale = 'YlOrRd',
            locations = df['code'],
            z = df['total exports'],
            locationmode = 'USA-states',
            text = df['text'],
            marker = dict(line = dict(color = 'rgb(255,255,255)',width = 2)),
            colorbar = {'title':"Millions USD"}
            ) 





layout = dict(title = '2011 US Agriculture Exports by State',
              geo = dict(scope='usa',
                         showlakes = True,
                         lakecolor = 'rgb(85,173,240)')
             )


choromap = go.Figure(data = [data],layout = layout)


iplot(choromap)





df = pd.read_csv('2014_World_GDP')
df.head()


data = dict(
        type = 'choropleth',
        locations = df['CODE'],
        z = df['GDP (BILLIONS)'],
        text = df['COUNTRY'],
        colorbar = {'title' : 'GDP Billions US'},
      ) 


layout = dict(
    title = '2014 Global GDP',
    geo = dict(
        showframe = False,
        projection = {'type':'mercator'}
    )
)








choromap = go.Figure(data = [data],layout = layout)
iplot(choromap)



