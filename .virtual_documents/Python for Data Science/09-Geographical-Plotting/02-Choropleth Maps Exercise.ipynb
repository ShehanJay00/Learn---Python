





import plotly.graph_objs as go 
from plotly.offline import init_notebook_mode,iplot
init_notebook_mode(connected=True) 























choromap = go.Figure(data = [data],layout = layout)
iplot(choromap,validate=False)























choromap = go.Figure(data = [data],layout = layout)
iplot(choromap,validate=False)



