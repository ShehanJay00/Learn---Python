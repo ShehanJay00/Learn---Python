











import pandas as pd


data_info = pd.read_csv('../DATA/lending_club_info.csv',index_col='LoanStatNew')


print(data_info.loc['revol_util']['Description'])


def feat_info(col_name):
    print(data_info.loc[col_name]['Description'])


feat_info('mort_acc')





import pandas as pd
import numpy as np
import matplotlib.pyplot as plt
import seaborn as sns

# might be needed depending on your version of Jupyter
%matplotlib inline


df = pd.read_csv('../DATA/lending_club_loan_two.csv')


df.info()








# CODE HERE


sns.countplot(x='loan_status',data=df)





# CODE HERE


plt.figure(figsize=(12,4))
sns.distplot(df['loan_amnt'],kde=False,bins=40)
plt.xlim(0,45000)





# CODE HERE


df.corr()





# CODE HERE


plt.figure(figsize=(12,7))
sns.heatmap(df.corr(),annot=True,cmap='viridis')
plt.ylim(10, 0)





# CODE HERE


feat_info('installment')


feat_info('loan_amnt')


sns.scatterplot(x='installment',y='loan_amnt',data=df,)





# CODE HERE


sns.boxplot(x='loan_status',y='loan_amnt',data=df)





# CODE HERE


df.groupby('loan_status')['loan_amnt'].describe()





# CODE HERE


sorted(df['grade'].unique())


sorted(df['sub_grade'].unique())





sns.countplot(x='grade',data=df,hue='loan_status')





#CODE HERE


plt.figure(figsize=(12,4))
subgrade_order = sorted(df['sub_grade'].unique())
sns.countplot(x='sub_grade',data=df,order = subgrade_order,palette='coolwarm' )


# CODE HERE


plt.figure(figsize=(12,4))
subgrade_order = sorted(df['sub_grade'].unique())
sns.countplot(x='sub_grade',data=df,order = subgrade_order,palette='coolwarm' ,hue='loan_status')





# CODE HERE


f_and_g = df[(df['grade']=='G') | (df['grade']=='F')]

plt.figure(figsize=(12,4))
subgrade_order = sorted(f_and_g['sub_grade'].unique())
sns.countplot(x='sub_grade',data=f_and_g,order = subgrade_order,hue='loan_status')





# CODE HERE


df['loan_status'].unique()


df['loan_repaid'] = df['loan_status'].map({'Fully Paid':1,'Charged Off':0})


df[['loan_repaid','loan_status']]





#CODE HERE


df.corr()['loan_repaid'].sort_values().drop('loan_repaid').plot(kind='bar')





df.head()








# CODE HERE


len(df)





# CODE HERE


df.isnull().sum()





# CODE HERE


100* df.isnull().sum()/len(df)





# CODE HERE


feat_info('emp_title')
print('\n')
feat_info('emp_length')





# CODE HERE


df['emp_title'].nunique()


df['emp_title'].value_counts()





# CODE HERE


df = df.drop('emp_title',axis=1)





# CODE HERE


sorted(df['emp_length'].dropna().unique())


emp_length_order = [ '< 1 year',
                      '1 year',
                     '2 years',
                     '3 years',
                     '4 years',
                     '5 years',
                     '6 years',
                     '7 years',
                     '8 years',
                     '9 years',
                     '10+ years']


plt.figure(figsize=(12,4))

sns.countplot(x='emp_length',data=df,order=emp_length_order)





# CODE HERE


plt.figure(figsize=(12,4))
sns.countplot(x='emp_length',data=df,order=emp_length_order,hue='loan_status')





# CODE HERE


emp_co = df[df['loan_status']=="Charged Off"].groupby("emp_length").count()['loan_status']


emp_fp = df[df['loan_status']=="Fully Paid"].groupby("emp_length").count()['loan_status']


emp_len = emp_co/emp_fp


emp_len


emp_len.plot(kind='bar')





# CODE HERE


df = df.drop('emp_length',axis=1)








df.isnull().sum()





# CODE HERE


df['purpose'].head(10)


df['title'].head(10)





# CODE HERE


df = df.drop('title',axis=1)





# CODE HERE


feat_info('mort_acc')





# CODE HERE


df['mort_acc'].value_counts()








print("Correlation with the mort_acc column")
df.corr()['mort_acc'].sort_values()








print("Mean of mort_acc column per total_acc")
df.groupby('total_acc').mean()['mort_acc']





# CODE HERE


total_acc_avg = df.groupby('total_acc').mean()['mort_acc']


total_acc_avg[2.0]


def fill_mort_acc(total_acc,mort_acc):
    '''
    Accepts the total_acc and mort_acc values for the row.
    Checks if the mort_acc is NaN , if so, it returns the avg mort_acc value
    for the corresponding total_acc value for that row.
    
    total_acc_avg here should be a Series or dictionary containing the mapping of the
    groupby averages of mort_acc per total_acc values.
    '''
    if np.isnan(mort_acc):
        return total_acc_avg[total_acc]
    else:
        return mort_acc


df['mort_acc'] = df.apply(lambda x: fill_mort_acc(x['total_acc'], x['mort_acc']), axis=1)


df.isnull().sum()





# CODE HERE


df = df.dropna()


df.isnull().sum()





# CODE HERE


df.select_dtypes(['object']).columns





# CODE HERE


df['term'].value_counts()


# Or just use .map()
df['term'] = df['term'].apply(lambda term: int(term[:3]))





# CODE HERE


df = df.drop('grade',axis=1)





# CODE HERE


subgrade_dummies = pd.get_dummies(df['sub_grade'],drop_first=True)


df = pd.concat([df.drop('sub_grade',axis=1),subgrade_dummies],axis=1)


df.columns


df.select_dtypes(['object']).columns





# CODE HERE


dummies = pd.get_dummies(df[['verification_status', 'application_type','initial_list_status','purpose' ]],drop_first=True)
df = df.drop(['verification_status', 'application_type','initial_list_status','purpose'],axis=1)
df = pd.concat([df,dummies],axis=1)








#CODE HERE


df['home_ownership'].value_counts()





#CODE HERE


df['home_ownership']=df['home_ownership'].replace(['NONE', 'ANY'], 'OTHER')

dummies = pd.get_dummies(df['home_ownership'],drop_first=True)
df = df.drop('home_ownership',axis=1)
df = pd.concat([df,dummies],axis=1)





#CODE HERE


df['zip_code'] = df['address'].apply(lambda address:address[-5:])








dummies = pd.get_dummies(df['zip_code'],drop_first=True)
df = df.drop(['zip_code','address'],axis=1)
df = pd.concat([df,dummies],axis=1)





#CODE HERE


df = df.drop('issue_d',axis=1)





#CODE HERE


df['earliest_cr_year'] = df['earliest_cr_line'].apply(lambda date:int(date[-4:]))
df = df.drop('earliest_cr_line',axis=1)


df.select_dtypes(['object']).columns








from sklearn.model_selection import train_test_split





# CODE HERE


df = df.drop('loan_status',axis=1)





#CODE HERE


X = df.drop('loan_repaid',axis=1).values
y = df['loan_repaid'].values





# df = df.sample(frac=0.1,random_state=101)
print(len(df))





#CODE HERE


X_train, X_test, y_train, y_test = train_test_split(X, y, test_size=0.20, random_state=101)





# CODE HERE


from sklearn.preprocessing import MinMaxScaler


scaler = MinMaxScaler()


X_train = scaler.fit_transform(X_train)


X_test = scaler.transform(X_test)





import tensorflow as tf
from tensorflow.keras.models import Sequential
from tensorflow.keras.layers import Dense, Activation,Dropout
from tensorflow.keras.constraints import max_norm





# CODE HERE
model = Sequential()

# Choose whatever number of layers/neurons you want.

# https://stats.stackexchange.com/questions/181/how-to-choose-the-number-of-hidden-layers-and-nodes-in-a-feedforward-neural-netw

# Remember to compile()





# CODE HERE


model.fit(x=X_train, 
          y=y_train, 
          epochs=25,
          batch_size=256,
          validation_data=(X_test, y_test), 
          )





# CODE HERE


from tensorflow.keras.models import load_model


model.save('full_data_project_model.h5')  





# CODE HERE


losses = pd.DataFrame(model.history.history)


losses[['loss','val_loss']].plot()





# CODE HERE


from sklearn.metrics import classification_report,confusion_matrix


predictions = model.predict_classes(X_test)


print(classification_report(y_test,predictions))


confusion_matrix(y_test,predictions)





import random
random.seed(101)
random_ind = random.randint(0,len(df))

new_customer = df.drop('loan_repaid',axis=1).iloc[random_ind]
new_customer


# CODE HERE


model.predict_classes(new_customer.values.reshape(1,78))





# CODE HERE


df.iloc[random_ind]['loan_repaid']



