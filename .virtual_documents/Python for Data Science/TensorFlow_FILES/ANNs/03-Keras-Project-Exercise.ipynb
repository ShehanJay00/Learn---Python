











import pandas as pd


data_info = pd.read_csv('../DATA/lending_club_info.csv',index_col='LoanStatNew')


print(data_info.loc['revol_util']['Description'])


def feat_info(col_name):
    print(data_info.loc[col_name]['Description'])


feat_info('mort_acc')





import pandas as pd
import numpy as np
import matplotlib.pyplot as plt
import seaborn as sns

# might be needed depending on your version of Jupyter
%matplotlib inline


df = pd.read_csv('../DATA/lending_club_loan_two.csv')


df.info()








# CODE HERE








# CODE HERE








# CODE HERE








# CODE HERE








# CODE HERE














# CODE HERE








# CODE HERE








# CODE HERE











# CODE HERE








#CODE HERE





# CODE HERE








# CODE HERE








# CODE HERE














#CODE HERE

















# CODE HERE








# CODE HERE








# CODE HERE








# CODE HERE








# CODE HERE











# CODE HERE








# CODE HERE














# CODE HERE








# CODE HERE




















# CODE HERE

















# CODE HERE





df['title'].head(10)





# CODE HERE








# CODE HERE








# CODE HERE


























# CODE HERE




















# CODE HERE











# CODE HERE








# CODE HERE











# CODE HERE








# CODE HERE

















# CODE HERE











#CODE HERE








#CODE HERE








#CODE HERE

















#CODE HERE








#CODE HERE




















# CODE HERE








#CODE HERE








# df = df.sample(frac=0.1,random_state=101)
print(len(df))





#CODE HERE








# CODE HERE

















import tensorflow as tf
from tensorflow.keras.models import Sequential
from tensorflow.keras.layers import Dense,Dropout





# CODE HERE
model = Sequential()

# Choose whatever number of layers/neurons you want.

# https://stats.stackexchange.com/questions/181/how-to-choose-the-number-of-hidden-layers-and-nodes-in-a-feedforward-neural-netw

# Remember to compile()








# CODE HERE








# CODE HERE











# CODE HERE











# CODE HERE

















import random
random.seed(101)
random_ind = random.randint(0,len(df))

new_customer = df.drop('loan_repaid',axis=1).iloc[random_ind]
new_customer


# CODE HERE








# CODE HERE






