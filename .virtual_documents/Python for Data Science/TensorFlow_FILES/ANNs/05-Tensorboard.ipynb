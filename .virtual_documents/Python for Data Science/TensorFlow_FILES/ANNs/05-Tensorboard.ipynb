





import pandas as pd
import numpy as np


df = pd.read_csv('../DATA/cancer_classification.csv')





X = df.drop('benign_0__mal_1',axis=1).values
y = df['benign_0__mal_1'].values


from sklearn.model_selection import train_test_split


X_train, X_test, y_train, y_test = train_test_split(X,y,test_size=0.25,random_state=101)





from sklearn.preprocessing import MinMaxScaler


scaler = MinMaxScaler()


scaler.fit(X_train)


X_train = scaler.transform(X_train)
X_test = scaler.transform(X_test)





import tensorflow as tf
from tensorflow.keras.models import Sequential
from tensorflow.keras.layers import Dense, Activation,Dropout


from tensorflow.keras.callbacks import EarlyStopping,TensorBoard





early_stop = EarlyStopping(monitor='val_loss', mode='min', verbose=1, patience=25)





pwd





from datetime import datetime


datetime.now().strftime("%Y-%m-%d--%H%M")


# WINDOWS: Use "logs\\fit"
# MACOS/LINUX: Use "logs\fit"

log_directory = 'logs\fit'

# OPTIONAL: ADD A TIMESTAMP FOR UNIQUE FOLDER
# timestamp = datetime.now().strftime("%Y-%m-%d--%H%M")
# log_directory = log_directory + '\\' + timestamp


board = TensorBoard(log_dir=log_directory,histogram_freq=1,
    write_graph=True,
    write_images=True,
    update_freq='epoch',
    profile_batch=2,
    embeddings_freq=1)





model = Sequential()
model.add(Dense(units=30,activation='relu'))
model.add(Dropout(0.5))
model.add(Dense(units=15,activation='relu'))
model.add(Dropout(0.5))
model.add(Dense(units=1,activation='sigmoid'))
model.compile(loss='binary_crossentropy', optimizer='adam')





model.fit(x=X_train, 
          y=y_train, 
          epochs=600,
          validation_data=(X_test, y_test), verbose=1,
          callbacks=[early_stop,board]
          )











print(log_directory)


pwd





tensorboard --logdir logs\fit 



