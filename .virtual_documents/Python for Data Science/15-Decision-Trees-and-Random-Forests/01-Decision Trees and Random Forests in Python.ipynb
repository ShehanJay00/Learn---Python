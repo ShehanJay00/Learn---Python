














import pandas as pd
import numpy as np
import matplotlib.pyplot as plt
import seaborn as sns
%matplotlib inline





df = pd.read_csv('kyphosis.csv')


df.head()





sns.pairplot(df,hue='Kyphosis',palette='Set1')





from sklearn.model_selection import train_test_split


X = df.drop('Kyphosis',axis=1)
y = df['Kyphosis']


X_train, X_test, y_train, y_test = train_test_split(X, y, test_size=0.30)





from sklearn.tree import DecisionTreeClassifier


dtree = DecisionTreeClassifier()


dtree.fit(X_train,y_train)





predictions = dtree.predict(X_test)


from sklearn.metrics import classification_report,confusion_matrix


print(classification_report(y_test,predictions))


print(confusion_matrix(y_test,predictions))





from IPython.display import Image  
from io import StringIO  
from sklearn.tree import export_graphviz
import pydot

features = list(df.columns[1:])
features


import matplotlib.pyplot as plt
from sklearn.tree import plot_tree

# Plot the decision tree
plt.figure(figsize=(20,20))  # Adjust figure size if necessary
plot_tree(dtree, feature_names=features, filled=True, rounded=True, class_names=True)

# Show the plot
plt.show()














from sklearn.ensemble import RandomForestClassifier
rfc = RandomForestClassifier(n_estimators=100)
#n_estimators refers to the number of trees in the random forest.
rfc.fit(X_train, y_train)


rfc_pred = rfc.predict(X_test)


print(confusion_matrix(y_test,rfc_pred))


print(classification_report(y_test,rfc_pred))



