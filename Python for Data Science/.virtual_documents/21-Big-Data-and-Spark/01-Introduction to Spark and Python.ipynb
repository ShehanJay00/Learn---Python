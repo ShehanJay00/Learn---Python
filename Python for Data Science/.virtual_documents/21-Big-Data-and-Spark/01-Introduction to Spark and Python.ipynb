


from pyspark import SparkContext





sc = SparkContext()








%%writefile example.txt
first line
second line
third line
fourth line








textFile = sc.textFile('example.txt')





textFile.count()


textFile.first()





secfind = textFile.filter(lambda line: 'second' in line)


# RDD
secfind


# Perform action on transformation
secfind.collect()


# Perform action on transformation
secfind.count()



