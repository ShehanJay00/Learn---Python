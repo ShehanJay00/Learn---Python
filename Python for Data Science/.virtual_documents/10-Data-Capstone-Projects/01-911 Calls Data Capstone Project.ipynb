











import pandas as pd
import numpy as np





import matplotlib.pyplot as plt
import seaborn as sns
sns.set_style('whitegrid')
%matplotlib inline








df = pd.read_csv('911.csv')





df.info()





df.head()








df['zip'].value_counts().head(5)





df['twp'].value_counts().head(5)





df['title'].nunique()








df['reason'] = df['title'].apply(lambda title: title.split(':')[0])








df['reason'].value_counts()





sns.countplot(x='reason',data=df,palette='viridis')





type(df['timeStamp'].iloc[0])
#iloc stands for integer-location based indexing





df['timeStamp'] = pd.to_datetime(df['timeStamp'])





df['hour'] = df['timeStamp'].apply(lambda time : time.hour)
df['Month'] = df['timeStamp'].apply(lambda time: time.month)
df['Day of Week'] = df['timeStamp'].apply(lambda time: time.dayofweek)





dmap = {0:'Mon',1:'Tue',2:'Wed',3:'Thu',4:'Fri',5:'Sat',6:'Sun'}


df['Day of Week'] = df['Day of Week'].map(dmap)





sns.countplot(x='Day of Week',data=df,hue='reason',palette='viridis')


# To relocate the legend
plt.legend(bbox_to_anchor=(1.05, 1), loc=2, borderaxespad=0.)





sns.countplot(x='Month',data=df,hue='reason',palette='viridis')

# To relocate the legend
plt.legend(bbox_to_anchor=(1.05, 1), loc=2, borderaxespad=0.)








byMonth = df.groupby('Month').count()
byMonth.head()





# Could be any column
byMonth['twp'].plot()








sns.lmplot(x='Month',y='twp',data=byMonth.reset_index())








df['Date']=df['timeStamp'].apply(lambda t: t.date())





df.groupby('Date').count()['twp'].plot()
plt.tight_layout()








df[df['reason']=='Traffic'].groupby('Date').count()['twp'].plot()
plt.title('Traffic')
plt.tight_layout()


df[df['reason']=='Fire'].groupby('Date').count()['twp'].plot()
plt.title('Fire')
plt.tight_layout()


df[df['reason']=='EMS'].groupby('Date').count()['twp'].plot()
plt.title('EMS')
plt.tight_layout()





dayHour = df.groupby(by=['Day of Week','hour']).count()['reason'].unstack()
dayHour.head()








plt.figure(figsize=(12,6))
sns.heatmap(dayHour,cmap='viridis')





sns.clustermap(dayHour,cmap='viridis')





dayMonth = df.groupby(by=['Day of Week','Month']).count()['reason'].unstack()
dayMonth.head()


plt.figure(figsize=(12,6))
sns.heatmap(dayMonth,cmap='viridis')


sns.clustermap(dayMonth,cmap='viridis')



