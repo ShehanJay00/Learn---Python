{
 "cells": [
  {
   "cell_type": "markdown",
   "metadata": {},
   "source": [
    "___\n",
    "\n",
    "<a href='http://www.pieriandata.com'> <img src='../Pierian_Data_Logo.png' /></a>\n",
    "___\n",
    "# Plotly and Cufflinks"
   ]
  },
  {
   "cell_type": "markdown",
   "metadata": {},
   "source": [
    "Plotly is a library that allows you to create interactive plots that you can use in dashboards or websites (you can save them as html files or static images).\n",
    "\n",
    "## Installation\n",
    "\n",
    "In order for this all to work, you'll need to install plotly and cufflinks to call plots directly off of a pandas dataframe. These libraries are not currently available through **conda** but are available through **pip**. Install the libraries at your command line/terminal using:\n",
    "\n",
    "    pip install plotly\n",
    "    pip install cufflinks\n",
    "\n",
    "** NOTE: Make sure you only have one installation of Python on your computer when you do this, otherwise the installation may not work. **\n",
    "\n",
    "## Imports and Set-up"
   ]
  },
  {
   "cell_type": "markdown",
   "metadata": {},
   "source": [
    "* Plotly: More versatile, can be used on its own for creating interactive plots.\n",
    "* Cufflinks: Built on top of Plotly and pandas, simplifying the creation of Plotly plots from pandas DataFrames."
   ]
  },
  {
   "cell_type": "code",
   "execution_count": 18,
   "metadata": {},
   "outputs": [
    {
     "name": "stdout",
     "output_type": "stream",
     "text": [
      "Requirement already satisfied: plotly in /opt/anaconda3/lib/python3.11/site-packages (5.9.0)\n",
      "Requirement already satisfied: tenacity>=6.2.0 in /opt/anaconda3/lib/python3.11/site-packages (from plotly) (8.2.2)\n",
      "Requirement already satisfied: cufflinks in /opt/anaconda3/lib/python3.11/site-packages (0.17.3)\n",
      "Requirement already satisfied: numpy>=1.9.2 in /opt/anaconda3/lib/python3.11/site-packages (from cufflinks) (1.26.4)\n",
      "Requirement already satisfied: pandas>=0.19.2 in /opt/anaconda3/lib/python3.11/site-packages (from cufflinks) (2.1.4)\n",
      "Requirement already satisfied: plotly>=4.1.1 in /opt/anaconda3/lib/python3.11/site-packages (from cufflinks) (5.9.0)\n",
      "Requirement already satisfied: six>=1.9.0 in /opt/anaconda3/lib/python3.11/site-packages (from cufflinks) (1.16.0)\n",
      "Requirement already satisfied: colorlover>=0.2.1 in /opt/anaconda3/lib/python3.11/site-packages (from cufflinks) (0.3.0)\n",
      "Requirement already satisfied: setuptools>=34.4.1 in /opt/anaconda3/lib/python3.11/site-packages (from cufflinks) (68.2.2)\n",
      "Requirement already satisfied: ipython>=5.3.0 in /opt/anaconda3/lib/python3.11/site-packages (from cufflinks) (8.20.0)\n",
      "Requirement already satisfied: ipywidgets>=7.0.0 in /opt/anaconda3/lib/python3.11/site-packages (from cufflinks) (7.6.5)\n",
      "Requirement already satisfied: decorator in /opt/anaconda3/lib/python3.11/site-packages (from ipython>=5.3.0->cufflinks) (5.1.1)\n",
      "Requirement already satisfied: jedi>=0.16 in /opt/anaconda3/lib/python3.11/site-packages (from ipython>=5.3.0->cufflinks) (0.18.1)\n",
      "Requirement already satisfied: matplotlib-inline in /opt/anaconda3/lib/python3.11/site-packages (from ipython>=5.3.0->cufflinks) (0.1.6)\n",
      "Requirement already satisfied: prompt-toolkit<3.1.0,>=3.0.41 in /opt/anaconda3/lib/python3.11/site-packages (from ipython>=5.3.0->cufflinks) (3.0.43)\n",
      "Requirement already satisfied: pygments>=2.4.0 in /opt/anaconda3/lib/python3.11/site-packages (from ipython>=5.3.0->cufflinks) (2.15.1)\n",
      "Requirement already satisfied: stack-data in /opt/anaconda3/lib/python3.11/site-packages (from ipython>=5.3.0->cufflinks) (0.2.0)\n",
      "Requirement already satisfied: traitlets>=5 in /opt/anaconda3/lib/python3.11/site-packages (from ipython>=5.3.0->cufflinks) (5.7.1)\n",
      "Requirement already satisfied: pexpect>4.3 in /opt/anaconda3/lib/python3.11/site-packages (from ipython>=5.3.0->cufflinks) (4.8.0)\n",
      "Requirement already satisfied: ipykernel>=4.5.1 in /opt/anaconda3/lib/python3.11/site-packages (from ipywidgets>=7.0.0->cufflinks) (6.28.0)\n",
      "Requirement already satisfied: ipython-genutils~=0.2.0 in /opt/anaconda3/lib/python3.11/site-packages (from ipywidgets>=7.0.0->cufflinks) (0.2.0)\n",
      "Requirement already satisfied: nbformat>=4.2.0 in /opt/anaconda3/lib/python3.11/site-packages (from ipywidgets>=7.0.0->cufflinks) (5.9.2)\n",
      "Requirement already satisfied: widgetsnbextension~=3.5.0 in /opt/anaconda3/lib/python3.11/site-packages (from ipywidgets>=7.0.0->cufflinks) (3.5.2)\n",
      "Requirement already satisfied: jupyterlab-widgets>=1.0.0 in /opt/anaconda3/lib/python3.11/site-packages (from ipywidgets>=7.0.0->cufflinks) (3.0.9)\n",
      "Requirement already satisfied: python-dateutil>=2.8.2 in /opt/anaconda3/lib/python3.11/site-packages (from pandas>=0.19.2->cufflinks) (2.8.2)\n",
      "Requirement already satisfied: pytz>=2020.1 in /opt/anaconda3/lib/python3.11/site-packages (from pandas>=0.19.2->cufflinks) (2023.3.post1)\n",
      "Requirement already satisfied: tzdata>=2022.1 in /opt/anaconda3/lib/python3.11/site-packages (from pandas>=0.19.2->cufflinks) (2023.3)\n",
      "Requirement already satisfied: tenacity>=6.2.0 in /opt/anaconda3/lib/python3.11/site-packages (from plotly>=4.1.1->cufflinks) (8.2.2)\n",
      "Requirement already satisfied: appnope in /opt/anaconda3/lib/python3.11/site-packages (from ipykernel>=4.5.1->ipywidgets>=7.0.0->cufflinks) (0.1.2)\n",
      "Requirement already satisfied: comm>=0.1.1 in /opt/anaconda3/lib/python3.11/site-packages (from ipykernel>=4.5.1->ipywidgets>=7.0.0->cufflinks) (0.1.2)\n",
      "Requirement already satisfied: debugpy>=1.6.5 in /opt/anaconda3/lib/python3.11/site-packages (from ipykernel>=4.5.1->ipywidgets>=7.0.0->cufflinks) (1.6.7)\n",
      "Requirement already satisfied: jupyter-client>=6.1.12 in /opt/anaconda3/lib/python3.11/site-packages (from ipykernel>=4.5.1->ipywidgets>=7.0.0->cufflinks) (8.6.0)\n",
      "Requirement already satisfied: jupyter-core!=5.0.*,>=4.12 in /opt/anaconda3/lib/python3.11/site-packages (from ipykernel>=4.5.1->ipywidgets>=7.0.0->cufflinks) (5.5.0)\n",
      "Requirement already satisfied: nest-asyncio in /opt/anaconda3/lib/python3.11/site-packages (from ipykernel>=4.5.1->ipywidgets>=7.0.0->cufflinks) (1.6.0)\n",
      "Requirement already satisfied: packaging in /opt/anaconda3/lib/python3.11/site-packages (from ipykernel>=4.5.1->ipywidgets>=7.0.0->cufflinks) (23.1)\n",
      "Requirement already satisfied: psutil in /opt/anaconda3/lib/python3.11/site-packages (from ipykernel>=4.5.1->ipywidgets>=7.0.0->cufflinks) (5.9.0)\n",
      "Requirement already satisfied: pyzmq>=24 in /opt/anaconda3/lib/python3.11/site-packages (from ipykernel>=4.5.1->ipywidgets>=7.0.0->cufflinks) (25.1.2)\n",
      "Requirement already satisfied: tornado>=6.1 in /opt/anaconda3/lib/python3.11/site-packages (from ipykernel>=4.5.1->ipywidgets>=7.0.0->cufflinks) (6.3.3)\n",
      "Requirement already satisfied: parso<0.9.0,>=0.8.0 in /opt/anaconda3/lib/python3.11/site-packages (from jedi>=0.16->ipython>=5.3.0->cufflinks) (0.8.3)\n",
      "Requirement already satisfied: fastjsonschema in /opt/anaconda3/lib/python3.11/site-packages (from nbformat>=4.2.0->ipywidgets>=7.0.0->cufflinks) (2.16.2)\n",
      "Requirement already satisfied: jsonschema>=2.6 in /opt/anaconda3/lib/python3.11/site-packages (from nbformat>=4.2.0->ipywidgets>=7.0.0->cufflinks) (4.19.2)\n",
      "Requirement already satisfied: ptyprocess>=0.5 in /opt/anaconda3/lib/python3.11/site-packages (from pexpect>4.3->ipython>=5.3.0->cufflinks) (0.7.0)\n",
      "Requirement already satisfied: wcwidth in /opt/anaconda3/lib/python3.11/site-packages (from prompt-toolkit<3.1.0,>=3.0.41->ipython>=5.3.0->cufflinks) (0.2.5)\n",
      "Requirement already satisfied: notebook>=4.4.1 in /opt/anaconda3/lib/python3.11/site-packages (from widgetsnbextension~=3.5.0->ipywidgets>=7.0.0->cufflinks) (7.2.1)\n",
      "Requirement already satisfied: executing in /opt/anaconda3/lib/python3.11/site-packages (from stack-data->ipython>=5.3.0->cufflinks) (0.8.3)\n",
      "Requirement already satisfied: asttokens in /opt/anaconda3/lib/python3.11/site-packages (from stack-data->ipython>=5.3.0->cufflinks) (2.0.5)\n",
      "Requirement already satisfied: pure-eval in /opt/anaconda3/lib/python3.11/site-packages (from stack-data->ipython>=5.3.0->cufflinks) (0.2.2)\n",
      "Requirement already satisfied: attrs>=22.2.0 in /opt/anaconda3/lib/python3.11/site-packages (from jsonschema>=2.6->nbformat>=4.2.0->ipywidgets>=7.0.0->cufflinks) (23.1.0)\n",
      "Requirement already satisfied: jsonschema-specifications>=2023.03.6 in /opt/anaconda3/lib/python3.11/site-packages (from jsonschema>=2.6->nbformat>=4.2.0->ipywidgets>=7.0.0->cufflinks) (2023.7.1)\n",
      "Requirement already satisfied: referencing>=0.28.4 in /opt/anaconda3/lib/python3.11/site-packages (from jsonschema>=2.6->nbformat>=4.2.0->ipywidgets>=7.0.0->cufflinks) (0.30.2)\n",
      "Requirement already satisfied: rpds-py>=0.7.1 in /opt/anaconda3/lib/python3.11/site-packages (from jsonschema>=2.6->nbformat>=4.2.0->ipywidgets>=7.0.0->cufflinks) (0.10.6)\n",
      "Requirement already satisfied: platformdirs>=2.5 in /opt/anaconda3/lib/python3.11/site-packages (from jupyter-core!=5.0.*,>=4.12->ipykernel>=4.5.1->ipywidgets>=7.0.0->cufflinks) (3.10.0)\n",
      "Requirement already satisfied: jupyter-server<3,>=2.4.0 in /opt/anaconda3/lib/python3.11/site-packages (from notebook>=4.4.1->widgetsnbextension~=3.5.0->ipywidgets>=7.0.0->cufflinks) (2.10.0)\n",
      "Requirement already satisfied: jupyterlab-server<3,>=2.27.1 in /opt/anaconda3/lib/python3.11/site-packages (from notebook>=4.4.1->widgetsnbextension~=3.5.0->ipywidgets>=7.0.0->cufflinks) (2.27.3)\n",
      "Requirement already satisfied: jupyterlab<4.3,>=4.2.0 in /opt/anaconda3/lib/python3.11/site-packages (from notebook>=4.4.1->widgetsnbextension~=3.5.0->ipywidgets>=7.0.0->cufflinks) (4.2.4)\n",
      "Requirement already satisfied: notebook-shim<0.3,>=0.2 in /opt/anaconda3/lib/python3.11/site-packages (from notebook>=4.4.1->widgetsnbextension~=3.5.0->ipywidgets>=7.0.0->cufflinks) (0.2.3)\n",
      "Requirement already satisfied: anyio>=3.1.0 in /opt/anaconda3/lib/python3.11/site-packages (from jupyter-server<3,>=2.4.0->notebook>=4.4.1->widgetsnbextension~=3.5.0->ipywidgets>=7.0.0->cufflinks) (4.2.0)\n",
      "Requirement already satisfied: argon2-cffi in /opt/anaconda3/lib/python3.11/site-packages (from jupyter-server<3,>=2.4.0->notebook>=4.4.1->widgetsnbextension~=3.5.0->ipywidgets>=7.0.0->cufflinks) (21.3.0)\n",
      "Requirement already satisfied: jinja2 in /opt/anaconda3/lib/python3.11/site-packages (from jupyter-server<3,>=2.4.0->notebook>=4.4.1->widgetsnbextension~=3.5.0->ipywidgets>=7.0.0->cufflinks) (3.1.3)\n",
      "Requirement already satisfied: jupyter-events>=0.6.0 in /opt/anaconda3/lib/python3.11/site-packages (from jupyter-server<3,>=2.4.0->notebook>=4.4.1->widgetsnbextension~=3.5.0->ipywidgets>=7.0.0->cufflinks) (0.8.0)\n",
      "Requirement already satisfied: jupyter-server-terminals in /opt/anaconda3/lib/python3.11/site-packages (from jupyter-server<3,>=2.4.0->notebook>=4.4.1->widgetsnbextension~=3.5.0->ipywidgets>=7.0.0->cufflinks) (0.4.4)\n",
      "Requirement already satisfied: nbconvert>=6.4.4 in /opt/anaconda3/lib/python3.11/site-packages (from jupyter-server<3,>=2.4.0->notebook>=4.4.1->widgetsnbextension~=3.5.0->ipywidgets>=7.0.0->cufflinks) (7.10.0)\n",
      "Requirement already satisfied: overrides in /opt/anaconda3/lib/python3.11/site-packages (from jupyter-server<3,>=2.4.0->notebook>=4.4.1->widgetsnbextension~=3.5.0->ipywidgets>=7.0.0->cufflinks) (7.4.0)\n",
      "Requirement already satisfied: prometheus-client in /opt/anaconda3/lib/python3.11/site-packages (from jupyter-server<3,>=2.4.0->notebook>=4.4.1->widgetsnbextension~=3.5.0->ipywidgets>=7.0.0->cufflinks) (0.14.1)\n",
      "Requirement already satisfied: send2trash>=1.8.2 in /opt/anaconda3/lib/python3.11/site-packages (from jupyter-server<3,>=2.4.0->notebook>=4.4.1->widgetsnbextension~=3.5.0->ipywidgets>=7.0.0->cufflinks) (1.8.2)\n",
      "Requirement already satisfied: terminado>=0.8.3 in /opt/anaconda3/lib/python3.11/site-packages (from jupyter-server<3,>=2.4.0->notebook>=4.4.1->widgetsnbextension~=3.5.0->ipywidgets>=7.0.0->cufflinks) (0.17.1)\n",
      "Requirement already satisfied: websocket-client in /opt/anaconda3/lib/python3.11/site-packages (from jupyter-server<3,>=2.4.0->notebook>=4.4.1->widgetsnbextension~=3.5.0->ipywidgets>=7.0.0->cufflinks) (0.58.0)\n",
      "Requirement already satisfied: async-lru>=1.0.0 in /opt/anaconda3/lib/python3.11/site-packages (from jupyterlab<4.3,>=4.2.0->notebook>=4.4.1->widgetsnbextension~=3.5.0->ipywidgets>=7.0.0->cufflinks) (2.0.4)\n",
      "Requirement already satisfied: httpx>=0.25.0 in /opt/anaconda3/lib/python3.11/site-packages (from jupyterlab<4.3,>=4.2.0->notebook>=4.4.1->widgetsnbextension~=3.5.0->ipywidgets>=7.0.0->cufflinks) (0.27.0)\n",
      "Requirement already satisfied: jupyter-lsp>=2.0.0 in /opt/anaconda3/lib/python3.11/site-packages (from jupyterlab<4.3,>=4.2.0->notebook>=4.4.1->widgetsnbextension~=3.5.0->ipywidgets>=7.0.0->cufflinks) (2.2.0)\n",
      "Requirement already satisfied: babel>=2.10 in /opt/anaconda3/lib/python3.11/site-packages (from jupyterlab-server<3,>=2.27.1->notebook>=4.4.1->widgetsnbextension~=3.5.0->ipywidgets>=7.0.0->cufflinks) (2.11.0)\n",
      "Requirement already satisfied: json5>=0.9.0 in /opt/anaconda3/lib/python3.11/site-packages (from jupyterlab-server<3,>=2.27.1->notebook>=4.4.1->widgetsnbextension~=3.5.0->ipywidgets>=7.0.0->cufflinks) (0.9.6)\n",
      "Requirement already satisfied: requests>=2.31 in /opt/anaconda3/lib/python3.11/site-packages (from jupyterlab-server<3,>=2.27.1->notebook>=4.4.1->widgetsnbextension~=3.5.0->ipywidgets>=7.0.0->cufflinks) (2.31.0)\n",
      "Requirement already satisfied: idna>=2.8 in /opt/anaconda3/lib/python3.11/site-packages (from anyio>=3.1.0->jupyter-server<3,>=2.4.0->notebook>=4.4.1->widgetsnbextension~=3.5.0->ipywidgets>=7.0.0->cufflinks) (3.4)\n",
      "Requirement already satisfied: sniffio>=1.1 in /opt/anaconda3/lib/python3.11/site-packages (from anyio>=3.1.0->jupyter-server<3,>=2.4.0->notebook>=4.4.1->widgetsnbextension~=3.5.0->ipywidgets>=7.0.0->cufflinks) (1.3.0)\n",
      "Requirement already satisfied: certifi in /opt/anaconda3/lib/python3.11/site-packages (from httpx>=0.25.0->jupyterlab<4.3,>=4.2.0->notebook>=4.4.1->widgetsnbextension~=3.5.0->ipywidgets>=7.0.0->cufflinks) (2024.7.4)\n",
      "Requirement already satisfied: httpcore==1.* in /opt/anaconda3/lib/python3.11/site-packages (from httpx>=0.25.0->jupyterlab<4.3,>=4.2.0->notebook>=4.4.1->widgetsnbextension~=3.5.0->ipywidgets>=7.0.0->cufflinks) (1.0.5)\n",
      "Requirement already satisfied: h11<0.15,>=0.13 in /opt/anaconda3/lib/python3.11/site-packages (from httpcore==1.*->httpx>=0.25.0->jupyterlab<4.3,>=4.2.0->notebook>=4.4.1->widgetsnbextension~=3.5.0->ipywidgets>=7.0.0->cufflinks) (0.14.0)\n",
      "Requirement already satisfied: MarkupSafe>=2.0 in /opt/anaconda3/lib/python3.11/site-packages (from jinja2->jupyter-server<3,>=2.4.0->notebook>=4.4.1->widgetsnbextension~=3.5.0->ipywidgets>=7.0.0->cufflinks) (2.1.3)\n",
      "Requirement already satisfied: python-json-logger>=2.0.4 in /opt/anaconda3/lib/python3.11/site-packages (from jupyter-events>=0.6.0->jupyter-server<3,>=2.4.0->notebook>=4.4.1->widgetsnbextension~=3.5.0->ipywidgets>=7.0.0->cufflinks) (2.0.7)\n",
      "Requirement already satisfied: pyyaml>=5.3 in /opt/anaconda3/lib/python3.11/site-packages (from jupyter-events>=0.6.0->jupyter-server<3,>=2.4.0->notebook>=4.4.1->widgetsnbextension~=3.5.0->ipywidgets>=7.0.0->cufflinks) (6.0.1)\n",
      "Requirement already satisfied: rfc3339-validator in /opt/anaconda3/lib/python3.11/site-packages (from jupyter-events>=0.6.0->jupyter-server<3,>=2.4.0->notebook>=4.4.1->widgetsnbextension~=3.5.0->ipywidgets>=7.0.0->cufflinks) (0.1.4)\n",
      "Requirement already satisfied: rfc3986-validator>=0.1.1 in /opt/anaconda3/lib/python3.11/site-packages (from jupyter-events>=0.6.0->jupyter-server<3,>=2.4.0->notebook>=4.4.1->widgetsnbextension~=3.5.0->ipywidgets>=7.0.0->cufflinks) (0.1.1)\n",
      "Requirement already satisfied: beautifulsoup4 in /opt/anaconda3/lib/python3.11/site-packages (from nbconvert>=6.4.4->jupyter-server<3,>=2.4.0->notebook>=4.4.1->widgetsnbextension~=3.5.0->ipywidgets>=7.0.0->cufflinks) (4.12.3)\n",
      "Requirement already satisfied: bleach!=5.0.0 in /opt/anaconda3/lib/python3.11/site-packages (from nbconvert>=6.4.4->jupyter-server<3,>=2.4.0->notebook>=4.4.1->widgetsnbextension~=3.5.0->ipywidgets>=7.0.0->cufflinks) (4.1.0)\n",
      "Requirement already satisfied: defusedxml in /opt/anaconda3/lib/python3.11/site-packages (from nbconvert>=6.4.4->jupyter-server<3,>=2.4.0->notebook>=4.4.1->widgetsnbextension~=3.5.0->ipywidgets>=7.0.0->cufflinks) (0.7.1)\n",
      "Requirement already satisfied: jupyterlab-pygments in /opt/anaconda3/lib/python3.11/site-packages (from nbconvert>=6.4.4->jupyter-server<3,>=2.4.0->notebook>=4.4.1->widgetsnbextension~=3.5.0->ipywidgets>=7.0.0->cufflinks) (0.1.2)\n",
      "Requirement already satisfied: mistune<4,>=2.0.3 in /opt/anaconda3/lib/python3.11/site-packages (from nbconvert>=6.4.4->jupyter-server<3,>=2.4.0->notebook>=4.4.1->widgetsnbextension~=3.5.0->ipywidgets>=7.0.0->cufflinks) (2.0.4)\n",
      "Requirement already satisfied: nbclient>=0.5.0 in /opt/anaconda3/lib/python3.11/site-packages (from nbconvert>=6.4.4->jupyter-server<3,>=2.4.0->notebook>=4.4.1->widgetsnbextension~=3.5.0->ipywidgets>=7.0.0->cufflinks) (0.8.0)\n",
      "Requirement already satisfied: pandocfilters>=1.4.1 in /opt/anaconda3/lib/python3.11/site-packages (from nbconvert>=6.4.4->jupyter-server<3,>=2.4.0->notebook>=4.4.1->widgetsnbextension~=3.5.0->ipywidgets>=7.0.0->cufflinks) (1.5.0)\n",
      "Requirement already satisfied: tinycss2 in /opt/anaconda3/lib/python3.11/site-packages (from nbconvert>=6.4.4->jupyter-server<3,>=2.4.0->notebook>=4.4.1->widgetsnbextension~=3.5.0->ipywidgets>=7.0.0->cufflinks) (1.2.1)\n",
      "Requirement already satisfied: charset-normalizer<4,>=2 in /opt/anaconda3/lib/python3.11/site-packages (from requests>=2.31->jupyterlab-server<3,>=2.27.1->notebook>=4.4.1->widgetsnbextension~=3.5.0->ipywidgets>=7.0.0->cufflinks) (2.0.4)\n",
      "Requirement already satisfied: urllib3<3,>=1.21.1 in /opt/anaconda3/lib/python3.11/site-packages (from requests>=2.31->jupyterlab-server<3,>=2.27.1->notebook>=4.4.1->widgetsnbextension~=3.5.0->ipywidgets>=7.0.0->cufflinks) (2.0.7)\n",
      "Requirement already satisfied: argon2-cffi-bindings in /opt/anaconda3/lib/python3.11/site-packages (from argon2-cffi->jupyter-server<3,>=2.4.0->notebook>=4.4.1->widgetsnbextension~=3.5.0->ipywidgets>=7.0.0->cufflinks) (21.2.0)\n",
      "Requirement already satisfied: webencodings in /opt/anaconda3/lib/python3.11/site-packages (from bleach!=5.0.0->nbconvert>=6.4.4->jupyter-server<3,>=2.4.0->notebook>=4.4.1->widgetsnbextension~=3.5.0->ipywidgets>=7.0.0->cufflinks) (0.5.1)\n",
      "Requirement already satisfied: fqdn in /opt/anaconda3/lib/python3.11/site-packages (from jsonschema[format-nongpl]>=4.18.0->jupyter-events>=0.6.0->jupyter-server<3,>=2.4.0->notebook>=4.4.1->widgetsnbextension~=3.5.0->ipywidgets>=7.0.0->cufflinks) (1.5.1)\n",
      "Requirement already satisfied: isoduration in /opt/anaconda3/lib/python3.11/site-packages (from jsonschema[format-nongpl]>=4.18.0->jupyter-events>=0.6.0->jupyter-server<3,>=2.4.0->notebook>=4.4.1->widgetsnbextension~=3.5.0->ipywidgets>=7.0.0->cufflinks) (20.11.0)\n",
      "Requirement already satisfied: jsonpointer>1.13 in /opt/anaconda3/lib/python3.11/site-packages (from jsonschema[format-nongpl]>=4.18.0->jupyter-events>=0.6.0->jupyter-server<3,>=2.4.0->notebook>=4.4.1->widgetsnbextension~=3.5.0->ipywidgets>=7.0.0->cufflinks) (2.1)\n",
      "Requirement already satisfied: uri-template in /opt/anaconda3/lib/python3.11/site-packages (from jsonschema[format-nongpl]>=4.18.0->jupyter-events>=0.6.0->jupyter-server<3,>=2.4.0->notebook>=4.4.1->widgetsnbextension~=3.5.0->ipywidgets>=7.0.0->cufflinks) (1.3.0)\n",
      "Requirement already satisfied: webcolors>=1.11 in /opt/anaconda3/lib/python3.11/site-packages (from jsonschema[format-nongpl]>=4.18.0->jupyter-events>=0.6.0->jupyter-server<3,>=2.4.0->notebook>=4.4.1->widgetsnbextension~=3.5.0->ipywidgets>=7.0.0->cufflinks) (24.6.0)\n",
      "Requirement already satisfied: cffi>=1.0.1 in /opt/anaconda3/lib/python3.11/site-packages (from argon2-cffi-bindings->argon2-cffi->jupyter-server<3,>=2.4.0->notebook>=4.4.1->widgetsnbextension~=3.5.0->ipywidgets>=7.0.0->cufflinks) (1.16.0)\n",
      "Requirement already satisfied: soupsieve>1.2 in /opt/anaconda3/lib/python3.11/site-packages (from beautifulsoup4->nbconvert>=6.4.4->jupyter-server<3,>=2.4.0->notebook>=4.4.1->widgetsnbextension~=3.5.0->ipywidgets>=7.0.0->cufflinks) (2.5)\n",
      "Requirement already satisfied: pycparser in /opt/anaconda3/lib/python3.11/site-packages (from cffi>=1.0.1->argon2-cffi-bindings->argon2-cffi->jupyter-server<3,>=2.4.0->notebook>=4.4.1->widgetsnbextension~=3.5.0->ipywidgets>=7.0.0->cufflinks) (2.21)\n",
      "Requirement already satisfied: arrow>=0.15.0 in /opt/anaconda3/lib/python3.11/site-packages (from isoduration->jsonschema[format-nongpl]>=4.18.0->jupyter-events>=0.6.0->jupyter-server<3,>=2.4.0->notebook>=4.4.1->widgetsnbextension~=3.5.0->ipywidgets>=7.0.0->cufflinks) (1.2.3)\n"
     ]
    }
   ],
   "source": [
    "!pip install plotly\n",
    "!pip install cufflinks"
   ]
  },
  {
   "cell_type": "code",
   "execution_count": 6,
   "metadata": {},
   "outputs": [],
   "source": [
    "import pandas as pd\n",
    "import numpy as np\n",
    "%matplotlib inline"
   ]
  },
  {
   "cell_type": "code",
   "execution_count": 7,
   "metadata": {
    "collapsed": false,
    "jupyter": {
     "outputs_hidden": false
    }
   },
   "outputs": [
    {
     "name": "stdout",
     "output_type": "stream",
     "text": [
      "5.9.0\n"
     ]
    }
   ],
   "source": [
    "from plotly import __version__\n",
    "from plotly.offline import download_plotlyjs, init_notebook_mode, plot, iplot\n",
    "\n",
    "print(__version__) # requires version >= 1.9.0"
   ]
  },
  {
   "cell_type": "code",
   "execution_count": 8,
   "metadata": {},
   "outputs": [],
   "source": [
    "import cufflinks as cf"
   ]
  },
  {
   "cell_type": "code",
   "execution_count": 9,
   "metadata": {
    "collapsed": false,
    "jupyter": {
     "outputs_hidden": false
    }
   },
   "outputs": [
    {
     "data": {
      "text/html": [
       "        <script type=\"text/javascript\">\n",
       "        window.PlotlyConfig = {MathJaxConfig: 'local'};\n",
       "        if (window.MathJax && window.MathJax.Hub && window.MathJax.Hub.Config) {window.MathJax.Hub.Config({SVG: {font: \"STIX-Web\"}});}\n",
       "        if (typeof require !== 'undefined') {\n",
       "        require.undef(\"plotly\");\n",
       "        requirejs.config({\n",
       "            paths: {\n",
       "                'plotly': ['https://cdn.plot.ly/plotly-2.12.1.min']\n",
       "            }\n",
       "        });\n",
       "        require(['plotly'], function(Plotly) {\n",
       "            window._Plotly = Plotly;\n",
       "        });\n",
       "        }\n",
       "        </script>\n",
       "        "
      ]
     },
     "metadata": {},
     "output_type": "display_data"
    }
   ],
   "source": [
    "# For Notebooks\n",
    "init_notebook_mode(connected=True)"
   ]
  },
  {
   "cell_type": "code",
   "execution_count": 10,
   "metadata": {
    "collapsed": false,
    "jupyter": {
     "outputs_hidden": false
    }
   },
   "outputs": [
    {
     "data": {
      "text/html": [
       "        <script type=\"text/javascript\">\n",
       "        window.PlotlyConfig = {MathJaxConfig: 'local'};\n",
       "        if (window.MathJax && window.MathJax.Hub && window.MathJax.Hub.Config) {window.MathJax.Hub.Config({SVG: {font: \"STIX-Web\"}});}\n",
       "        if (typeof require !== 'undefined') {\n",
       "        require.undef(\"plotly\");\n",
       "        requirejs.config({\n",
       "            paths: {\n",
       "                'plotly': ['https://cdn.plot.ly/plotly-2.12.1.min']\n",
       "            }\n",
       "        });\n",
       "        require(['plotly'], function(Plotly) {\n",
       "            window._Plotly = Plotly;\n",
       "        });\n",
       "        }\n",
       "        </script>\n",
       "        "
      ]
     },
     "metadata": {},
     "output_type": "display_data"
    }
   ],
   "source": [
    "# For offline use\n",
    "cf.go_offline()"
   ]
  },
  {
   "cell_type": "markdown",
   "metadata": {},
   "source": [
    "### Fake Data"
   ]
  },
  {
   "cell_type": "code",
   "execution_count": 11,
   "metadata": {
    "collapsed": false,
    "jupyter": {
     "outputs_hidden": false
    }
   },
   "outputs": [],
   "source": [
    "df = pd.DataFrame(np.random.randn(100,4),columns='A B C D'.split())"
   ]
  },
  {
   "cell_type": "code",
   "execution_count": 13,
   "metadata": {
    "collapsed": false,
    "jupyter": {
     "outputs_hidden": false
    }
   },
   "outputs": [
    {
     "data": {
      "text/html": [
       "<div>\n",
       "<style scoped>\n",
       "    .dataframe tbody tr th:only-of-type {\n",
       "        vertical-align: middle;\n",
       "    }\n",
       "\n",
       "    .dataframe tbody tr th {\n",
       "        vertical-align: top;\n",
       "    }\n",
       "\n",
       "    .dataframe thead th {\n",
       "        text-align: right;\n",
       "    }\n",
       "</style>\n",
       "<table border=\"1\" class=\"dataframe\">\n",
       "  <thead>\n",
       "    <tr style=\"text-align: right;\">\n",
       "      <th></th>\n",
       "      <th>A</th>\n",
       "      <th>B</th>\n",
       "      <th>C</th>\n",
       "      <th>D</th>\n",
       "    </tr>\n",
       "  </thead>\n",
       "  <tbody>\n",
       "    <tr>\n",
       "      <th>0</th>\n",
       "      <td>0.552885</td>\n",
       "      <td>1.522134</td>\n",
       "      <td>-0.375323</td>\n",
       "      <td>2.013306</td>\n",
       "    </tr>\n",
       "    <tr>\n",
       "      <th>1</th>\n",
       "      <td>-2.398206</td>\n",
       "      <td>0.371127</td>\n",
       "      <td>1.858130</td>\n",
       "      <td>-0.546359</td>\n",
       "    </tr>\n",
       "    <tr>\n",
       "      <th>2</th>\n",
       "      <td>-0.302812</td>\n",
       "      <td>0.366040</td>\n",
       "      <td>-0.410338</td>\n",
       "      <td>-1.735832</td>\n",
       "    </tr>\n",
       "    <tr>\n",
       "      <th>3</th>\n",
       "      <td>0.495506</td>\n",
       "      <td>0.292527</td>\n",
       "      <td>0.065790</td>\n",
       "      <td>0.301030</td>\n",
       "    </tr>\n",
       "    <tr>\n",
       "      <th>4</th>\n",
       "      <td>-0.803114</td>\n",
       "      <td>0.036181</td>\n",
       "      <td>0.028127</td>\n",
       "      <td>0.574607</td>\n",
       "    </tr>\n",
       "  </tbody>\n",
       "</table>\n",
       "</div>"
      ],
      "text/plain": [
       "          A         B         C         D\n",
       "0  0.552885  1.522134 -0.375323  2.013306\n",
       "1 -2.398206  0.371127  1.858130 -0.546359\n",
       "2 -0.302812  0.366040 -0.410338 -1.735832\n",
       "3  0.495506  0.292527  0.065790  0.301030\n",
       "4 -0.803114  0.036181  0.028127  0.574607"
      ]
     },
     "execution_count": 13,
     "metadata": {},
     "output_type": "execute_result"
    }
   ],
   "source": [
    "df.head()"
   ]
  },
  {
   "cell_type": "code",
   "execution_count": 14,
   "metadata": {},
   "outputs": [],
   "source": [
    "df2 = pd.DataFrame({'Category':['A','B','C'],'Values':[32,43,50]})"
   ]
  },
  {
   "cell_type": "markdown",
   "metadata": {},
   "source": [
    "The DataFrame df2 is simply a table with two columns: one for categories and one for their corresponding values."
   ]
  },
  {
   "cell_type": "code",
   "execution_count": 15,
   "metadata": {
    "collapsed": false,
    "jupyter": {
     "outputs_hidden": false
    }
   },
   "outputs": [
    {
     "data": {
      "text/html": [
       "<div>\n",
       "<style scoped>\n",
       "    .dataframe tbody tr th:only-of-type {\n",
       "        vertical-align: middle;\n",
       "    }\n",
       "\n",
       "    .dataframe tbody tr th {\n",
       "        vertical-align: top;\n",
       "    }\n",
       "\n",
       "    .dataframe thead th {\n",
       "        text-align: right;\n",
       "    }\n",
       "</style>\n",
       "<table border=\"1\" class=\"dataframe\">\n",
       "  <thead>\n",
       "    <tr style=\"text-align: right;\">\n",
       "      <th></th>\n",
       "      <th>Category</th>\n",
       "      <th>Values</th>\n",
       "    </tr>\n",
       "  </thead>\n",
       "  <tbody>\n",
       "    <tr>\n",
       "      <th>0</th>\n",
       "      <td>A</td>\n",
       "      <td>32</td>\n",
       "    </tr>\n",
       "    <tr>\n",
       "      <th>1</th>\n",
       "      <td>B</td>\n",
       "      <td>43</td>\n",
       "    </tr>\n",
       "    <tr>\n",
       "      <th>2</th>\n",
       "      <td>C</td>\n",
       "      <td>50</td>\n",
       "    </tr>\n",
       "  </tbody>\n",
       "</table>\n",
       "</div>"
      ],
      "text/plain": [
       "  Category  Values\n",
       "0        A      32\n",
       "1        B      43\n",
       "2        C      50"
      ]
     },
     "execution_count": 15,
     "metadata": {},
     "output_type": "execute_result"
    }
   ],
   "source": [
    "df2.head()"
   ]
  },
  {
   "cell_type": "raw",
   "metadata": {},
   "source": [
    "Cufflinks is the library that allows you to use .iplot() directly on a pandas DataFrame to create interactive Plotly plots with minimal code.\n",
    "Without Cufflinks, you'd need to manually create a Plotly figure and pass the DataFrame data to it. With Cufflinks, you can create the plot in a single line of code."
   ]
  },
  {
   "cell_type": "markdown",
   "metadata": {},
   "source": [
    "## Using Cufflinks and iplot()\n",
    "\n",
    "* scatter\n",
    "* bar\n",
    "* box\n",
    "* spread\n",
    "* ratio\n",
    "* heatmap\n",
    "* surface\n",
    "* histogram\n",
    "* bubble"
   ]
  },
  {
   "cell_type": "code",
   "execution_count": null,
   "metadata": {},
   "outputs": [],
   "source": []
  },
  {
   "cell_type": "code",
   "execution_count": null,
   "metadata": {},
   "outputs": [],
   "source": []
  },
  {
   "cell_type": "markdown",
   "metadata": {},
   "source": [
    "## Scatter"
   ]
  },
  {
   "cell_type": "code",
   "execution_count": 20,
   "metadata": {
    "collapsed": false,
    "jupyter": {
     "outputs_hidden": false
    }
   },
   "outputs": [
    {
     "data": {
      "application/vnd.plotly.v1+json": {
       "config": {
        "linkText": "Export to plot.ly",
        "plotlyServerURL": "https://plot.ly",
        "showLink": true
       },
       "data": [
        {
         "line": {
          "color": "rgba(255, 153, 51, 1.0)",
          "dash": "solid",
          "shape": "linear",
          "width": 1.3
         },
         "marker": {
          "size": 10,
          "symbol": "circle"
         },
         "mode": "markers",
         "name": "B",
         "text": "",
         "type": "scatter",
         "x": [
          0.5528846479247638,
          -2.398205930119027,
          -0.3028121147097552,
          0.4955055579660399,
          -0.8031139027427731,
          -1.0439615893646255,
          1.6840254798100713,
          -1.2270555973290076,
          0.03836565760442624,
          -0.7119933256566789,
          1.306205741116208,
          -0.298729867404561,
          -0.7626919498830378,
          -0.6865924844463516,
          0.40668760667413334,
          0.4591508148789853,
          -0.47679836895868144,
          0.12238283386054362,
          -0.2519742371876982,
          -0.5350962519073955,
          0.9495119626283427,
          1.317827160891446,
          0.06555116071136115,
          0.49179795262488285,
          0.10062406066380053,
          0.32118901639531455,
          -0.211126656422741,
          1.0841690624860194,
          0.3892873236104735,
          0.37450011731539384,
          0.7387478968533783,
          1.645689502745466,
          -0.07196554987844637,
          0.23900174535492802,
          0.6409689628833247,
          1.4639297982677268,
          1.3740544669976316,
          0.028651022122856213,
          0.7132598611898975,
          -0.4669090564868793,
          -0.09442894209417246,
          1.0368611520075945,
          1.2363172261610667,
          0.3824133876492034,
          1.3545419182200922,
          1.1829339768784208,
          -0.19995253590227513,
          0.27672726185968394,
          0.000979222163437031,
          1.1198026754737844,
          0.2413950682021842,
          -0.9897486524611538,
          0.969790314908981,
          -0.7233597095313674,
          0.8537501041961911,
          -0.33290215549787927,
          -0.2103438556569867,
          -0.466192267738929,
          -1.1823537998364433,
          1.851959835464232,
          -1.2308259465982763,
          2.4622169560603697,
          0.9465961004381525,
          -2.1211974351879124,
          0.5863806468807722,
          -0.6106802223716836,
          -0.604000303410238,
          -2.0524370532876093,
          0.09028238740701096,
          -0.2324593934384782,
          1.019924496688148,
          1.1891483232697713,
          0.4713522395845208,
          0.47272716034600604,
          -1.3138557741641002,
          -1.3422754707240987,
          -0.1202028018800572,
          0.3874772662295193,
          0.011290612252812894,
          -1.2153978471663942,
          0.22593818094665838,
          0.032367283112389796,
          0.33515367135340945,
          0.8229895475611503,
          -1.9283577588198613,
          -0.2864119360756065,
          1.6941256129076236,
          -0.6245918701287434,
          -1.2634541802059043,
          -1.1407703435522039,
          0.7356260860775407,
          -0.29457276598016724,
          0.2839443237372972,
          0.935454658824385,
          2.877734237945691,
          -1.1702742402057313,
          -1.4944762966648328,
          -1.2815063454992062,
          -0.9770578514226053,
          1.3034403383361466
         ],
         "y": [
          1.5221338266976558,
          0.37112679507706564,
          0.36603957292691625,
          0.29252692212843173,
          0.036180660230443626,
          -0.7132962320772471,
          0.9141168083341438,
          -0.31192340367024846,
          -0.4825095769901552,
          0.16428901034785823,
          -0.14475789553589113,
          -1.0352430195694506,
          -1.5284693687654274,
          0.681164249488606,
          -0.564706140357884,
          1.4755447264649455,
          -0.32321602983062203,
          -0.7450592141304335,
          -0.7966035904657918,
          -0.1773245865098007,
          -1.126571722363632,
          0.9150626029671826,
          -1.091207438666216,
          0.8506294575866586,
          0.12371120342549463,
          -0.21731773112055477,
          -1.1130142266214658,
          0.5876701597506964,
          -0.5459226254608572,
          1.061672954810636,
          0.09446784284243107,
          -0.6829616273707716,
          0.9993656743472096,
          -0.5238729745094756,
          -0.9232682602030104,
          -1.1399099972844873,
          1.4177239382333449,
          -1.2385489459203411,
          0.9139327716213272,
          -0.1950190652257846,
          -0.7232280071985164,
          0.7178925572634225,
          -0.3869231850219358,
          -1.1110851121638883,
          0.5109203316297612,
          -1.0237058951468863,
          0.2777672213480589,
          0.9089347935577019,
          -0.47784841609201906,
          -0.18572038347878303,
          0.8181607377617439,
          -0.1555509408673983,
          1.6178024580284072,
          0.3168010772059872,
          -0.2344649450137472,
          -0.662325975502222,
          0.6812579548900719,
          -0.7037293013550847,
          0.3301009805558109,
          -1.6682715548955656,
          -0.5264304897415376,
          1.7786623314897354,
          0.08480322344048465,
          -0.9894575910807079,
          -0.6439454455787141,
          0.3532004796723608,
          -0.8274164104569124,
          -1.4936469024672425,
          -1.098119458352122,
          0.3359393018625474,
          -0.7913022006639495,
          0.4786980437487143,
          -0.06091557618027851,
          -0.8692385683549835,
          0.740960427595297,
          0.455549182852374,
          0.5109694916206015,
          -0.1498626427348044,
          1.6363708541023787,
          -0.42878290153449566,
          0.7050625674866938,
          -0.8983136534757796,
          -0.0352934325531089,
          -0.26314957187421667,
          -0.6158653409088861,
          0.7635530856460303,
          0.7551151722237617,
          -0.2213995845641046,
          0.670924714055657,
          0.2975795439836924,
          0.6040090013886447,
          -0.3941627300692083,
          0.8109266800499798,
          -0.5948765923255269,
          -0.8475615283178858,
          -0.4422235713998791,
          -0.0017861220796952838,
          -0.02908560937847064,
          0.9115052490577542,
          -0.1889504278134778
         ]
        }
       ],
       "layout": {
        "autosize": true,
        "legend": {
         "bgcolor": "#F5F6F9",
         "font": {
          "color": "#4D5663"
         }
        },
        "paper_bgcolor": "#F5F6F9",
        "plot_bgcolor": "#F5F6F9",
        "template": {
         "data": {
          "bar": [
           {
            "error_x": {
             "color": "#2a3f5f"
            },
            "error_y": {
             "color": "#2a3f5f"
            },
            "marker": {
             "line": {
              "color": "#E5ECF6",
              "width": 0.5
             },
             "pattern": {
              "fillmode": "overlay",
              "size": 10,
              "solidity": 0.2
             }
            },
            "type": "bar"
           }
          ],
          "barpolar": [
           {
            "marker": {
             "line": {
              "color": "#E5ECF6",
              "width": 0.5
             },
             "pattern": {
              "fillmode": "overlay",
              "size": 10,
              "solidity": 0.2
             }
            },
            "type": "barpolar"
           }
          ],
          "carpet": [
           {
            "aaxis": {
             "endlinecolor": "#2a3f5f",
             "gridcolor": "white",
             "linecolor": "white",
             "minorgridcolor": "white",
             "startlinecolor": "#2a3f5f"
            },
            "baxis": {
             "endlinecolor": "#2a3f5f",
             "gridcolor": "white",
             "linecolor": "white",
             "minorgridcolor": "white",
             "startlinecolor": "#2a3f5f"
            },
            "type": "carpet"
           }
          ],
          "choropleth": [
           {
            "colorbar": {
             "outlinewidth": 0,
             "ticks": ""
            },
            "type": "choropleth"
           }
          ],
          "contour": [
           {
            "colorbar": {
             "outlinewidth": 0,
             "ticks": ""
            },
            "colorscale": [
             [
              0,
              "#0d0887"
             ],
             [
              0.1111111111111111,
              "#46039f"
             ],
             [
              0.2222222222222222,
              "#7201a8"
             ],
             [
              0.3333333333333333,
              "#9c179e"
             ],
             [
              0.4444444444444444,
              "#bd3786"
             ],
             [
              0.5555555555555556,
              "#d8576b"
             ],
             [
              0.6666666666666666,
              "#ed7953"
             ],
             [
              0.7777777777777778,
              "#fb9f3a"
             ],
             [
              0.8888888888888888,
              "#fdca26"
             ],
             [
              1,
              "#f0f921"
             ]
            ],
            "type": "contour"
           }
          ],
          "contourcarpet": [
           {
            "colorbar": {
             "outlinewidth": 0,
             "ticks": ""
            },
            "type": "contourcarpet"
           }
          ],
          "heatmap": [
           {
            "colorbar": {
             "outlinewidth": 0,
             "ticks": ""
            },
            "colorscale": [
             [
              0,
              "#0d0887"
             ],
             [
              0.1111111111111111,
              "#46039f"
             ],
             [
              0.2222222222222222,
              "#7201a8"
             ],
             [
              0.3333333333333333,
              "#9c179e"
             ],
             [
              0.4444444444444444,
              "#bd3786"
             ],
             [
              0.5555555555555556,
              "#d8576b"
             ],
             [
              0.6666666666666666,
              "#ed7953"
             ],
             [
              0.7777777777777778,
              "#fb9f3a"
             ],
             [
              0.8888888888888888,
              "#fdca26"
             ],
             [
              1,
              "#f0f921"
             ]
            ],
            "type": "heatmap"
           }
          ],
          "heatmapgl": [
           {
            "colorbar": {
             "outlinewidth": 0,
             "ticks": ""
            },
            "colorscale": [
             [
              0,
              "#0d0887"
             ],
             [
              0.1111111111111111,
              "#46039f"
             ],
             [
              0.2222222222222222,
              "#7201a8"
             ],
             [
              0.3333333333333333,
              "#9c179e"
             ],
             [
              0.4444444444444444,
              "#bd3786"
             ],
             [
              0.5555555555555556,
              "#d8576b"
             ],
             [
              0.6666666666666666,
              "#ed7953"
             ],
             [
              0.7777777777777778,
              "#fb9f3a"
             ],
             [
              0.8888888888888888,
              "#fdca26"
             ],
             [
              1,
              "#f0f921"
             ]
            ],
            "type": "heatmapgl"
           }
          ],
          "histogram": [
           {
            "marker": {
             "pattern": {
              "fillmode": "overlay",
              "size": 10,
              "solidity": 0.2
             }
            },
            "type": "histogram"
           }
          ],
          "histogram2d": [
           {
            "colorbar": {
             "outlinewidth": 0,
             "ticks": ""
            },
            "colorscale": [
             [
              0,
              "#0d0887"
             ],
             [
              0.1111111111111111,
              "#46039f"
             ],
             [
              0.2222222222222222,
              "#7201a8"
             ],
             [
              0.3333333333333333,
              "#9c179e"
             ],
             [
              0.4444444444444444,
              "#bd3786"
             ],
             [
              0.5555555555555556,
              "#d8576b"
             ],
             [
              0.6666666666666666,
              "#ed7953"
             ],
             [
              0.7777777777777778,
              "#fb9f3a"
             ],
             [
              0.8888888888888888,
              "#fdca26"
             ],
             [
              1,
              "#f0f921"
             ]
            ],
            "type": "histogram2d"
           }
          ],
          "histogram2dcontour": [
           {
            "colorbar": {
             "outlinewidth": 0,
             "ticks": ""
            },
            "colorscale": [
             [
              0,
              "#0d0887"
             ],
             [
              0.1111111111111111,
              "#46039f"
             ],
             [
              0.2222222222222222,
              "#7201a8"
             ],
             [
              0.3333333333333333,
              "#9c179e"
             ],
             [
              0.4444444444444444,
              "#bd3786"
             ],
             [
              0.5555555555555556,
              "#d8576b"
             ],
             [
              0.6666666666666666,
              "#ed7953"
             ],
             [
              0.7777777777777778,
              "#fb9f3a"
             ],
             [
              0.8888888888888888,
              "#fdca26"
             ],
             [
              1,
              "#f0f921"
             ]
            ],
            "type": "histogram2dcontour"
           }
          ],
          "mesh3d": [
           {
            "colorbar": {
             "outlinewidth": 0,
             "ticks": ""
            },
            "type": "mesh3d"
           }
          ],
          "parcoords": [
           {
            "line": {
             "colorbar": {
              "outlinewidth": 0,
              "ticks": ""
             }
            },
            "type": "parcoords"
           }
          ],
          "pie": [
           {
            "automargin": true,
            "type": "pie"
           }
          ],
          "scatter": [
           {
            "fillpattern": {
             "fillmode": "overlay",
             "size": 10,
             "solidity": 0.2
            },
            "type": "scatter"
           }
          ],
          "scatter3d": [
           {
            "line": {
             "colorbar": {
              "outlinewidth": 0,
              "ticks": ""
             }
            },
            "marker": {
             "colorbar": {
              "outlinewidth": 0,
              "ticks": ""
             }
            },
            "type": "scatter3d"
           }
          ],
          "scattercarpet": [
           {
            "marker": {
             "colorbar": {
              "outlinewidth": 0,
              "ticks": ""
             }
            },
            "type": "scattercarpet"
           }
          ],
          "scattergeo": [
           {
            "marker": {
             "colorbar": {
              "outlinewidth": 0,
              "ticks": ""
             }
            },
            "type": "scattergeo"
           }
          ],
          "scattergl": [
           {
            "marker": {
             "colorbar": {
              "outlinewidth": 0,
              "ticks": ""
             }
            },
            "type": "scattergl"
           }
          ],
          "scattermapbox": [
           {
            "marker": {
             "colorbar": {
              "outlinewidth": 0,
              "ticks": ""
             }
            },
            "type": "scattermapbox"
           }
          ],
          "scatterpolar": [
           {
            "marker": {
             "colorbar": {
              "outlinewidth": 0,
              "ticks": ""
             }
            },
            "type": "scatterpolar"
           }
          ],
          "scatterpolargl": [
           {
            "marker": {
             "colorbar": {
              "outlinewidth": 0,
              "ticks": ""
             }
            },
            "type": "scatterpolargl"
           }
          ],
          "scatterternary": [
           {
            "marker": {
             "colorbar": {
              "outlinewidth": 0,
              "ticks": ""
             }
            },
            "type": "scatterternary"
           }
          ],
          "surface": [
           {
            "colorbar": {
             "outlinewidth": 0,
             "ticks": ""
            },
            "colorscale": [
             [
              0,
              "#0d0887"
             ],
             [
              0.1111111111111111,
              "#46039f"
             ],
             [
              0.2222222222222222,
              "#7201a8"
             ],
             [
              0.3333333333333333,
              "#9c179e"
             ],
             [
              0.4444444444444444,
              "#bd3786"
             ],
             [
              0.5555555555555556,
              "#d8576b"
             ],
             [
              0.6666666666666666,
              "#ed7953"
             ],
             [
              0.7777777777777778,
              "#fb9f3a"
             ],
             [
              0.8888888888888888,
              "#fdca26"
             ],
             [
              1,
              "#f0f921"
             ]
            ],
            "type": "surface"
           }
          ],
          "table": [
           {
            "cells": {
             "fill": {
              "color": "#EBF0F8"
             },
             "line": {
              "color": "white"
             }
            },
            "header": {
             "fill": {
              "color": "#C8D4E3"
             },
             "line": {
              "color": "white"
             }
            },
            "type": "table"
           }
          ]
         },
         "layout": {
          "annotationdefaults": {
           "arrowcolor": "#2a3f5f",
           "arrowhead": 0,
           "arrowwidth": 1
          },
          "autotypenumbers": "strict",
          "coloraxis": {
           "colorbar": {
            "outlinewidth": 0,
            "ticks": ""
           }
          },
          "colorscale": {
           "diverging": [
            [
             0,
             "#8e0152"
            ],
            [
             0.1,
             "#c51b7d"
            ],
            [
             0.2,
             "#de77ae"
            ],
            [
             0.3,
             "#f1b6da"
            ],
            [
             0.4,
             "#fde0ef"
            ],
            [
             0.5,
             "#f7f7f7"
            ],
            [
             0.6,
             "#e6f5d0"
            ],
            [
             0.7,
             "#b8e186"
            ],
            [
             0.8,
             "#7fbc41"
            ],
            [
             0.9,
             "#4d9221"
            ],
            [
             1,
             "#276419"
            ]
           ],
           "sequential": [
            [
             0,
             "#0d0887"
            ],
            [
             0.1111111111111111,
             "#46039f"
            ],
            [
             0.2222222222222222,
             "#7201a8"
            ],
            [
             0.3333333333333333,
             "#9c179e"
            ],
            [
             0.4444444444444444,
             "#bd3786"
            ],
            [
             0.5555555555555556,
             "#d8576b"
            ],
            [
             0.6666666666666666,
             "#ed7953"
            ],
            [
             0.7777777777777778,
             "#fb9f3a"
            ],
            [
             0.8888888888888888,
             "#fdca26"
            ],
            [
             1,
             "#f0f921"
            ]
           ],
           "sequentialminus": [
            [
             0,
             "#0d0887"
            ],
            [
             0.1111111111111111,
             "#46039f"
            ],
            [
             0.2222222222222222,
             "#7201a8"
            ],
            [
             0.3333333333333333,
             "#9c179e"
            ],
            [
             0.4444444444444444,
             "#bd3786"
            ],
            [
             0.5555555555555556,
             "#d8576b"
            ],
            [
             0.6666666666666666,
             "#ed7953"
            ],
            [
             0.7777777777777778,
             "#fb9f3a"
            ],
            [
             0.8888888888888888,
             "#fdca26"
            ],
            [
             1,
             "#f0f921"
            ]
           ]
          },
          "colorway": [
           "#636efa",
           "#EF553B",
           "#00cc96",
           "#ab63fa",
           "#FFA15A",
           "#19d3f3",
           "#FF6692",
           "#B6E880",
           "#FF97FF",
           "#FECB52"
          ],
          "font": {
           "color": "#2a3f5f"
          },
          "geo": {
           "bgcolor": "white",
           "lakecolor": "white",
           "landcolor": "#E5ECF6",
           "showlakes": true,
           "showland": true,
           "subunitcolor": "white"
          },
          "hoverlabel": {
           "align": "left"
          },
          "hovermode": "closest",
          "mapbox": {
           "style": "light"
          },
          "paper_bgcolor": "white",
          "plot_bgcolor": "#E5ECF6",
          "polar": {
           "angularaxis": {
            "gridcolor": "white",
            "linecolor": "white",
            "ticks": ""
           },
           "bgcolor": "#E5ECF6",
           "radialaxis": {
            "gridcolor": "white",
            "linecolor": "white",
            "ticks": ""
           }
          },
          "scene": {
           "xaxis": {
            "backgroundcolor": "#E5ECF6",
            "gridcolor": "white",
            "gridwidth": 2,
            "linecolor": "white",
            "showbackground": true,
            "ticks": "",
            "zerolinecolor": "white"
           },
           "yaxis": {
            "backgroundcolor": "#E5ECF6",
            "gridcolor": "white",
            "gridwidth": 2,
            "linecolor": "white",
            "showbackground": true,
            "ticks": "",
            "zerolinecolor": "white"
           },
           "zaxis": {
            "backgroundcolor": "#E5ECF6",
            "gridcolor": "white",
            "gridwidth": 2,
            "linecolor": "white",
            "showbackground": true,
            "ticks": "",
            "zerolinecolor": "white"
           }
          },
          "shapedefaults": {
           "line": {
            "color": "#2a3f5f"
           }
          },
          "ternary": {
           "aaxis": {
            "gridcolor": "white",
            "linecolor": "white",
            "ticks": ""
           },
           "baxis": {
            "gridcolor": "white",
            "linecolor": "white",
            "ticks": ""
           },
           "bgcolor": "#E5ECF6",
           "caxis": {
            "gridcolor": "white",
            "linecolor": "white",
            "ticks": ""
           }
          },
          "title": {
           "x": 0.05
          },
          "xaxis": {
           "automargin": true,
           "gridcolor": "white",
           "linecolor": "white",
           "ticks": "",
           "title": {
            "standoff": 15
           },
           "zerolinecolor": "white",
           "zerolinewidth": 2
          },
          "yaxis": {
           "automargin": true,
           "gridcolor": "white",
           "linecolor": "white",
           "ticks": "",
           "title": {
            "standoff": 15
           },
           "zerolinecolor": "white",
           "zerolinewidth": 2
          }
         }
        },
        "title": {
         "font": {
          "color": "#4D5663"
         }
        },
        "xaxis": {
         "autorange": true,
         "gridcolor": "#E1E5ED",
         "range": [
          -2.7287955314427754,
          3.2083238392694393
         ],
         "showgrid": true,
         "tickfont": {
          "color": "#4D5663"
         },
         "title": {
          "font": {
           "color": "#4D5663"
          },
          "text": ""
         },
         "type": "linear",
         "zerolinecolor": "#E1E5ED"
        },
        "yaxis": {
         "autorange": true,
         "gridcolor": "#E1E5ED",
         "range": [
          -2.019881867720822,
          2.1302726443149917
         ],
         "showgrid": true,
         "tickfont": {
          "color": "#4D5663"
         },
         "title": {
          "font": {
           "color": "#4D5663"
          },
          "text": ""
         },
         "type": "linear",
         "zerolinecolor": "#E1E5ED"
        }
       }
      },
      "image/png": "[encoded data removed]",
      "text/html": [
       "<div>                            <div id=\"48f4817a-8f46-4f96-847e-3cc6d7d846b0\" class=\"plotly-graph-div\" style=\"height:525px; width:100%;\"></div>            <script type=\"text/javascript\">                require([\"plotly\"], function(Plotly) {                    window.PLOTLYENV=window.PLOTLYENV || {};\n",
       "                    window.PLOTLYENV.BASE_URL='https://plot.ly';                                    if (document.getElementById(\"48f4817a-8f46-4f96-847e-3cc6d7d846b0\")) {                    Plotly.newPlot(                        \"48f4817a-8f46-4f96-847e-3cc6d7d846b0\",                        [{\"line\":{\"color\":\"rgba(255, 153, 51, 1.0)\",\"dash\":\"solid\",\"shape\":\"linear\",\"width\":1.3},\"marker\":{\"size\":10,\"symbol\":\"circle\"},\"mode\":\"markers\",\"name\":\"B\",\"text\":\"\",\"x\":[0.5528846479247638,-2.398205930119027,-0.3028121147097552,0.4955055579660399,-0.8031139027427731,-1.0439615893646255,1.6840254798100713,-1.2270555973290076,0.03836565760442624,-0.7119933256566789,1.306205741116208,-0.298729867404561,-0.7626919498830378,-0.6865924844463516,0.40668760667413334,0.4591508148789853,-0.47679836895868144,0.12238283386054362,-0.2519742371876982,-0.5350962519073955,0.9495119626283427,1.317827160891446,0.06555116071136115,0.49179795262488285,0.10062406066380053,0.32118901639531455,-0.211126656422741,1.0841690624860194,0.3892873236104735,0.37450011731539384,0.7387478968533783,1.645689502745466,-0.07196554987844637,0.23900174535492802,0.6409689628833247,1.4639297982677268,1.3740544669976316,0.028651022122856213,0.7132598611898975,-0.4669090564868793,-0.09442894209417246,1.0368611520075945,1.2363172261610667,0.3824133876492034,1.3545419182200922,1.1829339768784208,-0.19995253590227513,0.27672726185968394,0.000979222163437031,1.1198026754737844,0.2413950682021842,-0.9897486524611538,0.969790314908981,-0.7233597095313674,0.8537501041961911,-0.33290215549787927,-0.2103438556569867,-0.466192267738929,-1.1823537998364433,1.851959835464232,-1.2308259465982763,2.4622169560603697,0.9465961004381525,-2.1211974351879124,0.5863806468807722,-0.6106802223716836,-0.604000303410238,-2.0524370532876093,0.09028238740701096,-0.2324593934384782,1.019924496688148,1.1891483232697713,0.4713522395845208,0.47272716034600604,-1.3138557741641002,-1.3422754707240987,-0.1202028018800572,0.3874772662295193,0.011290612252812894,-1.2153978471663942,0.22593818094665838,0.032367283112389796,0.33515367135340945,0.8229895475611503,-1.9283577588198613,-0.2864119360756065,1.6941256129076236,-0.6245918701287434,-1.2634541802059043,-1.1407703435522039,0.7356260860775407,-0.29457276598016724,0.2839443237372972,0.935454658824385,2.877734237945691,-1.1702742402057313,-1.4944762966648328,-1.2815063454992062,-0.9770578514226053,1.3034403383361466],\"y\":[1.5221338266976558,0.37112679507706564,0.36603957292691625,0.29252692212843173,0.036180660230443626,-0.7132962320772471,0.9141168083341438,-0.31192340367024846,-0.4825095769901552,0.16428901034785823,-0.14475789553589113,-1.0352430195694506,-1.5284693687654274,0.681164249488606,-0.564706140357884,1.4755447264649455,-0.32321602983062203,-0.7450592141304335,-0.7966035904657918,-0.1773245865098007,-1.126571722363632,0.9150626029671826,-1.091207438666216,0.8506294575866586,0.12371120342549463,-0.21731773112055477,-1.1130142266214658,0.5876701597506964,-0.5459226254608572,1.061672954810636,0.09446784284243107,-0.6829616273707716,0.9993656743472096,-0.5238729745094756,-0.9232682602030104,-1.1399099972844873,1.4177239382333449,-1.2385489459203411,0.9139327716213272,-0.1950190652257846,-0.7232280071985164,0.7178925572634225,-0.3869231850219358,-1.1110851121638883,0.5109203316297612,-1.0237058951468863,0.2777672213480589,0.9089347935577019,-0.47784841609201906,-0.18572038347878303,0.8181607377617439,-0.1555509408673983,1.6178024580284072,0.3168010772059872,-0.2344649450137472,-0.662325975502222,0.6812579548900719,-0.7037293013550847,0.3301009805558109,-1.6682715548955656,-0.5264304897415376,1.7786623314897354,0.08480322344048465,-0.9894575910807079,-0.6439454455787141,0.3532004796723608,-0.8274164104569124,-1.4936469024672425,-1.098119458352122,0.3359393018625474,-0.7913022006639495,0.4786980437487143,-0.06091557618027851,-0.8692385683549835,0.740960427595297,0.455549182852374,0.5109694916206015,-0.1498626427348044,1.6363708541023787,-0.42878290153449566,0.7050625674866938,-0.8983136534757796,-0.0352934325531089,-0.26314957187421667,-0.6158653409088861,0.7635530856460303,0.7551151722237617,-0.2213995845641046,0.670924714055657,0.2975795439836924,0.6040090013886447,-0.3941627300692083,0.8109266800499798,-0.5948765923255269,-0.8475615283178858,-0.4422235713998791,-0.0017861220796952838,-0.02908560937847064,0.9115052490577542,-0.1889504278134778],\"type\":\"scatter\"}],                        {\"legend\":{\"bgcolor\":\"#F5F6F9\",\"font\":{\"color\":\"#4D5663\"}},\"paper_bgcolor\":\"#F5F6F9\",\"plot_bgcolor\":\"#F5F6F9\",\"template\":{\"data\":{\"barpolar\":[{\"marker\":{\"line\":{\"color\":\"#E5ECF6\",\"width\":0.5},\"pattern\":{\"fillmode\":\"overlay\",\"size\":10,\"solidity\":0.2}},\"type\":\"barpolar\"}],\"bar\":[{\"error_x\":{\"color\":\"#2a3f5f\"},\"error_y\":{\"color\":\"#2a3f5f\"},\"marker\":{\"line\":{\"color\":\"#E5ECF6\",\"width\":0.5},\"pattern\":{\"fillmode\":\"overlay\",\"size\":10,\"solidity\":0.2}},\"type\":\"bar\"}],\"carpet\":[{\"aaxis\":{\"endlinecolor\":\"#2a3f5f\",\"gridcolor\":\"white\",\"linecolor\":\"white\",\"minorgridcolor\":\"white\",\"startlinecolor\":\"#2a3f5f\"},\"baxis\":{\"endlinecolor\":\"#2a3f5f\",\"gridcolor\":\"white\",\"linecolor\":\"white\",\"minorgridcolor\":\"white\",\"startlinecolor\":\"#2a3f5f\"},\"type\":\"carpet\"}],\"choropleth\":[{\"colorbar\":{\"outlinewidth\":0,\"ticks\":\"\"},\"type\":\"choropleth\"}],\"contourcarpet\":[{\"colorbar\":{\"outlinewidth\":0,\"ticks\":\"\"},\"type\":\"contourcarpet\"}],\"contour\":[{\"colorbar\":{\"outlinewidth\":0,\"ticks\":\"\"},\"colorscale\":[[0.0,\"#0d0887\"],[0.1111111111111111,\"#46039f\"],[0.2222222222222222,\"#7201a8\"],[0.3333333333333333,\"#9c179e\"],[0.4444444444444444,\"#bd3786\"],[0.5555555555555556,\"#d8576b\"],[0.6666666666666666,\"#ed7953\"],[0.7777777777777778,\"#fb9f3a\"],[0.8888888888888888,\"#fdca26\"],[1.0,\"#f0f921\"]],\"type\":\"contour\"}],\"heatmapgl\":[{\"colorbar\":{\"outlinewidth\":0,\"ticks\":\"\"},\"colorscale\":[[0.0,\"#0d0887\"],[0.1111111111111111,\"#46039f\"],[0.2222222222222222,\"#7201a8\"],[0.3333333333333333,\"#9c179e\"],[0.4444444444444444,\"#bd3786\"],[0.5555555555555556,\"#d8576b\"],[0.6666666666666666,\"#ed7953\"],[0.7777777777777778,\"#fb9f3a\"],[0.8888888888888888,\"#fdca26\"],[1.0,\"#f0f921\"]],\"type\":\"heatmapgl\"}],\"heatmap\":[{\"colorbar\":{\"outlinewidth\":0,\"ticks\":\"\"},\"colorscale\":[[0.0,\"#0d0887\"],[0.1111111111111111,\"#46039f\"],[0.2222222222222222,\"#7201a8\"],[0.3333333333333333,\"#9c179e\"],[0.4444444444444444,\"#bd3786\"],[0.5555555555555556,\"#d8576b\"],[0.6666666666666666,\"#ed7953\"],[0.7777777777777778,\"#fb9f3a\"],[0.8888888888888888,\"#fdca26\"],[1.0,\"#f0f921\"]],\"type\":\"heatmap\"}],\"histogram2dcontour\":[{\"colorbar\":{\"outlinewidth\":0,\"ticks\":\"\"},\"colorscale\":[[0.0,\"#0d0887\"],[0.1111111111111111,\"#46039f\"],[0.2222222222222222,\"#7201a8\"],[0.3333333333333333,\"#9c179e\"],[0.4444444444444444,\"#bd3786\"],[0.5555555555555556,\"#d8576b\"],[0.6666666666666666,\"#ed7953\"],[0.7777777777777778,\"#fb9f3a\"],[0.8888888888888888,\"#fdca26\"],[1.0,\"#f0f921\"]],\"type\":\"histogram2dcontour\"}],\"histogram2d\":[{\"colorbar\":{\"outlinewidth\":0,\"ticks\":\"\"},\"colorscale\":[[0.0,\"#0d0887\"],[0.1111111111111111,\"#46039f\"],[0.2222222222222222,\"#7201a8\"],[0.3333333333333333,\"#9c179e\"],[0.4444444444444444,\"#bd3786\"],[0.5555555555555556,\"#d8576b\"],[0.6666666666666666,\"#ed7953\"],[0.7777777777777778,\"#fb9f3a\"],[0.8888888888888888,\"#fdca26\"],[1.0,\"#f0f921\"]],\"type\":\"histogram2d\"}],\"histogram\":[{\"marker\":{\"pattern\":{\"fillmode\":\"overlay\",\"size\":10,\"solidity\":0.2}},\"type\":\"histogram\"}],\"mesh3d\":[{\"colorbar\":{\"outlinewidth\":0,\"ticks\":\"\"},\"type\":\"mesh3d\"}],\"parcoords\":[{\"line\":{\"colorbar\":{\"outlinewidth\":0,\"ticks\":\"\"}},\"type\":\"parcoords\"}],\"pie\":[{\"automargin\":true,\"type\":\"pie\"}],\"scatter3d\":[{\"line\":{\"colorbar\":{\"outlinewidth\":0,\"ticks\":\"\"}},\"marker\":{\"colorbar\":{\"outlinewidth\":0,\"ticks\":\"\"}},\"type\":\"scatter3d\"}],\"scattercarpet\":[{\"marker\":{\"colorbar\":{\"outlinewidth\":0,\"ticks\":\"\"}},\"type\":\"scattercarpet\"}],\"scattergeo\":[{\"marker\":{\"colorbar\":{\"outlinewidth\":0,\"ticks\":\"\"}},\"type\":\"scattergeo\"}],\"scattergl\":[{\"marker\":{\"colorbar\":{\"outlinewidth\":0,\"ticks\":\"\"}},\"type\":\"scattergl\"}],\"scattermapbox\":[{\"marker\":{\"colorbar\":{\"outlinewidth\":0,\"ticks\":\"\"}},\"type\":\"scattermapbox\"}],\"scatterpolargl\":[{\"marker\":{\"colorbar\":{\"outlinewidth\":0,\"ticks\":\"\"}},\"type\":\"scatterpolargl\"}],\"scatterpolar\":[{\"marker\":{\"colorbar\":{\"outlinewidth\":0,\"ticks\":\"\"}},\"type\":\"scatterpolar\"}],\"scatter\":[{\"fillpattern\":{\"fillmode\":\"overlay\",\"size\":10,\"solidity\":0.2},\"type\":\"scatter\"}],\"scatterternary\":[{\"marker\":{\"colorbar\":{\"outlinewidth\":0,\"ticks\":\"\"}},\"type\":\"scatterternary\"}],\"surface\":[{\"colorbar\":{\"outlinewidth\":0,\"ticks\":\"\"},\"colorscale\":[[0.0,\"#0d0887\"],[0.1111111111111111,\"#46039f\"],[0.2222222222222222,\"#7201a8\"],[0.3333333333333333,\"#9c179e\"],[0.4444444444444444,\"#bd3786\"],[0.5555555555555556,\"#d8576b\"],[0.6666666666666666,\"#ed7953\"],[0.7777777777777778,\"#fb9f3a\"],[0.8888888888888888,\"#fdca26\"],[1.0,\"#f0f921\"]],\"type\":\"surface\"}],\"table\":[{\"cells\":{\"fill\":{\"color\":\"#EBF0F8\"},\"line\":{\"color\":\"white\"}},\"header\":{\"fill\":{\"color\":\"#C8D4E3\"},\"line\":{\"color\":\"white\"}},\"type\":\"table\"}]},\"layout\":{\"annotationdefaults\":{\"arrowcolor\":\"#2a3f5f\",\"arrowhead\":0,\"arrowwidth\":1},\"autotypenumbers\":\"strict\",\"coloraxis\":{\"colorbar\":{\"outlinewidth\":0,\"ticks\":\"\"}},\"colorscale\":{\"diverging\":[[0,\"#8e0152\"],[0.1,\"#c51b7d\"],[0.2,\"#de77ae\"],[0.3,\"#f1b6da\"],[0.4,\"#fde0ef\"],[0.5,\"#f7f7f7\"],[0.6,\"#e6f5d0\"],[0.7,\"#b8e186\"],[0.8,\"#7fbc41\"],[0.9,\"#4d9221\"],[1,\"#276419\"]],\"sequential\":[[0.0,\"#0d0887\"],[0.1111111111111111,\"#46039f\"],[0.2222222222222222,\"#7201a8\"],[0.3333333333333333,\"#9c179e\"],[0.4444444444444444,\"#bd3786\"],[0.5555555555555556,\"#d8576b\"],[0.6666666666666666,\"#ed7953\"],[0.7777777777777778,\"#fb9f3a\"],[0.8888888888888888,\"#fdca26\"],[1.0,\"#f0f921\"]],\"sequentialminus\":[[0.0,\"#0d0887\"],[0.1111111111111111,\"#46039f\"],[0.2222222222222222,\"#7201a8\"],[0.3333333333333333,\"#9c179e\"],[0.4444444444444444,\"#bd3786\"],[0.5555555555555556,\"#d8576b\"],[0.6666666666666666,\"#ed7953\"],[0.7777777777777778,\"#fb9f3a\"],[0.8888888888888888,\"#fdca26\"],[1.0,\"#f0f921\"]]},\"colorway\":[\"#636efa\",\"#EF553B\",\"#00cc96\",\"#ab63fa\",\"#FFA15A\",\"#19d3f3\",\"#FF6692\",\"#B6E880\",\"#FF97FF\",\"#FECB52\"],\"font\":{\"color\":\"#2a3f5f\"},\"geo\":{\"bgcolor\":\"white\",\"lakecolor\":\"white\",\"landcolor\":\"#E5ECF6\",\"showlakes\":true,\"showland\":true,\"subunitcolor\":\"white\"},\"hoverlabel\":{\"align\":\"left\"},\"hovermode\":\"closest\",\"mapbox\":{\"style\":\"light\"},\"paper_bgcolor\":\"white\",\"plot_bgcolor\":\"#E5ECF6\",\"polar\":{\"angularaxis\":{\"gridcolor\":\"white\",\"linecolor\":\"white\",\"ticks\":\"\"},\"bgcolor\":\"#E5ECF6\",\"radialaxis\":{\"gridcolor\":\"white\",\"linecolor\":\"white\",\"ticks\":\"\"}},\"scene\":{\"xaxis\":{\"backgroundcolor\":\"#E5ECF6\",\"gridcolor\":\"white\",\"gridwidth\":2,\"linecolor\":\"white\",\"showbackground\":true,\"ticks\":\"\",\"zerolinecolor\":\"white\"},\"yaxis\":{\"backgroundcolor\":\"#E5ECF6\",\"gridcolor\":\"white\",\"gridwidth\":2,\"linecolor\":\"white\",\"showbackground\":true,\"ticks\":\"\",\"zerolinecolor\":\"white\"},\"zaxis\":{\"backgroundcolor\":\"#E5ECF6\",\"gridcolor\":\"white\",\"gridwidth\":2,\"linecolor\":\"white\",\"showbackground\":true,\"ticks\":\"\",\"zerolinecolor\":\"white\"}},\"shapedefaults\":{\"line\":{\"color\":\"#2a3f5f\"}},\"ternary\":{\"aaxis\":{\"gridcolor\":\"white\",\"linecolor\":\"white\",\"ticks\":\"\"},\"baxis\":{\"gridcolor\":\"white\",\"linecolor\":\"white\",\"ticks\":\"\"},\"bgcolor\":\"#E5ECF6\",\"caxis\":{\"gridcolor\":\"white\",\"linecolor\":\"white\",\"ticks\":\"\"}},\"title\":{\"x\":0.05},\"xaxis\":{\"automargin\":true,\"gridcolor\":\"white\",\"linecolor\":\"white\",\"ticks\":\"\",\"title\":{\"standoff\":15},\"zerolinecolor\":\"white\",\"zerolinewidth\":2},\"yaxis\":{\"automargin\":true,\"gridcolor\":\"white\",\"linecolor\":\"white\",\"ticks\":\"\",\"title\":{\"standoff\":15},\"zerolinecolor\":\"white\",\"zerolinewidth\":2}}},\"title\":{\"font\":{\"color\":\"#4D5663\"}},\"xaxis\":{\"gridcolor\":\"#E1E5ED\",\"showgrid\":true,\"tickfont\":{\"color\":\"#4D5663\"},\"title\":{\"font\":{\"color\":\"#4D5663\"},\"text\":\"\"},\"zerolinecolor\":\"#E1E5ED\"},\"yaxis\":{\"gridcolor\":\"#E1E5ED\",\"showgrid\":true,\"tickfont\":{\"color\":\"#4D5663\"},\"title\":{\"font\":{\"color\":\"#4D5663\"},\"text\":\"\"},\"zerolinecolor\":\"#E1E5ED\"}},                        {\"showLink\": true, \"linkText\": \"Export to plot.ly\", \"plotlyServerURL\": \"https://plot.ly\", \"responsive\": true}                    ).then(function(){\n",
       "                            \n",
       "var gd = document.getElementById('48f4817a-8f46-4f96-847e-3cc6d7d846b0');\n",
       "var x = new MutationObserver(function (mutations, observer) {{\n",
       "        var display = window.getComputedStyle(gd).display;\n",
       "        if (!display || display === 'none') {{\n",
       "            console.log([gd, 'removed!']);\n",
       "            Plotly.purge(gd);\n",
       "            observer.disconnect();\n",
       "        }}\n",
       "}});\n",
       "\n",
       "// Listen for the removal of the full notebook cells\n",
       "var notebookContainer = gd.closest('#notebook-container');\n",
       "if (notebookContainer) {{\n",
       "    x.observe(notebookContainer, {childList: true});\n",
       "}}\n",
       "\n",
       "// Listen for the clearing of the current output cell\n",
       "var outputEl = gd.closest('.output');\n",
       "if (outputEl) {{\n",
       "    x.observe(outputEl, {childList: true});\n",
       "}}\n",
       "\n",
       "                        })                };                });            </script>        </div>"
      ]
     },
     "metadata": {},
     "output_type": "display_data"
    }
   ],
   "source": [
    "df.iplot(kind='scatter',x='A',y='B',mode='markers',size=10)"
   ]
  },
  {
   "cell_type": "markdown",
   "metadata": {},
   "source": [
    "## Bar Plots"
   ]
  },
  {
   "cell_type": "code",
   "execution_count": 21,
   "metadata": {
    "collapsed": false,
    "jupyter": {
     "outputs_hidden": false
    }
   },
   "outputs": [
    {
     "data": {
      "application/vnd.plotly.v1+json": {
       "config": {
        "linkText": "Export to plot.ly",
        "plotlyServerURL": "https://plot.ly",
        "showLink": true
       },
       "data": [
        {
         "marker": {
          "color": "rgba(255, 153, 51, 0.6)",
          "line": {
           "color": "rgba(255, 153, 51, 1.0)",
           "width": 1
          }
         },
         "name": "Values",
         "orientation": "v",
         "text": "",
         "type": "bar",
         "x": [
          "A",
          "B",
          "C"
         ],
         "y": [
          32,
          43,
          50
         ]
        }
       ],
       "layout": {
        "autosize": true,
        "legend": {
         "bgcolor": "#F5F6F9",
         "font": {
          "color": "#4D5663"
         }
        },
        "paper_bgcolor": "#F5F6F9",
        "plot_bgcolor": "#F5F6F9",
        "template": {
         "data": {
          "bar": [
           {
            "error_x": {
             "color": "#2a3f5f"
            },
            "error_y": {
             "color": "#2a3f5f"
            },
            "marker": {
             "line": {
              "color": "#E5ECF6",
              "width": 0.5
             },
             "pattern": {
              "fillmode": "overlay",
              "size": 10,
              "solidity": 0.2
             }
            },
            "type": "bar"
           }
          ],
          "barpolar": [
           {
            "marker": {
             "line": {
              "color": "#E5ECF6",
              "width": 0.5
             },
             "pattern": {
              "fillmode": "overlay",
              "size": 10,
              "solidity": 0.2
             }
            },
            "type": "barpolar"
           }
          ],
          "carpet": [
           {
            "aaxis": {
             "endlinecolor": "#2a3f5f",
             "gridcolor": "white",
             "linecolor": "white",
             "minorgridcolor": "white",
             "startlinecolor": "#2a3f5f"
            },
            "baxis": {
             "endlinecolor": "#2a3f5f",
             "gridcolor": "white",
             "linecolor": "white",
             "minorgridcolor": "white",
             "startlinecolor": "#2a3f5f"
            },
            "type": "carpet"
           }
          ],
          "choropleth": [
           {
            "colorbar": {
             "outlinewidth": 0,
             "ticks": ""
            },
            "type": "choropleth"
           }
          ],
          "contour": [
           {
            "colorbar": {
             "outlinewidth": 0,
             "ticks": ""
            },
            "colorscale": [
             [
              0,
              "#0d0887"
             ],
             [
              0.1111111111111111,
              "#46039f"
             ],
             [
              0.2222222222222222,
              "#7201a8"
             ],
             [
              0.3333333333333333,
              "#9c179e"
             ],
             [
              0.4444444444444444,
              "#bd3786"
             ],
             [
              0.5555555555555556,
              "#d8576b"
             ],
             [
              0.6666666666666666,
              "#ed7953"
             ],
             [
              0.7777777777777778,
              "#fb9f3a"
             ],
             [
              0.8888888888888888,
              "#fdca26"
             ],
             [
              1,
              "#f0f921"
             ]
            ],
            "type": "contour"
           }
          ],
          "contourcarpet": [
           {
            "colorbar": {
             "outlinewidth": 0,
             "ticks": ""
            },
            "type": "contourcarpet"
           }
          ],
          "heatmap": [
           {
            "colorbar": {
             "outlinewidth": 0,
             "ticks": ""
            },
            "colorscale": [
             [
              0,
              "#0d0887"
             ],
             [
              0.1111111111111111,
              "#46039f"
             ],
             [
              0.2222222222222222,
              "#7201a8"
             ],
             [
              0.3333333333333333,
              "#9c179e"
             ],
             [
              0.4444444444444444,
              "#bd3786"
             ],
             [
              0.5555555555555556,
              "#d8576b"
             ],
             [
              0.6666666666666666,
              "#ed7953"
             ],
             [
              0.7777777777777778,
              "#fb9f3a"
             ],
             [
              0.8888888888888888,
              "#fdca26"
             ],
             [
              1,
              "#f0f921"
             ]
            ],
            "type": "heatmap"
           }
          ],
          "heatmapgl": [
           {
            "colorbar": {
             "outlinewidth": 0,
             "ticks": ""
            },
            "colorscale": [
             [
              0,
              "#0d0887"
             ],
             [
              0.1111111111111111,
              "#46039f"
             ],
             [
              0.2222222222222222,
              "#7201a8"
             ],
             [
              0.3333333333333333,
              "#9c179e"
             ],
             [
              0.4444444444444444,
              "#bd3786"
             ],
             [
              0.5555555555555556,
              "#d8576b"
             ],
             [
              0.6666666666666666,
              "#ed7953"
             ],
             [
              0.7777777777777778,
              "#fb9f3a"
             ],
             [
              0.8888888888888888,
              "#fdca26"
             ],
             [
              1,
              "#f0f921"
             ]
            ],
            "type": "heatmapgl"
           }
          ],
          "histogram": [
           {
            "marker": {
             "pattern": {
              "fillmode": "overlay",
              "size": 10,
              "solidity": 0.2
             }
            },
            "type": "histogram"
           }
          ],
          "histogram2d": [
           {
            "colorbar": {
             "outlinewidth": 0,
             "ticks": ""
            },
            "colorscale": [
             [
              0,
              "#0d0887"
             ],
             [
              0.1111111111111111,
              "#46039f"
             ],
             [
              0.2222222222222222,
              "#7201a8"
             ],
             [
              0.3333333333333333,
              "#9c179e"
             ],
             [
              0.4444444444444444,
              "#bd3786"
             ],
             [
              0.5555555555555556,
              "#d8576b"
             ],
             [
              0.6666666666666666,
              "#ed7953"
             ],
             [
              0.7777777777777778,
              "#fb9f3a"
             ],
             [
              0.8888888888888888,
              "#fdca26"
             ],
             [
              1,
              "#f0f921"
             ]
            ],
            "type": "histogram2d"
           }
          ],
          "histogram2dcontour": [
           {
            "colorbar": {
             "outlinewidth": 0,
             "ticks": ""
            },
            "colorscale": [
             [
              0,
              "#0d0887"
             ],
             [
              0.1111111111111111,
              "#46039f"
             ],
             [
              0.2222222222222222,
              "#7201a8"
             ],
             [
              0.3333333333333333,
              "#9c179e"
             ],
             [
              0.4444444444444444,
              "#bd3786"
             ],
             [
              0.5555555555555556,
              "#d8576b"
             ],
             [
              0.6666666666666666,
              "#ed7953"
             ],
             [
              0.7777777777777778,
              "#fb9f3a"
             ],
             [
              0.8888888888888888,
              "#fdca26"
             ],
             [
              1,
              "#f0f921"
             ]
            ],
            "type": "histogram2dcontour"
           }
          ],
          "mesh3d": [
           {
            "colorbar": {
             "outlinewidth": 0,
             "ticks": ""
            },
            "type": "mesh3d"
           }
          ],
          "parcoords": [
           {
            "line": {
             "colorbar": {
              "outlinewidth": 0,
              "ticks": ""
             }
            },
            "type": "parcoords"
           }
          ],
          "pie": [
           {
            "automargin": true,
            "type": "pie"
           }
          ],
          "scatter": [
           {
            "fillpattern": {
             "fillmode": "overlay",
             "size": 10,
             "solidity": 0.2
            },
            "type": "scatter"
           }
          ],
          "scatter3d": [
           {
            "line": {
             "colorbar": {
              "outlinewidth": 0,
              "ticks": ""
             }
            },
            "marker": {
             "colorbar": {
              "outlinewidth": 0,
              "ticks": ""
             }
            },
            "type": "scatter3d"
           }
          ],
          "scattercarpet": [
           {
            "marker": {
             "colorbar": {
              "outlinewidth": 0,
              "ticks": ""
             }
            },
            "type": "scattercarpet"
           }
          ],
          "scattergeo": [
           {
            "marker": {
             "colorbar": {
              "outlinewidth": 0,
              "ticks": ""
             }
            },
            "type": "scattergeo"
           }
          ],
          "scattergl": [
           {
            "marker": {
             "colorbar": {
              "outlinewidth": 0,
              "ticks": ""
             }
            },
            "type": "scattergl"
           }
          ],
          "scattermapbox": [
           {
            "marker": {
             "colorbar": {
              "outlinewidth": 0,
              "ticks": ""
             }
            },
            "type": "scattermapbox"
           }
          ],
          "scatterpolar": [
           {
            "marker": {
             "colorbar": {
              "outlinewidth": 0,
              "ticks": ""
             }
            },
            "type": "scatterpolar"
           }
          ],
          "scatterpolargl": [
           {
            "marker": {
             "colorbar": {
              "outlinewidth": 0,
              "ticks": ""
             }
            },
            "type": "scatterpolargl"
           }
          ],
          "scatterternary": [
           {
            "marker": {
             "colorbar": {
              "outlinewidth": 0,
              "ticks": ""
             }
            },
            "type": "scatterternary"
           }
          ],
          "surface": [
           {
            "colorbar": {
             "outlinewidth": 0,
             "ticks": ""
            },
            "colorscale": [
             [
              0,
              "#0d0887"
             ],
             [
              0.1111111111111111,
              "#46039f"
             ],
             [
              0.2222222222222222,
              "#7201a8"
             ],
             [
              0.3333333333333333,
              "#9c179e"
             ],
             [
              0.4444444444444444,
              "#bd3786"
             ],
             [
              0.5555555555555556,
              "#d8576b"
             ],
             [
              0.6666666666666666,
              "#ed7953"
             ],
             [
              0.7777777777777778,
              "#fb9f3a"
             ],
             [
              0.8888888888888888,
              "#fdca26"
             ],
             [
              1,
              "#f0f921"
             ]
            ],
            "type": "surface"
           }
          ],
          "table": [
           {
            "cells": {
             "fill": {
              "color": "#EBF0F8"
             },
             "line": {
              "color": "white"
             }
            },
            "header": {
             "fill": {
              "color": "#C8D4E3"
             },
             "line": {
              "color": "white"
             }
            },
            "type": "table"
           }
          ]
         },
         "layout": {
          "annotationdefaults": {
           "arrowcolor": "#2a3f5f",
           "arrowhead": 0,
           "arrowwidth": 1
          },
          "autotypenumbers": "strict",
          "coloraxis": {
           "colorbar": {
            "outlinewidth": 0,
            "ticks": ""
           }
          },
          "colorscale": {
           "diverging": [
            [
             0,
             "#8e0152"
            ],
            [
             0.1,
             "#c51b7d"
            ],
            [
             0.2,
             "#de77ae"
            ],
            [
             0.3,
             "#f1b6da"
            ],
            [
             0.4,
             "#fde0ef"
            ],
            [
             0.5,
             "#f7f7f7"
            ],
            [
             0.6,
             "#e6f5d0"
            ],
            [
             0.7,
             "#b8e186"
            ],
            [
             0.8,
             "#7fbc41"
            ],
            [
             0.9,
             "#4d9221"
            ],
            [
             1,
             "#276419"
            ]
           ],
           "sequential": [
            [
             0,
             "#0d0887"
            ],
            [
             0.1111111111111111,
             "#46039f"
            ],
            [
             0.2222222222222222,
             "#7201a8"
            ],
            [
             0.3333333333333333,
             "#9c179e"
            ],
            [
             0.4444444444444444,
             "#bd3786"
            ],
            [
             0.5555555555555556,
             "#d8576b"
            ],
            [
             0.6666666666666666,
             "#ed7953"
            ],
            [
             0.7777777777777778,
             "#fb9f3a"
            ],
            [
             0.8888888888888888,
             "#fdca26"
            ],
            [
             1,
             "#f0f921"
            ]
           ],
           "sequentialminus": [
            [
             0,
             "#0d0887"
            ],
            [
             0.1111111111111111,
             "#46039f"
            ],
            [
             0.2222222222222222,
             "#7201a8"
            ],
            [
             0.3333333333333333,
             "#9c179e"
            ],
            [
             0.4444444444444444,
             "#bd3786"
            ],
            [
             0.5555555555555556,
             "#d8576b"
            ],
            [
             0.6666666666666666,
             "#ed7953"
            ],
            [
             0.7777777777777778,
             "#fb9f3a"
            ],
            [
             0.8888888888888888,
             "#fdca26"
            ],
            [
             1,
             "#f0f921"
            ]
           ]
          },
          "colorway": [
           "#636efa",
           "#EF553B",
           "#00cc96",
           "#ab63fa",
           "#FFA15A",
           "#19d3f3",
           "#FF6692",
           "#B6E880",
           "#FF97FF",
           "#FECB52"
          ],
          "font": {
           "color": "#2a3f5f"
          },
          "geo": {
           "bgcolor": "white",
           "lakecolor": "white",
           "landcolor": "#E5ECF6",
           "showlakes": true,
           "showland": true,
           "subunitcolor": "white"
          },
          "hoverlabel": {
           "align": "left"
          },
          "hovermode": "closest",
          "mapbox": {
           "style": "light"
          },
          "paper_bgcolor": "white",
          "plot_bgcolor": "#E5ECF6",
          "polar": {
           "angularaxis": {
            "gridcolor": "white",
            "linecolor": "white",
            "ticks": ""
           },
           "bgcolor": "#E5ECF6",
           "radialaxis": {
            "gridcolor": "white",
            "linecolor": "white",
            "ticks": ""
           }
          },
          "scene": {
           "xaxis": {
            "backgroundcolor": "#E5ECF6",
            "gridcolor": "white",
            "gridwidth": 2,
            "linecolor": "white",
            "showbackground": true,
            "ticks": "",
            "zerolinecolor": "white"
           },
           "yaxis": {
            "backgroundcolor": "#E5ECF6",
            "gridcolor": "white",
            "gridwidth": 2,
            "linecolor": "white",
            "showbackground": true,
            "ticks": "",
            "zerolinecolor": "white"
           },
           "zaxis": {
            "backgroundcolor": "#E5ECF6",
            "gridcolor": "white",
            "gridwidth": 2,
            "linecolor": "white",
            "showbackground": true,
            "ticks": "",
            "zerolinecolor": "white"
           }
          },
          "shapedefaults": {
           "line": {
            "color": "#2a3f5f"
           }
          },
          "ternary": {
           "aaxis": {
            "gridcolor": "white",
            "linecolor": "white",
            "ticks": ""
           },
           "baxis": {
            "gridcolor": "white",
            "linecolor": "white",
            "ticks": ""
           },
           "bgcolor": "#E5ECF6",
           "caxis": {
            "gridcolor": "white",
            "linecolor": "white",
            "ticks": ""
           }
          },
          "title": {
           "x": 0.05
          },
          "xaxis": {
           "automargin": true,
           "gridcolor": "white",
           "linecolor": "white",
           "ticks": "",
           "title": {
            "standoff": 15
           },
           "zerolinecolor": "white",
           "zerolinewidth": 2
          },
          "yaxis": {
           "automargin": true,
           "gridcolor": "white",
           "linecolor": "white",
           "ticks": "",
           "title": {
            "standoff": 15
           },
           "zerolinecolor": "white",
           "zerolinewidth": 2
          }
         }
        },
        "title": {
         "font": {
          "color": "#4D5663"
         }
        },
        "xaxis": {
         "autorange": true,
         "gridcolor": "#E1E5ED",
         "range": [
          -0.5,
          2.5
         ],
         "showgrid": true,
         "tickfont": {
          "color": "#4D5663"
         },
         "title": {
          "font": {
           "color": "#4D5663"
          },
          "text": ""
         },
         "type": "category",
         "zerolinecolor": "#E1E5ED"
        },
        "yaxis": {
         "autorange": true,
         "gridcolor": "#E1E5ED",
         "range": [
          0,
          52.63157894736842
         ],
         "showgrid": true,
         "tickfont": {
          "color": "#4D5663"
         },
         "title": {
          "font": {
           "color": "#4D5663"
          },
          "text": ""
         },
         "type": "linear",
         "zerolinecolor": "#E1E5ED"
        }
       }
      },
      "image/png": "[encoded data removed]",
      "text/html": [
       "<div>                            <div id=\"e3e23653-4e7a-40f3-9c6a-0ea0cf49c819\" class=\"plotly-graph-div\" style=\"height:525px; width:100%;\"></div>            <script type=\"text/javascript\">                require([\"plotly\"], function(Plotly) {                    window.PLOTLYENV=window.PLOTLYENV || {};\n",
       "                    window.PLOTLYENV.BASE_URL='https://plot.ly';                                    if (document.getElementById(\"e3e23653-4e7a-40f3-9c6a-0ea0cf49c819\")) {                    Plotly.newPlot(                        \"e3e23653-4e7a-40f3-9c6a-0ea0cf49c819\",                        [{\"marker\":{\"color\":\"rgba(255, 153, 51, 0.6)\",\"line\":{\"color\":\"rgba(255, 153, 51, 1.0)\",\"width\":1}},\"name\":\"Values\",\"orientation\":\"v\",\"text\":\"\",\"x\":[\"A\",\"B\",\"C\"],\"y\":[32,43,50],\"type\":\"bar\"}],                        {\"legend\":{\"bgcolor\":\"#F5F6F9\",\"font\":{\"color\":\"#4D5663\"}},\"paper_bgcolor\":\"#F5F6F9\",\"plot_bgcolor\":\"#F5F6F9\",\"template\":{\"data\":{\"barpolar\":[{\"marker\":{\"line\":{\"color\":\"#E5ECF6\",\"width\":0.5},\"pattern\":{\"fillmode\":\"overlay\",\"size\":10,\"solidity\":0.2}},\"type\":\"barpolar\"}],\"bar\":[{\"error_x\":{\"color\":\"#2a3f5f\"},\"error_y\":{\"color\":\"#2a3f5f\"},\"marker\":{\"line\":{\"color\":\"#E5ECF6\",\"width\":0.5},\"pattern\":{\"fillmode\":\"overlay\",\"size\":10,\"solidity\":0.2}},\"type\":\"bar\"}],\"carpet\":[{\"aaxis\":{\"endlinecolor\":\"#2a3f5f\",\"gridcolor\":\"white\",\"linecolor\":\"white\",\"minorgridcolor\":\"white\",\"startlinecolor\":\"#2a3f5f\"},\"baxis\":{\"endlinecolor\":\"#2a3f5f\",\"gridcolor\":\"white\",\"linecolor\":\"white\",\"minorgridcolor\":\"white\",\"startlinecolor\":\"#2a3f5f\"},\"type\":\"carpet\"}],\"choropleth\":[{\"colorbar\":{\"outlinewidth\":0,\"ticks\":\"\"},\"type\":\"choropleth\"}],\"contourcarpet\":[{\"colorbar\":{\"outlinewidth\":0,\"ticks\":\"\"},\"type\":\"contourcarpet\"}],\"contour\":[{\"colorbar\":{\"outlinewidth\":0,\"ticks\":\"\"},\"colorscale\":[[0.0,\"#0d0887\"],[0.1111111111111111,\"#46039f\"],[0.2222222222222222,\"#7201a8\"],[0.3333333333333333,\"#9c179e\"],[0.4444444444444444,\"#bd3786\"],[0.5555555555555556,\"#d8576b\"],[0.6666666666666666,\"#ed7953\"],[0.7777777777777778,\"#fb9f3a\"],[0.8888888888888888,\"#fdca26\"],[1.0,\"#f0f921\"]],\"type\":\"contour\"}],\"heatmapgl\":[{\"colorbar\":{\"outlinewidth\":0,\"ticks\":\"\"},\"colorscale\":[[0.0,\"#0d0887\"],[0.1111111111111111,\"#46039f\"],[0.2222222222222222,\"#7201a8\"],[0.3333333333333333,\"#9c179e\"],[0.4444444444444444,\"#bd3786\"],[0.5555555555555556,\"#d8576b\"],[0.6666666666666666,\"#ed7953\"],[0.7777777777777778,\"#fb9f3a\"],[0.8888888888888888,\"#fdca26\"],[1.0,\"#f0f921\"]],\"type\":\"heatmapgl\"}],\"heatmap\":[{\"colorbar\":{\"outlinewidth\":0,\"ticks\":\"\"},\"colorscale\":[[0.0,\"#0d0887\"],[0.1111111111111111,\"#46039f\"],[0.2222222222222222,\"#7201a8\"],[0.3333333333333333,\"#9c179e\"],[0.4444444444444444,\"#bd3786\"],[0.5555555555555556,\"#d8576b\"],[0.6666666666666666,\"#ed7953\"],[0.7777777777777778,\"#fb9f3a\"],[0.8888888888888888,\"#fdca26\"],[1.0,\"#f0f921\"]],\"type\":\"heatmap\"}],\"histogram2dcontour\":[{\"colorbar\":{\"outlinewidth\":0,\"ticks\":\"\"},\"colorscale\":[[0.0,\"#0d0887\"],[0.1111111111111111,\"#46039f\"],[0.2222222222222222,\"#7201a8\"],[0.3333333333333333,\"#9c179e\"],[0.4444444444444444,\"#bd3786\"],[0.5555555555555556,\"#d8576b\"],[0.6666666666666666,\"#ed7953\"],[0.7777777777777778,\"#fb9f3a\"],[0.8888888888888888,\"#fdca26\"],[1.0,\"#f0f921\"]],\"type\":\"histogram2dcontour\"}],\"histogram2d\":[{\"colorbar\":{\"outlinewidth\":0,\"ticks\":\"\"},\"colorscale\":[[0.0,\"#0d0887\"],[0.1111111111111111,\"#46039f\"],[0.2222222222222222,\"#7201a8\"],[0.3333333333333333,\"#9c179e\"],[0.4444444444444444,\"#bd3786\"],[0.5555555555555556,\"#d8576b\"],[0.6666666666666666,\"#ed7953\"],[0.7777777777777778,\"#fb9f3a\"],[0.8888888888888888,\"#fdca26\"],[1.0,\"#f0f921\"]],\"type\":\"histogram2d\"}],\"histogram\":[{\"marker\":{\"pattern\":{\"fillmode\":\"overlay\",\"size\":10,\"solidity\":0.2}},\"type\":\"histogram\"}],\"mesh3d\":[{\"colorbar\":{\"outlinewidth\":0,\"ticks\":\"\"},\"type\":\"mesh3d\"}],\"parcoords\":[{\"line\":{\"colorbar\":{\"outlinewidth\":0,\"ticks\":\"\"}},\"type\":\"parcoords\"}],\"pie\":[{\"automargin\":true,\"type\":\"pie\"}],\"scatter3d\":[{\"line\":{\"colorbar\":{\"outlinewidth\":0,\"ticks\":\"\"}},\"marker\":{\"colorbar\":{\"outlinewidth\":0,\"ticks\":\"\"}},\"type\":\"scatter3d\"}],\"scattercarpet\":[{\"marker\":{\"colorbar\":{\"outlinewidth\":0,\"ticks\":\"\"}},\"type\":\"scattercarpet\"}],\"scattergeo\":[{\"marker\":{\"colorbar\":{\"outlinewidth\":0,\"ticks\":\"\"}},\"type\":\"scattergeo\"}],\"scattergl\":[{\"marker\":{\"colorbar\":{\"outlinewidth\":0,\"ticks\":\"\"}},\"type\":\"scattergl\"}],\"scattermapbox\":[{\"marker\":{\"colorbar\":{\"outlinewidth\":0,\"ticks\":\"\"}},\"type\":\"scattermapbox\"}],\"scatterpolargl\":[{\"marker\":{\"colorbar\":{\"outlinewidth\":0,\"ticks\":\"\"}},\"type\":\"scatterpolargl\"}],\"scatterpolar\":[{\"marker\":{\"colorbar\":{\"outlinewidth\":0,\"ticks\":\"\"}},\"type\":\"scatterpolar\"}],\"scatter\":[{\"fillpattern\":{\"fillmode\":\"overlay\",\"size\":10,\"solidity\":0.2},\"type\":\"scatter\"}],\"scatterternary\":[{\"marker\":{\"colorbar\":{\"outlinewidth\":0,\"ticks\":\"\"}},\"type\":\"scatterternary\"}],\"surface\":[{\"colorbar\":{\"outlinewidth\":0,\"ticks\":\"\"},\"colorscale\":[[0.0,\"#0d0887\"],[0.1111111111111111,\"#46039f\"],[0.2222222222222222,\"#7201a8\"],[0.3333333333333333,\"#9c179e\"],[0.4444444444444444,\"#bd3786\"],[0.5555555555555556,\"#d8576b\"],[0.6666666666666666,\"#ed7953\"],[0.7777777777777778,\"#fb9f3a\"],[0.8888888888888888,\"#fdca26\"],[1.0,\"#f0f921\"]],\"type\":\"surface\"}],\"table\":[{\"cells\":{\"fill\":{\"color\":\"#EBF0F8\"},\"line\":{\"color\":\"white\"}},\"header\":{\"fill\":{\"color\":\"#C8D4E3\"},\"line\":{\"color\":\"white\"}},\"type\":\"table\"}]},\"layout\":{\"annotationdefaults\":{\"arrowcolor\":\"#2a3f5f\",\"arrowhead\":0,\"arrowwidth\":1},\"autotypenumbers\":\"strict\",\"coloraxis\":{\"colorbar\":{\"outlinewidth\":0,\"ticks\":\"\"}},\"colorscale\":{\"diverging\":[[0,\"#8e0152\"],[0.1,\"#c51b7d\"],[0.2,\"#de77ae\"],[0.3,\"#f1b6da\"],[0.4,\"#fde0ef\"],[0.5,\"#f7f7f7\"],[0.6,\"#e6f5d0\"],[0.7,\"#b8e186\"],[0.8,\"#7fbc41\"],[0.9,\"#4d9221\"],[1,\"#276419\"]],\"sequential\":[[0.0,\"#0d0887\"],[0.1111111111111111,\"#46039f\"],[0.2222222222222222,\"#7201a8\"],[0.3333333333333333,\"#9c179e\"],[0.4444444444444444,\"#bd3786\"],[0.5555555555555556,\"#d8576b\"],[0.6666666666666666,\"#ed7953\"],[0.7777777777777778,\"#fb9f3a\"],[0.8888888888888888,\"#fdca26\"],[1.0,\"#f0f921\"]],\"sequentialminus\":[[0.0,\"#0d0887\"],[0.1111111111111111,\"#46039f\"],[0.2222222222222222,\"#7201a8\"],[0.3333333333333333,\"#9c179e\"],[0.4444444444444444,\"#bd3786\"],[0.5555555555555556,\"#d8576b\"],[0.6666666666666666,\"#ed7953\"],[0.7777777777777778,\"#fb9f3a\"],[0.8888888888888888,\"#fdca26\"],[1.0,\"#f0f921\"]]},\"colorway\":[\"#636efa\",\"#EF553B\",\"#00cc96\",\"#ab63fa\",\"#FFA15A\",\"#19d3f3\",\"#FF6692\",\"#B6E880\",\"#FF97FF\",\"#FECB52\"],\"font\":{\"color\":\"#2a3f5f\"},\"geo\":{\"bgcolor\":\"white\",\"lakecolor\":\"white\",\"landcolor\":\"#E5ECF6\",\"showlakes\":true,\"showland\":true,\"subunitcolor\":\"white\"},\"hoverlabel\":{\"align\":\"left\"},\"hovermode\":\"closest\",\"mapbox\":{\"style\":\"light\"},\"paper_bgcolor\":\"white\",\"plot_bgcolor\":\"#E5ECF6\",\"polar\":{\"angularaxis\":{\"gridcolor\":\"white\",\"linecolor\":\"white\",\"ticks\":\"\"},\"bgcolor\":\"#E5ECF6\",\"radialaxis\":{\"gridcolor\":\"white\",\"linecolor\":\"white\",\"ticks\":\"\"}},\"scene\":{\"xaxis\":{\"backgroundcolor\":\"#E5ECF6\",\"gridcolor\":\"white\",\"gridwidth\":2,\"linecolor\":\"white\",\"showbackground\":true,\"ticks\":\"\",\"zerolinecolor\":\"white\"},\"yaxis\":{\"backgroundcolor\":\"#E5ECF6\",\"gridcolor\":\"white\",\"gridwidth\":2,\"linecolor\":\"white\",\"showbackground\":true,\"ticks\":\"\",\"zerolinecolor\":\"white\"},\"zaxis\":{\"backgroundcolor\":\"#E5ECF6\",\"gridcolor\":\"white\",\"gridwidth\":2,\"linecolor\":\"white\",\"showbackground\":true,\"ticks\":\"\",\"zerolinecolor\":\"white\"}},\"shapedefaults\":{\"line\":{\"color\":\"#2a3f5f\"}},\"ternary\":{\"aaxis\":{\"gridcolor\":\"white\",\"linecolor\":\"white\",\"ticks\":\"\"},\"baxis\":{\"gridcolor\":\"white\",\"linecolor\":\"white\",\"ticks\":\"\"},\"bgcolor\":\"#E5ECF6\",\"caxis\":{\"gridcolor\":\"white\",\"linecolor\":\"white\",\"ticks\":\"\"}},\"title\":{\"x\":0.05},\"xaxis\":{\"automargin\":true,\"gridcolor\":\"white\",\"linecolor\":\"white\",\"ticks\":\"\",\"title\":{\"standoff\":15},\"zerolinecolor\":\"white\",\"zerolinewidth\":2},\"yaxis\":{\"automargin\":true,\"gridcolor\":\"white\",\"linecolor\":\"white\",\"ticks\":\"\",\"title\":{\"standoff\":15},\"zerolinecolor\":\"white\",\"zerolinewidth\":2}}},\"title\":{\"font\":{\"color\":\"#4D5663\"}},\"xaxis\":{\"gridcolor\":\"#E1E5ED\",\"showgrid\":true,\"tickfont\":{\"color\":\"#4D5663\"},\"title\":{\"font\":{\"color\":\"#4D5663\"},\"text\":\"\"},\"zerolinecolor\":\"#E1E5ED\"},\"yaxis\":{\"gridcolor\":\"#E1E5ED\",\"showgrid\":true,\"tickfont\":{\"color\":\"#4D5663\"},\"title\":{\"font\":{\"color\":\"#4D5663\"},\"text\":\"\"},\"zerolinecolor\":\"#E1E5ED\"}},                        {\"showLink\": true, \"linkText\": \"Export to plot.ly\", \"plotlyServerURL\": \"https://plot.ly\", \"responsive\": true}                    ).then(function(){\n",
       "                            \n",
       "var gd = document.getElementById('e3e23653-4e7a-40f3-9c6a-0ea0cf49c819');\n",
       "var x = new MutationObserver(function (mutations, observer) {{\n",
       "        var display = window.getComputedStyle(gd).display;\n",
       "        if (!display || display === 'none') {{\n",
       "            console.log([gd, 'removed!']);\n",
       "            Plotly.purge(gd);\n",
       "            observer.disconnect();\n",
       "        }}\n",
       "}});\n",
       "\n",
       "// Listen for the removal of the full notebook cells\n",
       "var notebookContainer = gd.closest('#notebook-container');\n",
       "if (notebookContainer) {{\n",
       "    x.observe(notebookContainer, {childList: true});\n",
       "}}\n",
       "\n",
       "// Listen for the clearing of the current output cell\n",
       "var outputEl = gd.closest('.output');\n",
       "if (outputEl) {{\n",
       "    x.observe(outputEl, {childList: true});\n",
       "}}\n",
       "\n",
       "                        })                };                });            </script>        </div>"
      ]
     },
     "metadata": {},
     "output_type": "display_data"
    }
   ],
   "source": [
    "df2.iplot(kind='bar',x='Category',y='Values')"
   ]
  },
  {
   "cell_type": "code",
   "execution_count": 22,
   "metadata": {
    "collapsed": false,
    "jupyter": {
     "outputs_hidden": false
    }
   },
   "outputs": [
    {
     "data": {
      "application/vnd.plotly.v1+json": {
       "config": {
        "linkText": "Export to plot.ly",
        "plotlyServerURL": "https://plot.ly",
        "showLink": true
       },
       "data": [
        {
         "marker": {
          "color": "rgba(255, 153, 51, 0.6)",
          "line": {
           "color": "rgba(255, 153, 51, 1.0)",
           "width": 1
          }
         },
         "name": "None",
         "orientation": "v",
         "text": "",
         "type": "bar",
         "x": [
          "A",
          "B",
          "C",
          "D"
         ],
         "y": [
          100,
          100,
          100,
          100
         ]
        }
       ],
       "layout": {
        "autosize": true,
        "legend": {
         "bgcolor": "#F5F6F9",
         "font": {
          "color": "#4D5663"
         }
        },
        "paper_bgcolor": "#F5F6F9",
        "plot_bgcolor": "#F5F6F9",
        "template": {
         "data": {
          "bar": [
           {
            "error_x": {
             "color": "#2a3f5f"
            },
            "error_y": {
             "color": "#2a3f5f"
            },
            "marker": {
             "line": {
              "color": "#E5ECF6",
              "width": 0.5
             },
             "pattern": {
              "fillmode": "overlay",
              "size": 10,
              "solidity": 0.2
             }
            },
            "type": "bar"
           }
          ],
          "barpolar": [
           {
            "marker": {
             "line": {
              "color": "#E5ECF6",
              "width": 0.5
             },
             "pattern": {
              "fillmode": "overlay",
              "size": 10,
              "solidity": 0.2
             }
            },
            "type": "barpolar"
           }
          ],
          "carpet": [
           {
            "aaxis": {
             "endlinecolor": "#2a3f5f",
             "gridcolor": "white",
             "linecolor": "white",
             "minorgridcolor": "white",
             "startlinecolor": "#2a3f5f"
            },
            "baxis": {
             "endlinecolor": "#2a3f5f",
             "gridcolor": "white",
             "linecolor": "white",
             "minorgridcolor": "white",
             "startlinecolor": "#2a3f5f"
            },
            "type": "carpet"
           }
          ],
          "choropleth": [
           {
            "colorbar": {
             "outlinewidth": 0,
             "ticks": ""
            },
            "type": "choropleth"
           }
          ],
          "contour": [
           {
            "colorbar": {
             "outlinewidth": 0,
             "ticks": ""
            },
            "colorscale": [
             [
              0,
              "#0d0887"
             ],
             [
              0.1111111111111111,
              "#46039f"
             ],
             [
              0.2222222222222222,
              "#7201a8"
             ],
             [
              0.3333333333333333,
              "#9c179e"
             ],
             [
              0.4444444444444444,
              "#bd3786"
             ],
             [
              0.5555555555555556,
              "#d8576b"
             ],
             [
              0.6666666666666666,
              "#ed7953"
             ],
             [
              0.7777777777777778,
              "#fb9f3a"
             ],
             [
              0.8888888888888888,
              "#fdca26"
             ],
             [
              1,
              "#f0f921"
             ]
            ],
            "type": "contour"
           }
          ],
          "contourcarpet": [
           {
            "colorbar": {
             "outlinewidth": 0,
             "ticks": ""
            },
            "type": "contourcarpet"
           }
          ],
          "heatmap": [
           {
            "colorbar": {
             "outlinewidth": 0,
             "ticks": ""
            },
            "colorscale": [
             [
              0,
              "#0d0887"
             ],
             [
              0.1111111111111111,
              "#46039f"
             ],
             [
              0.2222222222222222,
              "#7201a8"
             ],
             [
              0.3333333333333333,
              "#9c179e"
             ],
             [
              0.4444444444444444,
              "#bd3786"
             ],
             [
              0.5555555555555556,
              "#d8576b"
             ],
             [
              0.6666666666666666,
              "#ed7953"
             ],
             [
              0.7777777777777778,
              "#fb9f3a"
             ],
             [
              0.8888888888888888,
              "#fdca26"
             ],
             [
              1,
              "#f0f921"
             ]
            ],
            "type": "heatmap"
           }
          ],
          "heatmapgl": [
           {
            "colorbar": {
             "outlinewidth": 0,
             "ticks": ""
            },
            "colorscale": [
             [
              0,
              "#0d0887"
             ],
             [
              0.1111111111111111,
              "#46039f"
             ],
             [
              0.2222222222222222,
              "#7201a8"
             ],
             [
              0.3333333333333333,
              "#9c179e"
             ],
             [
              0.4444444444444444,
              "#bd3786"
             ],
             [
              0.5555555555555556,
              "#d8576b"
             ],
             [
              0.6666666666666666,
              "#ed7953"
             ],
             [
              0.7777777777777778,
              "#fb9f3a"
             ],
             [
              0.8888888888888888,
              "#fdca26"
             ],
             [
              1,
              "#f0f921"
             ]
            ],
            "type": "heatmapgl"
           }
          ],
          "histogram": [
           {
            "marker": {
             "pattern": {
              "fillmode": "overlay",
              "size": 10,
              "solidity": 0.2
             }
            },
            "type": "histogram"
           }
          ],
          "histogram2d": [
           {
            "colorbar": {
             "outlinewidth": 0,
             "ticks": ""
            },
            "colorscale": [
             [
              0,
              "#0d0887"
             ],
             [
              0.1111111111111111,
              "#46039f"
             ],
             [
              0.2222222222222222,
              "#7201a8"
             ],
             [
              0.3333333333333333,
              "#9c179e"
             ],
             [
              0.4444444444444444,
              "#bd3786"
             ],
             [
              0.5555555555555556,
              "#d8576b"
             ],
             [
              0.6666666666666666,
              "#ed7953"
             ],
             [
              0.7777777777777778,
              "#fb9f3a"
             ],
             [
              0.8888888888888888,
              "#fdca26"
             ],
             [
              1,
              "#f0f921"
             ]
            ],
            "type": "histogram2d"
           }
          ],
          "histogram2dcontour": [
           {
            "colorbar": {
             "outlinewidth": 0,
             "ticks": ""
            },
            "colorscale": [
             [
              0,
              "#0d0887"
             ],
             [
              0.1111111111111111,
              "#46039f"
             ],
             [
              0.2222222222222222,
              "#7201a8"
             ],
             [
              0.3333333333333333,
              "#9c179e"
             ],
             [
              0.4444444444444444,
              "#bd3786"
             ],
             [
              0.5555555555555556,
              "#d8576b"
             ],
             [
              0.6666666666666666,
              "#ed7953"
             ],
             [
              0.7777777777777778,
              "#fb9f3a"
             ],
             [
              0.8888888888888888,
              "#fdca26"
             ],
             [
              1,
              "#f0f921"
             ]
            ],
            "type": "histogram2dcontour"
           }
          ],
          "mesh3d": [
           {
            "colorbar": {
             "outlinewidth": 0,
             "ticks": ""
            },
            "type": "mesh3d"
           }
          ],
          "parcoords": [
           {
            "line": {
             "colorbar": {
              "outlinewidth": 0,
              "ticks": ""
             }
            },
            "type": "parcoords"
           }
          ],
          "pie": [
           {
            "automargin": true,
            "type": "pie"
           }
          ],
          "scatter": [
           {
            "fillpattern": {
             "fillmode": "overlay",
             "size": 10,
             "solidity": 0.2
            },
            "type": "scatter"
           }
          ],
          "scatter3d": [
           {
            "line": {
             "colorbar": {
              "outlinewidth": 0,
              "ticks": ""
             }
            },
            "marker": {
             "colorbar": {
              "outlinewidth": 0,
              "ticks": ""
             }
            },
            "type": "scatter3d"
           }
          ],
          "scattercarpet": [
           {
            "marker": {
             "colorbar": {
              "outlinewidth": 0,
              "ticks": ""
             }
            },
            "type": "scattercarpet"
           }
          ],
          "scattergeo": [
           {
            "marker": {
             "colorbar": {
              "outlinewidth": 0,
              "ticks": ""
             }
            },
            "type": "scattergeo"
           }
          ],
          "scattergl": [
           {
            "marker": {
             "colorbar": {
              "outlinewidth": 0,
              "ticks": ""
             }
            },
            "type": "scattergl"
           }
          ],
          "scattermapbox": [
           {
            "marker": {
             "colorbar": {
              "outlinewidth": 0,
              "ticks": ""
             }
            },
            "type": "scattermapbox"
           }
          ],
          "scatterpolar": [
           {
            "marker": {
             "colorbar": {
              "outlinewidth": 0,
              "ticks": ""
             }
            },
            "type": "scatterpolar"
           }
          ],
          "scatterpolargl": [
           {
            "marker": {
             "colorbar": {
              "outlinewidth": 0,
              "ticks": ""
             }
            },
            "type": "scatterpolargl"
           }
          ],
          "scatterternary": [
           {
            "marker": {
             "colorbar": {
              "outlinewidth": 0,
              "ticks": ""
             }
            },
            "type": "scatterternary"
           }
          ],
          "surface": [
           {
            "colorbar": {
             "outlinewidth": 0,
             "ticks": ""
            },
            "colorscale": [
             [
              0,
              "#0d0887"
             ],
             [
              0.1111111111111111,
              "#46039f"
             ],
             [
              0.2222222222222222,
              "#7201a8"
             ],
             [
              0.3333333333333333,
              "#9c179e"
             ],
             [
              0.4444444444444444,
              "#bd3786"
             ],
             [
              0.5555555555555556,
              "#d8576b"
             ],
             [
              0.6666666666666666,
              "#ed7953"
             ],
             [
              0.7777777777777778,
              "#fb9f3a"
             ],
             [
              0.8888888888888888,
              "#fdca26"
             ],
             [
              1,
              "#f0f921"
             ]
            ],
            "type": "surface"
           }
          ],
          "table": [
           {
            "cells": {
             "fill": {
              "color": "#EBF0F8"
             },
             "line": {
              "color": "white"
             }
            },
            "header": {
             "fill": {
              "color": "#C8D4E3"
             },
             "line": {
              "color": "white"
             }
            },
            "type": "table"
           }
          ]
         },
         "layout": {
          "annotationdefaults": {
           "arrowcolor": "#2a3f5f",
           "arrowhead": 0,
           "arrowwidth": 1
          },
          "autotypenumbers": "strict",
          "coloraxis": {
           "colorbar": {
            "outlinewidth": 0,
            "ticks": ""
           }
          },
          "colorscale": {
           "diverging": [
            [
             0,
             "#8e0152"
            ],
            [
             0.1,
             "#c51b7d"
            ],
            [
             0.2,
             "#de77ae"
            ],
            [
             0.3,
             "#f1b6da"
            ],
            [
             0.4,
             "#fde0ef"
            ],
            [
             0.5,
             "#f7f7f7"
            ],
            [
             0.6,
             "#e6f5d0"
            ],
            [
             0.7,
             "#b8e186"
            ],
            [
             0.8,
             "#7fbc41"
            ],
            [
             0.9,
             "#4d9221"
            ],
            [
             1,
             "#276419"
            ]
           ],
           "sequential": [
            [
             0,
             "#0d0887"
            ],
            [
             0.1111111111111111,
             "#46039f"
            ],
            [
             0.2222222222222222,
             "#7201a8"
            ],
            [
             0.3333333333333333,
             "#9c179e"
            ],
            [
             0.4444444444444444,
             "#bd3786"
            ],
            [
             0.5555555555555556,
             "#d8576b"
            ],
            [
             0.6666666666666666,
             "#ed7953"
            ],
            [
             0.7777777777777778,
             "#fb9f3a"
            ],
            [
             0.8888888888888888,
             "#fdca26"
            ],
            [
             1,
             "#f0f921"
            ]
           ],
           "sequentialminus": [
            [
             0,
             "#0d0887"
            ],
            [
             0.1111111111111111,
             "#46039f"
            ],
            [
             0.2222222222222222,
             "#7201a8"
            ],
            [
             0.3333333333333333,
             "#9c179e"
            ],
            [
             0.4444444444444444,
             "#bd3786"
            ],
            [
             0.5555555555555556,
             "#d8576b"
            ],
            [
             0.6666666666666666,
             "#ed7953"
            ],
            [
             0.7777777777777778,
             "#fb9f3a"
            ],
            [
             0.8888888888888888,
             "#fdca26"
            ],
            [
             1,
             "#f0f921"
            ]
           ]
          },
          "colorway": [
           "#636efa",
           "#EF553B",
           "#00cc96",
           "#ab63fa",
           "#FFA15A",
           "#19d3f3",
           "#FF6692",
           "#B6E880",
           "#FF97FF",
           "#FECB52"
          ],
          "font": {
           "color": "#2a3f5f"
          },
          "geo": {
           "bgcolor": "white",
           "lakecolor": "white",
           "landcolor": "#E5ECF6",
           "showlakes": true,
           "showland": true,
           "subunitcolor": "white"
          },
          "hoverlabel": {
           "align": "left"
          },
          "hovermode": "closest",
          "mapbox": {
           "style": "light"
          },
          "paper_bgcolor": "white",
          "plot_bgcolor": "#E5ECF6",
          "polar": {
           "angularaxis": {
            "gridcolor": "white",
            "linecolor": "white",
            "ticks": ""
           },
           "bgcolor": "#E5ECF6",
           "radialaxis": {
            "gridcolor": "white",
            "linecolor": "white",
            "ticks": ""
           }
          },
          "scene": {
           "xaxis": {
            "backgroundcolor": "#E5ECF6",
            "gridcolor": "white",
            "gridwidth": 2,
            "linecolor": "white",
            "showbackground": true,
            "ticks": "",
            "zerolinecolor": "white"
           },
           "yaxis": {
            "backgroundcolor": "#E5ECF6",
            "gridcolor": "white",
            "gridwidth": 2,
            "linecolor": "white",
            "showbackground": true,
            "ticks": "",
            "zerolinecolor": "white"
           },
           "zaxis": {
            "backgroundcolor": "#E5ECF6",
            "gridcolor": "white",
            "gridwidth": 2,
            "linecolor": "white",
            "showbackground": true,
            "ticks": "",
            "zerolinecolor": "white"
           }
          },
          "shapedefaults": {
           "line": {
            "color": "#2a3f5f"
           }
          },
          "ternary": {
           "aaxis": {
            "gridcolor": "white",
            "linecolor": "white",
            "ticks": ""
           },
           "baxis": {
            "gridcolor": "white",
            "linecolor": "white",
            "ticks": ""
           },
           "bgcolor": "#E5ECF6",
           "caxis": {
            "gridcolor": "white",
            "linecolor": "white",
            "ticks": ""
           }
          },
          "title": {
           "x": 0.05
          },
          "xaxis": {
           "automargin": true,
           "gridcolor": "white",
           "linecolor": "white",
           "ticks": "",
           "title": {
            "standoff": 15
           },
           "zerolinecolor": "white",
           "zerolinewidth": 2
          },
          "yaxis": {
           "automargin": true,
           "gridcolor": "white",
           "linecolor": "white",
           "ticks": "",
           "title": {
            "standoff": 15
           },
           "zerolinecolor": "white",
           "zerolinewidth": 2
          }
         }
        },
        "title": {
         "font": {
          "color": "#4D5663"
         }
        },
        "xaxis": {
         "autorange": true,
         "gridcolor": "#E1E5ED",
         "range": [
          -0.5,
          3.5
         ],
         "showgrid": true,
         "tickfont": {
          "color": "#4D5663"
         },
         "title": {
          "font": {
           "color": "#4D5663"
          },
          "text": ""
         },
         "type": "category",
         "zerolinecolor": "#E1E5ED"
        },
        "yaxis": {
         "autorange": true,
         "gridcolor": "#E1E5ED",
         "range": [
          0,
          105.26315789473684
         ],
         "showgrid": true,
         "tickfont": {
          "color": "#4D5663"
         },
         "title": {
          "font": {
           "color": "#4D5663"
          },
          "text": ""
         },
         "type": "linear",
         "zerolinecolor": "#E1E5ED"
        }
       }
      },
      "image/png": "[encoded data removed]",
      "text/html": [
       "<div>                            <div id=\"b4e55838-8c8f-4bef-874e-c997eb51d06c\" class=\"plotly-graph-div\" style=\"height:525px; width:100%;\"></div>            <script type=\"text/javascript\">                require([\"plotly\"], function(Plotly) {                    window.PLOTLYENV=window.PLOTLYENV || {};\n",
       "                    window.PLOTLYENV.BASE_URL='https://plot.ly';                                    if (document.getElementById(\"b4e55838-8c8f-4bef-874e-c997eb51d06c\")) {                    Plotly.newPlot(                        \"b4e55838-8c8f-4bef-874e-c997eb51d06c\",                        [{\"marker\":{\"color\":\"rgba(255, 153, 51, 0.6)\",\"line\":{\"color\":\"rgba(255, 153, 51, 1.0)\",\"width\":1}},\"name\":\"None\",\"orientation\":\"v\",\"text\":\"\",\"x\":[\"A\",\"B\",\"C\",\"D\"],\"y\":[100,100,100,100],\"type\":\"bar\"}],                        {\"legend\":{\"bgcolor\":\"#F5F6F9\",\"font\":{\"color\":\"#4D5663\"}},\"paper_bgcolor\":\"#F5F6F9\",\"plot_bgcolor\":\"#F5F6F9\",\"template\":{\"data\":{\"barpolar\":[{\"marker\":{\"line\":{\"color\":\"#E5ECF6\",\"width\":0.5},\"pattern\":{\"fillmode\":\"overlay\",\"size\":10,\"solidity\":0.2}},\"type\":\"barpolar\"}],\"bar\":[{\"error_x\":{\"color\":\"#2a3f5f\"},\"error_y\":{\"color\":\"#2a3f5f\"},\"marker\":{\"line\":{\"color\":\"#E5ECF6\",\"width\":0.5},\"pattern\":{\"fillmode\":\"overlay\",\"size\":10,\"solidity\":0.2}},\"type\":\"bar\"}],\"carpet\":[{\"aaxis\":{\"endlinecolor\":\"#2a3f5f\",\"gridcolor\":\"white\",\"linecolor\":\"white\",\"minorgridcolor\":\"white\",\"startlinecolor\":\"#2a3f5f\"},\"baxis\":{\"endlinecolor\":\"#2a3f5f\",\"gridcolor\":\"white\",\"linecolor\":\"white\",\"minorgridcolor\":\"white\",\"startlinecolor\":\"#2a3f5f\"},\"type\":\"carpet\"}],\"choropleth\":[{\"colorbar\":{\"outlinewidth\":0,\"ticks\":\"\"},\"type\":\"choropleth\"}],\"contourcarpet\":[{\"colorbar\":{\"outlinewidth\":0,\"ticks\":\"\"},\"type\":\"contourcarpet\"}],\"contour\":[{\"colorbar\":{\"outlinewidth\":0,\"ticks\":\"\"},\"colorscale\":[[0.0,\"#0d0887\"],[0.1111111111111111,\"#46039f\"],[0.2222222222222222,\"#7201a8\"],[0.3333333333333333,\"#9c179e\"],[0.4444444444444444,\"#bd3786\"],[0.5555555555555556,\"#d8576b\"],[0.6666666666666666,\"#ed7953\"],[0.7777777777777778,\"#fb9f3a\"],[0.8888888888888888,\"#fdca26\"],[1.0,\"#f0f921\"]],\"type\":\"contour\"}],\"heatmapgl\":[{\"colorbar\":{\"outlinewidth\":0,\"ticks\":\"\"},\"colorscale\":[[0.0,\"#0d0887\"],[0.1111111111111111,\"#46039f\"],[0.2222222222222222,\"#7201a8\"],[0.3333333333333333,\"#9c179e\"],[0.4444444444444444,\"#bd3786\"],[0.5555555555555556,\"#d8576b\"],[0.6666666666666666,\"#ed7953\"],[0.7777777777777778,\"#fb9f3a\"],[0.8888888888888888,\"#fdca26\"],[1.0,\"#f0f921\"]],\"type\":\"heatmapgl\"}],\"heatmap\":[{\"colorbar\":{\"outlinewidth\":0,\"ticks\":\"\"},\"colorscale\":[[0.0,\"#0d0887\"],[0.1111111111111111,\"#46039f\"],[0.2222222222222222,\"#7201a8\"],[0.3333333333333333,\"#9c179e\"],[0.4444444444444444,\"#bd3786\"],[0.5555555555555556,\"#d8576b\"],[0.6666666666666666,\"#ed7953\"],[0.7777777777777778,\"#fb9f3a\"],[0.8888888888888888,\"#fdca26\"],[1.0,\"#f0f921\"]],\"type\":\"heatmap\"}],\"histogram2dcontour\":[{\"colorbar\":{\"outlinewidth\":0,\"ticks\":\"\"},\"colorscale\":[[0.0,\"#0d0887\"],[0.1111111111111111,\"#46039f\"],[0.2222222222222222,\"#7201a8\"],[0.3333333333333333,\"#9c179e\"],[0.4444444444444444,\"#bd3786\"],[0.5555555555555556,\"#d8576b\"],[0.6666666666666666,\"#ed7953\"],[0.7777777777777778,\"#fb9f3a\"],[0.8888888888888888,\"#fdca26\"],[1.0,\"#f0f921\"]],\"type\":\"histogram2dcontour\"}],\"histogram2d\":[{\"colorbar\":{\"outlinewidth\":0,\"ticks\":\"\"},\"colorscale\":[[0.0,\"#0d0887\"],[0.1111111111111111,\"#46039f\"],[0.2222222222222222,\"#7201a8\"],[0.3333333333333333,\"#9c179e\"],[0.4444444444444444,\"#bd3786\"],[0.5555555555555556,\"#d8576b\"],[0.6666666666666666,\"#ed7953\"],[0.7777777777777778,\"#fb9f3a\"],[0.8888888888888888,\"#fdca26\"],[1.0,\"#f0f921\"]],\"type\":\"histogram2d\"}],\"histogram\":[{\"marker\":{\"pattern\":{\"fillmode\":\"overlay\",\"size\":10,\"solidity\":0.2}},\"type\":\"histogram\"}],\"mesh3d\":[{\"colorbar\":{\"outlinewidth\":0,\"ticks\":\"\"},\"type\":\"mesh3d\"}],\"parcoords\":[{\"line\":{\"colorbar\":{\"outlinewidth\":0,\"ticks\":\"\"}},\"type\":\"parcoords\"}],\"pie\":[{\"automargin\":true,\"type\":\"pie\"}],\"scatter3d\":[{\"line\":{\"colorbar\":{\"outlinewidth\":0,\"ticks\":\"\"}},\"marker\":{\"colorbar\":{\"outlinewidth\":0,\"ticks\":\"\"}},\"type\":\"scatter3d\"}],\"scattercarpet\":[{\"marker\":{\"colorbar\":{\"outlinewidth\":0,\"ticks\":\"\"}},\"type\":\"scattercarpet\"}],\"scattergeo\":[{\"marker\":{\"colorbar\":{\"outlinewidth\":0,\"ticks\":\"\"}},\"type\":\"scattergeo\"}],\"scattergl\":[{\"marker\":{\"colorbar\":{\"outlinewidth\":0,\"ticks\":\"\"}},\"type\":\"scattergl\"}],\"scattermapbox\":[{\"marker\":{\"colorbar\":{\"outlinewidth\":0,\"ticks\":\"\"}},\"type\":\"scattermapbox\"}],\"scatterpolargl\":[{\"marker\":{\"colorbar\":{\"outlinewidth\":0,\"ticks\":\"\"}},\"type\":\"scatterpolargl\"}],\"scatterpolar\":[{\"marker\":{\"colorbar\":{\"outlinewidth\":0,\"ticks\":\"\"}},\"type\":\"scatterpolar\"}],\"scatter\":[{\"fillpattern\":{\"fillmode\":\"overlay\",\"size\":10,\"solidity\":0.2},\"type\":\"scatter\"}],\"scatterternary\":[{\"marker\":{\"colorbar\":{\"outlinewidth\":0,\"ticks\":\"\"}},\"type\":\"scatterternary\"}],\"surface\":[{\"colorbar\":{\"outlinewidth\":0,\"ticks\":\"\"},\"colorscale\":[[0.0,\"#0d0887\"],[0.1111111111111111,\"#46039f\"],[0.2222222222222222,\"#7201a8\"],[0.3333333333333333,\"#9c179e\"],[0.4444444444444444,\"#bd3786\"],[0.5555555555555556,\"#d8576b\"],[0.6666666666666666,\"#ed7953\"],[0.7777777777777778,\"#fb9f3a\"],[0.8888888888888888,\"#fdca26\"],[1.0,\"#f0f921\"]],\"type\":\"surface\"}],\"table\":[{\"cells\":{\"fill\":{\"color\":\"#EBF0F8\"},\"line\":{\"color\":\"white\"}},\"header\":{\"fill\":{\"color\":\"#C8D4E3\"},\"line\":{\"color\":\"white\"}},\"type\":\"table\"}]},\"layout\":{\"annotationdefaults\":{\"arrowcolor\":\"#2a3f5f\",\"arrowhead\":0,\"arrowwidth\":1},\"autotypenumbers\":\"strict\",\"coloraxis\":{\"colorbar\":{\"outlinewidth\":0,\"ticks\":\"\"}},\"colorscale\":{\"diverging\":[[0,\"#8e0152\"],[0.1,\"#c51b7d\"],[0.2,\"#de77ae\"],[0.3,\"#f1b6da\"],[0.4,\"#fde0ef\"],[0.5,\"#f7f7f7\"],[0.6,\"#e6f5d0\"],[0.7,\"#b8e186\"],[0.8,\"#7fbc41\"],[0.9,\"#4d9221\"],[1,\"#276419\"]],\"sequential\":[[0.0,\"#0d0887\"],[0.1111111111111111,\"#46039f\"],[0.2222222222222222,\"#7201a8\"],[0.3333333333333333,\"#9c179e\"],[0.4444444444444444,\"#bd3786\"],[0.5555555555555556,\"#d8576b\"],[0.6666666666666666,\"#ed7953\"],[0.7777777777777778,\"#fb9f3a\"],[0.8888888888888888,\"#fdca26\"],[1.0,\"#f0f921\"]],\"sequentialminus\":[[0.0,\"#0d0887\"],[0.1111111111111111,\"#46039f\"],[0.2222222222222222,\"#7201a8\"],[0.3333333333333333,\"#9c179e\"],[0.4444444444444444,\"#bd3786\"],[0.5555555555555556,\"#d8576b\"],[0.6666666666666666,\"#ed7953\"],[0.7777777777777778,\"#fb9f3a\"],[0.8888888888888888,\"#fdca26\"],[1.0,\"#f0f921\"]]},\"colorway\":[\"#636efa\",\"#EF553B\",\"#00cc96\",\"#ab63fa\",\"#FFA15A\",\"#19d3f3\",\"#FF6692\",\"#B6E880\",\"#FF97FF\",\"#FECB52\"],\"font\":{\"color\":\"#2a3f5f\"},\"geo\":{\"bgcolor\":\"white\",\"lakecolor\":\"white\",\"landcolor\":\"#E5ECF6\",\"showlakes\":true,\"showland\":true,\"subunitcolor\":\"white\"},\"hoverlabel\":{\"align\":\"left\"},\"hovermode\":\"closest\",\"mapbox\":{\"style\":\"light\"},\"paper_bgcolor\":\"white\",\"plot_bgcolor\":\"#E5ECF6\",\"polar\":{\"angularaxis\":{\"gridcolor\":\"white\",\"linecolor\":\"white\",\"ticks\":\"\"},\"bgcolor\":\"#E5ECF6\",\"radialaxis\":{\"gridcolor\":\"white\",\"linecolor\":\"white\",\"ticks\":\"\"}},\"scene\":{\"xaxis\":{\"backgroundcolor\":\"#E5ECF6\",\"gridcolor\":\"white\",\"gridwidth\":2,\"linecolor\":\"white\",\"showbackground\":true,\"ticks\":\"\",\"zerolinecolor\":\"white\"},\"yaxis\":{\"backgroundcolor\":\"#E5ECF6\",\"gridcolor\":\"white\",\"gridwidth\":2,\"linecolor\":\"white\",\"showbackground\":true,\"ticks\":\"\",\"zerolinecolor\":\"white\"},\"zaxis\":{\"backgroundcolor\":\"#E5ECF6\",\"gridcolor\":\"white\",\"gridwidth\":2,\"linecolor\":\"white\",\"showbackground\":true,\"ticks\":\"\",\"zerolinecolor\":\"white\"}},\"shapedefaults\":{\"line\":{\"color\":\"#2a3f5f\"}},\"ternary\":{\"aaxis\":{\"gridcolor\":\"white\",\"linecolor\":\"white\",\"ticks\":\"\"},\"baxis\":{\"gridcolor\":\"white\",\"linecolor\":\"white\",\"ticks\":\"\"},\"bgcolor\":\"#E5ECF6\",\"caxis\":{\"gridcolor\":\"white\",\"linecolor\":\"white\",\"ticks\":\"\"}},\"title\":{\"x\":0.05},\"xaxis\":{\"automargin\":true,\"gridcolor\":\"white\",\"linecolor\":\"white\",\"ticks\":\"\",\"title\":{\"standoff\":15},\"zerolinecolor\":\"white\",\"zerolinewidth\":2},\"yaxis\":{\"automargin\":true,\"gridcolor\":\"white\",\"linecolor\":\"white\",\"ticks\":\"\",\"title\":{\"standoff\":15},\"zerolinecolor\":\"white\",\"zerolinewidth\":2}}},\"title\":{\"font\":{\"color\":\"#4D5663\"}},\"xaxis\":{\"gridcolor\":\"#E1E5ED\",\"showgrid\":true,\"tickfont\":{\"color\":\"#4D5663\"},\"title\":{\"font\":{\"color\":\"#4D5663\"},\"text\":\"\"},\"zerolinecolor\":\"#E1E5ED\"},\"yaxis\":{\"gridcolor\":\"#E1E5ED\",\"showgrid\":true,\"tickfont\":{\"color\":\"#4D5663\"},\"title\":{\"font\":{\"color\":\"#4D5663\"},\"text\":\"\"},\"zerolinecolor\":\"#E1E5ED\"}},                        {\"showLink\": true, \"linkText\": \"Export to plot.ly\", \"plotlyServerURL\": \"https://plot.ly\", \"responsive\": true}                    ).then(function(){\n",
       "                            \n",
       "var gd = document.getElementById('b4e55838-8c8f-4bef-874e-c997eb51d06c');\n",
       "var x = new MutationObserver(function (mutations, observer) {{\n",
       "        var display = window.getComputedStyle(gd).display;\n",
       "        if (!display || display === 'none') {{\n",
       "            console.log([gd, 'removed!']);\n",
       "            Plotly.purge(gd);\n",
       "            observer.disconnect();\n",
       "        }}\n",
       "}});\n",
       "\n",
       "// Listen for the removal of the full notebook cells\n",
       "var notebookContainer = gd.closest('#notebook-container');\n",
       "if (notebookContainer) {{\n",
       "    x.observe(notebookContainer, {childList: true});\n",
       "}}\n",
       "\n",
       "// Listen for the clearing of the current output cell\n",
       "var outputEl = gd.closest('.output');\n",
       "if (outputEl) {{\n",
       "    x.observe(outputEl, {childList: true});\n",
       "}}\n",
       "\n",
       "                        })                };                });            </script>        </div>"
      ]
     },
     "metadata": {},
     "output_type": "display_data"
    }
   ],
   "source": [
    "df.count().iplot(kind='bar')"
   ]
  },
  {
   "cell_type": "markdown",
   "metadata": {},
   "source": [
    "## Boxplots"
   ]
  },
  {
   "cell_type": "code",
   "execution_count": 23,
   "metadata": {
    "collapsed": false,
    "jupyter": {
     "outputs_hidden": false
    }
   },
   "outputs": [
    {
     "data": {
      "application/vnd.plotly.v1+json": {
       "config": {
        "linkText": "Export to plot.ly",
        "plotlyServerURL": "https://plot.ly",
        "showLink": true
       },
       "data": [
        {
         "boxpoints": false,
         "line": {
          "width": 1.3
         },
         "marker": {
          "color": "rgba(255, 153, 51, 1.0)"
         },
         "name": "A",
         "orientation": "v",
         "type": "box",
         "y": [
          0.5528846479247638,
          -2.398205930119027,
          -0.3028121147097552,
          0.4955055579660399,
          -0.8031139027427731,
          -1.0439615893646255,
          1.6840254798100713,
          -1.2270555973290076,
          0.03836565760442624,
          -0.7119933256566789,
          1.306205741116208,
          -0.298729867404561,
          -0.7626919498830378,
          -0.6865924844463516,
          0.40668760667413334,
          0.4591508148789853,
          -0.47679836895868144,
          0.12238283386054362,
          -0.2519742371876982,
          -0.5350962519073955,
          0.9495119626283427,
          1.317827160891446,
          0.06555116071136115,
          0.49179795262488285,
          0.10062406066380053,
          0.32118901639531455,
          -0.211126656422741,
          1.0841690624860194,
          0.3892873236104735,
          0.37450011731539384,
          0.7387478968533783,
          1.645689502745466,
          -0.07196554987844637,
          0.23900174535492802,
          0.6409689628833247,
          1.4639297982677268,
          1.3740544669976316,
          0.028651022122856213,
          0.7132598611898975,
          -0.4669090564868793,
          -0.09442894209417246,
          1.0368611520075945,
          1.2363172261610667,
          0.3824133876492034,
          1.3545419182200922,
          1.1829339768784208,
          -0.19995253590227513,
          0.27672726185968394,
          0.000979222163437031,
          1.1198026754737844,
          0.2413950682021842,
          -0.9897486524611538,
          0.969790314908981,
          -0.7233597095313674,
          0.8537501041961911,
          -0.33290215549787927,
          -0.2103438556569867,
          -0.466192267738929,
          -1.1823537998364433,
          1.851959835464232,
          -1.2308259465982763,
          2.4622169560603697,
          0.9465961004381525,
          -2.1211974351879124,
          0.5863806468807722,
          -0.6106802223716836,
          -0.604000303410238,
          -2.0524370532876093,
          0.09028238740701096,
          -0.2324593934384782,
          1.019924496688148,
          1.1891483232697713,
          0.4713522395845208,
          0.47272716034600604,
          -1.3138557741641002,
          -1.3422754707240987,
          -0.1202028018800572,
          0.3874772662295193,
          0.011290612252812894,
          -1.2153978471663942,
          0.22593818094665838,
          0.032367283112389796,
          0.33515367135340945,
          0.8229895475611503,
          -1.9283577588198613,
          -0.2864119360756065,
          1.6941256129076236,
          -0.6245918701287434,
          -1.2634541802059043,
          -1.1407703435522039,
          0.7356260860775407,
          -0.29457276598016724,
          0.2839443237372972,
          0.935454658824385,
          2.877734237945691,
          -1.1702742402057313,
          -1.4944762966648328,
          -1.2815063454992062,
          -0.9770578514226053,
          1.3034403383361466
         ]
        },
        {
         "boxpoints": false,
         "line": {
          "width": 1.3
         },
         "marker": {
          "color": "rgba(55, 128, 191, 1.0)"
         },
         "name": "B",
         "orientation": "v",
         "type": "box",
         "y": [
          1.5221338266976558,
          0.37112679507706564,
          0.36603957292691625,
          0.29252692212843173,
          0.036180660230443626,
          -0.7132962320772471,
          0.9141168083341438,
          -0.31192340367024846,
          -0.4825095769901552,
          0.16428901034785823,
          -0.14475789553589113,
          -1.0352430195694506,
          -1.5284693687654274,
          0.681164249488606,
          -0.564706140357884,
          1.4755447264649455,
          -0.32321602983062203,
          -0.7450592141304335,
          -0.7966035904657918,
          -0.1773245865098007,
          -1.126571722363632,
          0.9150626029671826,
          -1.091207438666216,
          0.8506294575866586,
          0.12371120342549463,
          -0.21731773112055477,
          -1.1130142266214658,
          0.5876701597506964,
          -0.5459226254608572,
          1.061672954810636,
          0.09446784284243107,
          -0.6829616273707716,
          0.9993656743472096,
          -0.5238729745094756,
          -0.9232682602030104,
          -1.1399099972844873,
          1.4177239382333449,
          -1.2385489459203411,
          0.9139327716213272,
          -0.1950190652257846,
          -0.7232280071985164,
          0.7178925572634225,
          -0.3869231850219358,
          -1.1110851121638883,
          0.5109203316297612,
          -1.0237058951468863,
          0.2777672213480589,
          0.9089347935577019,
          -0.47784841609201906,
          -0.18572038347878303,
          0.8181607377617439,
          -0.1555509408673983,
          1.6178024580284072,
          0.3168010772059872,
          -0.2344649450137472,
          -0.662325975502222,
          0.6812579548900719,
          -0.7037293013550847,
          0.3301009805558109,
          -1.6682715548955656,
          -0.5264304897415376,
          1.7786623314897354,
          0.08480322344048465,
          -0.9894575910807079,
          -0.6439454455787141,
          0.3532004796723608,
          -0.8274164104569124,
          -1.4936469024672425,
          -1.098119458352122,
          0.3359393018625474,
          -0.7913022006639495,
          0.4786980437487143,
          -0.06091557618027851,
          -0.8692385683549835,
          0.740960427595297,
          0.455549182852374,
          0.5109694916206015,
          -0.1498626427348044,
          1.6363708541023787,
          -0.42878290153449566,
          0.7050625674866938,
          -0.8983136534757796,
          -0.0352934325531089,
          -0.26314957187421667,
          -0.6158653409088861,
          0.7635530856460303,
          0.7551151722237617,
          -0.2213995845641046,
          0.670924714055657,
          0.2975795439836924,
          0.6040090013886447,
          -0.3941627300692083,
          0.8109266800499798,
          -0.5948765923255269,
          -0.8475615283178858,
          -0.4422235713998791,
          -0.0017861220796952838,
          -0.02908560937847064,
          0.9115052490577542,
          -0.1889504278134778
         ]
        },
        {
         "boxpoints": false,
         "line": {
          "width": 1.3
         },
         "marker": {
          "color": "rgba(50, 171, 96, 1.0)"
         },
         "name": "C",
         "orientation": "v",
         "type": "box",
         "y": [
          -0.3753228010573993,
          1.858129575474277,
          -0.410338179001649,
          0.06578969746370358,
          0.02812693570402251,
          -0.4959420275610195,
          0.8245449967185711,
          0.8970874856189467,
          0.4342376261779318,
          -1.6091052459307453,
          0.10184110231934021,
          -0.32789649319607544,
          -0.14231212741311852,
          -2.2402585402238167,
          -0.3783759284288644,
          1.2294658269371008,
          -1.0970226066162452,
          0.3949060328821529,
          -1.132296672987899,
          1.4279325357338581,
          0.4238269504118731,
          -0.008926958075053124,
          2.424574010497762,
          -0.9328386620541995,
          0.5414467385750422,
          -0.9314591609922944,
          0.052633016753005656,
          -0.12576691211142352,
          0.6847643753519642,
          -1.2974907918066008,
          -0.7696913172305885,
          -0.9136269413259297,
          -1.545713162635616,
          0.4161387135306835,
          -0.10200530663667176,
          -2.4327974954223865,
          -0.05321917349328707,
          -0.6328615429733635,
          -0.6744681332884495,
          -0.24925962268233195,
          0.38919561182835344,
          0.8049393690481663,
          1.4458933582231004,
          -1.6221275727873135,
          -0.6976194079398013,
          0.48272843420133904,
          1.148385401939861,
          0.14765539629373253,
          0.59007658295707,
          0.3731507780312944,
          0.6241960978758901,
          0.1095484823920591,
          0.45064294773707103,
          -0.1722019130125348,
          0.6009314982453949,
          -1.172349887740591,
          -1.4475847318474597,
          0.6900589918064277,
          1.5964645228105674,
          0.2702345716396932,
          0.2981014047026115,
          0.22148674540187993,
          0.9582094304926657,
          0.7435627424755311,
          0.9869096239364953,
          0.8357176148687951,
          -0.16316499409709204,
          1.2614625645977382,
          1.1761086437007806,
          -0.7674673954835308,
          -1.6303511184250903,
          -0.4619167546539699,
          1.168306445699756,
          0.2299046603383653,
          -0.9950985765275402,
          1.552482036186919,
          0.041378516482204634,
          -0.05402766256180481,
          -0.9055172178998108,
          0.9422362872900651,
          -0.22669546984099972,
          -1.6094780444493595,
          -0.7415029913765331,
          -0.37541987485767153,
          -0.05750943247085447,
          0.14487771319822293,
          0.08763028003387387,
          -1.304855717147345,
          0.08655745541765933,
          0.7653324221178338,
          -0.2898753934127883,
          -0.8177000003282332,
          1.0131080962274233,
          2.1381429648324444,
          -0.7194002707524055,
          -0.6339893868374737,
          1.5523038248212073,
          2.1409810569211465,
          -1.1856906691572626,
          -0.9166628496982585
         ]
        },
        {
         "boxpoints": false,
         "line": {
          "width": 1.3
         },
         "marker": {
          "color": "rgba(128, 0, 128, 1.0)"
         },
         "name": "D",
         "orientation": "v",
         "type": "box",
         "y": [
          2.013306412940443,
          -0.546359007082015,
          -1.7358315419013177,
          0.30103014281966867,
          0.5746072563282305,
          -1.4683629011121622,
          0.5433898110049855,
          -0.4705383955933248,
          -0.5811949410421311,
          -0.26159351696635313,
          -0.5043934914972953,
          0.9563554543819979,
          -0.08123950952249014,
          -1.2868499631647008,
          0.09783539747168195,
          0.9545658411093363,
          0.5245848175306133,
          0.3380350670194684,
          -1.4512106655645505,
          -1.281981400206145,
          -1.308167115357359,
          -0.35971045477861996,
          -0.512420043415833,
          -1.251905065483918,
          -0.8531422464828465,
          1.7341768531601454,
          0.038559351769476974,
          0.25191655836668336,
          -0.7303094209929796,
          1.7073604597804095,
          0.6386004345852292,
          -1.2311390362296117,
          -1.7755482716441562,
          1.9988565931832505,
          -2.0632775649910777,
          -0.21049229262690292,
          -1.8778805246002777,
          0.6525592916215323,
          -0.7997056429463001,
          -1.1757248916738905,
          -1.1359675326188294,
          -1.5935276916117505,
          0.041970134548078734,
          -0.3762072173207476,
          -0.36614637268815997,
          0.3182567706749178,
          -0.9132663471931876,
          1.0913725038434774,
          0.4771002710613205,
          0.47771941217539,
          2.5098980414141354,
          0.8084513541777368,
          0.6425955767501527,
          -0.12545797075193033,
          -0.568183437787671,
          0.39032519349837813,
          1.2767458147189956,
          0.8626422744060817,
          1.347223013704634,
          0.8376804724224781,
          1.217008455633511,
          -2.703109035744153,
          -0.9823449596702638,
          1.0215461583447056,
          0.27851803283081566,
          1.535145160250474,
          -1.4654834864491812,
          2.629129758597347,
          0.06586344585141272,
          1.8509978941094412,
          -1.2542237800052558,
          0.6693318373123142,
          0.2323479216721576,
          -2.423542526904085,
          1.3037205182045077,
          -0.8483692836455508,
          -1.146158764120612,
          -1.8277110038885906,
          1.0518143856691187,
          -0.6592324129786179,
          0.57230639271418,
          -0.9879612155120544,
          -0.5286940017556415,
          1.8231001217684917,
          0.9581230817567549,
          0.8491335328189504,
          -0.6629866808294782,
          0.2120136137861718,
          -0.41367427410916635,
          -1.9095340910520697,
          -0.18012523161650384,
          0.8276139682214836,
          0.24466091808603413,
          1.922611906807397,
          1.1926326949465051,
          -0.056344368898362765,
          0.35688581746126197,
          0.26450865748555785,
          -2.0455276522260277,
          -0.7505010965986343
         ]
        }
       ],
       "layout": {
        "autosize": true,
        "legend": {
         "bgcolor": "#F5F6F9",
         "font": {
          "color": "#4D5663"
         }
        },
        "paper_bgcolor": "#F5F6F9",
        "plot_bgcolor": "#F5F6F9",
        "template": {
         "data": {
          "bar": [
           {
            "error_x": {
             "color": "#2a3f5f"
            },
            "error_y": {
             "color": "#2a3f5f"
            },
            "marker": {
             "line": {
              "color": "#E5ECF6",
              "width": 0.5
             },
             "pattern": {
              "fillmode": "overlay",
              "size": 10,
              "solidity": 0.2
             }
            },
            "type": "bar"
           }
          ],
          "barpolar": [
           {
            "marker": {
             "line": {
              "color": "#E5ECF6",
              "width": 0.5
             },
             "pattern": {
              "fillmode": "overlay",
              "size": 10,
              "solidity": 0.2
             }
            },
            "type": "barpolar"
           }
          ],
          "carpet": [
           {
            "aaxis": {
             "endlinecolor": "#2a3f5f",
             "gridcolor": "white",
             "linecolor": "white",
             "minorgridcolor": "white",
             "startlinecolor": "#2a3f5f"
            },
            "baxis": {
             "endlinecolor": "#2a3f5f",
             "gridcolor": "white",
             "linecolor": "white",
             "minorgridcolor": "white",
             "startlinecolor": "#2a3f5f"
            },
            "type": "carpet"
           }
          ],
          "choropleth": [
           {
            "colorbar": {
             "outlinewidth": 0,
             "ticks": ""
            },
            "type": "choropleth"
           }
          ],
          "contour": [
           {
            "colorbar": {
             "outlinewidth": 0,
             "ticks": ""
            },
            "colorscale": [
             [
              0,
              "#0d0887"
             ],
             [
              0.1111111111111111,
              "#46039f"
             ],
             [
              0.2222222222222222,
              "#7201a8"
             ],
             [
              0.3333333333333333,
              "#9c179e"
             ],
             [
              0.4444444444444444,
              "#bd3786"
             ],
             [
              0.5555555555555556,
              "#d8576b"
             ],
             [
              0.6666666666666666,
              "#ed7953"
             ],
             [
              0.7777777777777778,
              "#fb9f3a"
             ],
             [
              0.8888888888888888,
              "#fdca26"
             ],
             [
              1,
              "#f0f921"
             ]
            ],
            "type": "contour"
           }
          ],
          "contourcarpet": [
           {
            "colorbar": {
             "outlinewidth": 0,
             "ticks": ""
            },
            "type": "contourcarpet"
           }
          ],
          "heatmap": [
           {
            "colorbar": {
             "outlinewidth": 0,
             "ticks": ""
            },
            "colorscale": [
             [
              0,
              "#0d0887"
             ],
             [
              0.1111111111111111,
              "#46039f"
             ],
             [
              0.2222222222222222,
              "#7201a8"
             ],
             [
              0.3333333333333333,
              "#9c179e"
             ],
             [
              0.4444444444444444,
              "#bd3786"
             ],
             [
              0.5555555555555556,
              "#d8576b"
             ],
             [
              0.6666666666666666,
              "#ed7953"
             ],
             [
              0.7777777777777778,
              "#fb9f3a"
             ],
             [
              0.8888888888888888,
              "#fdca26"
             ],
             [
              1,
              "#f0f921"
             ]
            ],
            "type": "heatmap"
           }
          ],
          "heatmapgl": [
           {
            "colorbar": {
             "outlinewidth": 0,
             "ticks": ""
            },
            "colorscale": [
             [
              0,
              "#0d0887"
             ],
             [
              0.1111111111111111,
              "#46039f"
             ],
             [
              0.2222222222222222,
              "#7201a8"
             ],
             [
              0.3333333333333333,
              "#9c179e"
             ],
             [
              0.4444444444444444,
              "#bd3786"
             ],
             [
              0.5555555555555556,
              "#d8576b"
             ],
             [
              0.6666666666666666,
              "#ed7953"
             ],
             [
              0.7777777777777778,
              "#fb9f3a"
             ],
             [
              0.8888888888888888,
              "#fdca26"
             ],
             [
              1,
              "#f0f921"
             ]
            ],
            "type": "heatmapgl"
           }
          ],
          "histogram": [
           {
            "marker": {
             "pattern": {
              "fillmode": "overlay",
              "size": 10,
              "solidity": 0.2
             }
            },
            "type": "histogram"
           }
          ],
          "histogram2d": [
           {
            "colorbar": {
             "outlinewidth": 0,
             "ticks": ""
            },
            "colorscale": [
             [
              0,
              "#0d0887"
             ],
             [
              0.1111111111111111,
              "#46039f"
             ],
             [
              0.2222222222222222,
              "#7201a8"
             ],
             [
              0.3333333333333333,
              "#9c179e"
             ],
             [
              0.4444444444444444,
              "#bd3786"
             ],
             [
              0.5555555555555556,
              "#d8576b"
             ],
             [
              0.6666666666666666,
              "#ed7953"
             ],
             [
              0.7777777777777778,
              "#fb9f3a"
             ],
             [
              0.8888888888888888,
              "#fdca26"
             ],
             [
              1,
              "#f0f921"
             ]
            ],
            "type": "histogram2d"
           }
          ],
          "histogram2dcontour": [
           {
            "colorbar": {
             "outlinewidth": 0,
             "ticks": ""
            },
            "colorscale": [
             [
              0,
              "#0d0887"
             ],
             [
              0.1111111111111111,
              "#46039f"
             ],
             [
              0.2222222222222222,
              "#7201a8"
             ],
             [
              0.3333333333333333,
              "#9c179e"
             ],
             [
              0.4444444444444444,
              "#bd3786"
             ],
             [
              0.5555555555555556,
              "#d8576b"
             ],
             [
              0.6666666666666666,
              "#ed7953"
             ],
             [
              0.7777777777777778,
              "#fb9f3a"
             ],
             [
              0.8888888888888888,
              "#fdca26"
             ],
             [
              1,
              "#f0f921"
             ]
            ],
            "type": "histogram2dcontour"
           }
          ],
          "mesh3d": [
           {
            "colorbar": {
             "outlinewidth": 0,
             "ticks": ""
            },
            "type": "mesh3d"
           }
          ],
          "parcoords": [
           {
            "line": {
             "colorbar": {
              "outlinewidth": 0,
              "ticks": ""
             }
            },
            "type": "parcoords"
           }
          ],
          "pie": [
           {
            "automargin": true,
            "type": "pie"
           }
          ],
          "scatter": [
           {
            "fillpattern": {
             "fillmode": "overlay",
             "size": 10,
             "solidity": 0.2
            },
            "type": "scatter"
           }
          ],
          "scatter3d": [
           {
            "line": {
             "colorbar": {
              "outlinewidth": 0,
              "ticks": ""
             }
            },
            "marker": {
             "colorbar": {
              "outlinewidth": 0,
              "ticks": ""
             }
            },
            "type": "scatter3d"
           }
          ],
          "scattercarpet": [
           {
            "marker": {
             "colorbar": {
              "outlinewidth": 0,
              "ticks": ""
             }
            },
            "type": "scattercarpet"
           }
          ],
          "scattergeo": [
           {
            "marker": {
             "colorbar": {
              "outlinewidth": 0,
              "ticks": ""
             }
            },
            "type": "scattergeo"
           }
          ],
          "scattergl": [
           {
            "marker": {
             "colorbar": {
              "outlinewidth": 0,
              "ticks": ""
             }
            },
            "type": "scattergl"
           }
          ],
          "scattermapbox": [
           {
            "marker": {
             "colorbar": {
              "outlinewidth": 0,
              "ticks": ""
             }
            },
            "type": "scattermapbox"
           }
          ],
          "scatterpolar": [
           {
            "marker": {
             "colorbar": {
              "outlinewidth": 0,
              "ticks": ""
             }
            },
            "type": "scatterpolar"
           }
          ],
          "scatterpolargl": [
           {
            "marker": {
             "colorbar": {
              "outlinewidth": 0,
              "ticks": ""
             }
            },
            "type": "scatterpolargl"
           }
          ],
          "scatterternary": [
           {
            "marker": {
             "colorbar": {
              "outlinewidth": 0,
              "ticks": ""
             }
            },
            "type": "scatterternary"
           }
          ],
          "surface": [
           {
            "colorbar": {
             "outlinewidth": 0,
             "ticks": ""
            },
            "colorscale": [
             [
              0,
              "#0d0887"
             ],
             [
              0.1111111111111111,
              "#46039f"
             ],
             [
              0.2222222222222222,
              "#7201a8"
             ],
             [
              0.3333333333333333,
              "#9c179e"
             ],
             [
              0.4444444444444444,
              "#bd3786"
             ],
             [
              0.5555555555555556,
              "#d8576b"
             ],
             [
              0.6666666666666666,
              "#ed7953"
             ],
             [
              0.7777777777777778,
              "#fb9f3a"
             ],
             [
              0.8888888888888888,
              "#fdca26"
             ],
             [
              1,
              "#f0f921"
             ]
            ],
            "type": "surface"
           }
          ],
          "table": [
           {
            "cells": {
             "fill": {
              "color": "#EBF0F8"
             },
             "line": {
              "color": "white"
             }
            },
            "header": {
             "fill": {
              "color": "#C8D4E3"
             },
             "line": {
              "color": "white"
             }
            },
            "type": "table"
           }
          ]
         },
         "layout": {
          "annotationdefaults": {
           "arrowcolor": "#2a3f5f",
           "arrowhead": 0,
           "arrowwidth": 1
          },
          "autotypenumbers": "strict",
          "coloraxis": {
           "colorbar": {
            "outlinewidth": 0,
            "ticks": ""
           }
          },
          "colorscale": {
           "diverging": [
            [
             0,
             "#8e0152"
            ],
            [
             0.1,
             "#c51b7d"
            ],
            [
             0.2,
             "#de77ae"
            ],
            [
             0.3,
             "#f1b6da"
            ],
            [
             0.4,
             "#fde0ef"
            ],
            [
             0.5,
             "#f7f7f7"
            ],
            [
             0.6,
             "#e6f5d0"
            ],
            [
             0.7,
             "#b8e186"
            ],
            [
             0.8,
             "#7fbc41"
            ],
            [
             0.9,
             "#4d9221"
            ],
            [
             1,
             "#276419"
            ]
           ],
           "sequential": [
            [
             0,
             "#0d0887"
            ],
            [
             0.1111111111111111,
             "#46039f"
            ],
            [
             0.2222222222222222,
             "#7201a8"
            ],
            [
             0.3333333333333333,
             "#9c179e"
            ],
            [
             0.4444444444444444,
             "#bd3786"
            ],
            [
             0.5555555555555556,
             "#d8576b"
            ],
            [
             0.6666666666666666,
             "#ed7953"
            ],
            [
             0.7777777777777778,
             "#fb9f3a"
            ],
            [
             0.8888888888888888,
             "#fdca26"
            ],
            [
             1,
             "#f0f921"
            ]
           ],
           "sequentialminus": [
            [
             0,
             "#0d0887"
            ],
            [
             0.1111111111111111,
             "#46039f"
            ],
            [
             0.2222222222222222,
             "#7201a8"
            ],
            [
             0.3333333333333333,
             "#9c179e"
            ],
            [
             0.4444444444444444,
             "#bd3786"
            ],
            [
             0.5555555555555556,
             "#d8576b"
            ],
            [
             0.6666666666666666,
             "#ed7953"
            ],
            [
             0.7777777777777778,
             "#fb9f3a"
            ],
            [
             0.8888888888888888,
             "#fdca26"
            ],
            [
             1,
             "#f0f921"
            ]
           ]
          },
          "colorway": [
           "#636efa",
           "#EF553B",
           "#00cc96",
           "#ab63fa",
           "#FFA15A",
           "#19d3f3",
           "#FF6692",
           "#B6E880",
           "#FF97FF",
           "#FECB52"
          ],
          "font": {
           "color": "#2a3f5f"
          },
          "geo": {
           "bgcolor": "white",
           "lakecolor": "white",
           "landcolor": "#E5ECF6",
           "showlakes": true,
           "showland": true,
           "subunitcolor": "white"
          },
          "hoverlabel": {
           "align": "left"
          },
          "hovermode": "closest",
          "mapbox": {
           "style": "light"
          },
          "paper_bgcolor": "white",
          "plot_bgcolor": "#E5ECF6",
          "polar": {
           "angularaxis": {
            "gridcolor": "white",
            "linecolor": "white",
            "ticks": ""
           },
           "bgcolor": "#E5ECF6",
           "radialaxis": {
            "gridcolor": "white",
            "linecolor": "white",
            "ticks": ""
           }
          },
          "scene": {
           "xaxis": {
            "backgroundcolor": "#E5ECF6",
            "gridcolor": "white",
            "gridwidth": 2,
            "linecolor": "white",
            "showbackground": true,
            "ticks": "",
            "zerolinecolor": "white"
           },
           "yaxis": {
            "backgroundcolor": "#E5ECF6",
            "gridcolor": "white",
            "gridwidth": 2,
            "linecolor": "white",
            "showbackground": true,
            "ticks": "",
            "zerolinecolor": "white"
           },
           "zaxis": {
            "backgroundcolor": "#E5ECF6",
            "gridcolor": "white",
            "gridwidth": 2,
            "linecolor": "white",
            "showbackground": true,
            "ticks": "",
            "zerolinecolor": "white"
           }
          },
          "shapedefaults": {
           "line": {
            "color": "#2a3f5f"
           }
          },
          "ternary": {
           "aaxis": {
            "gridcolor": "white",
            "linecolor": "white",
            "ticks": ""
           },
           "baxis": {
            "gridcolor": "white",
            "linecolor": "white",
            "ticks": ""
           },
           "bgcolor": "#E5ECF6",
           "caxis": {
            "gridcolor": "white",
            "linecolor": "white",
            "ticks": ""
           }
          },
          "title": {
           "x": 0.05
          },
          "xaxis": {
           "automargin": true,
           "gridcolor": "white",
           "linecolor": "white",
           "ticks": "",
           "title": {
            "standoff": 15
           },
           "zerolinecolor": "white",
           "zerolinewidth": 2
          },
          "yaxis": {
           "automargin": true,
           "gridcolor": "white",
           "linecolor": "white",
           "ticks": "",
           "title": {
            "standoff": 15
           },
           "zerolinecolor": "white",
           "zerolinewidth": 2
          }
         }
        },
        "title": {
         "font": {
          "color": "#4D5663"
         }
        },
        "xaxis": {
         "autorange": true,
         "gridcolor": "#E1E5ED",
         "range": [
          -0.5,
          3.5
         ],
         "showgrid": true,
         "tickfont": {
          "color": "#4D5663"
         },
         "title": {
          "font": {
           "color": "#4D5663"
          },
          "text": ""
         },
         "type": "category",
         "zerolinecolor": "#E1E5ED"
        },
        "yaxis": {
         "autorange": true,
         "gridcolor": "#E1E5ED",
         "range": [
          -3.0131558842824777,
          3.1877810864840157
         ],
         "showgrid": true,
         "tickfont": {
          "color": "#4D5663"
         },
         "title": {
          "font": {
           "color": "#4D5663"
          },
          "text": ""
         },
         "type": "linear",
         "zerolinecolor": "#E1E5ED"
        }
       }
      },
      "image/png": "[encoded data removed]",
      "text/html": [
       "<div>                            <div id=\"20a85cbd-1e46-42dd-b019-4e8627ffb37f\" class=\"plotly-graph-div\" style=\"height:525px; width:100%;\"></div>            <script type=\"text/javascript\">                require([\"plotly\"], function(Plotly) {                    window.PLOTLYENV=window.PLOTLYENV || {};\n",
       "                    window.PLOTLYENV.BASE_URL='https://plot.ly';                                    if (document.getElementById(\"20a85cbd-1e46-42dd-b019-4e8627ffb37f\")) {                    Plotly.newPlot(                        \"20a85cbd-1e46-42dd-b019-4e8627ffb37f\",                        [{\"boxpoints\":false,\"line\":{\"width\":1.3},\"marker\":{\"color\":\"rgba(255, 153, 51, 1.0)\"},\"name\":\"A\",\"orientation\":\"v\",\"y\":[0.5528846479247638,-2.398205930119027,-0.3028121147097552,0.4955055579660399,-0.8031139027427731,-1.0439615893646255,1.6840254798100713,-1.2270555973290076,0.03836565760442624,-0.7119933256566789,1.306205741116208,-0.298729867404561,-0.7626919498830378,-0.6865924844463516,0.40668760667413334,0.4591508148789853,-0.47679836895868144,0.12238283386054362,-0.2519742371876982,-0.5350962519073955,0.9495119626283427,1.317827160891446,0.06555116071136115,0.49179795262488285,0.10062406066380053,0.32118901639531455,-0.211126656422741,1.0841690624860194,0.3892873236104735,0.37450011731539384,0.7387478968533783,1.645689502745466,-0.07196554987844637,0.23900174535492802,0.6409689628833247,1.4639297982677268,1.3740544669976316,0.028651022122856213,0.7132598611898975,-0.4669090564868793,-0.09442894209417246,1.0368611520075945,1.2363172261610667,0.3824133876492034,1.3545419182200922,1.1829339768784208,-0.19995253590227513,0.27672726185968394,0.000979222163437031,1.1198026754737844,0.2413950682021842,-0.9897486524611538,0.969790314908981,-0.7233597095313674,0.8537501041961911,-0.33290215549787927,-0.2103438556569867,-0.466192267738929,-1.1823537998364433,1.851959835464232,-1.2308259465982763,2.4622169560603697,0.9465961004381525,-2.1211974351879124,0.5863806468807722,-0.6106802223716836,-0.604000303410238,-2.0524370532876093,0.09028238740701096,-0.2324593934384782,1.019924496688148,1.1891483232697713,0.4713522395845208,0.47272716034600604,-1.3138557741641002,-1.3422754707240987,-0.1202028018800572,0.3874772662295193,0.011290612252812894,-1.2153978471663942,0.22593818094665838,0.032367283112389796,0.33515367135340945,0.8229895475611503,-1.9283577588198613,-0.2864119360756065,1.6941256129076236,-0.6245918701287434,-1.2634541802059043,-1.1407703435522039,0.7356260860775407,-0.29457276598016724,0.2839443237372972,0.935454658824385,2.877734237945691,-1.1702742402057313,-1.4944762966648328,-1.2815063454992062,-0.9770578514226053,1.3034403383361466],\"type\":\"box\"},{\"boxpoints\":false,\"line\":{\"width\":1.3},\"marker\":{\"color\":\"rgba(55, 128, 191, 1.0)\"},\"name\":\"B\",\"orientation\":\"v\",\"y\":[1.5221338266976558,0.37112679507706564,0.36603957292691625,0.29252692212843173,0.036180660230443626,-0.7132962320772471,0.9141168083341438,-0.31192340367024846,-0.4825095769901552,0.16428901034785823,-0.14475789553589113,-1.0352430195694506,-1.5284693687654274,0.681164249488606,-0.564706140357884,1.4755447264649455,-0.32321602983062203,-0.7450592141304335,-0.7966035904657918,-0.1773245865098007,-1.126571722363632,0.9150626029671826,-1.091207438666216,0.8506294575866586,0.12371120342549463,-0.21731773112055477,-1.1130142266214658,0.5876701597506964,-0.5459226254608572,1.061672954810636,0.09446784284243107,-0.6829616273707716,0.9993656743472096,-0.5238729745094756,-0.9232682602030104,-1.1399099972844873,1.4177239382333449,-1.2385489459203411,0.9139327716213272,-0.1950190652257846,-0.7232280071985164,0.7178925572634225,-0.3869231850219358,-1.1110851121638883,0.5109203316297612,-1.0237058951468863,0.2777672213480589,0.9089347935577019,-0.47784841609201906,-0.18572038347878303,0.8181607377617439,-0.1555509408673983,1.6178024580284072,0.3168010772059872,-0.2344649450137472,-0.662325975502222,0.6812579548900719,-0.7037293013550847,0.3301009805558109,-1.6682715548955656,-0.5264304897415376,1.7786623314897354,0.08480322344048465,-0.9894575910807079,-0.6439454455787141,0.3532004796723608,-0.8274164104569124,-1.4936469024672425,-1.098119458352122,0.3359393018625474,-0.7913022006639495,0.4786980437487143,-0.06091557618027851,-0.8692385683549835,0.740960427595297,0.455549182852374,0.5109694916206015,-0.1498626427348044,1.6363708541023787,-0.42878290153449566,0.7050625674866938,-0.8983136534757796,-0.0352934325531089,-0.26314957187421667,-0.6158653409088861,0.7635530856460303,0.7551151722237617,-0.2213995845641046,0.670924714055657,0.2975795439836924,0.6040090013886447,-0.3941627300692083,0.8109266800499798,-0.5948765923255269,-0.8475615283178858,-0.4422235713998791,-0.0017861220796952838,-0.02908560937847064,0.9115052490577542,-0.1889504278134778],\"type\":\"box\"},{\"boxpoints\":false,\"line\":{\"width\":1.3},\"marker\":{\"color\":\"rgba(50, 171, 96, 1.0)\"},\"name\":\"C\",\"orientation\":\"v\",\"y\":[-0.3753228010573993,1.858129575474277,-0.410338179001649,0.06578969746370358,0.02812693570402251,-0.4959420275610195,0.8245449967185711,0.8970874856189467,0.4342376261779318,-1.6091052459307453,0.10184110231934021,-0.32789649319607544,-0.14231212741311852,-2.2402585402238167,-0.3783759284288644,1.2294658269371008,-1.0970226066162452,0.3949060328821529,-1.132296672987899,1.4279325357338581,0.4238269504118731,-0.008926958075053124,2.424574010497762,-0.9328386620541995,0.5414467385750422,-0.9314591609922944,0.052633016753005656,-0.12576691211142352,0.6847643753519642,-1.2974907918066008,-0.7696913172305885,-0.9136269413259297,-1.545713162635616,0.4161387135306835,-0.10200530663667176,-2.4327974954223865,-0.05321917349328707,-0.6328615429733635,-0.6744681332884495,-0.24925962268233195,0.38919561182835344,0.8049393690481663,1.4458933582231004,-1.6221275727873135,-0.6976194079398013,0.48272843420133904,1.148385401939861,0.14765539629373253,0.59007658295707,0.3731507780312944,0.6241960978758901,0.1095484823920591,0.45064294773707103,-0.1722019130125348,0.6009314982453949,-1.172349887740591,-1.4475847318474597,0.6900589918064277,1.5964645228105674,0.2702345716396932,0.2981014047026115,0.22148674540187993,0.9582094304926657,0.7435627424755311,0.9869096239364953,0.8357176148687951,-0.16316499409709204,1.2614625645977382,1.1761086437007806,-0.7674673954835308,-1.6303511184250903,-0.4619167546539699,1.168306445699756,0.2299046603383653,-0.9950985765275402,1.552482036186919,0.041378516482204634,-0.05402766256180481,-0.9055172178998108,0.9422362872900651,-0.22669546984099972,-1.6094780444493595,-0.7415029913765331,-0.37541987485767153,-0.05750943247085447,0.14487771319822293,0.08763028003387387,-1.304855717147345,0.08655745541765933,0.7653324221178338,-0.2898753934127883,-0.8177000003282332,1.0131080962274233,2.1381429648324444,-0.7194002707524055,-0.6339893868374737,1.5523038248212073,2.1409810569211465,-1.1856906691572626,-0.9166628496982585],\"type\":\"box\"},{\"boxpoints\":false,\"line\":{\"width\":1.3},\"marker\":{\"color\":\"rgba(128, 0, 128, 1.0)\"},\"name\":\"D\",\"orientation\":\"v\",\"y\":[2.013306412940443,-0.546359007082015,-1.7358315419013177,0.30103014281966867,0.5746072563282305,-1.4683629011121622,0.5433898110049855,-0.4705383955933248,-0.5811949410421311,-0.26159351696635313,-0.5043934914972953,0.9563554543819979,-0.08123950952249014,-1.2868499631647008,0.09783539747168195,0.9545658411093363,0.5245848175306133,0.3380350670194684,-1.4512106655645505,-1.281981400206145,-1.308167115357359,-0.35971045477861996,-0.512420043415833,-1.251905065483918,-0.8531422464828465,1.7341768531601454,0.038559351769476974,0.25191655836668336,-0.7303094209929796,1.7073604597804095,0.6386004345852292,-1.2311390362296117,-1.7755482716441562,1.9988565931832505,-2.0632775649910777,-0.21049229262690292,-1.8778805246002777,0.6525592916215323,-0.7997056429463001,-1.1757248916738905,-1.1359675326188294,-1.5935276916117505,0.041970134548078734,-0.3762072173207476,-0.36614637268815997,0.3182567706749178,-0.9132663471931876,1.0913725038434774,0.4771002710613205,0.47771941217539,2.5098980414141354,0.8084513541777368,0.6425955767501527,-0.12545797075193033,-0.568183437787671,0.39032519349837813,1.2767458147189956,0.8626422744060817,1.347223013704634,0.8376804724224781,1.217008455633511,-2.703109035744153,-0.9823449596702638,1.0215461583447056,0.27851803283081566,1.535145160250474,-1.4654834864491812,2.629129758597347,0.06586344585141272,1.8509978941094412,-1.2542237800052558,0.6693318373123142,0.2323479216721576,-2.423542526904085,1.3037205182045077,-0.8483692836455508,-1.146158764120612,-1.8277110038885906,1.0518143856691187,-0.6592324129786179,0.57230639271418,-0.9879612155120544,-0.5286940017556415,1.8231001217684917,0.9581230817567549,0.8491335328189504,-0.6629866808294782,0.2120136137861718,-0.41367427410916635,-1.9095340910520697,-0.18012523161650384,0.8276139682214836,0.24466091808603413,1.922611906807397,1.1926326949465051,-0.056344368898362765,0.35688581746126197,0.26450865748555785,-2.0455276522260277,-0.7505010965986343],\"type\":\"box\"}],                        {\"legend\":{\"bgcolor\":\"#F5F6F9\",\"font\":{\"color\":\"#4D5663\"}},\"paper_bgcolor\":\"#F5F6F9\",\"plot_bgcolor\":\"#F5F6F9\",\"template\":{\"data\":{\"barpolar\":[{\"marker\":{\"line\":{\"color\":\"#E5ECF6\",\"width\":0.5},\"pattern\":{\"fillmode\":\"overlay\",\"size\":10,\"solidity\":0.2}},\"type\":\"barpolar\"}],\"bar\":[{\"error_x\":{\"color\":\"#2a3f5f\"},\"error_y\":{\"color\":\"#2a3f5f\"},\"marker\":{\"line\":{\"color\":\"#E5ECF6\",\"width\":0.5},\"pattern\":{\"fillmode\":\"overlay\",\"size\":10,\"solidity\":0.2}},\"type\":\"bar\"}],\"carpet\":[{\"aaxis\":{\"endlinecolor\":\"#2a3f5f\",\"gridcolor\":\"white\",\"linecolor\":\"white\",\"minorgridcolor\":\"white\",\"startlinecolor\":\"#2a3f5f\"},\"baxis\":{\"endlinecolor\":\"#2a3f5f\",\"gridcolor\":\"white\",\"linecolor\":\"white\",\"minorgridcolor\":\"white\",\"startlinecolor\":\"#2a3f5f\"},\"type\":\"carpet\"}],\"choropleth\":[{\"colorbar\":{\"outlinewidth\":0,\"ticks\":\"\"},\"type\":\"choropleth\"}],\"contourcarpet\":[{\"colorbar\":{\"outlinewidth\":0,\"ticks\":\"\"},\"type\":\"contourcarpet\"}],\"contour\":[{\"colorbar\":{\"outlinewidth\":0,\"ticks\":\"\"},\"colorscale\":[[0.0,\"#0d0887\"],[0.1111111111111111,\"#46039f\"],[0.2222222222222222,\"#7201a8\"],[0.3333333333333333,\"#9c179e\"],[0.4444444444444444,\"#bd3786\"],[0.5555555555555556,\"#d8576b\"],[0.6666666666666666,\"#ed7953\"],[0.7777777777777778,\"#fb9f3a\"],[0.8888888888888888,\"#fdca26\"],[1.0,\"#f0f921\"]],\"type\":\"contour\"}],\"heatmapgl\":[{\"colorbar\":{\"outlinewidth\":0,\"ticks\":\"\"},\"colorscale\":[[0.0,\"#0d0887\"],[0.1111111111111111,\"#46039f\"],[0.2222222222222222,\"#7201a8\"],[0.3333333333333333,\"#9c179e\"],[0.4444444444444444,\"#bd3786\"],[0.5555555555555556,\"#d8576b\"],[0.6666666666666666,\"#ed7953\"],[0.7777777777777778,\"#fb9f3a\"],[0.8888888888888888,\"#fdca26\"],[1.0,\"#f0f921\"]],\"type\":\"heatmapgl\"}],\"heatmap\":[{\"colorbar\":{\"outlinewidth\":0,\"ticks\":\"\"},\"colorscale\":[[0.0,\"#0d0887\"],[0.1111111111111111,\"#46039f\"],[0.2222222222222222,\"#7201a8\"],[0.3333333333333333,\"#9c179e\"],[0.4444444444444444,\"#bd3786\"],[0.5555555555555556,\"#d8576b\"],[0.6666666666666666,\"#ed7953\"],[0.7777777777777778,\"#fb9f3a\"],[0.8888888888888888,\"#fdca26\"],[1.0,\"#f0f921\"]],\"type\":\"heatmap\"}],\"histogram2dcontour\":[{\"colorbar\":{\"outlinewidth\":0,\"ticks\":\"\"},\"colorscale\":[[0.0,\"#0d0887\"],[0.1111111111111111,\"#46039f\"],[0.2222222222222222,\"#7201a8\"],[0.3333333333333333,\"#9c179e\"],[0.4444444444444444,\"#bd3786\"],[0.5555555555555556,\"#d8576b\"],[0.6666666666666666,\"#ed7953\"],[0.7777777777777778,\"#fb9f3a\"],[0.8888888888888888,\"#fdca26\"],[1.0,\"#f0f921\"]],\"type\":\"histogram2dcontour\"}],\"histogram2d\":[{\"colorbar\":{\"outlinewidth\":0,\"ticks\":\"\"},\"colorscale\":[[0.0,\"#0d0887\"],[0.1111111111111111,\"#46039f\"],[0.2222222222222222,\"#7201a8\"],[0.3333333333333333,\"#9c179e\"],[0.4444444444444444,\"#bd3786\"],[0.5555555555555556,\"#d8576b\"],[0.6666666666666666,\"#ed7953\"],[0.7777777777777778,\"#fb9f3a\"],[0.8888888888888888,\"#fdca26\"],[1.0,\"#f0f921\"]],\"type\":\"histogram2d\"}],\"histogram\":[{\"marker\":{\"pattern\":{\"fillmode\":\"overlay\",\"size\":10,\"solidity\":0.2}},\"type\":\"histogram\"}],\"mesh3d\":[{\"colorbar\":{\"outlinewidth\":0,\"ticks\":\"\"},\"type\":\"mesh3d\"}],\"parcoords\":[{\"line\":{\"colorbar\":{\"outlinewidth\":0,\"ticks\":\"\"}},\"type\":\"parcoords\"}],\"pie\":[{\"automargin\":true,\"type\":\"pie\"}],\"scatter3d\":[{\"line\":{\"colorbar\":{\"outlinewidth\":0,\"ticks\":\"\"}},\"marker\":{\"colorbar\":{\"outlinewidth\":0,\"ticks\":\"\"}},\"type\":\"scatter3d\"}],\"scattercarpet\":[{\"marker\":{\"colorbar\":{\"outlinewidth\":0,\"ticks\":\"\"}},\"type\":\"scattercarpet\"}],\"scattergeo\":[{\"marker\":{\"colorbar\":{\"outlinewidth\":0,\"ticks\":\"\"}},\"type\":\"scattergeo\"}],\"scattergl\":[{\"marker\":{\"colorbar\":{\"outlinewidth\":0,\"ticks\":\"\"}},\"type\":\"scattergl\"}],\"scattermapbox\":[{\"marker\":{\"colorbar\":{\"outlinewidth\":0,\"ticks\":\"\"}},\"type\":\"scattermapbox\"}],\"scatterpolargl\":[{\"marker\":{\"colorbar\":{\"outlinewidth\":0,\"ticks\":\"\"}},\"type\":\"scatterpolargl\"}],\"scatterpolar\":[{\"marker\":{\"colorbar\":{\"outlinewidth\":0,\"ticks\":\"\"}},\"type\":\"scatterpolar\"}],\"scatter\":[{\"fillpattern\":{\"fillmode\":\"overlay\",\"size\":10,\"solidity\":0.2},\"type\":\"scatter\"}],\"scatterternary\":[{\"marker\":{\"colorbar\":{\"outlinewidth\":0,\"ticks\":\"\"}},\"type\":\"scatterternary\"}],\"surface\":[{\"colorbar\":{\"outlinewidth\":0,\"ticks\":\"\"},\"colorscale\":[[0.0,\"#0d0887\"],[0.1111111111111111,\"#46039f\"],[0.2222222222222222,\"#7201a8\"],[0.3333333333333333,\"#9c179e\"],[0.4444444444444444,\"#bd3786\"],[0.5555555555555556,\"#d8576b\"],[0.6666666666666666,\"#ed7953\"],[0.7777777777777778,\"#fb9f3a\"],[0.8888888888888888,\"#fdca26\"],[1.0,\"#f0f921\"]],\"type\":\"surface\"}],\"table\":[{\"cells\":{\"fill\":{\"color\":\"#EBF0F8\"},\"line\":{\"color\":\"white\"}},\"header\":{\"fill\":{\"color\":\"#C8D4E3\"},\"line\":{\"color\":\"white\"}},\"type\":\"table\"}]},\"layout\":{\"annotationdefaults\":{\"arrowcolor\":\"#2a3f5f\",\"arrowhead\":0,\"arrowwidth\":1},\"autotypenumbers\":\"strict\",\"coloraxis\":{\"colorbar\":{\"outlinewidth\":0,\"ticks\":\"\"}},\"colorscale\":{\"diverging\":[[0,\"#8e0152\"],[0.1,\"#c51b7d\"],[0.2,\"#de77ae\"],[0.3,\"#f1b6da\"],[0.4,\"#fde0ef\"],[0.5,\"#f7f7f7\"],[0.6,\"#e6f5d0\"],[0.7,\"#b8e186\"],[0.8,\"#7fbc41\"],[0.9,\"#4d9221\"],[1,\"#276419\"]],\"sequential\":[[0.0,\"#0d0887\"],[0.1111111111111111,\"#46039f\"],[0.2222222222222222,\"#7201a8\"],[0.3333333333333333,\"#9c179e\"],[0.4444444444444444,\"#bd3786\"],[0.5555555555555556,\"#d8576b\"],[0.6666666666666666,\"#ed7953\"],[0.7777777777777778,\"#fb9f3a\"],[0.8888888888888888,\"#fdca26\"],[1.0,\"#f0f921\"]],\"sequentialminus\":[[0.0,\"#0d0887\"],[0.1111111111111111,\"#46039f\"],[0.2222222222222222,\"#7201a8\"],[0.3333333333333333,\"#9c179e\"],[0.4444444444444444,\"#bd3786\"],[0.5555555555555556,\"#d8576b\"],[0.6666666666666666,\"#ed7953\"],[0.7777777777777778,\"#fb9f3a\"],[0.8888888888888888,\"#fdca26\"],[1.0,\"#f0f921\"]]},\"colorway\":[\"#636efa\",\"#EF553B\",\"#00cc96\",\"#ab63fa\",\"#FFA15A\",\"#19d3f3\",\"#FF6692\",\"#B6E880\",\"#FF97FF\",\"#FECB52\"],\"font\":{\"color\":\"#2a3f5f\"},\"geo\":{\"bgcolor\":\"white\",\"lakecolor\":\"white\",\"landcolor\":\"#E5ECF6\",\"showlakes\":true,\"showland\":true,\"subunitcolor\":\"white\"},\"hoverlabel\":{\"align\":\"left\"},\"hovermode\":\"closest\",\"mapbox\":{\"style\":\"light\"},\"paper_bgcolor\":\"white\",\"plot_bgcolor\":\"#E5ECF6\",\"polar\":{\"angularaxis\":{\"gridcolor\":\"white\",\"linecolor\":\"white\",\"ticks\":\"\"},\"bgcolor\":\"#E5ECF6\",\"radialaxis\":{\"gridcolor\":\"white\",\"linecolor\":\"white\",\"ticks\":\"\"}},\"scene\":{\"xaxis\":{\"backgroundcolor\":\"#E5ECF6\",\"gridcolor\":\"white\",\"gridwidth\":2,\"linecolor\":\"white\",\"showbackground\":true,\"ticks\":\"\",\"zerolinecolor\":\"white\"},\"yaxis\":{\"backgroundcolor\":\"#E5ECF6\",\"gridcolor\":\"white\",\"gridwidth\":2,\"linecolor\":\"white\",\"showbackground\":true,\"ticks\":\"\",\"zerolinecolor\":\"white\"},\"zaxis\":{\"backgroundcolor\":\"#E5ECF6\",\"gridcolor\":\"white\",\"gridwidth\":2,\"linecolor\":\"white\",\"showbackground\":true,\"ticks\":\"\",\"zerolinecolor\":\"white\"}},\"shapedefaults\":{\"line\":{\"color\":\"#2a3f5f\"}},\"ternary\":{\"aaxis\":{\"gridcolor\":\"white\",\"linecolor\":\"white\",\"ticks\":\"\"},\"baxis\":{\"gridcolor\":\"white\",\"linecolor\":\"white\",\"ticks\":\"\"},\"bgcolor\":\"#E5ECF6\",\"caxis\":{\"gridcolor\":\"white\",\"linecolor\":\"white\",\"ticks\":\"\"}},\"title\":{\"x\":0.05},\"xaxis\":{\"automargin\":true,\"gridcolor\":\"white\",\"linecolor\":\"white\",\"ticks\":\"\",\"title\":{\"standoff\":15},\"zerolinecolor\":\"white\",\"zerolinewidth\":2},\"yaxis\":{\"automargin\":true,\"gridcolor\":\"white\",\"linecolor\":\"white\",\"ticks\":\"\",\"title\":{\"standoff\":15},\"zerolinecolor\":\"white\",\"zerolinewidth\":2}}},\"title\":{\"font\":{\"color\":\"#4D5663\"}},\"xaxis\":{\"gridcolor\":\"#E1E5ED\",\"showgrid\":true,\"tickfont\":{\"color\":\"#4D5663\"},\"title\":{\"font\":{\"color\":\"#4D5663\"},\"text\":\"\"},\"zerolinecolor\":\"#E1E5ED\"},\"yaxis\":{\"gridcolor\":\"#E1E5ED\",\"showgrid\":true,\"tickfont\":{\"color\":\"#4D5663\"},\"title\":{\"font\":{\"color\":\"#4D5663\"},\"text\":\"\"},\"zerolinecolor\":\"#E1E5ED\"}},                        {\"showLink\": true, \"linkText\": \"Export to plot.ly\", \"plotlyServerURL\": \"https://plot.ly\", \"responsive\": true}                    ).then(function(){\n",
       "                            \n",
       "var gd = document.getElementById('20a85cbd-1e46-42dd-b019-4e8627ffb37f');\n",
       "var x = new MutationObserver(function (mutations, observer) {{\n",
       "        var display = window.getComputedStyle(gd).display;\n",
       "        if (!display || display === 'none') {{\n",
       "            console.log([gd, 'removed!']);\n",
       "            Plotly.purge(gd);\n",
       "            observer.disconnect();\n",
       "        }}\n",
       "}});\n",
       "\n",
       "// Listen for the removal of the full notebook cells\n",
       "var notebookContainer = gd.closest('#notebook-container');\n",
       "if (notebookContainer) {{\n",
       "    x.observe(notebookContainer, {childList: true});\n",
       "}}\n",
       "\n",
       "// Listen for the clearing of the current output cell\n",
       "var outputEl = gd.closest('.output');\n",
       "if (outputEl) {{\n",
       "    x.observe(outputEl, {childList: true});\n",
       "}}\n",
       "\n",
       "                        })                };                });            </script>        </div>"
      ]
     },
     "metadata": {},
     "output_type": "display_data"
    }
   ],
   "source": [
    "df.iplot(kind='box')"
   ]
  },
  {
   "cell_type": "markdown",
   "metadata": {},
   "source": [
    "## 3d Surface"
   ]
  },
  {
   "cell_type": "code",
   "execution_count": 24,
   "metadata": {
    "collapsed": false,
    "jupyter": {
     "outputs_hidden": false
    }
   },
   "outputs": [
    {
     "data": {
      "application/vnd.plotly.v1+json": {
       "config": {
        "linkText": "Export to plot.ly",
        "plotlyServerURL": "https://plot.ly",
        "showLink": true
       },
       "data": [
        {
         "colorscale": [
          [
           0,
           "rgb(165,0,38)"
          ],
          [
           0.1,
           "rgb(215,48,39)"
          ],
          [
           0.2,
           "rgb(244,109,67)"
          ],
          [
           0.3,
           "rgb(253,174,97)"
          ],
          [
           0.4,
           "rgb(254,224,144)"
          ],
          [
           0.5,
           "rgb(255,255,191)"
          ],
          [
           0.6,
           "rgb(224,243,248)"
          ],
          [
           0.7,
           "rgb(171,217,233)"
          ],
          [
           0.8,
           "rgb(116,173,209)"
          ],
          [
           0.9,
           "rgb(69,117,180)"
          ],
          [
           1,
           "rgb(49,54,149)"
          ]
         ],
         "type": "surface",
         "x": [
          0,
          1,
          2,
          3,
          4
         ],
         "y": [
          "x",
          "y",
          "z"
         ],
         "z": [
          [
           1,
           2,
           3,
           4,
           5
          ],
          [
           10,
           20,
           30,
           20,
           10
          ],
          [
           5,
           4,
           3,
           2,
           1
          ]
         ]
        }
       ],
       "layout": {
        "autosize": true,
        "legend": {
         "bgcolor": "#F5F6F9",
         "font": {
          "color": "#4D5663"
         }
        },
        "paper_bgcolor": "#F5F6F9",
        "plot_bgcolor": "#F5F6F9",
        "scene": {
         "aspectmode": "auto",
         "aspectratio": {
          "x": 1,
          "y": 1,
          "z": 1
         },
         "camera": {
          "center": {
           "x": 0,
           "y": 0,
           "z": 0
          },
          "eye": {
           "x": 1.4459900507347305,
           "y": -0.3659157506382778,
           "z": -0.2917582093320887
          },
          "projection": {
           "type": "perspective"
          },
          "up": {
           "x": -0.4065649979089494,
           "y": -0.9056011399069913,
           "z": 0.12079518978193586
          }
         }
        },
        "template": {
         "data": {
          "bar": [
           {
            "error_x": {
             "color": "#2a3f5f"
            },
            "error_y": {
             "color": "#2a3f5f"
            },
            "marker": {
             "line": {
              "color": "#E5ECF6",
              "width": 0.5
             },
             "pattern": {
              "fillmode": "overlay",
              "size": 10,
              "solidity": 0.2
             }
            },
            "type": "bar"
           }
          ],
          "barpolar": [
           {
            "marker": {
             "line": {
              "color": "#E5ECF6",
              "width": 0.5
             },
             "pattern": {
              "fillmode": "overlay",
              "size": 10,
              "solidity": 0.2
             }
            },
            "type": "barpolar"
           }
          ],
          "carpet": [
           {
            "aaxis": {
             "endlinecolor": "#2a3f5f",
             "gridcolor": "white",
             "linecolor": "white",
             "minorgridcolor": "white",
             "startlinecolor": "#2a3f5f"
            },
            "baxis": {
             "endlinecolor": "#2a3f5f",
             "gridcolor": "white",
             "linecolor": "white",
             "minorgridcolor": "white",
             "startlinecolor": "#2a3f5f"
            },
            "type": "carpet"
           }
          ],
          "choropleth": [
           {
            "colorbar": {
             "outlinewidth": 0,
             "ticks": ""
            },
            "type": "choropleth"
           }
          ],
          "contour": [
           {
            "colorbar": {
             "outlinewidth": 0,
             "ticks": ""
            },
            "colorscale": [
             [
              0,
              "#0d0887"
             ],
             [
              0.1111111111111111,
              "#46039f"
             ],
             [
              0.2222222222222222,
              "#7201a8"
             ],
             [
              0.3333333333333333,
              "#9c179e"
             ],
             [
              0.4444444444444444,
              "#bd3786"
             ],
             [
              0.5555555555555556,
              "#d8576b"
             ],
             [
              0.6666666666666666,
              "#ed7953"
             ],
             [
              0.7777777777777778,
              "#fb9f3a"
             ],
             [
              0.8888888888888888,
              "#fdca26"
             ],
             [
              1,
              "#f0f921"
             ]
            ],
            "type": "contour"
           }
          ],
          "contourcarpet": [
           {
            "colorbar": {
             "outlinewidth": 0,
             "ticks": ""
            },
            "type": "contourcarpet"
           }
          ],
          "heatmap": [
           {
            "colorbar": {
             "outlinewidth": 0,
             "ticks": ""
            },
            "colorscale": [
             [
              0,
              "#0d0887"
             ],
             [
              0.1111111111111111,
              "#46039f"
             ],
             [
              0.2222222222222222,
              "#7201a8"
             ],
             [
              0.3333333333333333,
              "#9c179e"
             ],
             [
              0.4444444444444444,
              "#bd3786"
             ],
             [
              0.5555555555555556,
              "#d8576b"
             ],
             [
              0.6666666666666666,
              "#ed7953"
             ],
             [
              0.7777777777777778,
              "#fb9f3a"
             ],
             [
              0.8888888888888888,
              "#fdca26"
             ],
             [
              1,
              "#f0f921"
             ]
            ],
            "type": "heatmap"
           }
          ],
          "heatmapgl": [
           {
            "colorbar": {
             "outlinewidth": 0,
             "ticks": ""
            },
            "colorscale": [
             [
              0,
              "#0d0887"
             ],
             [
              0.1111111111111111,
              "#46039f"
             ],
             [
              0.2222222222222222,
              "#7201a8"
             ],
             [
              0.3333333333333333,
              "#9c179e"
             ],
             [
              0.4444444444444444,
              "#bd3786"
             ],
             [
              0.5555555555555556,
              "#d8576b"
             ],
             [
              0.6666666666666666,
              "#ed7953"
             ],
             [
              0.7777777777777778,
              "#fb9f3a"
             ],
             [
              0.8888888888888888,
              "#fdca26"
             ],
             [
              1,
              "#f0f921"
             ]
            ],
            "type": "heatmapgl"
           }
          ],
          "histogram": [
           {
            "marker": {
             "pattern": {
              "fillmode": "overlay",
              "size": 10,
              "solidity": 0.2
             }
            },
            "type": "histogram"
           }
          ],
          "histogram2d": [
           {
            "colorbar": {
             "outlinewidth": 0,
             "ticks": ""
            },
            "colorscale": [
             [
              0,
              "#0d0887"
             ],
             [
              0.1111111111111111,
              "#46039f"
             ],
             [
              0.2222222222222222,
              "#7201a8"
             ],
             [
              0.3333333333333333,
              "#9c179e"
             ],
             [
              0.4444444444444444,
              "#bd3786"
             ],
             [
              0.5555555555555556,
              "#d8576b"
             ],
             [
              0.6666666666666666,
              "#ed7953"
             ],
             [
              0.7777777777777778,
              "#fb9f3a"
             ],
             [
              0.8888888888888888,
              "#fdca26"
             ],
             [
              1,
              "#f0f921"
             ]
            ],
            "type": "histogram2d"
           }
          ],
          "histogram2dcontour": [
           {
            "colorbar": {
             "outlinewidth": 0,
             "ticks": ""
            },
            "colorscale": [
             [
              0,
              "#0d0887"
             ],
             [
              0.1111111111111111,
              "#46039f"
             ],
             [
              0.2222222222222222,
              "#7201a8"
             ],
             [
              0.3333333333333333,
              "#9c179e"
             ],
             [
              0.4444444444444444,
              "#bd3786"
             ],
             [
              0.5555555555555556,
              "#d8576b"
             ],
             [
              0.6666666666666666,
              "#ed7953"
             ],
             [
              0.7777777777777778,
              "#fb9f3a"
             ],
             [
              0.8888888888888888,
              "#fdca26"
             ],
             [
              1,
              "#f0f921"
             ]
            ],
            "type": "histogram2dcontour"
           }
          ],
          "mesh3d": [
           {
            "colorbar": {
             "outlinewidth": 0,
             "ticks": ""
            },
            "type": "mesh3d"
           }
          ],
          "parcoords": [
           {
            "line": {
             "colorbar": {
              "outlinewidth": 0,
              "ticks": ""
             }
            },
            "type": "parcoords"
           }
          ],
          "pie": [
           {
            "automargin": true,
            "type": "pie"
           }
          ],
          "scatter": [
           {
            "fillpattern": {
             "fillmode": "overlay",
             "size": 10,
             "solidity": 0.2
            },
            "type": "scatter"
           }
          ],
          "scatter3d": [
           {
            "line": {
             "colorbar": {
              "outlinewidth": 0,
              "ticks": ""
             }
            },
            "marker": {
             "colorbar": {
              "outlinewidth": 0,
              "ticks": ""
             }
            },
            "type": "scatter3d"
           }
          ],
          "scattercarpet": [
           {
            "marker": {
             "colorbar": {
              "outlinewidth": 0,
              "ticks": ""
             }
            },
            "type": "scattercarpet"
           }
          ],
          "scattergeo": [
           {
            "marker": {
             "colorbar": {
              "outlinewidth": 0,
              "ticks": ""
             }
            },
            "type": "scattergeo"
           }
          ],
          "scattergl": [
           {
            "marker": {
             "colorbar": {
              "outlinewidth": 0,
              "ticks": ""
             }
            },
            "type": "scattergl"
           }
          ],
          "scattermapbox": [
           {
            "marker": {
             "colorbar": {
              "outlinewidth": 0,
              "ticks": ""
             }
            },
            "type": "scattermapbox"
           }
          ],
          "scatterpolar": [
           {
            "marker": {
             "colorbar": {
              "outlinewidth": 0,
              "ticks": ""
             }
            },
            "type": "scatterpolar"
           }
          ],
          "scatterpolargl": [
           {
            "marker": {
             "colorbar": {
              "outlinewidth": 0,
              "ticks": ""
             }
            },
            "type": "scatterpolargl"
           }
          ],
          "scatterternary": [
           {
            "marker": {
             "colorbar": {
              "outlinewidth": 0,
              "ticks": ""
             }
            },
            "type": "scatterternary"
           }
          ],
          "surface": [
           {
            "colorbar": {
             "outlinewidth": 0,
             "ticks": ""
            },
            "colorscale": [
             [
              0,
              "#0d0887"
             ],
             [
              0.1111111111111111,
              "#46039f"
             ],
             [
              0.2222222222222222,
              "#7201a8"
             ],
             [
              0.3333333333333333,
              "#9c179e"
             ],
             [
              0.4444444444444444,
              "#bd3786"
             ],
             [
              0.5555555555555556,
              "#d8576b"
             ],
             [
              0.6666666666666666,
              "#ed7953"
             ],
             [
              0.7777777777777778,
              "#fb9f3a"
             ],
             [
              0.8888888888888888,
              "#fdca26"
             ],
             [
              1,
              "#f0f921"
             ]
            ],
            "type": "surface"
           }
          ],
          "table": [
           {
            "cells": {
             "fill": {
              "color": "#EBF0F8"
             },
             "line": {
              "color": "white"
             }
            },
            "header": {
             "fill": {
              "color": "#C8D4E3"
             },
             "line": {
              "color": "white"
             }
            },
            "type": "table"
           }
          ]
         },
         "layout": {
          "annotationdefaults": {
           "arrowcolor": "#2a3f5f",
           "arrowhead": 0,
           "arrowwidth": 1
          },
          "autotypenumbers": "strict",
          "coloraxis": {
           "colorbar": {
            "outlinewidth": 0,
            "ticks": ""
           }
          },
          "colorscale": {
           "diverging": [
            [
             0,
             "#8e0152"
            ],
            [
             0.1,
             "#c51b7d"
            ],
            [
             0.2,
             "#de77ae"
            ],
            [
             0.3,
             "#f1b6da"
            ],
            [
             0.4,
             "#fde0ef"
            ],
            [
             0.5,
             "#f7f7f7"
            ],
            [
             0.6,
             "#e6f5d0"
            ],
            [
             0.7,
             "#b8e186"
            ],
            [
             0.8,
             "#7fbc41"
            ],
            [
             0.9,
             "#4d9221"
            ],
            [
             1,
             "#276419"
            ]
           ],
           "sequential": [
            [
             0,
             "#0d0887"
            ],
            [
             0.1111111111111111,
             "#46039f"
            ],
            [
             0.2222222222222222,
             "#7201a8"
            ],
            [
             0.3333333333333333,
             "#9c179e"
            ],
            [
             0.4444444444444444,
             "#bd3786"
            ],
            [
             0.5555555555555556,
             "#d8576b"
            ],
            [
             0.6666666666666666,
             "#ed7953"
            ],
            [
             0.7777777777777778,
             "#fb9f3a"
            ],
            [
             0.8888888888888888,
             "#fdca26"
            ],
            [
             1,
             "#f0f921"
            ]
           ],
           "sequentialminus": [
            [
             0,
             "#0d0887"
            ],
            [
             0.1111111111111111,
             "#46039f"
            ],
            [
             0.2222222222222222,
             "#7201a8"
            ],
            [
             0.3333333333333333,
             "#9c179e"
            ],
            [
             0.4444444444444444,
             "#bd3786"
            ],
            [
             0.5555555555555556,
             "#d8576b"
            ],
            [
             0.6666666666666666,
             "#ed7953"
            ],
            [
             0.7777777777777778,
             "#fb9f3a"
            ],
            [
             0.8888888888888888,
             "#fdca26"
            ],
            [
             1,
             "#f0f921"
            ]
           ]
          },
          "colorway": [
           "#636efa",
           "#EF553B",
           "#00cc96",
           "#ab63fa",
           "#FFA15A",
           "#19d3f3",
           "#FF6692",
           "#B6E880",
           "#FF97FF",
           "#FECB52"
          ],
          "font": {
           "color": "#2a3f5f"
          },
          "geo": {
           "bgcolor": "white",
           "lakecolor": "white",
           "landcolor": "#E5ECF6",
           "showlakes": true,
           "showland": true,
           "subunitcolor": "white"
          },
          "hoverlabel": {
           "align": "left"
          },
          "hovermode": "closest",
          "mapbox": {
           "style": "light"
          },
          "paper_bgcolor": "white",
          "plot_bgcolor": "#E5ECF6",
          "polar": {
           "angularaxis": {
            "gridcolor": "white",
            "linecolor": "white",
            "ticks": ""
           },
           "bgcolor": "#E5ECF6",
           "radialaxis": {
            "gridcolor": "white",
            "linecolor": "white",
            "ticks": ""
           }
          },
          "scene": {
           "xaxis": {
            "backgroundcolor": "#E5ECF6",
            "gridcolor": "white",
            "gridwidth": 2,
            "linecolor": "white",
            "showbackground": true,
            "ticks": "",
            "zerolinecolor": "white"
           },
           "yaxis": {
            "backgroundcolor": "#E5ECF6",
            "gridcolor": "white",
            "gridwidth": 2,
            "linecolor": "white",
            "showbackground": true,
            "ticks": "",
            "zerolinecolor": "white"
           },
           "zaxis": {
            "backgroundcolor": "#E5ECF6",
            "gridcolor": "white",
            "gridwidth": 2,
            "linecolor": "white",
            "showbackground": true,
            "ticks": "",
            "zerolinecolor": "white"
           }
          },
          "shapedefaults": {
           "line": {
            "color": "#2a3f5f"
           }
          },
          "ternary": {
           "aaxis": {
            "gridcolor": "white",
            "linecolor": "white",
            "ticks": ""
           },
           "baxis": {
            "gridcolor": "white",
            "linecolor": "white",
            "ticks": ""
           },
           "bgcolor": "#E5ECF6",
           "caxis": {
            "gridcolor": "white",
            "linecolor": "white",
            "ticks": ""
           }
          },
          "title": {
           "x": 0.05
          },
          "xaxis": {
           "automargin": true,
           "gridcolor": "white",
           "linecolor": "white",
           "ticks": "",
           "title": {
            "standoff": 15
           },
           "zerolinecolor": "white",
           "zerolinewidth": 2
          },
          "yaxis": {
           "automargin": true,
           "gridcolor": "white",
           "linecolor": "white",
           "ticks": "",
           "title": {
            "standoff": 15
           },
           "zerolinecolor": "white",
           "zerolinewidth": 2
          }
         }
        },
        "title": {
         "font": {
          "color": "#4D5663"
         }
        },
        "xaxis": {
         "gridcolor": "#E1E5ED",
         "showgrid": true,
         "tickfont": {
          "color": "#4D5663"
         },
         "title": {
          "font": {
           "color": "#4D5663"
          },
          "text": ""
         },
         "zerolinecolor": "#E1E5ED"
        },
        "yaxis": {
         "gridcolor": "#E1E5ED",
         "showgrid": true,
         "tickfont": {
          "color": "#4D5663"
         },
         "title": {
          "font": {
           "color": "#4D5663"
          },
          "text": ""
         },
         "zerolinecolor": "#E1E5ED"
        }
       }
      },
      "image/png": "[encoded data removed]",
      "text/html": [
       "<div>                            <div id=\"48ccb8e9-493a-40ad-b136-d7c1871bfd1e\" class=\"plotly-graph-div\" style=\"height:525px; width:100%;\"></div>            <script type=\"text/javascript\">                require([\"plotly\"], function(Plotly) {                    window.PLOTLYENV=window.PLOTLYENV || {};\n",
       "                    window.PLOTLYENV.BASE_URL='https://plot.ly';                                    if (document.getElementById(\"48ccb8e9-493a-40ad-b136-d7c1871bfd1e\")) {                    Plotly.newPlot(                        \"48ccb8e9-493a-40ad-b136-d7c1871bfd1e\",                        [{\"colorscale\":[[0.0,\"rgb(165,0,38)\"],[0.1,\"rgb(215,48,39)\"],[0.2,\"rgb(244,109,67)\"],[0.3,\"rgb(253,174,97)\"],[0.4,\"rgb(254,224,144)\"],[0.5,\"rgb(255,255,191)\"],[0.6,\"rgb(224,243,248)\"],[0.7,\"rgb(171,217,233)\"],[0.8,\"rgb(116,173,209)\"],[0.9,\"rgb(69,117,180)\"],[1.0,\"rgb(49,54,149)\"]],\"x\":[0,1,2,3,4],\"y\":[\"x\",\"y\",\"z\"],\"z\":[[1,2,3,4,5],[10,20,30,20,10],[5,4,3,2,1]],\"type\":\"surface\"}],                        {\"legend\":{\"bgcolor\":\"#F5F6F9\",\"font\":{\"color\":\"#4D5663\"}},\"paper_bgcolor\":\"#F5F6F9\",\"plot_bgcolor\":\"#F5F6F9\",\"template\":{\"data\":{\"barpolar\":[{\"marker\":{\"line\":{\"color\":\"#E5ECF6\",\"width\":0.5},\"pattern\":{\"fillmode\":\"overlay\",\"size\":10,\"solidity\":0.2}},\"type\":\"barpolar\"}],\"bar\":[{\"error_x\":{\"color\":\"#2a3f5f\"},\"error_y\":{\"color\":\"#2a3f5f\"},\"marker\":{\"line\":{\"color\":\"#E5ECF6\",\"width\":0.5},\"pattern\":{\"fillmode\":\"overlay\",\"size\":10,\"solidity\":0.2}},\"type\":\"bar\"}],\"carpet\":[{\"aaxis\":{\"endlinecolor\":\"#2a3f5f\",\"gridcolor\":\"white\",\"linecolor\":\"white\",\"minorgridcolor\":\"white\",\"startlinecolor\":\"#2a3f5f\"},\"baxis\":{\"endlinecolor\":\"#2a3f5f\",\"gridcolor\":\"white\",\"linecolor\":\"white\",\"minorgridcolor\":\"white\",\"startlinecolor\":\"#2a3f5f\"},\"type\":\"carpet\"}],\"choropleth\":[{\"colorbar\":{\"outlinewidth\":0,\"ticks\":\"\"},\"type\":\"choropleth\"}],\"contourcarpet\":[{\"colorbar\":{\"outlinewidth\":0,\"ticks\":\"\"},\"type\":\"contourcarpet\"}],\"contour\":[{\"colorbar\":{\"outlinewidth\":0,\"ticks\":\"\"},\"colorscale\":[[0.0,\"#0d0887\"],[0.1111111111111111,\"#46039f\"],[0.2222222222222222,\"#7201a8\"],[0.3333333333333333,\"#9c179e\"],[0.4444444444444444,\"#bd3786\"],[0.5555555555555556,\"#d8576b\"],[0.6666666666666666,\"#ed7953\"],[0.7777777777777778,\"#fb9f3a\"],[0.8888888888888888,\"#fdca26\"],[1.0,\"#f0f921\"]],\"type\":\"contour\"}],\"heatmapgl\":[{\"colorbar\":{\"outlinewidth\":0,\"ticks\":\"\"},\"colorscale\":[[0.0,\"#0d0887\"],[0.1111111111111111,\"#46039f\"],[0.2222222222222222,\"#7201a8\"],[0.3333333333333333,\"#9c179e\"],[0.4444444444444444,\"#bd3786\"],[0.5555555555555556,\"#d8576b\"],[0.6666666666666666,\"#ed7953\"],[0.7777777777777778,\"#fb9f3a\"],[0.8888888888888888,\"#fdca26\"],[1.0,\"#f0f921\"]],\"type\":\"heatmapgl\"}],\"heatmap\":[{\"colorbar\":{\"outlinewidth\":0,\"ticks\":\"\"},\"colorscale\":[[0.0,\"#0d0887\"],[0.1111111111111111,\"#46039f\"],[0.2222222222222222,\"#7201a8\"],[0.3333333333333333,\"#9c179e\"],[0.4444444444444444,\"#bd3786\"],[0.5555555555555556,\"#d8576b\"],[0.6666666666666666,\"#ed7953\"],[0.7777777777777778,\"#fb9f3a\"],[0.8888888888888888,\"#fdca26\"],[1.0,\"#f0f921\"]],\"type\":\"heatmap\"}],\"histogram2dcontour\":[{\"colorbar\":{\"outlinewidth\":0,\"ticks\":\"\"},\"colorscale\":[[0.0,\"#0d0887\"],[0.1111111111111111,\"#46039f\"],[0.2222222222222222,\"#7201a8\"],[0.3333333333333333,\"#9c179e\"],[0.4444444444444444,\"#bd3786\"],[0.5555555555555556,\"#d8576b\"],[0.6666666666666666,\"#ed7953\"],[0.7777777777777778,\"#fb9f3a\"],[0.8888888888888888,\"#fdca26\"],[1.0,\"#f0f921\"]],\"type\":\"histogram2dcontour\"}],\"histogram2d\":[{\"colorbar\":{\"outlinewidth\":0,\"ticks\":\"\"},\"colorscale\":[[0.0,\"#0d0887\"],[0.1111111111111111,\"#46039f\"],[0.2222222222222222,\"#7201a8\"],[0.3333333333333333,\"#9c179e\"],[0.4444444444444444,\"#bd3786\"],[0.5555555555555556,\"#d8576b\"],[0.6666666666666666,\"#ed7953\"],[0.7777777777777778,\"#fb9f3a\"],[0.8888888888888888,\"#fdca26\"],[1.0,\"#f0f921\"]],\"type\":\"histogram2d\"}],\"histogram\":[{\"marker\":{\"pattern\":{\"fillmode\":\"overlay\",\"size\":10,\"solidity\":0.2}},\"type\":\"histogram\"}],\"mesh3d\":[{\"colorbar\":{\"outlinewidth\":0,\"ticks\":\"\"},\"type\":\"mesh3d\"}],\"parcoords\":[{\"line\":{\"colorbar\":{\"outlinewidth\":0,\"ticks\":\"\"}},\"type\":\"parcoords\"}],\"pie\":[{\"automargin\":true,\"type\":\"pie\"}],\"scatter3d\":[{\"line\":{\"colorbar\":{\"outlinewidth\":0,\"ticks\":\"\"}},\"marker\":{\"colorbar\":{\"outlinewidth\":0,\"ticks\":\"\"}},\"type\":\"scatter3d\"}],\"scattercarpet\":[{\"marker\":{\"colorbar\":{\"outlinewidth\":0,\"ticks\":\"\"}},\"type\":\"scattercarpet\"}],\"scattergeo\":[{\"marker\":{\"colorbar\":{\"outlinewidth\":0,\"ticks\":\"\"}},\"type\":\"scattergeo\"}],\"scattergl\":[{\"marker\":{\"colorbar\":{\"outlinewidth\":0,\"ticks\":\"\"}},\"type\":\"scattergl\"}],\"scattermapbox\":[{\"marker\":{\"colorbar\":{\"outlinewidth\":0,\"ticks\":\"\"}},\"type\":\"scattermapbox\"}],\"scatterpolargl\":[{\"marker\":{\"colorbar\":{\"outlinewidth\":0,\"ticks\":\"\"}},\"type\":\"scatterpolargl\"}],\"scatterpolar\":[{\"marker\":{\"colorbar\":{\"outlinewidth\":0,\"ticks\":\"\"}},\"type\":\"scatterpolar\"}],\"scatter\":[{\"fillpattern\":{\"fillmode\":\"overlay\",\"size\":10,\"solidity\":0.2},\"type\":\"scatter\"}],\"scatterternary\":[{\"marker\":{\"colorbar\":{\"outlinewidth\":0,\"ticks\":\"\"}},\"type\":\"scatterternary\"}],\"surface\":[{\"colorbar\":{\"outlinewidth\":0,\"ticks\":\"\"},\"colorscale\":[[0.0,\"#0d0887\"],[0.1111111111111111,\"#46039f\"],[0.2222222222222222,\"#7201a8\"],[0.3333333333333333,\"#9c179e\"],[0.4444444444444444,\"#bd3786\"],[0.5555555555555556,\"#d8576b\"],[0.6666666666666666,\"#ed7953\"],[0.7777777777777778,\"#fb9f3a\"],[0.8888888888888888,\"#fdca26\"],[1.0,\"#f0f921\"]],\"type\":\"surface\"}],\"table\":[{\"cells\":{\"fill\":{\"color\":\"#EBF0F8\"},\"line\":{\"color\":\"white\"}},\"header\":{\"fill\":{\"color\":\"#C8D4E3\"},\"line\":{\"color\":\"white\"}},\"type\":\"table\"}]},\"layout\":{\"annotationdefaults\":{\"arrowcolor\":\"#2a3f5f\",\"arrowhead\":0,\"arrowwidth\":1},\"autotypenumbers\":\"strict\",\"coloraxis\":{\"colorbar\":{\"outlinewidth\":0,\"ticks\":\"\"}},\"colorscale\":{\"diverging\":[[0,\"#8e0152\"],[0.1,\"#c51b7d\"],[0.2,\"#de77ae\"],[0.3,\"#f1b6da\"],[0.4,\"#fde0ef\"],[0.5,\"#f7f7f7\"],[0.6,\"#e6f5d0\"],[0.7,\"#b8e186\"],[0.8,\"#7fbc41\"],[0.9,\"#4d9221\"],[1,\"#276419\"]],\"sequential\":[[0.0,\"#0d0887\"],[0.1111111111111111,\"#46039f\"],[0.2222222222222222,\"#7201a8\"],[0.3333333333333333,\"#9c179e\"],[0.4444444444444444,\"#bd3786\"],[0.5555555555555556,\"#d8576b\"],[0.6666666666666666,\"#ed7953\"],[0.7777777777777778,\"#fb9f3a\"],[0.8888888888888888,\"#fdca26\"],[1.0,\"#f0f921\"]],\"sequentialminus\":[[0.0,\"#0d0887\"],[0.1111111111111111,\"#46039f\"],[0.2222222222222222,\"#7201a8\"],[0.3333333333333333,\"#9c179e\"],[0.4444444444444444,\"#bd3786\"],[0.5555555555555556,\"#d8576b\"],[0.6666666666666666,\"#ed7953\"],[0.7777777777777778,\"#fb9f3a\"],[0.8888888888888888,\"#fdca26\"],[1.0,\"#f0f921\"]]},\"colorway\":[\"#636efa\",\"#EF553B\",\"#00cc96\",\"#ab63fa\",\"#FFA15A\",\"#19d3f3\",\"#FF6692\",\"#B6E880\",\"#FF97FF\",\"#FECB52\"],\"font\":{\"color\":\"#2a3f5f\"},\"geo\":{\"bgcolor\":\"white\",\"lakecolor\":\"white\",\"landcolor\":\"#E5ECF6\",\"showlakes\":true,\"showland\":true,\"subunitcolor\":\"white\"},\"hoverlabel\":{\"align\":\"left\"},\"hovermode\":\"closest\",\"mapbox\":{\"style\":\"light\"},\"paper_bgcolor\":\"white\",\"plot_bgcolor\":\"#E5ECF6\",\"polar\":{\"angularaxis\":{\"gridcolor\":\"white\",\"linecolor\":\"white\",\"ticks\":\"\"},\"bgcolor\":\"#E5ECF6\",\"radialaxis\":{\"gridcolor\":\"white\",\"linecolor\":\"white\",\"ticks\":\"\"}},\"scene\":{\"xaxis\":{\"backgroundcolor\":\"#E5ECF6\",\"gridcolor\":\"white\",\"gridwidth\":2,\"linecolor\":\"white\",\"showbackground\":true,\"ticks\":\"\",\"zerolinecolor\":\"white\"},\"yaxis\":{\"backgroundcolor\":\"#E5ECF6\",\"gridcolor\":\"white\",\"gridwidth\":2,\"linecolor\":\"white\",\"showbackground\":true,\"ticks\":\"\",\"zerolinecolor\":\"white\"},\"zaxis\":{\"backgroundcolor\":\"#E5ECF6\",\"gridcolor\":\"white\",\"gridwidth\":2,\"linecolor\":\"white\",\"showbackground\":true,\"ticks\":\"\",\"zerolinecolor\":\"white\"}},\"shapedefaults\":{\"line\":{\"color\":\"#2a3f5f\"}},\"ternary\":{\"aaxis\":{\"gridcolor\":\"white\",\"linecolor\":\"white\",\"ticks\":\"\"},\"baxis\":{\"gridcolor\":\"white\",\"linecolor\":\"white\",\"ticks\":\"\"},\"bgcolor\":\"#E5ECF6\",\"caxis\":{\"gridcolor\":\"white\",\"linecolor\":\"white\",\"ticks\":\"\"}},\"title\":{\"x\":0.05},\"xaxis\":{\"automargin\":true,\"gridcolor\":\"white\",\"linecolor\":\"white\",\"ticks\":\"\",\"title\":{\"standoff\":15},\"zerolinecolor\":\"white\",\"zerolinewidth\":2},\"yaxis\":{\"automargin\":true,\"gridcolor\":\"white\",\"linecolor\":\"white\",\"ticks\":\"\",\"title\":{\"standoff\":15},\"zerolinecolor\":\"white\",\"zerolinewidth\":2}}},\"title\":{\"font\":{\"color\":\"#4D5663\"}},\"xaxis\":{\"gridcolor\":\"#E1E5ED\",\"showgrid\":true,\"tickfont\":{\"color\":\"#4D5663\"},\"title\":{\"font\":{\"color\":\"#4D5663\"},\"text\":\"\"},\"zerolinecolor\":\"#E1E5ED\"},\"yaxis\":{\"gridcolor\":\"#E1E5ED\",\"showgrid\":true,\"tickfont\":{\"color\":\"#4D5663\"},\"title\":{\"font\":{\"color\":\"#4D5663\"},\"text\":\"\"},\"zerolinecolor\":\"#E1E5ED\"}},                        {\"showLink\": true, \"linkText\": \"Export to plot.ly\", \"plotlyServerURL\": \"https://plot.ly\", \"responsive\": true}                    ).then(function(){\n",
       "                            \n",
       "var gd = document.getElementById('48ccb8e9-493a-40ad-b136-d7c1871bfd1e');\n",
       "var x = new MutationObserver(function (mutations, observer) {{\n",
       "        var display = window.getComputedStyle(gd).display;\n",
       "        if (!display || display === 'none') {{\n",
       "            console.log([gd, 'removed!']);\n",
       "            Plotly.purge(gd);\n",
       "            observer.disconnect();\n",
       "        }}\n",
       "}});\n",
       "\n",
       "// Listen for the removal of the full notebook cells\n",
       "var notebookContainer = gd.closest('#notebook-container');\n",
       "if (notebookContainer) {{\n",
       "    x.observe(notebookContainer, {childList: true});\n",
       "}}\n",
       "\n",
       "// Listen for the clearing of the current output cell\n",
       "var outputEl = gd.closest('.output');\n",
       "if (outputEl) {{\n",
       "    x.observe(outputEl, {childList: true});\n",
       "}}\n",
       "\n",
       "                        })                };                });            </script>        </div>"
      ]
     },
     "metadata": {},
     "output_type": "display_data"
    }
   ],
   "source": [
    "df3 = pd.DataFrame({'x':[1,2,3,4,5],'y':[10,20,30,20,10],'z':[5,4,3,2,1]})\n",
    "df3.iplot(kind='surface',colorscale='rdylbu')"
   ]
  },
  {
   "cell_type": "markdown",
   "metadata": {},
   "source": [
    "## Spread"
   ]
  },
  {
   "cell_type": "code",
   "execution_count": 32,
   "metadata": {
    "collapsed": false,
    "jupyter": {
     "outputs_hidden": false
    }
   },
   "outputs": [
    {
     "name": "stderr",
     "output_type": "stream",
     "text": [
      "/opt/anaconda3/lib/python3.11/site-packages/cufflinks/plotlytools.py:848: FutureWarning:\n",
      "\n",
      "Series.__getitem__ treating keys as positions is deprecated. In a future version, integer keys will always be treated as labels (consistent with DataFrame behavior). To access a value by position, use `ser.iloc[pos]`\n",
      "\n"
     ]
    },
    {
     "ename": "AttributeError",
     "evalue": "module 'pandas' has no attribute 'np'",
     "output_type": "error",
     "traceback": [
      "\u001b[0;31m---------------------------------------------------------------------------\u001b[0m",
      "\u001b[0;31mAttributeError\u001b[0m                            Traceback (most recent call last)",
      "Cell \u001b[0;32mIn[32], line 1\u001b[0m\n\u001b[0;32m----> 1\u001b[0m df[[\u001b[38;5;124m'\u001b[39m\u001b[38;5;124mA\u001b[39m\u001b[38;5;124m'\u001b[39m,\u001b[38;5;124m'\u001b[39m\u001b[38;5;124mB\u001b[39m\u001b[38;5;124m'\u001b[39m]]\u001b[38;5;241m.\u001b[39miplot(kind\u001b[38;5;241m=\u001b[39m\u001b[38;5;124m'\u001b[39m\u001b[38;5;124mspread\u001b[39m\u001b[38;5;124m'\u001b[39m)\n",
      "File \u001b[0;32m/opt/anaconda3/lib/python3.11/site-packages/cufflinks/plotlytools.py:849\u001b[0m, in \u001b[0;36m_iplot\u001b[0;34m(self, kind, data, layout, filename, sharing, title, xTitle, yTitle, zTitle, theme, colors, colorscale, fill, width, dash, mode, interpolation, symbol, size, barmode, sortbars, bargap, bargroupgap, bins, histnorm, histfunc, orientation, boxpoints, annotations, keys, bestfit, bestfit_colors, mean, mean_colors, categories, x, y, z, text, gridcolor, zerolinecolor, margin, labels, values, secondary_y, secondary_y_title, subplots, shape, error_x, error_y, error_type, locations, lon, lat, asFrame, asDates, asFigure, asImage, dimensions, asPlot, asUrl, online, **kwargs)\u001b[0m\n\u001b[1;32m    847\u001b[0m \u001b[38;5;28;01mif\u001b[39;00m kind\u001b[38;5;241m==\u001b[39m\u001b[38;5;124m'\u001b[39m\u001b[38;5;124mspread\u001b[39m\u001b[38;5;124m'\u001b[39m:\n\u001b[1;32m    848\u001b[0m \ttrace\u001b[38;5;241m=\u001b[39m\u001b[38;5;28mself\u001b[39m\u001b[38;5;241m.\u001b[39mapply(\u001b[38;5;28;01mlambda\u001b[39;00m x:x[\u001b[38;5;241m0\u001b[39m]\u001b[38;5;241m-\u001b[39mx[\u001b[38;5;241m1\u001b[39m],axis\u001b[38;5;241m=\u001b[39m\u001b[38;5;241m1\u001b[39m)\n\u001b[0;32m--> 849\u001b[0m \tpositive\u001b[38;5;241m=\u001b[39mtrace\u001b[38;5;241m.\u001b[39mapply(\u001b[38;5;28;01mlambda\u001b[39;00m x:x \u001b[38;5;28;01mif\u001b[39;00m x\u001b[38;5;241m>\u001b[39m\u001b[38;5;241m=\u001b[39m\u001b[38;5;241m0\u001b[39m \u001b[38;5;28;01melse\u001b[39;00m pd\u001b[38;5;241m.\u001b[39mnp\u001b[38;5;241m.\u001b[39mnan)\n\u001b[1;32m    850\u001b[0m \tnegative\u001b[38;5;241m=\u001b[39mtrace\u001b[38;5;241m.\u001b[39mapply(\u001b[38;5;28;01mlambda\u001b[39;00m x:x \u001b[38;5;28;01mif\u001b[39;00m x\u001b[38;5;241m<\u001b[39m\u001b[38;5;241m0\u001b[39m \u001b[38;5;28;01melse\u001b[39;00m pd\u001b[38;5;241m.\u001b[39mnp\u001b[38;5;241m.\u001b[39mnan)\n\u001b[1;32m    851\u001b[0m \ttrace\u001b[38;5;241m=\u001b[39mpd\u001b[38;5;241m.\u001b[39mDataFrame({\u001b[38;5;124m'\u001b[39m\u001b[38;5;124mpositive\u001b[39m\u001b[38;5;124m'\u001b[39m:positive,\u001b[38;5;124m'\u001b[39m\u001b[38;5;124mnegative\u001b[39m\u001b[38;5;124m'\u001b[39m:negative})\n",
      "File \u001b[0;32m/opt/anaconda3/lib/python3.11/site-packages/pandas/core/series.py:4764\u001b[0m, in \u001b[0;36mSeries.apply\u001b[0;34m(self, func, convert_dtype, args, by_row, **kwargs)\u001b[0m\n\u001b[1;32m   4629\u001b[0m \u001b[38;5;28;01mdef\u001b[39;00m \u001b[38;5;21mapply\u001b[39m(\n\u001b[1;32m   4630\u001b[0m     \u001b[38;5;28mself\u001b[39m,\n\u001b[1;32m   4631\u001b[0m     func: AggFuncType,\n\u001b[0;32m   (...)\u001b[0m\n\u001b[1;32m   4636\u001b[0m     \u001b[38;5;241m*\u001b[39m\u001b[38;5;241m*\u001b[39mkwargs,\n\u001b[1;32m   4637\u001b[0m ) \u001b[38;5;241m-\u001b[39m\u001b[38;5;241m>\u001b[39m DataFrame \u001b[38;5;241m|\u001b[39m Series:\n\u001b[1;32m   4638\u001b[0m \u001b[38;5;250m    \u001b[39m\u001b[38;5;124;03m\"\"\"\u001b[39;00m\n\u001b[1;32m   4639\u001b[0m \u001b[38;5;124;03m    Invoke function on values of Series.\u001b[39;00m\n\u001b[1;32m   4640\u001b[0m \n\u001b[0;32m   (...)\u001b[0m\n\u001b[1;32m   4755\u001b[0m \u001b[38;5;124;03m    dtype: float64\u001b[39;00m\n\u001b[1;32m   4756\u001b[0m \u001b[38;5;124;03m    \"\"\"\u001b[39;00m\n\u001b[1;32m   4757\u001b[0m     \u001b[38;5;28;01mreturn\u001b[39;00m SeriesApply(\n\u001b[1;32m   4758\u001b[0m         \u001b[38;5;28mself\u001b[39m,\n\u001b[1;32m   4759\u001b[0m         func,\n\u001b[1;32m   4760\u001b[0m         convert_dtype\u001b[38;5;241m=\u001b[39mconvert_dtype,\n\u001b[1;32m   4761\u001b[0m         by_row\u001b[38;5;241m=\u001b[39mby_row,\n\u001b[1;32m   4762\u001b[0m         args\u001b[38;5;241m=\u001b[39margs,\n\u001b[1;32m   4763\u001b[0m         kwargs\u001b[38;5;241m=\u001b[39mkwargs,\n\u001b[0;32m-> 4764\u001b[0m     )\u001b[38;5;241m.\u001b[39mapply()\n",
      "File \u001b[0;32m/opt/anaconda3/lib/python3.11/site-packages/pandas/core/apply.py:1209\u001b[0m, in \u001b[0;36mSeriesApply.apply\u001b[0;34m(self)\u001b[0m\n\u001b[1;32m   1206\u001b[0m     \u001b[38;5;28;01mreturn\u001b[39;00m \u001b[38;5;28mself\u001b[39m\u001b[38;5;241m.\u001b[39mapply_compat()\n\u001b[1;32m   1208\u001b[0m \u001b[38;5;66;03m# self.func is Callable\u001b[39;00m\n\u001b[0;32m-> 1209\u001b[0m \u001b[38;5;28;01mreturn\u001b[39;00m \u001b[38;5;28mself\u001b[39m\u001b[38;5;241m.\u001b[39mapply_standard()\n",
      "File \u001b[0;32m/opt/anaconda3/lib/python3.11/site-packages/pandas/core/apply.py:1289\u001b[0m, in \u001b[0;36mSeriesApply.apply_standard\u001b[0;34m(self)\u001b[0m\n\u001b[1;32m   1283\u001b[0m \u001b[38;5;66;03m# row-wise access\u001b[39;00m\n\u001b[1;32m   1284\u001b[0m \u001b[38;5;66;03m# apply doesn't have a `na_action` keyword and for backward compat reasons\u001b[39;00m\n\u001b[1;32m   1285\u001b[0m \u001b[38;5;66;03m# we need to give `na_action=\"ignore\"` for categorical data.\u001b[39;00m\n\u001b[1;32m   1286\u001b[0m \u001b[38;5;66;03m# TODO: remove the `na_action=\"ignore\"` when that default has been changed in\u001b[39;00m\n\u001b[1;32m   1287\u001b[0m \u001b[38;5;66;03m#  Categorical (GH51645).\u001b[39;00m\n\u001b[1;32m   1288\u001b[0m action \u001b[38;5;241m=\u001b[39m \u001b[38;5;124m\"\u001b[39m\u001b[38;5;124mignore\u001b[39m\u001b[38;5;124m\"\u001b[39m \u001b[38;5;28;01mif\u001b[39;00m \u001b[38;5;28misinstance\u001b[39m(obj\u001b[38;5;241m.\u001b[39mdtype, CategoricalDtype) \u001b[38;5;28;01melse\u001b[39;00m \u001b[38;5;28;01mNone\u001b[39;00m\n\u001b[0;32m-> 1289\u001b[0m mapped \u001b[38;5;241m=\u001b[39m obj\u001b[38;5;241m.\u001b[39m_map_values(\n\u001b[1;32m   1290\u001b[0m     mapper\u001b[38;5;241m=\u001b[39mcurried, na_action\u001b[38;5;241m=\u001b[39maction, convert\u001b[38;5;241m=\u001b[39m\u001b[38;5;28mself\u001b[39m\u001b[38;5;241m.\u001b[39mconvert_dtype\n\u001b[1;32m   1291\u001b[0m )\n\u001b[1;32m   1293\u001b[0m \u001b[38;5;28;01mif\u001b[39;00m \u001b[38;5;28mlen\u001b[39m(mapped) \u001b[38;5;129;01mand\u001b[39;00m \u001b[38;5;28misinstance\u001b[39m(mapped[\u001b[38;5;241m0\u001b[39m], ABCSeries):\n\u001b[1;32m   1294\u001b[0m     \u001b[38;5;66;03m# GH#43986 Need to do list(mapped) in order to get treated as nested\u001b[39;00m\n\u001b[1;32m   1295\u001b[0m     \u001b[38;5;66;03m#  See also GH#25959 regarding EA support\u001b[39;00m\n\u001b[1;32m   1296\u001b[0m     \u001b[38;5;28;01mreturn\u001b[39;00m obj\u001b[38;5;241m.\u001b[39m_constructor_expanddim(\u001b[38;5;28mlist\u001b[39m(mapped), index\u001b[38;5;241m=\u001b[39mobj\u001b[38;5;241m.\u001b[39mindex)\n",
      "File \u001b[0;32m/opt/anaconda3/lib/python3.11/site-packages/pandas/core/base.py:921\u001b[0m, in \u001b[0;36mIndexOpsMixin._map_values\u001b[0;34m(self, mapper, na_action, convert)\u001b[0m\n\u001b[1;32m    918\u001b[0m \u001b[38;5;28;01mif\u001b[39;00m \u001b[38;5;28misinstance\u001b[39m(arr, ExtensionArray):\n\u001b[1;32m    919\u001b[0m     \u001b[38;5;28;01mreturn\u001b[39;00m arr\u001b[38;5;241m.\u001b[39mmap(mapper, na_action\u001b[38;5;241m=\u001b[39mna_action)\n\u001b[0;32m--> 921\u001b[0m \u001b[38;5;28;01mreturn\u001b[39;00m algorithms\u001b[38;5;241m.\u001b[39mmap_array(arr, mapper, na_action\u001b[38;5;241m=\u001b[39mna_action, convert\u001b[38;5;241m=\u001b[39mconvert)\n",
      "File \u001b[0;32m/opt/anaconda3/lib/python3.11/site-packages/pandas/core/algorithms.py:1814\u001b[0m, in \u001b[0;36mmap_array\u001b[0;34m(arr, mapper, na_action, convert)\u001b[0m\n\u001b[1;32m   1812\u001b[0m values \u001b[38;5;241m=\u001b[39m arr\u001b[38;5;241m.\u001b[39mastype(\u001b[38;5;28mobject\u001b[39m, copy\u001b[38;5;241m=\u001b[39m\u001b[38;5;28;01mFalse\u001b[39;00m)\n\u001b[1;32m   1813\u001b[0m \u001b[38;5;28;01mif\u001b[39;00m na_action \u001b[38;5;129;01mis\u001b[39;00m \u001b[38;5;28;01mNone\u001b[39;00m:\n\u001b[0;32m-> 1814\u001b[0m     \u001b[38;5;28;01mreturn\u001b[39;00m lib\u001b[38;5;241m.\u001b[39mmap_infer(values, mapper, convert\u001b[38;5;241m=\u001b[39mconvert)\n\u001b[1;32m   1815\u001b[0m \u001b[38;5;28;01melse\u001b[39;00m:\n\u001b[1;32m   1816\u001b[0m     \u001b[38;5;28;01mreturn\u001b[39;00m lib\u001b[38;5;241m.\u001b[39mmap_infer_mask(\n\u001b[1;32m   1817\u001b[0m         values, mapper, mask\u001b[38;5;241m=\u001b[39misna(values)\u001b[38;5;241m.\u001b[39mview(np\u001b[38;5;241m.\u001b[39muint8), convert\u001b[38;5;241m=\u001b[39mconvert\n\u001b[1;32m   1818\u001b[0m     )\n",
      "File \u001b[0;32mlib.pyx:2926\u001b[0m, in \u001b[0;36mpandas._libs.lib.map_infer\u001b[0;34m()\u001b[0m\n",
      "File \u001b[0;32m/opt/anaconda3/lib/python3.11/site-packages/cufflinks/plotlytools.py:849\u001b[0m, in \u001b[0;36m_iplot.<locals>.<lambda>\u001b[0;34m(x)\u001b[0m\n\u001b[1;32m    847\u001b[0m \u001b[38;5;28;01mif\u001b[39;00m kind\u001b[38;5;241m==\u001b[39m\u001b[38;5;124m'\u001b[39m\u001b[38;5;124mspread\u001b[39m\u001b[38;5;124m'\u001b[39m:\n\u001b[1;32m    848\u001b[0m \ttrace\u001b[38;5;241m=\u001b[39m\u001b[38;5;28mself\u001b[39m\u001b[38;5;241m.\u001b[39mapply(\u001b[38;5;28;01mlambda\u001b[39;00m x:x[\u001b[38;5;241m0\u001b[39m]\u001b[38;5;241m-\u001b[39mx[\u001b[38;5;241m1\u001b[39m],axis\u001b[38;5;241m=\u001b[39m\u001b[38;5;241m1\u001b[39m)\n\u001b[0;32m--> 849\u001b[0m \tpositive\u001b[38;5;241m=\u001b[39mtrace\u001b[38;5;241m.\u001b[39mapply(\u001b[38;5;28;01mlambda\u001b[39;00m x:x \u001b[38;5;28;01mif\u001b[39;00m x\u001b[38;5;241m>\u001b[39m\u001b[38;5;241m=\u001b[39m\u001b[38;5;241m0\u001b[39m \u001b[38;5;28;01melse\u001b[39;00m pd\u001b[38;5;241m.\u001b[39mnp\u001b[38;5;241m.\u001b[39mnan)\n\u001b[1;32m    850\u001b[0m \tnegative\u001b[38;5;241m=\u001b[39mtrace\u001b[38;5;241m.\u001b[39mapply(\u001b[38;5;28;01mlambda\u001b[39;00m x:x \u001b[38;5;28;01mif\u001b[39;00m x\u001b[38;5;241m<\u001b[39m\u001b[38;5;241m0\u001b[39m \u001b[38;5;28;01melse\u001b[39;00m pd\u001b[38;5;241m.\u001b[39mnp\u001b[38;5;241m.\u001b[39mnan)\n\u001b[1;32m    851\u001b[0m \ttrace\u001b[38;5;241m=\u001b[39mpd\u001b[38;5;241m.\u001b[39mDataFrame({\u001b[38;5;124m'\u001b[39m\u001b[38;5;124mpositive\u001b[39m\u001b[38;5;124m'\u001b[39m:positive,\u001b[38;5;124m'\u001b[39m\u001b[38;5;124mnegative\u001b[39m\u001b[38;5;124m'\u001b[39m:negative})\n",
      "\u001b[0;31mAttributeError\u001b[0m: module 'pandas' has no attribute 'np'"
     ]
    }
   ],
   "source": [
    "df[['A','B']].iplot(kind='spread')"
   ]
  },
  {
   "cell_type": "markdown",
   "metadata": {},
   "source": [
    "## histogram"
   ]
  },
  {
   "cell_type": "code",
   "execution_count": 26,
   "metadata": {
    "collapsed": false,
    "jupyter": {
     "outputs_hidden": false
    }
   },
   "outputs": [
    {
     "data": {
      "application/vnd.plotly.v1+json": {
       "config": {
        "linkText": "Export to plot.ly",
        "plotlyServerURL": "https://plot.ly",
        "showLink": true
       },
       "data": [
        {
         "histfunc": "count",
         "histnorm": "",
         "marker": {
          "color": "rgba(255, 153, 51, 1.0)",
          "line": {
           "color": "#4D5663",
           "width": 1.3
          }
         },
         "name": "A",
         "nbinsx": 25,
         "opacity": 0.8,
         "orientation": "v",
         "type": "histogram",
         "x": [
          0.5528846479247638,
          -2.398205930119027,
          -0.3028121147097552,
          0.4955055579660399,
          -0.8031139027427731,
          -1.0439615893646255,
          1.6840254798100713,
          -1.2270555973290076,
          0.03836565760442624,
          -0.7119933256566789,
          1.306205741116208,
          -0.298729867404561,
          -0.7626919498830378,
          -0.6865924844463516,
          0.40668760667413334,
          0.4591508148789853,
          -0.47679836895868144,
          0.12238283386054362,
          -0.2519742371876982,
          -0.5350962519073955,
          0.9495119626283427,
          1.317827160891446,
          0.06555116071136115,
          0.49179795262488285,
          0.10062406066380053,
          0.32118901639531455,
          -0.211126656422741,
          1.0841690624860194,
          0.3892873236104735,
          0.37450011731539384,
          0.7387478968533783,
          1.645689502745466,
          -0.07196554987844637,
          0.23900174535492802,
          0.6409689628833247,
          1.4639297982677268,
          1.3740544669976316,
          0.028651022122856213,
          0.7132598611898975,
          -0.4669090564868793,
          -0.09442894209417246,
          1.0368611520075945,
          1.2363172261610667,
          0.3824133876492034,
          1.3545419182200922,
          1.1829339768784208,
          -0.19995253590227513,
          0.27672726185968394,
          0.000979222163437031,
          1.1198026754737844,
          0.2413950682021842,
          -0.9897486524611538,
          0.969790314908981,
          -0.7233597095313674,
          0.8537501041961911,
          -0.33290215549787927,
          -0.2103438556569867,
          -0.466192267738929,
          -1.1823537998364433,
          1.851959835464232,
          -1.2308259465982763,
          2.4622169560603697,
          0.9465961004381525,
          -2.1211974351879124,
          0.5863806468807722,
          -0.6106802223716836,
          -0.604000303410238,
          -2.0524370532876093,
          0.09028238740701096,
          -0.2324593934384782,
          1.019924496688148,
          1.1891483232697713,
          0.4713522395845208,
          0.47272716034600604,
          -1.3138557741641002,
          -1.3422754707240987,
          -0.1202028018800572,
          0.3874772662295193,
          0.011290612252812894,
          -1.2153978471663942,
          0.22593818094665838,
          0.032367283112389796,
          0.33515367135340945,
          0.8229895475611503,
          -1.9283577588198613,
          -0.2864119360756065,
          1.6941256129076236,
          -0.6245918701287434,
          -1.2634541802059043,
          -1.1407703435522039,
          0.7356260860775407,
          -0.29457276598016724,
          0.2839443237372972,
          0.935454658824385,
          2.877734237945691,
          -1.1702742402057313,
          -1.4944762966648328,
          -1.2815063454992062,
          -0.9770578514226053,
          1.3034403383361466
         ]
        }
       ],
       "layout": {
        "autosize": true,
        "barmode": "overlay",
        "legend": {
         "bgcolor": "#F5F6F9",
         "font": {
          "color": "#4D5663"
         }
        },
        "paper_bgcolor": "#F5F6F9",
        "plot_bgcolor": "#F5F6F9",
        "template": {
         "data": {
          "bar": [
           {
            "error_x": {
             "color": "#2a3f5f"
            },
            "error_y": {
             "color": "#2a3f5f"
            },
            "marker": {
             "line": {
              "color": "#E5ECF6",
              "width": 0.5
             },
             "pattern": {
              "fillmode": "overlay",
              "size": 10,
              "solidity": 0.2
             }
            },
            "type": "bar"
           }
          ],
          "barpolar": [
           {
            "marker": {
             "line": {
              "color": "#E5ECF6",
              "width": 0.5
             },
             "pattern": {
              "fillmode": "overlay",
              "size": 10,
              "solidity": 0.2
             }
            },
            "type": "barpolar"
           }
          ],
          "carpet": [
           {
            "aaxis": {
             "endlinecolor": "#2a3f5f",
             "gridcolor": "white",
             "linecolor": "white",
             "minorgridcolor": "white",
             "startlinecolor": "#2a3f5f"
            },
            "baxis": {
             "endlinecolor": "#2a3f5f",
             "gridcolor": "white",
             "linecolor": "white",
             "minorgridcolor": "white",
             "startlinecolor": "#2a3f5f"
            },
            "type": "carpet"
           }
          ],
          "choropleth": [
           {
            "colorbar": {
             "outlinewidth": 0,
             "ticks": ""
            },
            "type": "choropleth"
           }
          ],
          "contour": [
           {
            "colorbar": {
             "outlinewidth": 0,
             "ticks": ""
            },
            "colorscale": [
             [
              0,
              "#0d0887"
             ],
             [
              0.1111111111111111,
              "#46039f"
             ],
             [
              0.2222222222222222,
              "#7201a8"
             ],
             [
              0.3333333333333333,
              "#9c179e"
             ],
             [
              0.4444444444444444,
              "#bd3786"
             ],
             [
              0.5555555555555556,
              "#d8576b"
             ],
             [
              0.6666666666666666,
              "#ed7953"
             ],
             [
              0.7777777777777778,
              "#fb9f3a"
             ],
             [
              0.8888888888888888,
              "#fdca26"
             ],
             [
              1,
              "#f0f921"
             ]
            ],
            "type": "contour"
           }
          ],
          "contourcarpet": [
           {
            "colorbar": {
             "outlinewidth": 0,
             "ticks": ""
            },
            "type": "contourcarpet"
           }
          ],
          "heatmap": [
           {
            "colorbar": {
             "outlinewidth": 0,
             "ticks": ""
            },
            "colorscale": [
             [
              0,
              "#0d0887"
             ],
             [
              0.1111111111111111,
              "#46039f"
             ],
             [
              0.2222222222222222,
              "#7201a8"
             ],
             [
              0.3333333333333333,
              "#9c179e"
             ],
             [
              0.4444444444444444,
              "#bd3786"
             ],
             [
              0.5555555555555556,
              "#d8576b"
             ],
             [
              0.6666666666666666,
              "#ed7953"
             ],
             [
              0.7777777777777778,
              "#fb9f3a"
             ],
             [
              0.8888888888888888,
              "#fdca26"
             ],
             [
              1,
              "#f0f921"
             ]
            ],
            "type": "heatmap"
           }
          ],
          "heatmapgl": [
           {
            "colorbar": {
             "outlinewidth": 0,
             "ticks": ""
            },
            "colorscale": [
             [
              0,
              "#0d0887"
             ],
             [
              0.1111111111111111,
              "#46039f"
             ],
             [
              0.2222222222222222,
              "#7201a8"
             ],
             [
              0.3333333333333333,
              "#9c179e"
             ],
             [
              0.4444444444444444,
              "#bd3786"
             ],
             [
              0.5555555555555556,
              "#d8576b"
             ],
             [
              0.6666666666666666,
              "#ed7953"
             ],
             [
              0.7777777777777778,
              "#fb9f3a"
             ],
             [
              0.8888888888888888,
              "#fdca26"
             ],
             [
              1,
              "#f0f921"
             ]
            ],
            "type": "heatmapgl"
           }
          ],
          "histogram": [
           {
            "marker": {
             "pattern": {
              "fillmode": "overlay",
              "size": 10,
              "solidity": 0.2
             }
            },
            "type": "histogram"
           }
          ],
          "histogram2d": [
           {
            "colorbar": {
             "outlinewidth": 0,
             "ticks": ""
            },
            "colorscale": [
             [
              0,
              "#0d0887"
             ],
             [
              0.1111111111111111,
              "#46039f"
             ],
             [
              0.2222222222222222,
              "#7201a8"
             ],
             [
              0.3333333333333333,
              "#9c179e"
             ],
             [
              0.4444444444444444,
              "#bd3786"
             ],
             [
              0.5555555555555556,
              "#d8576b"
             ],
             [
              0.6666666666666666,
              "#ed7953"
             ],
             [
              0.7777777777777778,
              "#fb9f3a"
             ],
             [
              0.8888888888888888,
              "#fdca26"
             ],
             [
              1,
              "#f0f921"
             ]
            ],
            "type": "histogram2d"
           }
          ],
          "histogram2dcontour": [
           {
            "colorbar": {
             "outlinewidth": 0,
             "ticks": ""
            },
            "colorscale": [
             [
              0,
              "#0d0887"
             ],
             [
              0.1111111111111111,
              "#46039f"
             ],
             [
              0.2222222222222222,
              "#7201a8"
             ],
             [
              0.3333333333333333,
              "#9c179e"
             ],
             [
              0.4444444444444444,
              "#bd3786"
             ],
             [
              0.5555555555555556,
              "#d8576b"
             ],
             [
              0.6666666666666666,
              "#ed7953"
             ],
             [
              0.7777777777777778,
              "#fb9f3a"
             ],
             [
              0.8888888888888888,
              "#fdca26"
             ],
             [
              1,
              "#f0f921"
             ]
            ],
            "type": "histogram2dcontour"
           }
          ],
          "mesh3d": [
           {
            "colorbar": {
             "outlinewidth": 0,
             "ticks": ""
            },
            "type": "mesh3d"
           }
          ],
          "parcoords": [
           {
            "line": {
             "colorbar": {
              "outlinewidth": 0,
              "ticks": ""
             }
            },
            "type": "parcoords"
           }
          ],
          "pie": [
           {
            "automargin": true,
            "type": "pie"
           }
          ],
          "scatter": [
           {
            "fillpattern": {
             "fillmode": "overlay",
             "size": 10,
             "solidity": 0.2
            },
            "type": "scatter"
           }
          ],
          "scatter3d": [
           {
            "line": {
             "colorbar": {
              "outlinewidth": 0,
              "ticks": ""
             }
            },
            "marker": {
             "colorbar": {
              "outlinewidth": 0,
              "ticks": ""
             }
            },
            "type": "scatter3d"
           }
          ],
          "scattercarpet": [
           {
            "marker": {
             "colorbar": {
              "outlinewidth": 0,
              "ticks": ""
             }
            },
            "type": "scattercarpet"
           }
          ],
          "scattergeo": [
           {
            "marker": {
             "colorbar": {
              "outlinewidth": 0,
              "ticks": ""
             }
            },
            "type": "scattergeo"
           }
          ],
          "scattergl": [
           {
            "marker": {
             "colorbar": {
              "outlinewidth": 0,
              "ticks": ""
             }
            },
            "type": "scattergl"
           }
          ],
          "scattermapbox": [
           {
            "marker": {
             "colorbar": {
              "outlinewidth": 0,
              "ticks": ""
             }
            },
            "type": "scattermapbox"
           }
          ],
          "scatterpolar": [
           {
            "marker": {
             "colorbar": {
              "outlinewidth": 0,
              "ticks": ""
             }
            },
            "type": "scatterpolar"
           }
          ],
          "scatterpolargl": [
           {
            "marker": {
             "colorbar": {
              "outlinewidth": 0,
              "ticks": ""
             }
            },
            "type": "scatterpolargl"
           }
          ],
          "scatterternary": [
           {
            "marker": {
             "colorbar": {
              "outlinewidth": 0,
              "ticks": ""
             }
            },
            "type": "scatterternary"
           }
          ],
          "surface": [
           {
            "colorbar": {
             "outlinewidth": 0,
             "ticks": ""
            },
            "colorscale": [
             [
              0,
              "#0d0887"
             ],
             [
              0.1111111111111111,
              "#46039f"
             ],
             [
              0.2222222222222222,
              "#7201a8"
             ],
             [
              0.3333333333333333,
              "#9c179e"
             ],
             [
              0.4444444444444444,
              "#bd3786"
             ],
             [
              0.5555555555555556,
              "#d8576b"
             ],
             [
              0.6666666666666666,
              "#ed7953"
             ],
             [
              0.7777777777777778,
              "#fb9f3a"
             ],
             [
              0.8888888888888888,
              "#fdca26"
             ],
             [
              1,
              "#f0f921"
             ]
            ],
            "type": "surface"
           }
          ],
          "table": [
           {
            "cells": {
             "fill": {
              "color": "#EBF0F8"
             },
             "line": {
              "color": "white"
             }
            },
            "header": {
             "fill": {
              "color": "#C8D4E3"
             },
             "line": {
              "color": "white"
             }
            },
            "type": "table"
           }
          ]
         },
         "layout": {
          "annotationdefaults": {
           "arrowcolor": "#2a3f5f",
           "arrowhead": 0,
           "arrowwidth": 1
          },
          "autotypenumbers": "strict",
          "coloraxis": {
           "colorbar": {
            "outlinewidth": 0,
            "ticks": ""
           }
          },
          "colorscale": {
           "diverging": [
            [
             0,
             "#8e0152"
            ],
            [
             0.1,
             "#c51b7d"
            ],
            [
             0.2,
             "#de77ae"
            ],
            [
             0.3,
             "#f1b6da"
            ],
            [
             0.4,
             "#fde0ef"
            ],
            [
             0.5,
             "#f7f7f7"
            ],
            [
             0.6,
             "#e6f5d0"
            ],
            [
             0.7,
             "#b8e186"
            ],
            [
             0.8,
             "#7fbc41"
            ],
            [
             0.9,
             "#4d9221"
            ],
            [
             1,
             "#276419"
            ]
           ],
           "sequential": [
            [
             0,
             "#0d0887"
            ],
            [
             0.1111111111111111,
             "#46039f"
            ],
            [
             0.2222222222222222,
             "#7201a8"
            ],
            [
             0.3333333333333333,
             "#9c179e"
            ],
            [
             0.4444444444444444,
             "#bd3786"
            ],
            [
             0.5555555555555556,
             "#d8576b"
            ],
            [
             0.6666666666666666,
             "#ed7953"
            ],
            [
             0.7777777777777778,
             "#fb9f3a"
            ],
            [
             0.8888888888888888,
             "#fdca26"
            ],
            [
             1,
             "#f0f921"
            ]
           ],
           "sequentialminus": [
            [
             0,
             "#0d0887"
            ],
            [
             0.1111111111111111,
             "#46039f"
            ],
            [
             0.2222222222222222,
             "#7201a8"
            ],
            [
             0.3333333333333333,
             "#9c179e"
            ],
            [
             0.4444444444444444,
             "#bd3786"
            ],
            [
             0.5555555555555556,
             "#d8576b"
            ],
            [
             0.6666666666666666,
             "#ed7953"
            ],
            [
             0.7777777777777778,
             "#fb9f3a"
            ],
            [
             0.8888888888888888,
             "#fdca26"
            ],
            [
             1,
             "#f0f921"
            ]
           ]
          },
          "colorway": [
           "#636efa",
           "#EF553B",
           "#00cc96",
           "#ab63fa",
           "#FFA15A",
           "#19d3f3",
           "#FF6692",
           "#B6E880",
           "#FF97FF",
           "#FECB52"
          ],
          "font": {
           "color": "#2a3f5f"
          },
          "geo": {
           "bgcolor": "white",
           "lakecolor": "white",
           "landcolor": "#E5ECF6",
           "showlakes": true,
           "showland": true,
           "subunitcolor": "white"
          },
          "hoverlabel": {
           "align": "left"
          },
          "hovermode": "closest",
          "mapbox": {
           "style": "light"
          },
          "paper_bgcolor": "white",
          "plot_bgcolor": "#E5ECF6",
          "polar": {
           "angularaxis": {
            "gridcolor": "white",
            "linecolor": "white",
            "ticks": ""
           },
           "bgcolor": "#E5ECF6",
           "radialaxis": {
            "gridcolor": "white",
            "linecolor": "white",
            "ticks": ""
           }
          },
          "scene": {
           "xaxis": {
            "backgroundcolor": "#E5ECF6",
            "gridcolor": "white",
            "gridwidth": 2,
            "linecolor": "white",
            "showbackground": true,
            "ticks": "",
            "zerolinecolor": "white"
           },
           "yaxis": {
            "backgroundcolor": "#E5ECF6",
            "gridcolor": "white",
            "gridwidth": 2,
            "linecolor": "white",
            "showbackground": true,
            "ticks": "",
            "zerolinecolor": "white"
           },
           "zaxis": {
            "backgroundcolor": "#E5ECF6",
            "gridcolor": "white",
            "gridwidth": 2,
            "linecolor": "white",
            "showbackground": true,
            "ticks": "",
            "zerolinecolor": "white"
           }
          },
          "shapedefaults": {
           "line": {
            "color": "#2a3f5f"
           }
          },
          "ternary": {
           "aaxis": {
            "gridcolor": "white",
            "linecolor": "white",
            "ticks": ""
           },
           "baxis": {
            "gridcolor": "white",
            "linecolor": "white",
            "ticks": ""
           },
           "bgcolor": "#E5ECF6",
           "caxis": {
            "gridcolor": "white",
            "linecolor": "white",
            "ticks": ""
           }
          },
          "title": {
           "x": 0.05
          },
          "xaxis": {
           "automargin": true,
           "gridcolor": "white",
           "linecolor": "white",
           "ticks": "",
           "title": {
            "standoff": 15
           },
           "zerolinecolor": "white",
           "zerolinewidth": 2
          },
          "yaxis": {
           "automargin": true,
           "gridcolor": "white",
           "linecolor": "white",
           "ticks": "",
           "title": {
            "standoff": 15
           },
           "zerolinecolor": "white",
           "zerolinewidth": 2
          }
         }
        },
        "title": {
         "font": {
          "color": "#4D5663"
         }
        },
        "xaxis": {
         "autorange": true,
         "gridcolor": "#E1E5ED",
         "range": [
          -2.5,
          3
         ],
         "showgrid": true,
         "tickfont": {
          "color": "#4D5663"
         },
         "title": {
          "font": {
           "color": "#4D5663"
          },
          "text": ""
         },
         "type": "linear",
         "zerolinecolor": "#E1E5ED"
        },
        "yaxis": {
         "autorange": true,
         "gridcolor": "#E1E5ED",
         "range": [
          0,
          27.36842105263158
         ],
         "showgrid": true,
         "tickfont": {
          "color": "#4D5663"
         },
         "title": {
          "font": {
           "color": "#4D5663"
          },
          "text": ""
         },
         "zerolinecolor": "#E1E5ED"
        }
       }
      },
      "image/png": "[encoded data removed]",
      "text/html": [
       "<div>                            <div id=\"0ffd0534-82dd-4eab-bc0c-72db32cc2d02\" class=\"plotly-graph-div\" style=\"height:525px; width:100%;\"></div>            <script type=\"text/javascript\">                require([\"plotly\"], function(Plotly) {                    window.PLOTLYENV=window.PLOTLYENV || {};\n",
       "                    window.PLOTLYENV.BASE_URL='https://plot.ly';                                    if (document.getElementById(\"0ffd0534-82dd-4eab-bc0c-72db32cc2d02\")) {                    Plotly.newPlot(                        \"0ffd0534-82dd-4eab-bc0c-72db32cc2d02\",                        [{\"histfunc\":\"count\",\"histnorm\":\"\",\"marker\":{\"color\":\"rgba(255, 153, 51, 1.0)\",\"line\":{\"color\":\"#4D5663\",\"width\":1.3}},\"name\":\"A\",\"nbinsx\":25,\"opacity\":0.8,\"orientation\":\"v\",\"x\":[0.5528846479247638,-2.398205930119027,-0.3028121147097552,0.4955055579660399,-0.8031139027427731,-1.0439615893646255,1.6840254798100713,-1.2270555973290076,0.03836565760442624,-0.7119933256566789,1.306205741116208,-0.298729867404561,-0.7626919498830378,-0.6865924844463516,0.40668760667413334,0.4591508148789853,-0.47679836895868144,0.12238283386054362,-0.2519742371876982,-0.5350962519073955,0.9495119626283427,1.317827160891446,0.06555116071136115,0.49179795262488285,0.10062406066380053,0.32118901639531455,-0.211126656422741,1.0841690624860194,0.3892873236104735,0.37450011731539384,0.7387478968533783,1.645689502745466,-0.07196554987844637,0.23900174535492802,0.6409689628833247,1.4639297982677268,1.3740544669976316,0.028651022122856213,0.7132598611898975,-0.4669090564868793,-0.09442894209417246,1.0368611520075945,1.2363172261610667,0.3824133876492034,1.3545419182200922,1.1829339768784208,-0.19995253590227513,0.27672726185968394,0.000979222163437031,1.1198026754737844,0.2413950682021842,-0.9897486524611538,0.969790314908981,-0.7233597095313674,0.8537501041961911,-0.33290215549787927,-0.2103438556569867,-0.466192267738929,-1.1823537998364433,1.851959835464232,-1.2308259465982763,2.4622169560603697,0.9465961004381525,-2.1211974351879124,0.5863806468807722,-0.6106802223716836,-0.604000303410238,-2.0524370532876093,0.09028238740701096,-0.2324593934384782,1.019924496688148,1.1891483232697713,0.4713522395845208,0.47272716034600604,-1.3138557741641002,-1.3422754707240987,-0.1202028018800572,0.3874772662295193,0.011290612252812894,-1.2153978471663942,0.22593818094665838,0.032367283112389796,0.33515367135340945,0.8229895475611503,-1.9283577588198613,-0.2864119360756065,1.6941256129076236,-0.6245918701287434,-1.2634541802059043,-1.1407703435522039,0.7356260860775407,-0.29457276598016724,0.2839443237372972,0.935454658824385,2.877734237945691,-1.1702742402057313,-1.4944762966648328,-1.2815063454992062,-0.9770578514226053,1.3034403383361466],\"type\":\"histogram\"}],                        {\"barmode\":\"overlay\",\"legend\":{\"bgcolor\":\"#F5F6F9\",\"font\":{\"color\":\"#4D5663\"}},\"paper_bgcolor\":\"#F5F6F9\",\"plot_bgcolor\":\"#F5F6F9\",\"template\":{\"data\":{\"barpolar\":[{\"marker\":{\"line\":{\"color\":\"#E5ECF6\",\"width\":0.5},\"pattern\":{\"fillmode\":\"overlay\",\"size\":10,\"solidity\":0.2}},\"type\":\"barpolar\"}],\"bar\":[{\"error_x\":{\"color\":\"#2a3f5f\"},\"error_y\":{\"color\":\"#2a3f5f\"},\"marker\":{\"line\":{\"color\":\"#E5ECF6\",\"width\":0.5},\"pattern\":{\"fillmode\":\"overlay\",\"size\":10,\"solidity\":0.2}},\"type\":\"bar\"}],\"carpet\":[{\"aaxis\":{\"endlinecolor\":\"#2a3f5f\",\"gridcolor\":\"white\",\"linecolor\":\"white\",\"minorgridcolor\":\"white\",\"startlinecolor\":\"#2a3f5f\"},\"baxis\":{\"endlinecolor\":\"#2a3f5f\",\"gridcolor\":\"white\",\"linecolor\":\"white\",\"minorgridcolor\":\"white\",\"startlinecolor\":\"#2a3f5f\"},\"type\":\"carpet\"}],\"choropleth\":[{\"colorbar\":{\"outlinewidth\":0,\"ticks\":\"\"},\"type\":\"choropleth\"}],\"contourcarpet\":[{\"colorbar\":{\"outlinewidth\":0,\"ticks\":\"\"},\"type\":\"contourcarpet\"}],\"contour\":[{\"colorbar\":{\"outlinewidth\":0,\"ticks\":\"\"},\"colorscale\":[[0.0,\"#0d0887\"],[0.1111111111111111,\"#46039f\"],[0.2222222222222222,\"#7201a8\"],[0.3333333333333333,\"#9c179e\"],[0.4444444444444444,\"#bd3786\"],[0.5555555555555556,\"#d8576b\"],[0.6666666666666666,\"#ed7953\"],[0.7777777777777778,\"#fb9f3a\"],[0.8888888888888888,\"#fdca26\"],[1.0,\"#f0f921\"]],\"type\":\"contour\"}],\"heatmapgl\":[{\"colorbar\":{\"outlinewidth\":0,\"ticks\":\"\"},\"colorscale\":[[0.0,\"#0d0887\"],[0.1111111111111111,\"#46039f\"],[0.2222222222222222,\"#7201a8\"],[0.3333333333333333,\"#9c179e\"],[0.4444444444444444,\"#bd3786\"],[0.5555555555555556,\"#d8576b\"],[0.6666666666666666,\"#ed7953\"],[0.7777777777777778,\"#fb9f3a\"],[0.8888888888888888,\"#fdca26\"],[1.0,\"#f0f921\"]],\"type\":\"heatmapgl\"}],\"heatmap\":[{\"colorbar\":{\"outlinewidth\":0,\"ticks\":\"\"},\"colorscale\":[[0.0,\"#0d0887\"],[0.1111111111111111,\"#46039f\"],[0.2222222222222222,\"#7201a8\"],[0.3333333333333333,\"#9c179e\"],[0.4444444444444444,\"#bd3786\"],[0.5555555555555556,\"#d8576b\"],[0.6666666666666666,\"#ed7953\"],[0.7777777777777778,\"#fb9f3a\"],[0.8888888888888888,\"#fdca26\"],[1.0,\"#f0f921\"]],\"type\":\"heatmap\"}],\"histogram2dcontour\":[{\"colorbar\":{\"outlinewidth\":0,\"ticks\":\"\"},\"colorscale\":[[0.0,\"#0d0887\"],[0.1111111111111111,\"#46039f\"],[0.2222222222222222,\"#7201a8\"],[0.3333333333333333,\"#9c179e\"],[0.4444444444444444,\"#bd3786\"],[0.5555555555555556,\"#d8576b\"],[0.6666666666666666,\"#ed7953\"],[0.7777777777777778,\"#fb9f3a\"],[0.8888888888888888,\"#fdca26\"],[1.0,\"#f0f921\"]],\"type\":\"histogram2dcontour\"}],\"histogram2d\":[{\"colorbar\":{\"outlinewidth\":0,\"ticks\":\"\"},\"colorscale\":[[0.0,\"#0d0887\"],[0.1111111111111111,\"#46039f\"],[0.2222222222222222,\"#7201a8\"],[0.3333333333333333,\"#9c179e\"],[0.4444444444444444,\"#bd3786\"],[0.5555555555555556,\"#d8576b\"],[0.6666666666666666,\"#ed7953\"],[0.7777777777777778,\"#fb9f3a\"],[0.8888888888888888,\"#fdca26\"],[1.0,\"#f0f921\"]],\"type\":\"histogram2d\"}],\"histogram\":[{\"marker\":{\"pattern\":{\"fillmode\":\"overlay\",\"size\":10,\"solidity\":0.2}},\"type\":\"histogram\"}],\"mesh3d\":[{\"colorbar\":{\"outlinewidth\":0,\"ticks\":\"\"},\"type\":\"mesh3d\"}],\"parcoords\":[{\"line\":{\"colorbar\":{\"outlinewidth\":0,\"ticks\":\"\"}},\"type\":\"parcoords\"}],\"pie\":[{\"automargin\":true,\"type\":\"pie\"}],\"scatter3d\":[{\"line\":{\"colorbar\":{\"outlinewidth\":0,\"ticks\":\"\"}},\"marker\":{\"colorbar\":{\"outlinewidth\":0,\"ticks\":\"\"}},\"type\":\"scatter3d\"}],\"scattercarpet\":[{\"marker\":{\"colorbar\":{\"outlinewidth\":0,\"ticks\":\"\"}},\"type\":\"scattercarpet\"}],\"scattergeo\":[{\"marker\":{\"colorbar\":{\"outlinewidth\":0,\"ticks\":\"\"}},\"type\":\"scattergeo\"}],\"scattergl\":[{\"marker\":{\"colorbar\":{\"outlinewidth\":0,\"ticks\":\"\"}},\"type\":\"scattergl\"}],\"scattermapbox\":[{\"marker\":{\"colorbar\":{\"outlinewidth\":0,\"ticks\":\"\"}},\"type\":\"scattermapbox\"}],\"scatterpolargl\":[{\"marker\":{\"colorbar\":{\"outlinewidth\":0,\"ticks\":\"\"}},\"type\":\"scatterpolargl\"}],\"scatterpolar\":[{\"marker\":{\"colorbar\":{\"outlinewidth\":0,\"ticks\":\"\"}},\"type\":\"scatterpolar\"}],\"scatter\":[{\"fillpattern\":{\"fillmode\":\"overlay\",\"size\":10,\"solidity\":0.2},\"type\":\"scatter\"}],\"scatterternary\":[{\"marker\":{\"colorbar\":{\"outlinewidth\":0,\"ticks\":\"\"}},\"type\":\"scatterternary\"}],\"surface\":[{\"colorbar\":{\"outlinewidth\":0,\"ticks\":\"\"},\"colorscale\":[[0.0,\"#0d0887\"],[0.1111111111111111,\"#46039f\"],[0.2222222222222222,\"#7201a8\"],[0.3333333333333333,\"#9c179e\"],[0.4444444444444444,\"#bd3786\"],[0.5555555555555556,\"#d8576b\"],[0.6666666666666666,\"#ed7953\"],[0.7777777777777778,\"#fb9f3a\"],[0.8888888888888888,\"#fdca26\"],[1.0,\"#f0f921\"]],\"type\":\"surface\"}],\"table\":[{\"cells\":{\"fill\":{\"color\":\"#EBF0F8\"},\"line\":{\"color\":\"white\"}},\"header\":{\"fill\":{\"color\":\"#C8D4E3\"},\"line\":{\"color\":\"white\"}},\"type\":\"table\"}]},\"layout\":{\"annotationdefaults\":{\"arrowcolor\":\"#2a3f5f\",\"arrowhead\":0,\"arrowwidth\":1},\"autotypenumbers\":\"strict\",\"coloraxis\":{\"colorbar\":{\"outlinewidth\":0,\"ticks\":\"\"}},\"colorscale\":{\"diverging\":[[0,\"#8e0152\"],[0.1,\"#c51b7d\"],[0.2,\"#de77ae\"],[0.3,\"#f1b6da\"],[0.4,\"#fde0ef\"],[0.5,\"#f7f7f7\"],[0.6,\"#e6f5d0\"],[0.7,\"#b8e186\"],[0.8,\"#7fbc41\"],[0.9,\"#4d9221\"],[1,\"#276419\"]],\"sequential\":[[0.0,\"#0d0887\"],[0.1111111111111111,\"#46039f\"],[0.2222222222222222,\"#7201a8\"],[0.3333333333333333,\"#9c179e\"],[0.4444444444444444,\"#bd3786\"],[0.5555555555555556,\"#d8576b\"],[0.6666666666666666,\"#ed7953\"],[0.7777777777777778,\"#fb9f3a\"],[0.8888888888888888,\"#fdca26\"],[1.0,\"#f0f921\"]],\"sequentialminus\":[[0.0,\"#0d0887\"],[0.1111111111111111,\"#46039f\"],[0.2222222222222222,\"#7201a8\"],[0.3333333333333333,\"#9c179e\"],[0.4444444444444444,\"#bd3786\"],[0.5555555555555556,\"#d8576b\"],[0.6666666666666666,\"#ed7953\"],[0.7777777777777778,\"#fb9f3a\"],[0.8888888888888888,\"#fdca26\"],[1.0,\"#f0f921\"]]},\"colorway\":[\"#636efa\",\"#EF553B\",\"#00cc96\",\"#ab63fa\",\"#FFA15A\",\"#19d3f3\",\"#FF6692\",\"#B6E880\",\"#FF97FF\",\"#FECB52\"],\"font\":{\"color\":\"#2a3f5f\"},\"geo\":{\"bgcolor\":\"white\",\"lakecolor\":\"white\",\"landcolor\":\"#E5ECF6\",\"showlakes\":true,\"showland\":true,\"subunitcolor\":\"white\"},\"hoverlabel\":{\"align\":\"left\"},\"hovermode\":\"closest\",\"mapbox\":{\"style\":\"light\"},\"paper_bgcolor\":\"white\",\"plot_bgcolor\":\"#E5ECF6\",\"polar\":{\"angularaxis\":{\"gridcolor\":\"white\",\"linecolor\":\"white\",\"ticks\":\"\"},\"bgcolor\":\"#E5ECF6\",\"radialaxis\":{\"gridcolor\":\"white\",\"linecolor\":\"white\",\"ticks\":\"\"}},\"scene\":{\"xaxis\":{\"backgroundcolor\":\"#E5ECF6\",\"gridcolor\":\"white\",\"gridwidth\":2,\"linecolor\":\"white\",\"showbackground\":true,\"ticks\":\"\",\"zerolinecolor\":\"white\"},\"yaxis\":{\"backgroundcolor\":\"#E5ECF6\",\"gridcolor\":\"white\",\"gridwidth\":2,\"linecolor\":\"white\",\"showbackground\":true,\"ticks\":\"\",\"zerolinecolor\":\"white\"},\"zaxis\":{\"backgroundcolor\":\"#E5ECF6\",\"gridcolor\":\"white\",\"gridwidth\":2,\"linecolor\":\"white\",\"showbackground\":true,\"ticks\":\"\",\"zerolinecolor\":\"white\"}},\"shapedefaults\":{\"line\":{\"color\":\"#2a3f5f\"}},\"ternary\":{\"aaxis\":{\"gridcolor\":\"white\",\"linecolor\":\"white\",\"ticks\":\"\"},\"baxis\":{\"gridcolor\":\"white\",\"linecolor\":\"white\",\"ticks\":\"\"},\"bgcolor\":\"#E5ECF6\",\"caxis\":{\"gridcolor\":\"white\",\"linecolor\":\"white\",\"ticks\":\"\"}},\"title\":{\"x\":0.05},\"xaxis\":{\"automargin\":true,\"gridcolor\":\"white\",\"linecolor\":\"white\",\"ticks\":\"\",\"title\":{\"standoff\":15},\"zerolinecolor\":\"white\",\"zerolinewidth\":2},\"yaxis\":{\"automargin\":true,\"gridcolor\":\"white\",\"linecolor\":\"white\",\"ticks\":\"\",\"title\":{\"standoff\":15},\"zerolinecolor\":\"white\",\"zerolinewidth\":2}}},\"title\":{\"font\":{\"color\":\"#4D5663\"}},\"xaxis\":{\"gridcolor\":\"#E1E5ED\",\"showgrid\":true,\"tickfont\":{\"color\":\"#4D5663\"},\"title\":{\"font\":{\"color\":\"#4D5663\"},\"text\":\"\"},\"zerolinecolor\":\"#E1E5ED\"},\"yaxis\":{\"gridcolor\":\"#E1E5ED\",\"showgrid\":true,\"tickfont\":{\"color\":\"#4D5663\"},\"title\":{\"font\":{\"color\":\"#4D5663\"},\"text\":\"\"},\"zerolinecolor\":\"#E1E5ED\"}},                        {\"showLink\": true, \"linkText\": \"Export to plot.ly\", \"plotlyServerURL\": \"https://plot.ly\", \"responsive\": true}                    ).then(function(){\n",
       "                            \n",
       "var gd = document.getElementById('0ffd0534-82dd-4eab-bc0c-72db32cc2d02');\n",
       "var x = new MutationObserver(function (mutations, observer) {{\n",
       "        var display = window.getComputedStyle(gd).display;\n",
       "        if (!display || display === 'none') {{\n",
       "            console.log([gd, 'removed!']);\n",
       "            Plotly.purge(gd);\n",
       "            observer.disconnect();\n",
       "        }}\n",
       "}});\n",
       "\n",
       "// Listen for the removal of the full notebook cells\n",
       "var notebookContainer = gd.closest('#notebook-container');\n",
       "if (notebookContainer) {{\n",
       "    x.observe(notebookContainer, {childList: true});\n",
       "}}\n",
       "\n",
       "// Listen for the clearing of the current output cell\n",
       "var outputEl = gd.closest('.output');\n",
       "if (outputEl) {{\n",
       "    x.observe(outputEl, {childList: true});\n",
       "}}\n",
       "\n",
       "                        })                };                });            </script>        </div>"
      ]
     },
     "metadata": {},
     "output_type": "display_data"
    }
   ],
   "source": [
    "df['A'].iplot(kind='hist',bins=25)"
   ]
  },
  {
   "cell_type": "code",
   "execution_count": 60,
   "metadata": {
    "collapsed": false,
    "jupyter": {
     "outputs_hidden": false
    }
   },
   "outputs": [
    {
     "data": {
      "text/html": [
       "<div id=\"e508143e-bcba-4c40-9488-bfdc4040e078\" style=\"height: 525px; width: 100%;\" class=\"plotly-graph-div\"></div><script type=\"text/javascript\">require([\"plotly\"], function(Plotly) { window.PLOTLYENV=window.PLOTLYENV || {};window.PLOTLYENV.BASE_URL=\"https://plot.ly\";Plotly.newPlot(\"e508143e-bcba-4c40-9488-bfdc4040e078\", [{\"mode\": \"markers\", \"text\": \"\", \"y\": [0.6887194376286498, 0.1040535242504629, 0.38792642015276635, 1.3934230260395444, -0.5375976688704683, -1.1493608786796612, 0.01342890849383506, -0.47231861415738574, 0.24793169472844812, -0.6232083144122951, -1.2121596694710122, -2.4542371001007464, 0.29855785553142483, 1.2997620162676498, 0.9168047366909585, -0.41040614900130634, 1.3147531456519106, -0.12455263569370086, 0.9366143523054554, 0.23573463729990726, -0.8244746170540388, -0.32685668230128845, 1.501781503113865, 0.9830012153240587, 0.6020112305361386, 0.3688304138086671, 1.0090827131320237, -0.5811720111587422, 0.0512884505619472, -1.6917643070157176, -0.25322144257612356, -0.2937357494665306, 0.7368726362448421, 0.5763424997076779, 0.16472110066593693, -0.374254076023172, 1.1280304809680426, 0.6455371548668151, -0.18000225503004413, -0.9128911232313937, -0.5670695205365133, 0.16138491502455474, 1.2118733837294762, 0.4444506280024997, 0.6834767601409083, 1.8020727241195935, 2.4230878273709062, 0.27701889696287213, 1.4067122280705426, -0.33728919328412016, 0.5154870435338148, 0.7751019637809062, 1.400130435077449, 0.8276591566099151, 1.1268119555303864, 0.7016118169589718, 0.476169530704683, -0.5261125753709399, -1.2129692872143456, 0.6126338497954396, 1.5825905557818922, -0.8173630045970658, 0.1075602248072928, 1.2716988894407462, -0.15615948990467535, -0.2968566839654392, 1.7204934641303604, -0.869876624137026, 0.28935077735906545, -1.2052876742800458, -0.263979336251353, -0.02815365780209253, -0.04062347728476395, 0.943760296027789, -1.7797735906553165, 0.4485755919087686, 0.14778332986993048, 0.5305019463041807, 1.6359913516932165, -0.3437427119285297, 1.9109783094330681, 0.6818924480193401, -0.42214824562337705, 0.8935317581184008, 1.2587495288352297, -0.5992845246668753, 2.7851237345776405, -1.5158096238899554, 0.04177421570103183, 0.48980398157362903, 1.063643861677667, -0.8486329162129157, -1.86936339853131, 0.24761777046722996, 1.290606988097702, 0.17046338292604407, 0.14181179559597848, 0.6505415244850333, -2.5850581533594545, -0.30813091794721653], \"x\": [1.8787246669561561, 0.028733616663923985, -0.1587931161277573, -1.2219723462024636, 1.2531523973363488, 0.8312132082951045, 1.1740170898586173, -0.24393002059589958, -0.296966543277261, 0.7621695759158762, 0.04210347865555278, -0.7791970481917073, 0.3943032396655093, -1.0146190736152443, -0.4841710096782867, 0.5522466668361006, -2.77187556758784, -0.5181226698708166, -0.49722040792422156, -1.6534757596659548, -0.06027439377033132, 1.4769243769038323, 1.1796346669498379, -0.7816898015019265, 0.8630132212967984, 0.6590246731638996, -1.1013906677685679, -0.9446804895542242, -1.788022470413331, 0.8775002821729455, 0.3546715768521251, -0.16532125735222183, 1.8914747239632839, -1.1251772915449791, 0.8888981026894395, -0.6066117727706714, 0.8314777742724779, 0.3830457069359529, -0.937459527593053, -0.844561047334305, 1.1280232245052606, -1.640427972598561, 0.8971269652786067, 0.4848047458342485, 0.19373507090654035, -0.7387091317560727, -0.3566733282792827, -0.43158335134818315, -0.4899640124314907, 0.5488715658495908, 0.2821768987731658, -0.8832439438038343, 1.271863067044618, 0.10680856505919414, 0.8269478103679717, -0.03266751467505833, -0.34021520002722894, -0.6769186069469743, 0.7126188256918854, 1.8871150025438166, -0.06742662656190869, -1.4789736197389265, 0.346978601690099, -0.3757389938313092, 0.715285859520045, 1.5994858611908638, -0.3692558358591885, 0.13827360227735647, -0.40690530542342296, 0.636973800943974, 0.14658752987818605, -0.3949906255692418, 1.5076392623927681, -0.15486042602397807, 0.22159940179664614, -1.0878244818277978, -0.03354417910293162, 1.2258839316932069, -0.048951028800266715, -1.1089870994157809, 0.021452684803338333, 1.2548854256528554, -1.0913797662237141, -0.539059741192553, 0.6901269187662552, -1.4810451728120602, -0.8468654201203714, 0.3763927872506507, 0.8120568488462931, 0.0031767062628090745, 0.697742291538818, -0.7429703118062226, -0.842231117346612, -0.0666718362166121, 1.8829720647783421, 1.320112956074407, 0.42394324402947475, 0.466299928509142, 0.9415282138953815, -0.7707938096473991], \"type\": \"scatter\", \"marker\": {\"size\": [90, 70, 57, 64, 75, 45, 79, 60, 101, 50, 41, 59, 68, 84, 87, 12, 62, 71, 75, 47, 64, 96, 63, 84, 80, 61, 54, 67, 83, 52, 81, 66, 72, 68, 86, 86, 74, 46, 88, 88, 74, 51, 66, 62, 79, 60, 27, 109, 80, 90, 64, 72, 50, 112, 67, 77, 84, 56, 54, 74, 94, 88, 64, 61, 44, 87, 109, 74, 86, 77, 75, 88, 77, 90, 96, 66, 52, 75, 77, 52, 37, 69, 49, 60, 77, 71, 55, 66, 78, 32, 40, 85, 69, 80, 61, 67, 67, 67, 56, 64], \"line\": {\"width\": 1.3}, \"color\": [\"rgb(226, 74, 51)\", \"rgb(226, 74, 51)\", \"rgb(226, 74, 51)\", \"rgb(226, 74, 51)\", \"rgb(226, 74, 51)\", \"rgb(226, 74, 51)\", \"rgb(226, 74, 51)\", \"rgb(226, 74, 51)\", \"rgb(226, 74, 51)\", \"rgb(226, 74, 51)\", \"rgb(226, 74, 51)\", \"rgb(226, 74, 51)\", \"rgb(226, 74, 51)\", \"rgb(226, 74, 51)\", \"rgb(226, 74, 51)\", \"rgb(226, 74, 51)\", \"rgb(226, 74, 51)\", \"rgb(226, 74, 51)\", \"rgb(226, 74, 51)\", \"rgb(226, 74, 51)\", \"rgb(226, 74, 51)\", \"rgb(226, 74, 51)\", \"rgb(226, 74, 51)\", \"rgb(226, 74, 51)\", \"rgb(226, 74, 51)\", \"rgb(226, 74, 51)\", \"rgb(226, 74, 51)\", \"rgb(226, 74, 51)\", \"rgb(226, 74, 51)\", \"rgb(226, 74, 51)\", \"rgb(226, 74, 51)\", \"rgb(226, 74, 51)\", \"rgb(226, 74, 51)\", \"rgb(226, 74, 51)\", \"rgb(226, 74, 51)\", \"rgb(226, 74, 51)\", \"rgb(226, 74, 51)\", \"rgb(226, 74, 51)\", \"rgb(226, 74, 51)\", \"rgb(226, 74, 51)\", \"rgb(226, 74, 51)\", \"rgb(226, 74, 51)\", \"rgb(226, 74, 51)\", \"rgb(226, 74, 51)\", \"rgb(226, 74, 51)\", \"rgb(226, 74, 51)\", \"rgb(226, 74, 51)\", \"rgb(226, 74, 51)\", \"rgb(226, 74, 51)\", \"rgb(226, 74, 51)\", \"rgb(226, 74, 51)\", \"rgb(226, 74, 51)\", \"rgb(226, 74, 51)\", \"rgb(226, 74, 51)\", \"rgb(226, 74, 51)\", \"rgb(226, 74, 51)\", \"rgb(226, 74, 51)\", \"rgb(226, 74, 51)\", \"rgb(226, 74, 51)\", \"rgb(226, 74, 51)\", \"rgb(226, 74, 51)\", \"rgb(226, 74, 51)\", \"rgb(226, 74, 51)\", \"rgb(226, 74, 51)\", \"rgb(226, 74, 51)\", \"rgb(226, 74, 51)\", \"rgb(226, 74, 51)\", \"rgb(226, 74, 51)\", \"rgb(226, 74, 51)\", \"rgb(226, 74, 51)\", \"rgb(226, 74, 51)\", \"rgb(226, 74, 51)\", \"rgb(226, 74, 51)\", \"rgb(226, 74, 51)\", \"rgb(226, 74, 51)\", \"rgb(226, 74, 51)\", \"rgb(226, 74, 51)\", \"rgb(226, 74, 51)\", \"rgb(226, 74, 51)\", \"rgb(226, 74, 51)\", \"rgb(226, 74, 51)\", \"rgb(226, 74, 51)\", \"rgb(226, 74, 51)\", \"rgb(226, 74, 51)\", \"rgb(226, 74, 51)\", \"rgb(226, 74, 51)\", \"rgb(226, 74, 51)\", \"rgb(226, 74, 51)\", \"rgb(226, 74, 51)\", \"rgb(226, 74, 51)\", \"rgb(226, 74, 51)\", \"rgb(226, 74, 51)\", \"rgb(226, 74, 51)\", \"rgb(226, 74, 51)\", \"rgb(226, 74, 51)\", \"rgb(226, 74, 51)\", \"rgb(226, 74, 51)\", \"rgb(226, 74, 51)\", \"rgb(226, 74, 51)\", \"rgb(226, 74, 51)\"], \"symbol\": \"dot\"}}], {\"legend\": {\"font\": {\"color\": \"#666666\"}, \"bgcolor\": \"#FFFFFF\"}, \"titlefont\": {\"color\": \"#151516\"}, \"xaxis1\": {\"titlefont\": {\"color\": \"#666666\"}, \"zerolinecolor\": \"#F6F6F6\", \"title\": \"\", \"tickfont\": {\"color\": \"#666666\"}, \"showgrid\": true, \"gridcolor\": \"#F6F6F6\"}, \"paper_bgcolor\": \"#FFFFFF\", \"plot_bgcolor\": \"#E5E5E5\", \"yaxis1\": {\"titlefont\": {\"color\": \"#666666\"}, \"zerolinecolor\": \"#F6F6F6\", \"title\": \"\", \"tickfont\": {\"color\": \"#666666\"}, \"showgrid\": true, \"gridcolor\": \"#F6F6F6\"}}, {\"showLink\": true, \"linkText\": \"Export to plot.ly\"})});</script>"
      ],
      "text/plain": [
       "<IPython.core.display.HTML object>"
      ]
     },
     "metadata": {},
     "output_type": "display_data"
    }
   ],
   "source": [
    "df.iplot(kind='bubble',x='A',y='B',size='C')"
   ]
  },
  {
   "cell_type": "markdown",
   "metadata": {},
   "source": [
    "## scatter_matrix()\n",
    "\n",
    "Similar to sns.pairplot()"
   ]
  },
  {
   "cell_type": "code",
   "execution_count": 27,
   "metadata": {
    "collapsed": false,
    "jupyter": {
     "outputs_hidden": false
    }
   },
   "outputs": [
    {
     "data": {
      "application/vnd.plotly.v1+json": {
       "config": {
        "linkText": "Export to plot.ly",
        "plotlyServerURL": "https://plot.ly",
        "showLink": true
       },
       "data": [
        {
         "histfunc": "count",
         "histnorm": "",
         "marker": {
          "color": "rgba(255, 153, 51, 1.0)",
          "line": {
           "color": "#4D5663",
           "width": 1.3
          }
         },
         "name": "A",
         "nbinsx": 10,
         "opacity": 0.8,
         "orientation": "v",
         "type": "histogram",
         "x": [
          0.5528846479247638,
          -2.398205930119027,
          -0.3028121147097552,
          0.4955055579660399,
          -0.8031139027427731,
          -1.0439615893646255,
          1.6840254798100713,
          -1.2270555973290076,
          0.03836565760442624,
          -0.7119933256566789,
          1.306205741116208,
          -0.298729867404561,
          -0.7626919498830378,
          -0.6865924844463516,
          0.40668760667413334,
          0.4591508148789853,
          -0.47679836895868144,
          0.12238283386054362,
          -0.2519742371876982,
          -0.5350962519073955,
          0.9495119626283427,
          1.317827160891446,
          0.06555116071136115,
          0.49179795262488285,
          0.10062406066380053,
          0.32118901639531455,
          -0.211126656422741,
          1.0841690624860194,
          0.3892873236104735,
          0.37450011731539384,
          0.7387478968533783,
          1.645689502745466,
          -0.07196554987844637,
          0.23900174535492802,
          0.6409689628833247,
          1.4639297982677268,
          1.3740544669976316,
          0.028651022122856213,
          0.7132598611898975,
          -0.4669090564868793,
          -0.09442894209417246,
          1.0368611520075945,
          1.2363172261610667,
          0.3824133876492034,
          1.3545419182200922,
          1.1829339768784208,
          -0.19995253590227513,
          0.27672726185968394,
          0.000979222163437031,
          1.1198026754737844,
          0.2413950682021842,
          -0.9897486524611538,
          0.969790314908981,
          -0.7233597095313674,
          0.8537501041961911,
          -0.33290215549787927,
          -0.2103438556569867,
          -0.466192267738929,
          -1.1823537998364433,
          1.851959835464232,
          -1.2308259465982763,
          2.4622169560603697,
          0.9465961004381525,
          -2.1211974351879124,
          0.5863806468807722,
          -0.6106802223716836,
          -0.604000303410238,
          -2.0524370532876093,
          0.09028238740701096,
          -0.2324593934384782,
          1.019924496688148,
          1.1891483232697713,
          0.4713522395845208,
          0.47272716034600604,
          -1.3138557741641002,
          -1.3422754707240987,
          -0.1202028018800572,
          0.3874772662295193,
          0.011290612252812894,
          -1.2153978471663942,
          0.22593818094665838,
          0.032367283112389796,
          0.33515367135340945,
          0.8229895475611503,
          -1.9283577588198613,
          -0.2864119360756065,
          1.6941256129076236,
          -0.6245918701287434,
          -1.2634541802059043,
          -1.1407703435522039,
          0.7356260860775407,
          -0.29457276598016724,
          0.2839443237372972,
          0.935454658824385,
          2.877734237945691,
          -1.1702742402057313,
          -1.4944762966648328,
          -1.2815063454992062,
          -0.9770578514226053,
          1.3034403383361466
         ],
         "xaxis": "x",
         "yaxis": "y"
        },
        {
         "line": {
          "color": "rgba(128, 128, 128, 1.0)",
          "dash": "solid",
          "shape": "linear",
          "width": 1.3
         },
         "marker": {
          "size": 2,
          "symbol": "circle"
         },
         "mode": "markers",
         "name": "A",
         "text": "",
         "type": "scatter",
         "x": [
          1.5221338266976558,
          0.37112679507706564,
          0.36603957292691625,
          0.29252692212843173,
          0.036180660230443626,
          -0.7132962320772471,
          0.9141168083341438,
          -0.31192340367024846,
          -0.4825095769901552,
          0.16428901034785823,
          -0.14475789553589113,
          -1.0352430195694506,
          -1.5284693687654274,
          0.681164249488606,
          -0.564706140357884,
          1.4755447264649455,
          -0.32321602983062203,
          -0.7450592141304335,
          -0.7966035904657918,
          -0.1773245865098007,
          -1.126571722363632,
          0.9150626029671826,
          -1.091207438666216,
          0.8506294575866586,
          0.12371120342549463,
          -0.21731773112055477,
          -1.1130142266214658,
          0.5876701597506964,
          -0.5459226254608572,
          1.061672954810636,
          0.09446784284243107,
          -0.6829616273707716,
          0.9993656743472096,
          -0.5238729745094756,
          -0.9232682602030104,
          -1.1399099972844873,
          1.4177239382333449,
          -1.2385489459203411,
          0.9139327716213272,
          -0.1950190652257846,
          -0.7232280071985164,
          0.7178925572634225,
          -0.3869231850219358,
          -1.1110851121638883,
          0.5109203316297612,
          -1.0237058951468863,
          0.2777672213480589,
          0.9089347935577019,
          -0.47784841609201906,
          -0.18572038347878303,
          0.8181607377617439,
          -0.1555509408673983,
          1.6178024580284072,
          0.3168010772059872,
          -0.2344649450137472,
          -0.662325975502222,
          0.6812579548900719,
          -0.7037293013550847,
          0.3301009805558109,
          -1.6682715548955656,
          -0.5264304897415376,
          1.7786623314897354,
          0.08480322344048465,
          -0.9894575910807079,
          -0.6439454455787141,
          0.3532004796723608,
          -0.8274164104569124,
          -1.4936469024672425,
          -1.098119458352122,
          0.3359393018625474,
          -0.7913022006639495,
          0.4786980437487143,
          -0.06091557618027851,
          -0.8692385683549835,
          0.740960427595297,
          0.455549182852374,
          0.5109694916206015,
          -0.1498626427348044,
          1.6363708541023787,
          -0.42878290153449566,
          0.7050625674866938,
          -0.8983136534757796,
          -0.0352934325531089,
          -0.26314957187421667,
          -0.6158653409088861,
          0.7635530856460303,
          0.7551151722237617,
          -0.2213995845641046,
          0.670924714055657,
          0.2975795439836924,
          0.6040090013886447,
          -0.3941627300692083,
          0.8109266800499798,
          -0.5948765923255269,
          -0.8475615283178858,
          -0.4422235713998791,
          -0.0017861220796952838,
          -0.02908560937847064,
          0.9115052490577542,
          -0.1889504278134778
         ],
         "xaxis": "x2",
         "y": [
          0.5528846479247638,
          -2.398205930119027,
          -0.3028121147097552,
          0.4955055579660399,
          -0.8031139027427731,
          -1.0439615893646255,
          1.6840254798100713,
          -1.2270555973290076,
          0.03836565760442624,
          -0.7119933256566789,
          1.306205741116208,
          -0.298729867404561,
          -0.7626919498830378,
          -0.6865924844463516,
          0.40668760667413334,
          0.4591508148789853,
          -0.47679836895868144,
          0.12238283386054362,
          -0.2519742371876982,
          -0.5350962519073955,
          0.9495119626283427,
          1.317827160891446,
          0.06555116071136115,
          0.49179795262488285,
          0.10062406066380053,
          0.32118901639531455,
          -0.211126656422741,
          1.0841690624860194,
          0.3892873236104735,
          0.37450011731539384,
          0.7387478968533783,
          1.645689502745466,
          -0.07196554987844637,
          0.23900174535492802,
          0.6409689628833247,
          1.4639297982677268,
          1.3740544669976316,
          0.028651022122856213,
          0.7132598611898975,
          -0.4669090564868793,
          -0.09442894209417246,
          1.0368611520075945,
          1.2363172261610667,
          0.3824133876492034,
          1.3545419182200922,
          1.1829339768784208,
          -0.19995253590227513,
          0.27672726185968394,
          0.000979222163437031,
          1.1198026754737844,
          0.2413950682021842,
          -0.9897486524611538,
          0.969790314908981,
          -0.7233597095313674,
          0.8537501041961911,
          -0.33290215549787927,
          -0.2103438556569867,
          -0.466192267738929,
          -1.1823537998364433,
          1.851959835464232,
          -1.2308259465982763,
          2.4622169560603697,
          0.9465961004381525,
          -2.1211974351879124,
          0.5863806468807722,
          -0.6106802223716836,
          -0.604000303410238,
          -2.0524370532876093,
          0.09028238740701096,
          -0.2324593934384782,
          1.019924496688148,
          1.1891483232697713,
          0.4713522395845208,
          0.47272716034600604,
          -1.3138557741641002,
          -1.3422754707240987,
          -0.1202028018800572,
          0.3874772662295193,
          0.011290612252812894,
          -1.2153978471663942,
          0.22593818094665838,
          0.032367283112389796,
          0.33515367135340945,
          0.8229895475611503,
          -1.9283577588198613,
          -0.2864119360756065,
          1.6941256129076236,
          -0.6245918701287434,
          -1.2634541802059043,
          -1.1407703435522039,
          0.7356260860775407,
          -0.29457276598016724,
          0.2839443237372972,
          0.935454658824385,
          2.877734237945691,
          -1.1702742402057313,
          -1.4944762966648328,
          -1.2815063454992062,
          -0.9770578514226053,
          1.3034403383361466
         ],
         "yaxis": "y2"
        },
        {
         "line": {
          "color": "rgba(128, 128, 128, 1.0)",
          "dash": "solid",
          "shape": "linear",
          "width": 1.3
         },
         "marker": {
          "size": 2,
          "symbol": "circle"
         },
         "mode": "markers",
         "name": "A",
         "text": "",
         "type": "scatter",
         "x": [
          -0.3753228010573993,
          1.858129575474277,
          -0.410338179001649,
          0.06578969746370358,
          0.02812693570402251,
          -0.4959420275610195,
          0.8245449967185711,
          0.8970874856189467,
          0.4342376261779318,
          -1.6091052459307453,
          0.10184110231934021,
          -0.32789649319607544,
          -0.14231212741311852,
          -2.2402585402238167,
          -0.3783759284288644,
          1.2294658269371008,
          -1.0970226066162452,
          0.3949060328821529,
          -1.132296672987899,
          1.4279325357338581,
          0.4238269504118731,
          -0.008926958075053124,
          2.424574010497762,
          -0.9328386620541995,
          0.5414467385750422,
          -0.9314591609922944,
          0.052633016753005656,
          -0.12576691211142352,
          0.6847643753519642,
          -1.2974907918066008,
          -0.7696913172305885,
          -0.9136269413259297,
          -1.545713162635616,
          0.4161387135306835,
          -0.10200530663667176,
          -2.4327974954223865,
          -0.05321917349328707,
          -0.6328615429733635,
          -0.6744681332884495,
          -0.24925962268233195,
          0.38919561182835344,
          0.8049393690481663,
          1.4458933582231004,
          -1.6221275727873135,
          -0.6976194079398013,
          0.48272843420133904,
          1.148385401939861,
          0.14765539629373253,
          0.59007658295707,
          0.3731507780312944,
          0.6241960978758901,
          0.1095484823920591,
          0.45064294773707103,
          -0.1722019130125348,
          0.6009314982453949,
          -1.172349887740591,
          -1.4475847318474597,
          0.6900589918064277,
          1.5964645228105674,
          0.2702345716396932,
          0.2981014047026115,
          0.22148674540187993,
          0.9582094304926657,
          0.7435627424755311,
          0.9869096239364953,
          0.8357176148687951,
          -0.16316499409709204,
          1.2614625645977382,
          1.1761086437007806,
          -0.7674673954835308,
          -1.6303511184250903,
          -0.4619167546539699,
          1.168306445699756,
          0.2299046603383653,
          -0.9950985765275402,
          1.552482036186919,
          0.041378516482204634,
          -0.05402766256180481,
          -0.9055172178998108,
          0.9422362872900651,
          -0.22669546984099972,
          -1.6094780444493595,
          -0.7415029913765331,
          -0.37541987485767153,
          -0.05750943247085447,
          0.14487771319822293,
          0.08763028003387387,
          -1.304855717147345,
          0.08655745541765933,
          0.7653324221178338,
          -0.2898753934127883,
          -0.8177000003282332,
          1.0131080962274233,
          2.1381429648324444,
          -0.7194002707524055,
          -0.6339893868374737,
          1.5523038248212073,
          2.1409810569211465,
          -1.1856906691572626,
          -0.9166628496982585
         ],
         "xaxis": "x3",
         "y": [
          0.5528846479247638,
          -2.398205930119027,
          -0.3028121147097552,
          0.4955055579660399,
          -0.8031139027427731,
          -1.0439615893646255,
          1.6840254798100713,
          -1.2270555973290076,
          0.03836565760442624,
          -0.7119933256566789,
          1.306205741116208,
          -0.298729867404561,
          -0.7626919498830378,
          -0.6865924844463516,
          0.40668760667413334,
          0.4591508148789853,
          -0.47679836895868144,
          0.12238283386054362,
          -0.2519742371876982,
          -0.5350962519073955,
          0.9495119626283427,
          1.317827160891446,
          0.06555116071136115,
          0.49179795262488285,
          0.10062406066380053,
          0.32118901639531455,
          -0.211126656422741,
          1.0841690624860194,
          0.3892873236104735,
          0.37450011731539384,
          0.7387478968533783,
          1.645689502745466,
          -0.07196554987844637,
          0.23900174535492802,
          0.6409689628833247,
          1.4639297982677268,
          1.3740544669976316,
          0.028651022122856213,
          0.7132598611898975,
          -0.4669090564868793,
          -0.09442894209417246,
          1.0368611520075945,
          1.2363172261610667,
          0.3824133876492034,
          1.3545419182200922,
          1.1829339768784208,
          -0.19995253590227513,
          0.27672726185968394,
          0.000979222163437031,
          1.1198026754737844,
          0.2413950682021842,
          -0.9897486524611538,
          0.969790314908981,
          -0.7233597095313674,
          0.8537501041961911,
          -0.33290215549787927,
          -0.2103438556569867,
          -0.466192267738929,
          -1.1823537998364433,
          1.851959835464232,
          -1.2308259465982763,
          2.4622169560603697,
          0.9465961004381525,
          -2.1211974351879124,
          0.5863806468807722,
          -0.6106802223716836,
          -0.604000303410238,
          -2.0524370532876093,
          0.09028238740701096,
          -0.2324593934384782,
          1.019924496688148,
          1.1891483232697713,
          0.4713522395845208,
          0.47272716034600604,
          -1.3138557741641002,
          -1.3422754707240987,
          -0.1202028018800572,
          0.3874772662295193,
          0.011290612252812894,
          -1.2153978471663942,
          0.22593818094665838,
          0.032367283112389796,
          0.33515367135340945,
          0.8229895475611503,
          -1.9283577588198613,
          -0.2864119360756065,
          1.6941256129076236,
          -0.6245918701287434,
          -1.2634541802059043,
          -1.1407703435522039,
          0.7356260860775407,
          -0.29457276598016724,
          0.2839443237372972,
          0.935454658824385,
          2.877734237945691,
          -1.1702742402057313,
          -1.4944762966648328,
          -1.2815063454992062,
          -0.9770578514226053,
          1.3034403383361466
         ],
         "yaxis": "y3"
        },
        {
         "line": {
          "color": "rgba(128, 128, 128, 1.0)",
          "dash": "solid",
          "shape": "linear",
          "width": 1.3
         },
         "marker": {
          "size": 2,
          "symbol": "circle"
         },
         "mode": "markers",
         "name": "A",
         "text": "",
         "type": "scatter",
         "x": [
          2.013306412940443,
          -0.546359007082015,
          -1.7358315419013177,
          0.30103014281966867,
          0.5746072563282305,
          -1.4683629011121622,
          0.5433898110049855,
          -0.4705383955933248,
          -0.5811949410421311,
          -0.26159351696635313,
          -0.5043934914972953,
          0.9563554543819979,
          -0.08123950952249014,
          -1.2868499631647008,
          0.09783539747168195,
          0.9545658411093363,
          0.5245848175306133,
          0.3380350670194684,
          -1.4512106655645505,
          -1.281981400206145,
          -1.308167115357359,
          -0.35971045477861996,
          -0.512420043415833,
          -1.251905065483918,
          -0.8531422464828465,
          1.7341768531601454,
          0.038559351769476974,
          0.25191655836668336,
          -0.7303094209929796,
          1.7073604597804095,
          0.6386004345852292,
          -1.2311390362296117,
          -1.7755482716441562,
          1.9988565931832505,
          -2.0632775649910777,
          -0.21049229262690292,
          -1.8778805246002777,
          0.6525592916215323,
          -0.7997056429463001,
          -1.1757248916738905,
          -1.1359675326188294,
          -1.5935276916117505,
          0.041970134548078734,
          -0.3762072173207476,
          -0.36614637268815997,
          0.3182567706749178,
          -0.9132663471931876,
          1.0913725038434774,
          0.4771002710613205,
          0.47771941217539,
          2.5098980414141354,
          0.8084513541777368,
          0.6425955767501527,
          -0.12545797075193033,
          -0.568183437787671,
          0.39032519349837813,
          1.2767458147189956,
          0.8626422744060817,
          1.347223013704634,
          0.8376804724224781,
          1.217008455633511,
          -2.703109035744153,
          -0.9823449596702638,
          1.0215461583447056,
          0.27851803283081566,
          1.535145160250474,
          -1.4654834864491812,
          2.629129758597347,
          0.06586344585141272,
          1.8509978941094412,
          -1.2542237800052558,
          0.6693318373123142,
          0.2323479216721576,
          -2.423542526904085,
          1.3037205182045077,
          -0.8483692836455508,
          -1.146158764120612,
          -1.8277110038885906,
          1.0518143856691187,
          -0.6592324129786179,
          0.57230639271418,
          -0.9879612155120544,
          -0.5286940017556415,
          1.8231001217684917,
          0.9581230817567549,
          0.8491335328189504,
          -0.6629866808294782,
          0.2120136137861718,
          -0.41367427410916635,
          -1.9095340910520697,
          -0.18012523161650384,
          0.8276139682214836,
          0.24466091808603413,
          1.922611906807397,
          1.1926326949465051,
          -0.056344368898362765,
          0.35688581746126197,
          0.26450865748555785,
          -2.0455276522260277,
          -0.7505010965986343
         ],
         "xaxis": "x4",
         "y": [
          0.5528846479247638,
          -2.398205930119027,
          -0.3028121147097552,
          0.4955055579660399,
          -0.8031139027427731,
          -1.0439615893646255,
          1.6840254798100713,
          -1.2270555973290076,
          0.03836565760442624,
          -0.7119933256566789,
          1.306205741116208,
          -0.298729867404561,
          -0.7626919498830378,
          -0.6865924844463516,
          0.40668760667413334,
          0.4591508148789853,
          -0.47679836895868144,
          0.12238283386054362,
          -0.2519742371876982,
          -0.5350962519073955,
          0.9495119626283427,
          1.317827160891446,
          0.06555116071136115,
          0.49179795262488285,
          0.10062406066380053,
          0.32118901639531455,
          -0.211126656422741,
          1.0841690624860194,
          0.3892873236104735,
          0.37450011731539384,
          0.7387478968533783,
          1.645689502745466,
          -0.07196554987844637,
          0.23900174535492802,
          0.6409689628833247,
          1.4639297982677268,
          1.3740544669976316,
          0.028651022122856213,
          0.7132598611898975,
          -0.4669090564868793,
          -0.09442894209417246,
          1.0368611520075945,
          1.2363172261610667,
          0.3824133876492034,
          1.3545419182200922,
          1.1829339768784208,
          -0.19995253590227513,
          0.27672726185968394,
          0.000979222163437031,
          1.1198026754737844,
          0.2413950682021842,
          -0.9897486524611538,
          0.969790314908981,
          -0.7233597095313674,
          0.8537501041961911,
          -0.33290215549787927,
          -0.2103438556569867,
          -0.466192267738929,
          -1.1823537998364433,
          1.851959835464232,
          -1.2308259465982763,
          2.4622169560603697,
          0.9465961004381525,
          -2.1211974351879124,
          0.5863806468807722,
          -0.6106802223716836,
          -0.604000303410238,
          -2.0524370532876093,
          0.09028238740701096,
          -0.2324593934384782,
          1.019924496688148,
          1.1891483232697713,
          0.4713522395845208,
          0.47272716034600604,
          -1.3138557741641002,
          -1.3422754707240987,
          -0.1202028018800572,
          0.3874772662295193,
          0.011290612252812894,
          -1.2153978471663942,
          0.22593818094665838,
          0.032367283112389796,
          0.33515367135340945,
          0.8229895475611503,
          -1.9283577588198613,
          -0.2864119360756065,
          1.6941256129076236,
          -0.6245918701287434,
          -1.2634541802059043,
          -1.1407703435522039,
          0.7356260860775407,
          -0.29457276598016724,
          0.2839443237372972,
          0.935454658824385,
          2.877734237945691,
          -1.1702742402057313,
          -1.4944762966648328,
          -1.2815063454992062,
          -0.9770578514226053,
          1.3034403383361466
         ],
         "yaxis": "y4"
        },
        {
         "line": {
          "color": "rgba(128, 128, 128, 1.0)",
          "dash": "solid",
          "shape": "linear",
          "width": 1.3
         },
         "marker": {
          "size": 2,
          "symbol": "circle"
         },
         "mode": "markers",
         "name": "B",
         "text": "",
         "type": "scatter",
         "x": [
          0.5528846479247638,
          -2.398205930119027,
          -0.3028121147097552,
          0.4955055579660399,
          -0.8031139027427731,
          -1.0439615893646255,
          1.6840254798100713,
          -1.2270555973290076,
          0.03836565760442624,
          -0.7119933256566789,
          1.306205741116208,
          -0.298729867404561,
          -0.7626919498830378,
          -0.6865924844463516,
          0.40668760667413334,
          0.4591508148789853,
          -0.47679836895868144,
          0.12238283386054362,
          -0.2519742371876982,
          -0.5350962519073955,
          0.9495119626283427,
          1.317827160891446,
          0.06555116071136115,
          0.49179795262488285,
          0.10062406066380053,
          0.32118901639531455,
          -0.211126656422741,
          1.0841690624860194,
          0.3892873236104735,
          0.37450011731539384,
          0.7387478968533783,
          1.645689502745466,
          -0.07196554987844637,
          0.23900174535492802,
          0.6409689628833247,
          1.4639297982677268,
          1.3740544669976316,
          0.028651022122856213,
          0.7132598611898975,
          -0.4669090564868793,
          -0.09442894209417246,
          1.0368611520075945,
          1.2363172261610667,
          0.3824133876492034,
          1.3545419182200922,
          1.1829339768784208,
          -0.19995253590227513,
          0.27672726185968394,
          0.000979222163437031,
          1.1198026754737844,
          0.2413950682021842,
          -0.9897486524611538,
          0.969790314908981,
          -0.7233597095313674,
          0.8537501041961911,
          -0.33290215549787927,
          -0.2103438556569867,
          -0.466192267738929,
          -1.1823537998364433,
          1.851959835464232,
          -1.2308259465982763,
          2.4622169560603697,
          0.9465961004381525,
          -2.1211974351879124,
          0.5863806468807722,
          -0.6106802223716836,
          -0.604000303410238,
          -2.0524370532876093,
          0.09028238740701096,
          -0.2324593934384782,
          1.019924496688148,
          1.1891483232697713,
          0.4713522395845208,
          0.47272716034600604,
          -1.3138557741641002,
          -1.3422754707240987,
          -0.1202028018800572,
          0.3874772662295193,
          0.011290612252812894,
          -1.2153978471663942,
          0.22593818094665838,
          0.032367283112389796,
          0.33515367135340945,
          0.8229895475611503,
          -1.9283577588198613,
          -0.2864119360756065,
          1.6941256129076236,
          -0.6245918701287434,
          -1.2634541802059043,
          -1.1407703435522039,
          0.7356260860775407,
          -0.29457276598016724,
          0.2839443237372972,
          0.935454658824385,
          2.877734237945691,
          -1.1702742402057313,
          -1.4944762966648328,
          -1.2815063454992062,
          -0.9770578514226053,
          1.3034403383361466
         ],
         "xaxis": "x5",
         "y": [
          1.5221338266976558,
          0.37112679507706564,
          0.36603957292691625,
          0.29252692212843173,
          0.036180660230443626,
          -0.7132962320772471,
          0.9141168083341438,
          -0.31192340367024846,
          -0.4825095769901552,
          0.16428901034785823,
          -0.14475789553589113,
          -1.0352430195694506,
          -1.5284693687654274,
          0.681164249488606,
          -0.564706140357884,
          1.4755447264649455,
          -0.32321602983062203,
          -0.7450592141304335,
          -0.7966035904657918,
          -0.1773245865098007,
          -1.126571722363632,
          0.9150626029671826,
          -1.091207438666216,
          0.8506294575866586,
          0.12371120342549463,
          -0.21731773112055477,
          -1.1130142266214658,
          0.5876701597506964,
          -0.5459226254608572,
          1.061672954810636,
          0.09446784284243107,
          -0.6829616273707716,
          0.9993656743472096,
          -0.5238729745094756,
          -0.9232682602030104,
          -1.1399099972844873,
          1.4177239382333449,
          -1.2385489459203411,
          0.9139327716213272,
          -0.1950190652257846,
          -0.7232280071985164,
          0.7178925572634225,
          -0.3869231850219358,
          -1.1110851121638883,
          0.5109203316297612,
          -1.0237058951468863,
          0.2777672213480589,
          0.9089347935577019,
          -0.47784841609201906,
          -0.18572038347878303,
          0.8181607377617439,
          -0.1555509408673983,
          1.6178024580284072,
          0.3168010772059872,
          -0.2344649450137472,
          -0.662325975502222,
          0.6812579548900719,
          -0.7037293013550847,
          0.3301009805558109,
          -1.6682715548955656,
          -0.5264304897415376,
          1.7786623314897354,
          0.08480322344048465,
          -0.9894575910807079,
          -0.6439454455787141,
          0.3532004796723608,
          -0.8274164104569124,
          -1.4936469024672425,
          -1.098119458352122,
          0.3359393018625474,
          -0.7913022006639495,
          0.4786980437487143,
          -0.06091557618027851,
          -0.8692385683549835,
          0.740960427595297,
          0.455549182852374,
          0.5109694916206015,
          -0.1498626427348044,
          1.6363708541023787,
          -0.42878290153449566,
          0.7050625674866938,
          -0.8983136534757796,
          -0.0352934325531089,
          -0.26314957187421667,
          -0.6158653409088861,
          0.7635530856460303,
          0.7551151722237617,
          -0.2213995845641046,
          0.670924714055657,
          0.2975795439836924,
          0.6040090013886447,
          -0.3941627300692083,
          0.8109266800499798,
          -0.5948765923255269,
          -0.8475615283178858,
          -0.4422235713998791,
          -0.0017861220796952838,
          -0.02908560937847064,
          0.9115052490577542,
          -0.1889504278134778
         ],
         "yaxis": "y5"
        },
        {
         "histfunc": "count",
         "histnorm": "",
         "marker": {
          "color": "rgba(55, 128, 191, 1.0)",
          "line": {
           "color": "#4D5663",
           "width": 1.3
          }
         },
         "name": "B",
         "nbinsx": 10,
         "opacity": 0.8,
         "orientation": "v",
         "type": "histogram",
         "x": [
          1.5221338266976558,
          0.37112679507706564,
          0.36603957292691625,
          0.29252692212843173,
          0.036180660230443626,
          -0.7132962320772471,
          0.9141168083341438,
          -0.31192340367024846,
          -0.4825095769901552,
          0.16428901034785823,
          -0.14475789553589113,
          -1.0352430195694506,
          -1.5284693687654274,
          0.681164249488606,
          -0.564706140357884,
          1.4755447264649455,
          -0.32321602983062203,
          -0.7450592141304335,
          -0.7966035904657918,
          -0.1773245865098007,
          -1.126571722363632,
          0.9150626029671826,
          -1.091207438666216,
          0.8506294575866586,
          0.12371120342549463,
          -0.21731773112055477,
          -1.1130142266214658,
          0.5876701597506964,
          -0.5459226254608572,
          1.061672954810636,
          0.09446784284243107,
          -0.6829616273707716,
          0.9993656743472096,
          -0.5238729745094756,
          -0.9232682602030104,
          -1.1399099972844873,
          1.4177239382333449,
          -1.2385489459203411,
          0.9139327716213272,
          -0.1950190652257846,
          -0.7232280071985164,
          0.7178925572634225,
          -0.3869231850219358,
          -1.1110851121638883,
          0.5109203316297612,
          -1.0237058951468863,
          0.2777672213480589,
          0.9089347935577019,
          -0.47784841609201906,
          -0.18572038347878303,
          0.8181607377617439,
          -0.1555509408673983,
          1.6178024580284072,
          0.3168010772059872,
          -0.2344649450137472,
          -0.662325975502222,
          0.6812579548900719,
          -0.7037293013550847,
          0.3301009805558109,
          -1.6682715548955656,
          -0.5264304897415376,
          1.7786623314897354,
          0.08480322344048465,
          -0.9894575910807079,
          -0.6439454455787141,
          0.3532004796723608,
          -0.8274164104569124,
          -1.4936469024672425,
          -1.098119458352122,
          0.3359393018625474,
          -0.7913022006639495,
          0.4786980437487143,
          -0.06091557618027851,
          -0.8692385683549835,
          0.740960427595297,
          0.455549182852374,
          0.5109694916206015,
          -0.1498626427348044,
          1.6363708541023787,
          -0.42878290153449566,
          0.7050625674866938,
          -0.8983136534757796,
          -0.0352934325531089,
          -0.26314957187421667,
          -0.6158653409088861,
          0.7635530856460303,
          0.7551151722237617,
          -0.2213995845641046,
          0.670924714055657,
          0.2975795439836924,
          0.6040090013886447,
          -0.3941627300692083,
          0.8109266800499798,
          -0.5948765923255269,
          -0.8475615283178858,
          -0.4422235713998791,
          -0.0017861220796952838,
          -0.02908560937847064,
          0.9115052490577542,
          -0.1889504278134778
         ],
         "xaxis": "x6",
         "yaxis": "y6"
        },
        {
         "line": {
          "color": "rgba(128, 128, 128, 1.0)",
          "dash": "solid",
          "shape": "linear",
          "width": 1.3
         },
         "marker": {
          "size": 2,
          "symbol": "circle"
         },
         "mode": "markers",
         "name": "B",
         "text": "",
         "type": "scatter",
         "x": [
          -0.3753228010573993,
          1.858129575474277,
          -0.410338179001649,
          0.06578969746370358,
          0.02812693570402251,
          -0.4959420275610195,
          0.8245449967185711,
          0.8970874856189467,
          0.4342376261779318,
          -1.6091052459307453,
          0.10184110231934021,
          -0.32789649319607544,
          -0.14231212741311852,
          -2.2402585402238167,
          -0.3783759284288644,
          1.2294658269371008,
          -1.0970226066162452,
          0.3949060328821529,
          -1.132296672987899,
          1.4279325357338581,
          0.4238269504118731,
          -0.008926958075053124,
          2.424574010497762,
          -0.9328386620541995,
          0.5414467385750422,
          -0.9314591609922944,
          0.052633016753005656,
          -0.12576691211142352,
          0.6847643753519642,
          -1.2974907918066008,
          -0.7696913172305885,
          -0.9136269413259297,
          -1.545713162635616,
          0.4161387135306835,
          -0.10200530663667176,
          -2.4327974954223865,
          -0.05321917349328707,
          -0.6328615429733635,
          -0.6744681332884495,
          -0.24925962268233195,
          0.38919561182835344,
          0.8049393690481663,
          1.4458933582231004,
          -1.6221275727873135,
          -0.6976194079398013,
          0.48272843420133904,
          1.148385401939861,
          0.14765539629373253,
          0.59007658295707,
          0.3731507780312944,
          0.6241960978758901,
          0.1095484823920591,
          0.45064294773707103,
          -0.1722019130125348,
          0.6009314982453949,
          -1.172349887740591,
          -1.4475847318474597,
          0.6900589918064277,
          1.5964645228105674,
          0.2702345716396932,
          0.2981014047026115,
          0.22148674540187993,
          0.9582094304926657,
          0.7435627424755311,
          0.9869096239364953,
          0.8357176148687951,
          -0.16316499409709204,
          1.2614625645977382,
          1.1761086437007806,
          -0.7674673954835308,
          -1.6303511184250903,
          -0.4619167546539699,
          1.168306445699756,
          0.2299046603383653,
          -0.9950985765275402,
          1.552482036186919,
          0.041378516482204634,
          -0.05402766256180481,
          -0.9055172178998108,
          0.9422362872900651,
          -0.22669546984099972,
          -1.6094780444493595,
          -0.7415029913765331,
          -0.37541987485767153,
          -0.05750943247085447,
          0.14487771319822293,
          0.08763028003387387,
          -1.304855717147345,
          0.08655745541765933,
          0.7653324221178338,
          -0.2898753934127883,
          -0.8177000003282332,
          1.0131080962274233,
          2.1381429648324444,
          -0.7194002707524055,
          -0.6339893868374737,
          1.5523038248212073,
          2.1409810569211465,
          -1.1856906691572626,
          -0.9166628496982585
         ],
         "xaxis": "x7",
         "y": [
          1.5221338266976558,
          0.37112679507706564,
          0.36603957292691625,
          0.29252692212843173,
          0.036180660230443626,
          -0.7132962320772471,
          0.9141168083341438,
          -0.31192340367024846,
          -0.4825095769901552,
          0.16428901034785823,
          -0.14475789553589113,
          -1.0352430195694506,
          -1.5284693687654274,
          0.681164249488606,
          -0.564706140357884,
          1.4755447264649455,
          -0.32321602983062203,
          -0.7450592141304335,
          -0.7966035904657918,
          -0.1773245865098007,
          -1.126571722363632,
          0.9150626029671826,
          -1.091207438666216,
          0.8506294575866586,
          0.12371120342549463,
          -0.21731773112055477,
          -1.1130142266214658,
          0.5876701597506964,
          -0.5459226254608572,
          1.061672954810636,
          0.09446784284243107,
          -0.6829616273707716,
          0.9993656743472096,
          -0.5238729745094756,
          -0.9232682602030104,
          -1.1399099972844873,
          1.4177239382333449,
          -1.2385489459203411,
          0.9139327716213272,
          -0.1950190652257846,
          -0.7232280071985164,
          0.7178925572634225,
          -0.3869231850219358,
          -1.1110851121638883,
          0.5109203316297612,
          -1.0237058951468863,
          0.2777672213480589,
          0.9089347935577019,
          -0.47784841609201906,
          -0.18572038347878303,
          0.8181607377617439,
          -0.1555509408673983,
          1.6178024580284072,
          0.3168010772059872,
          -0.2344649450137472,
          -0.662325975502222,
          0.6812579548900719,
          -0.7037293013550847,
          0.3301009805558109,
          -1.6682715548955656,
          -0.5264304897415376,
          1.7786623314897354,
          0.08480322344048465,
          -0.9894575910807079,
          -0.6439454455787141,
          0.3532004796723608,
          -0.8274164104569124,
          -1.4936469024672425,
          -1.098119458352122,
          0.3359393018625474,
          -0.7913022006639495,
          0.4786980437487143,
          -0.06091557618027851,
          -0.8692385683549835,
          0.740960427595297,
          0.455549182852374,
          0.5109694916206015,
          -0.1498626427348044,
          1.6363708541023787,
          -0.42878290153449566,
          0.7050625674866938,
          -0.8983136534757796,
          -0.0352934325531089,
          -0.26314957187421667,
          -0.6158653409088861,
          0.7635530856460303,
          0.7551151722237617,
          -0.2213995845641046,
          0.670924714055657,
          0.2975795439836924,
          0.6040090013886447,
          -0.3941627300692083,
          0.8109266800499798,
          -0.5948765923255269,
          -0.8475615283178858,
          -0.4422235713998791,
          -0.0017861220796952838,
          -0.02908560937847064,
          0.9115052490577542,
          -0.1889504278134778
         ],
         "yaxis": "y7"
        },
        {
         "line": {
          "color": "rgba(128, 128, 128, 1.0)",
          "dash": "solid",
          "shape": "linear",
          "width": 1.3
         },
         "marker": {
          "size": 2,
          "symbol": "circle"
         },
         "mode": "markers",
         "name": "B",
         "text": "",
         "type": "scatter",
         "x": [
          2.013306412940443,
          -0.546359007082015,
          -1.7358315419013177,
          0.30103014281966867,
          0.5746072563282305,
          -1.4683629011121622,
          0.5433898110049855,
          -0.4705383955933248,
          -0.5811949410421311,
          -0.26159351696635313,
          -0.5043934914972953,
          0.9563554543819979,
          -0.08123950952249014,
          -1.2868499631647008,
          0.09783539747168195,
          0.9545658411093363,
          0.5245848175306133,
          0.3380350670194684,
          -1.4512106655645505,
          -1.281981400206145,
          -1.308167115357359,
          -0.35971045477861996,
          -0.512420043415833,
          -1.251905065483918,
          -0.8531422464828465,
          1.7341768531601454,
          0.038559351769476974,
          0.25191655836668336,
          -0.7303094209929796,
          1.7073604597804095,
          0.6386004345852292,
          -1.2311390362296117,
          -1.7755482716441562,
          1.9988565931832505,
          -2.0632775649910777,
          -0.21049229262690292,
          -1.8778805246002777,
          0.6525592916215323,
          -0.7997056429463001,
          -1.1757248916738905,
          -1.1359675326188294,
          -1.5935276916117505,
          0.041970134548078734,
          -0.3762072173207476,
          -0.36614637268815997,
          0.3182567706749178,
          -0.9132663471931876,
          1.0913725038434774,
          0.4771002710613205,
          0.47771941217539,
          2.5098980414141354,
          0.8084513541777368,
          0.6425955767501527,
          -0.12545797075193033,
          -0.568183437787671,
          0.39032519349837813,
          1.2767458147189956,
          0.8626422744060817,
          1.347223013704634,
          0.8376804724224781,
          1.217008455633511,
          -2.703109035744153,
          -0.9823449596702638,
          1.0215461583447056,
          0.27851803283081566,
          1.535145160250474,
          -1.4654834864491812,
          2.629129758597347,
          0.06586344585141272,
          1.8509978941094412,
          -1.2542237800052558,
          0.6693318373123142,
          0.2323479216721576,
          -2.423542526904085,
          1.3037205182045077,
          -0.8483692836455508,
          -1.146158764120612,
          -1.8277110038885906,
          1.0518143856691187,
          -0.6592324129786179,
          0.57230639271418,
          -0.9879612155120544,
          -0.5286940017556415,
          1.8231001217684917,
          0.9581230817567549,
          0.8491335328189504,
          -0.6629866808294782,
          0.2120136137861718,
          -0.41367427410916635,
          -1.9095340910520697,
          -0.18012523161650384,
          0.8276139682214836,
          0.24466091808603413,
          1.922611906807397,
          1.1926326949465051,
          -0.056344368898362765,
          0.35688581746126197,
          0.26450865748555785,
          -2.0455276522260277,
          -0.7505010965986343
         ],
         "xaxis": "x8",
         "y": [
          1.5221338266976558,
          0.37112679507706564,
          0.36603957292691625,
          0.29252692212843173,
          0.036180660230443626,
          -0.7132962320772471,
          0.9141168083341438,
          -0.31192340367024846,
          -0.4825095769901552,
          0.16428901034785823,
          -0.14475789553589113,
          -1.0352430195694506,
          -1.5284693687654274,
          0.681164249488606,
          -0.564706140357884,
          1.4755447264649455,
          -0.32321602983062203,
          -0.7450592141304335,
          -0.7966035904657918,
          -0.1773245865098007,
          -1.126571722363632,
          0.9150626029671826,
          -1.091207438666216,
          0.8506294575866586,
          0.12371120342549463,
          -0.21731773112055477,
          -1.1130142266214658,
          0.5876701597506964,
          -0.5459226254608572,
          1.061672954810636,
          0.09446784284243107,
          -0.6829616273707716,
          0.9993656743472096,
          -0.5238729745094756,
          -0.9232682602030104,
          -1.1399099972844873,
          1.4177239382333449,
          -1.2385489459203411,
          0.9139327716213272,
          -0.1950190652257846,
          -0.7232280071985164,
          0.7178925572634225,
          -0.3869231850219358,
          -1.1110851121638883,
          0.5109203316297612,
          -1.0237058951468863,
          0.2777672213480589,
          0.9089347935577019,
          -0.47784841609201906,
          -0.18572038347878303,
          0.8181607377617439,
          -0.1555509408673983,
          1.6178024580284072,
          0.3168010772059872,
          -0.2344649450137472,
          -0.662325975502222,
          0.6812579548900719,
          -0.7037293013550847,
          0.3301009805558109,
          -1.6682715548955656,
          -0.5264304897415376,
          1.7786623314897354,
          0.08480322344048465,
          -0.9894575910807079,
          -0.6439454455787141,
          0.3532004796723608,
          -0.8274164104569124,
          -1.4936469024672425,
          -1.098119458352122,
          0.3359393018625474,
          -0.7913022006639495,
          0.4786980437487143,
          -0.06091557618027851,
          -0.8692385683549835,
          0.740960427595297,
          0.455549182852374,
          0.5109694916206015,
          -0.1498626427348044,
          1.6363708541023787,
          -0.42878290153449566,
          0.7050625674866938,
          -0.8983136534757796,
          -0.0352934325531089,
          -0.26314957187421667,
          -0.6158653409088861,
          0.7635530856460303,
          0.7551151722237617,
          -0.2213995845641046,
          0.670924714055657,
          0.2975795439836924,
          0.6040090013886447,
          -0.3941627300692083,
          0.8109266800499798,
          -0.5948765923255269,
          -0.8475615283178858,
          -0.4422235713998791,
          -0.0017861220796952838,
          -0.02908560937847064,
          0.9115052490577542,
          -0.1889504278134778
         ],
         "yaxis": "y8"
        },
        {
         "line": {
          "color": "rgba(128, 128, 128, 1.0)",
          "dash": "solid",
          "shape": "linear",
          "width": 1.3
         },
         "marker": {
          "size": 2,
          "symbol": "circle"
         },
         "mode": "markers",
         "name": "C",
         "text": "",
         "type": "scatter",
         "x": [
          0.5528846479247638,
          -2.398205930119027,
          -0.3028121147097552,
          0.4955055579660399,
          -0.8031139027427731,
          -1.0439615893646255,
          1.6840254798100713,
          -1.2270555973290076,
          0.03836565760442624,
          -0.7119933256566789,
          1.306205741116208,
          -0.298729867404561,
          -0.7626919498830378,
          -0.6865924844463516,
          0.40668760667413334,
          0.4591508148789853,
          -0.47679836895868144,
          0.12238283386054362,
          -0.2519742371876982,
          -0.5350962519073955,
          0.9495119626283427,
          1.317827160891446,
          0.06555116071136115,
          0.49179795262488285,
          0.10062406066380053,
          0.32118901639531455,
          -0.211126656422741,
          1.0841690624860194,
          0.3892873236104735,
          0.37450011731539384,
          0.7387478968533783,
          1.645689502745466,
          -0.07196554987844637,
          0.23900174535492802,
          0.6409689628833247,
          1.4639297982677268,
          1.3740544669976316,
          0.028651022122856213,
          0.7132598611898975,
          -0.4669090564868793,
          -0.09442894209417246,
          1.0368611520075945,
          1.2363172261610667,
          0.3824133876492034,
          1.3545419182200922,
          1.1829339768784208,
          -0.19995253590227513,
          0.27672726185968394,
          0.000979222163437031,
          1.1198026754737844,
          0.2413950682021842,
          -0.9897486524611538,
          0.969790314908981,
          -0.7233597095313674,
          0.8537501041961911,
          -0.33290215549787927,
          -0.2103438556569867,
          -0.466192267738929,
          -1.1823537998364433,
          1.851959835464232,
          -1.2308259465982763,
          2.4622169560603697,
          0.9465961004381525,
          -2.1211974351879124,
          0.5863806468807722,
          -0.6106802223716836,
          -0.604000303410238,
          -2.0524370532876093,
          0.09028238740701096,
          -0.2324593934384782,
          1.019924496688148,
          1.1891483232697713,
          0.4713522395845208,
          0.47272716034600604,
          -1.3138557741641002,
          -1.3422754707240987,
          -0.1202028018800572,
          0.3874772662295193,
          0.011290612252812894,
          -1.2153978471663942,
          0.22593818094665838,
          0.032367283112389796,
          0.33515367135340945,
          0.8229895475611503,
          -1.9283577588198613,
          -0.2864119360756065,
          1.6941256129076236,
          -0.6245918701287434,
          -1.2634541802059043,
          -1.1407703435522039,
          0.7356260860775407,
          -0.29457276598016724,
          0.2839443237372972,
          0.935454658824385,
          2.877734237945691,
          -1.1702742402057313,
          -1.4944762966648328,
          -1.2815063454992062,
          -0.9770578514226053,
          1.3034403383361466
         ],
         "xaxis": "x9",
         "y": [
          -0.3753228010573993,
          1.858129575474277,
          -0.410338179001649,
          0.06578969746370358,
          0.02812693570402251,
          -0.4959420275610195,
          0.8245449967185711,
          0.8970874856189467,
          0.4342376261779318,
          -1.6091052459307453,
          0.10184110231934021,
          -0.32789649319607544,
          -0.14231212741311852,
          -2.2402585402238167,
          -0.3783759284288644,
          1.2294658269371008,
          -1.0970226066162452,
          0.3949060328821529,
          -1.132296672987899,
          1.4279325357338581,
          0.4238269504118731,
          -0.008926958075053124,
          2.424574010497762,
          -0.9328386620541995,
          0.5414467385750422,
          -0.9314591609922944,
          0.052633016753005656,
          -0.12576691211142352,
          0.6847643753519642,
          -1.2974907918066008,
          -0.7696913172305885,
          -0.9136269413259297,
          -1.545713162635616,
          0.4161387135306835,
          -0.10200530663667176,
          -2.4327974954223865,
          -0.05321917349328707,
          -0.6328615429733635,
          -0.6744681332884495,
          -0.24925962268233195,
          0.38919561182835344,
          0.8049393690481663,
          1.4458933582231004,
          -1.6221275727873135,
          -0.6976194079398013,
          0.48272843420133904,
          1.148385401939861,
          0.14765539629373253,
          0.59007658295707,
          0.3731507780312944,
          0.6241960978758901,
          0.1095484823920591,
          0.45064294773707103,
          -0.1722019130125348,
          0.6009314982453949,
          -1.172349887740591,
          -1.4475847318474597,
          0.6900589918064277,
          1.5964645228105674,
          0.2702345716396932,
          0.2981014047026115,
          0.22148674540187993,
          0.9582094304926657,
          0.7435627424755311,
          0.9869096239364953,
          0.8357176148687951,
          -0.16316499409709204,
          1.2614625645977382,
          1.1761086437007806,
          -0.7674673954835308,
          -1.6303511184250903,
          -0.4619167546539699,
          1.168306445699756,
          0.2299046603383653,
          -0.9950985765275402,
          1.552482036186919,
          0.041378516482204634,
          -0.05402766256180481,
          -0.9055172178998108,
          0.9422362872900651,
          -0.22669546984099972,
          -1.6094780444493595,
          -0.7415029913765331,
          -0.37541987485767153,
          -0.05750943247085447,
          0.14487771319822293,
          0.08763028003387387,
          -1.304855717147345,
          0.08655745541765933,
          0.7653324221178338,
          -0.2898753934127883,
          -0.8177000003282332,
          1.0131080962274233,
          2.1381429648324444,
          -0.7194002707524055,
          -0.6339893868374737,
          1.5523038248212073,
          2.1409810569211465,
          -1.1856906691572626,
          -0.9166628496982585
         ],
         "yaxis": "y9"
        },
        {
         "line": {
          "color": "rgba(128, 128, 128, 1.0)",
          "dash": "solid",
          "shape": "linear",
          "width": 1.3
         },
         "marker": {
          "size": 2,
          "symbol": "circle"
         },
         "mode": "markers",
         "name": "C",
         "text": "",
         "type": "scatter",
         "x": [
          1.5221338266976558,
          0.37112679507706564,
          0.36603957292691625,
          0.29252692212843173,
          0.036180660230443626,
          -0.7132962320772471,
          0.9141168083341438,
          -0.31192340367024846,
          -0.4825095769901552,
          0.16428901034785823,
          -0.14475789553589113,
          -1.0352430195694506,
          -1.5284693687654274,
          0.681164249488606,
          -0.564706140357884,
          1.4755447264649455,
          -0.32321602983062203,
          -0.7450592141304335,
          -0.7966035904657918,
          -0.1773245865098007,
          -1.126571722363632,
          0.9150626029671826,
          -1.091207438666216,
          0.8506294575866586,
          0.12371120342549463,
          -0.21731773112055477,
          -1.1130142266214658,
          0.5876701597506964,
          -0.5459226254608572,
          1.061672954810636,
          0.09446784284243107,
          -0.6829616273707716,
          0.9993656743472096,
          -0.5238729745094756,
          -0.9232682602030104,
          -1.1399099972844873,
          1.4177239382333449,
          -1.2385489459203411,
          0.9139327716213272,
          -0.1950190652257846,
          -0.7232280071985164,
          0.7178925572634225,
          -0.3869231850219358,
          -1.1110851121638883,
          0.5109203316297612,
          -1.0237058951468863,
          0.2777672213480589,
          0.9089347935577019,
          -0.47784841609201906,
          -0.18572038347878303,
          0.8181607377617439,
          -0.1555509408673983,
          1.6178024580284072,
          0.3168010772059872,
          -0.2344649450137472,
          -0.662325975502222,
          0.6812579548900719,
          -0.7037293013550847,
          0.3301009805558109,
          -1.6682715548955656,
          -0.5264304897415376,
          1.7786623314897354,
          0.08480322344048465,
          -0.9894575910807079,
          -0.6439454455787141,
          0.3532004796723608,
          -0.8274164104569124,
          -1.4936469024672425,
          -1.098119458352122,
          0.3359393018625474,
          -0.7913022006639495,
          0.4786980437487143,
          -0.06091557618027851,
          -0.8692385683549835,
          0.740960427595297,
          0.455549182852374,
          0.5109694916206015,
          -0.1498626427348044,
          1.6363708541023787,
          -0.42878290153449566,
          0.7050625674866938,
          -0.8983136534757796,
          -0.0352934325531089,
          -0.26314957187421667,
          -0.6158653409088861,
          0.7635530856460303,
          0.7551151722237617,
          -0.2213995845641046,
          0.670924714055657,
          0.2975795439836924,
          0.6040090013886447,
          -0.3941627300692083,
          0.8109266800499798,
          -0.5948765923255269,
          -0.8475615283178858,
          -0.4422235713998791,
          -0.0017861220796952838,
          -0.02908560937847064,
          0.9115052490577542,
          -0.1889504278134778
         ],
         "xaxis": "x10",
         "y": [
          -0.3753228010573993,
          1.858129575474277,
          -0.410338179001649,
          0.06578969746370358,
          0.02812693570402251,
          -0.4959420275610195,
          0.8245449967185711,
          0.8970874856189467,
          0.4342376261779318,
          -1.6091052459307453,
          0.10184110231934021,
          -0.32789649319607544,
          -0.14231212741311852,
          -2.2402585402238167,
          -0.3783759284288644,
          1.2294658269371008,
          -1.0970226066162452,
          0.3949060328821529,
          -1.132296672987899,
          1.4279325357338581,
          0.4238269504118731,
          -0.008926958075053124,
          2.424574010497762,
          -0.9328386620541995,
          0.5414467385750422,
          -0.9314591609922944,
          0.052633016753005656,
          -0.12576691211142352,
          0.6847643753519642,
          -1.2974907918066008,
          -0.7696913172305885,
          -0.9136269413259297,
          -1.545713162635616,
          0.4161387135306835,
          -0.10200530663667176,
          -2.4327974954223865,
          -0.05321917349328707,
          -0.6328615429733635,
          -0.6744681332884495,
          -0.24925962268233195,
          0.38919561182835344,
          0.8049393690481663,
          1.4458933582231004,
          -1.6221275727873135,
          -0.6976194079398013,
          0.48272843420133904,
          1.148385401939861,
          0.14765539629373253,
          0.59007658295707,
          0.3731507780312944,
          0.6241960978758901,
          0.1095484823920591,
          0.45064294773707103,
          -0.1722019130125348,
          0.6009314982453949,
          -1.172349887740591,
          -1.4475847318474597,
          0.6900589918064277,
          1.5964645228105674,
          0.2702345716396932,
          0.2981014047026115,
          0.22148674540187993,
          0.9582094304926657,
          0.7435627424755311,
          0.9869096239364953,
          0.8357176148687951,
          -0.16316499409709204,
          1.2614625645977382,
          1.1761086437007806,
          -0.7674673954835308,
          -1.6303511184250903,
          -0.4619167546539699,
          1.168306445699756,
          0.2299046603383653,
          -0.9950985765275402,
          1.552482036186919,
          0.041378516482204634,
          -0.05402766256180481,
          -0.9055172178998108,
          0.9422362872900651,
          -0.22669546984099972,
          -1.6094780444493595,
          -0.7415029913765331,
          -0.37541987485767153,
          -0.05750943247085447,
          0.14487771319822293,
          0.08763028003387387,
          -1.304855717147345,
          0.08655745541765933,
          0.7653324221178338,
          -0.2898753934127883,
          -0.8177000003282332,
          1.0131080962274233,
          2.1381429648324444,
          -0.7194002707524055,
          -0.6339893868374737,
          1.5523038248212073,
          2.1409810569211465,
          -1.1856906691572626,
          -0.9166628496982585
         ],
         "yaxis": "y10"
        },
        {
         "histfunc": "count",
         "histnorm": "",
         "marker": {
          "color": "rgba(50, 171, 96, 1.0)",
          "line": {
           "color": "#4D5663",
           "width": 1.3
          }
         },
         "name": "C",
         "nbinsx": 10,
         "opacity": 0.8,
         "orientation": "v",
         "type": "histogram",
         "x": [
          -0.3753228010573993,
          1.858129575474277,
          -0.410338179001649,
          0.06578969746370358,
          0.02812693570402251,
          -0.4959420275610195,
          0.8245449967185711,
          0.8970874856189467,
          0.4342376261779318,
          -1.6091052459307453,
          0.10184110231934021,
          -0.32789649319607544,
          -0.14231212741311852,
          -2.2402585402238167,
          -0.3783759284288644,
          1.2294658269371008,
          -1.0970226066162452,
          0.3949060328821529,
          -1.132296672987899,
          1.4279325357338581,
          0.4238269504118731,
          -0.008926958075053124,
          2.424574010497762,
          -0.9328386620541995,
          0.5414467385750422,
          -0.9314591609922944,
          0.052633016753005656,
          -0.12576691211142352,
          0.6847643753519642,
          -1.2974907918066008,
          -0.7696913172305885,
          -0.9136269413259297,
          -1.545713162635616,
          0.4161387135306835,
          -0.10200530663667176,
          -2.4327974954223865,
          -0.05321917349328707,
          -0.6328615429733635,
          -0.6744681332884495,
          -0.24925962268233195,
          0.38919561182835344,
          0.8049393690481663,
          1.4458933582231004,
          -1.6221275727873135,
          -0.6976194079398013,
          0.48272843420133904,
          1.148385401939861,
          0.14765539629373253,
          0.59007658295707,
          0.3731507780312944,
          0.6241960978758901,
          0.1095484823920591,
          0.45064294773707103,
          -0.1722019130125348,
          0.6009314982453949,
          -1.172349887740591,
          -1.4475847318474597,
          0.6900589918064277,
          1.5964645228105674,
          0.2702345716396932,
          0.2981014047026115,
          0.22148674540187993,
          0.9582094304926657,
          0.7435627424755311,
          0.9869096239364953,
          0.8357176148687951,
          -0.16316499409709204,
          1.2614625645977382,
          1.1761086437007806,
          -0.7674673954835308,
          -1.6303511184250903,
          -0.4619167546539699,
          1.168306445699756,
          0.2299046603383653,
          -0.9950985765275402,
          1.552482036186919,
          0.041378516482204634,
          -0.05402766256180481,
          -0.9055172178998108,
          0.9422362872900651,
          -0.22669546984099972,
          -1.6094780444493595,
          -0.7415029913765331,
          -0.37541987485767153,
          -0.05750943247085447,
          0.14487771319822293,
          0.08763028003387387,
          -1.304855717147345,
          0.08655745541765933,
          0.7653324221178338,
          -0.2898753934127883,
          -0.8177000003282332,
          1.0131080962274233,
          2.1381429648324444,
          -0.7194002707524055,
          -0.6339893868374737,
          1.5523038248212073,
          2.1409810569211465,
          -1.1856906691572626,
          -0.9166628496982585
         ],
         "xaxis": "x11",
         "yaxis": "y11"
        },
        {
         "line": {
          "color": "rgba(128, 128, 128, 1.0)",
          "dash": "solid",
          "shape": "linear",
          "width": 1.3
         },
         "marker": {
          "size": 2,
          "symbol": "circle"
         },
         "mode": "markers",
         "name": "C",
         "text": "",
         "type": "scatter",
         "x": [
          2.013306412940443,
          -0.546359007082015,
          -1.7358315419013177,
          0.30103014281966867,
          0.5746072563282305,
          -1.4683629011121622,
          0.5433898110049855,
          -0.4705383955933248,
          -0.5811949410421311,
          -0.26159351696635313,
          -0.5043934914972953,
          0.9563554543819979,
          -0.08123950952249014,
          -1.2868499631647008,
          0.09783539747168195,
          0.9545658411093363,
          0.5245848175306133,
          0.3380350670194684,
          -1.4512106655645505,
          -1.281981400206145,
          -1.308167115357359,
          -0.35971045477861996,
          -0.512420043415833,
          -1.251905065483918,
          -0.8531422464828465,
          1.7341768531601454,
          0.038559351769476974,
          0.25191655836668336,
          -0.7303094209929796,
          1.7073604597804095,
          0.6386004345852292,
          -1.2311390362296117,
          -1.7755482716441562,
          1.9988565931832505,
          -2.0632775649910777,
          -0.21049229262690292,
          -1.8778805246002777,
          0.6525592916215323,
          -0.7997056429463001,
          -1.1757248916738905,
          -1.1359675326188294,
          -1.5935276916117505,
          0.041970134548078734,
          -0.3762072173207476,
          -0.36614637268815997,
          0.3182567706749178,
          -0.9132663471931876,
          1.0913725038434774,
          0.4771002710613205,
          0.47771941217539,
          2.5098980414141354,
          0.8084513541777368,
          0.6425955767501527,
          -0.12545797075193033,
          -0.568183437787671,
          0.39032519349837813,
          1.2767458147189956,
          0.8626422744060817,
          1.347223013704634,
          0.8376804724224781,
          1.217008455633511,
          -2.703109035744153,
          -0.9823449596702638,
          1.0215461583447056,
          0.27851803283081566,
          1.535145160250474,
          -1.4654834864491812,
          2.629129758597347,
          0.06586344585141272,
          1.8509978941094412,
          -1.2542237800052558,
          0.6693318373123142,
          0.2323479216721576,
          -2.423542526904085,
          1.3037205182045077,
          -0.8483692836455508,
          -1.146158764120612,
          -1.8277110038885906,
          1.0518143856691187,
          -0.6592324129786179,
          0.57230639271418,
          -0.9879612155120544,
          -0.5286940017556415,
          1.8231001217684917,
          0.9581230817567549,
          0.8491335328189504,
          -0.6629866808294782,
          0.2120136137861718,
          -0.41367427410916635,
          -1.9095340910520697,
          -0.18012523161650384,
          0.8276139682214836,
          0.24466091808603413,
          1.922611906807397,
          1.1926326949465051,
          -0.056344368898362765,
          0.35688581746126197,
          0.26450865748555785,
          -2.0455276522260277,
          -0.7505010965986343
         ],
         "xaxis": "x12",
         "y": [
          -0.3753228010573993,
          1.858129575474277,
          -0.410338179001649,
          0.06578969746370358,
          0.02812693570402251,
          -0.4959420275610195,
          0.8245449967185711,
          0.8970874856189467,
          0.4342376261779318,
          -1.6091052459307453,
          0.10184110231934021,
          -0.32789649319607544,
          -0.14231212741311852,
          -2.2402585402238167,
          -0.3783759284288644,
          1.2294658269371008,
          -1.0970226066162452,
          0.3949060328821529,
          -1.132296672987899,
          1.4279325357338581,
          0.4238269504118731,
          -0.008926958075053124,
          2.424574010497762,
          -0.9328386620541995,
          0.5414467385750422,
          -0.9314591609922944,
          0.052633016753005656,
          -0.12576691211142352,
          0.6847643753519642,
          -1.2974907918066008,
          -0.7696913172305885,
          -0.9136269413259297,
          -1.545713162635616,
          0.4161387135306835,
          -0.10200530663667176,
          -2.4327974954223865,
          -0.05321917349328707,
          -0.6328615429733635,
          -0.6744681332884495,
          -0.24925962268233195,
          0.38919561182835344,
          0.8049393690481663,
          1.4458933582231004,
          -1.6221275727873135,
          -0.6976194079398013,
          0.48272843420133904,
          1.148385401939861,
          0.14765539629373253,
          0.59007658295707,
          0.3731507780312944,
          0.6241960978758901,
          0.1095484823920591,
          0.45064294773707103,
          -0.1722019130125348,
          0.6009314982453949,
          -1.172349887740591,
          -1.4475847318474597,
          0.6900589918064277,
          1.5964645228105674,
          0.2702345716396932,
          0.2981014047026115,
          0.22148674540187993,
          0.9582094304926657,
          0.7435627424755311,
          0.9869096239364953,
          0.8357176148687951,
          -0.16316499409709204,
          1.2614625645977382,
          1.1761086437007806,
          -0.7674673954835308,
          -1.6303511184250903,
          -0.4619167546539699,
          1.168306445699756,
          0.2299046603383653,
          -0.9950985765275402,
          1.552482036186919,
          0.041378516482204634,
          -0.05402766256180481,
          -0.9055172178998108,
          0.9422362872900651,
          -0.22669546984099972,
          -1.6094780444493595,
          -0.7415029913765331,
          -0.37541987485767153,
          -0.05750943247085447,
          0.14487771319822293,
          0.08763028003387387,
          -1.304855717147345,
          0.08655745541765933,
          0.7653324221178338,
          -0.2898753934127883,
          -0.8177000003282332,
          1.0131080962274233,
          2.1381429648324444,
          -0.7194002707524055,
          -0.6339893868374737,
          1.5523038248212073,
          2.1409810569211465,
          -1.1856906691572626,
          -0.9166628496982585
         ],
         "yaxis": "y12"
        },
        {
         "line": {
          "color": "rgba(128, 128, 128, 1.0)",
          "dash": "solid",
          "shape": "linear",
          "width": 1.3
         },
         "marker": {
          "size": 2,
          "symbol": "circle"
         },
         "mode": "markers",
         "name": "D",
         "text": "",
         "type": "scatter",
         "x": [
          0.5528846479247638,
          -2.398205930119027,
          -0.3028121147097552,
          0.4955055579660399,
          -0.8031139027427731,
          -1.0439615893646255,
          1.6840254798100713,
          -1.2270555973290076,
          0.03836565760442624,
          -0.7119933256566789,
          1.306205741116208,
          -0.298729867404561,
          -0.7626919498830378,
          -0.6865924844463516,
          0.40668760667413334,
          0.4591508148789853,
          -0.47679836895868144,
          0.12238283386054362,
          -0.2519742371876982,
          -0.5350962519073955,
          0.9495119626283427,
          1.317827160891446,
          0.06555116071136115,
          0.49179795262488285,
          0.10062406066380053,
          0.32118901639531455,
          -0.211126656422741,
          1.0841690624860194,
          0.3892873236104735,
          0.37450011731539384,
          0.7387478968533783,
          1.645689502745466,
          -0.07196554987844637,
          0.23900174535492802,
          0.6409689628833247,
          1.4639297982677268,
          1.3740544669976316,
          0.028651022122856213,
          0.7132598611898975,
          -0.4669090564868793,
          -0.09442894209417246,
          1.0368611520075945,
          1.2363172261610667,
          0.3824133876492034,
          1.3545419182200922,
          1.1829339768784208,
          -0.19995253590227513,
          0.27672726185968394,
          0.000979222163437031,
          1.1198026754737844,
          0.2413950682021842,
          -0.9897486524611538,
          0.969790314908981,
          -0.7233597095313674,
          0.8537501041961911,
          -0.33290215549787927,
          -0.2103438556569867,
          -0.466192267738929,
          -1.1823537998364433,
          1.851959835464232,
          -1.2308259465982763,
          2.4622169560603697,
          0.9465961004381525,
          -2.1211974351879124,
          0.5863806468807722,
          -0.6106802223716836,
          -0.604000303410238,
          -2.0524370532876093,
          0.09028238740701096,
          -0.2324593934384782,
          1.019924496688148,
          1.1891483232697713,
          0.4713522395845208,
          0.47272716034600604,
          -1.3138557741641002,
          -1.3422754707240987,
          -0.1202028018800572,
          0.3874772662295193,
          0.011290612252812894,
          -1.2153978471663942,
          0.22593818094665838,
          0.032367283112389796,
          0.33515367135340945,
          0.8229895475611503,
          -1.9283577588198613,
          -0.2864119360756065,
          1.6941256129076236,
          -0.6245918701287434,
          -1.2634541802059043,
          -1.1407703435522039,
          0.7356260860775407,
          -0.29457276598016724,
          0.2839443237372972,
          0.935454658824385,
          2.877734237945691,
          -1.1702742402057313,
          -1.4944762966648328,
          -1.2815063454992062,
          -0.9770578514226053,
          1.3034403383361466
         ],
         "xaxis": "x13",
         "y": [
          2.013306412940443,
          -0.546359007082015,
          -1.7358315419013177,
          0.30103014281966867,
          0.5746072563282305,
          -1.4683629011121622,
          0.5433898110049855,
          -0.4705383955933248,
          -0.5811949410421311,
          -0.26159351696635313,
          -0.5043934914972953,
          0.9563554543819979,
          -0.08123950952249014,
          -1.2868499631647008,
          0.09783539747168195,
          0.9545658411093363,
          0.5245848175306133,
          0.3380350670194684,
          -1.4512106655645505,
          -1.281981400206145,
          -1.308167115357359,
          -0.35971045477861996,
          -0.512420043415833,
          -1.251905065483918,
          -0.8531422464828465,
          1.7341768531601454,
          0.038559351769476974,
          0.25191655836668336,
          -0.7303094209929796,
          1.7073604597804095,
          0.6386004345852292,
          -1.2311390362296117,
          -1.7755482716441562,
          1.9988565931832505,
          -2.0632775649910777,
          -0.21049229262690292,
          -1.8778805246002777,
          0.6525592916215323,
          -0.7997056429463001,
          -1.1757248916738905,
          -1.1359675326188294,
          -1.5935276916117505,
          0.041970134548078734,
          -0.3762072173207476,
          -0.36614637268815997,
          0.3182567706749178,
          -0.9132663471931876,
          1.0913725038434774,
          0.4771002710613205,
          0.47771941217539,
          2.5098980414141354,
          0.8084513541777368,
          0.6425955767501527,
          -0.12545797075193033,
          -0.568183437787671,
          0.39032519349837813,
          1.2767458147189956,
          0.8626422744060817,
          1.347223013704634,
          0.8376804724224781,
          1.217008455633511,
          -2.703109035744153,
          -0.9823449596702638,
          1.0215461583447056,
          0.27851803283081566,
          1.535145160250474,
          -1.4654834864491812,
          2.629129758597347,
          0.06586344585141272,
          1.8509978941094412,
          -1.2542237800052558,
          0.6693318373123142,
          0.2323479216721576,
          -2.423542526904085,
          1.3037205182045077,
          -0.8483692836455508,
          -1.146158764120612,
          -1.8277110038885906,
          1.0518143856691187,
          -0.6592324129786179,
          0.57230639271418,
          -0.9879612155120544,
          -0.5286940017556415,
          1.8231001217684917,
          0.9581230817567549,
          0.8491335328189504,
          -0.6629866808294782,
          0.2120136137861718,
          -0.41367427410916635,
          -1.9095340910520697,
          -0.18012523161650384,
          0.8276139682214836,
          0.24466091808603413,
          1.922611906807397,
          1.1926326949465051,
          -0.056344368898362765,
          0.35688581746126197,
          0.26450865748555785,
          -2.0455276522260277,
          -0.7505010965986343
         ],
         "yaxis": "y13"
        },
        {
         "line": {
          "color": "rgba(128, 128, 128, 1.0)",
          "dash": "solid",
          "shape": "linear",
          "width": 1.3
         },
         "marker": {
          "size": 2,
          "symbol": "circle"
         },
         "mode": "markers",
         "name": "D",
         "text": "",
         "type": "scatter",
         "x": [
          1.5221338266976558,
          0.37112679507706564,
          0.36603957292691625,
          0.29252692212843173,
          0.036180660230443626,
          -0.7132962320772471,
          0.9141168083341438,
          -0.31192340367024846,
          -0.4825095769901552,
          0.16428901034785823,
          -0.14475789553589113,
          -1.0352430195694506,
          -1.5284693687654274,
          0.681164249488606,
          -0.564706140357884,
          1.4755447264649455,
          -0.32321602983062203,
          -0.7450592141304335,
          -0.7966035904657918,
          -0.1773245865098007,
          -1.126571722363632,
          0.9150626029671826,
          -1.091207438666216,
          0.8506294575866586,
          0.12371120342549463,
          -0.21731773112055477,
          -1.1130142266214658,
          0.5876701597506964,
          -0.5459226254608572,
          1.061672954810636,
          0.09446784284243107,
          -0.6829616273707716,
          0.9993656743472096,
          -0.5238729745094756,
          -0.9232682602030104,
          -1.1399099972844873,
          1.4177239382333449,
          -1.2385489459203411,
          0.9139327716213272,
          -0.1950190652257846,
          -0.7232280071985164,
          0.7178925572634225,
          -0.3869231850219358,
          -1.1110851121638883,
          0.5109203316297612,
          -1.0237058951468863,
          0.2777672213480589,
          0.9089347935577019,
          -0.47784841609201906,
          -0.18572038347878303,
          0.8181607377617439,
          -0.1555509408673983,
          1.6178024580284072,
          0.3168010772059872,
          -0.2344649450137472,
          -0.662325975502222,
          0.6812579548900719,
          -0.7037293013550847,
          0.3301009805558109,
          -1.6682715548955656,
          -0.5264304897415376,
          1.7786623314897354,
          0.08480322344048465,
          -0.9894575910807079,
          -0.6439454455787141,
          0.3532004796723608,
          -0.8274164104569124,
          -1.4936469024672425,
          -1.098119458352122,
          0.3359393018625474,
          -0.7913022006639495,
          0.4786980437487143,
          -0.06091557618027851,
          -0.8692385683549835,
          0.740960427595297,
          0.455549182852374,
          0.5109694916206015,
          -0.1498626427348044,
          1.6363708541023787,
          -0.42878290153449566,
          0.7050625674866938,
          -0.8983136534757796,
          -0.0352934325531089,
          -0.26314957187421667,
          -0.6158653409088861,
          0.7635530856460303,
          0.7551151722237617,
          -0.2213995845641046,
          0.670924714055657,
          0.2975795439836924,
          0.6040090013886447,
          -0.3941627300692083,
          0.8109266800499798,
          -0.5948765923255269,
          -0.8475615283178858,
          -0.4422235713998791,
          -0.0017861220796952838,
          -0.02908560937847064,
          0.9115052490577542,
          -0.1889504278134778
         ],
         "xaxis": "x14",
         "y": [
          2.013306412940443,
          -0.546359007082015,
          -1.7358315419013177,
          0.30103014281966867,
          0.5746072563282305,
          -1.4683629011121622,
          0.5433898110049855,
          -0.4705383955933248,
          -0.5811949410421311,
          -0.26159351696635313,
          -0.5043934914972953,
          0.9563554543819979,
          -0.08123950952249014,
          -1.2868499631647008,
          0.09783539747168195,
          0.9545658411093363,
          0.5245848175306133,
          0.3380350670194684,
          -1.4512106655645505,
          -1.281981400206145,
          -1.308167115357359,
          -0.35971045477861996,
          -0.512420043415833,
          -1.251905065483918,
          -0.8531422464828465,
          1.7341768531601454,
          0.038559351769476974,
          0.25191655836668336,
          -0.7303094209929796,
          1.7073604597804095,
          0.6386004345852292,
          -1.2311390362296117,
          -1.7755482716441562,
          1.9988565931832505,
          -2.0632775649910777,
          -0.21049229262690292,
          -1.8778805246002777,
          0.6525592916215323,
          -0.7997056429463001,
          -1.1757248916738905,
          -1.1359675326188294,
          -1.5935276916117505,
          0.041970134548078734,
          -0.3762072173207476,
          -0.36614637268815997,
          0.3182567706749178,
          -0.9132663471931876,
          1.0913725038434774,
          0.4771002710613205,
          0.47771941217539,
          2.5098980414141354,
          0.8084513541777368,
          0.6425955767501527,
          -0.12545797075193033,
          -0.568183437787671,
          0.39032519349837813,
          1.2767458147189956,
          0.8626422744060817,
          1.347223013704634,
          0.8376804724224781,
          1.217008455633511,
          -2.703109035744153,
          -0.9823449596702638,
          1.0215461583447056,
          0.27851803283081566,
          1.535145160250474,
          -1.4654834864491812,
          2.629129758597347,
          0.06586344585141272,
          1.8509978941094412,
          -1.2542237800052558,
          0.6693318373123142,
          0.2323479216721576,
          -2.423542526904085,
          1.3037205182045077,
          -0.8483692836455508,
          -1.146158764120612,
          -1.8277110038885906,
          1.0518143856691187,
          -0.6592324129786179,
          0.57230639271418,
          -0.9879612155120544,
          -0.5286940017556415,
          1.8231001217684917,
          0.9581230817567549,
          0.8491335328189504,
          -0.6629866808294782,
          0.2120136137861718,
          -0.41367427410916635,
          -1.9095340910520697,
          -0.18012523161650384,
          0.8276139682214836,
          0.24466091808603413,
          1.922611906807397,
          1.1926326949465051,
          -0.056344368898362765,
          0.35688581746126197,
          0.26450865748555785,
          -2.0455276522260277,
          -0.7505010965986343
         ],
         "yaxis": "y14"
        },
        {
         "line": {
          "color": "rgba(128, 128, 128, 1.0)",
          "dash": "solid",
          "shape": "linear",
          "width": 1.3
         },
         "marker": {
          "size": 2,
          "symbol": "circle"
         },
         "mode": "markers",
         "name": "D",
         "text": "",
         "type": "scatter",
         "x": [
          -0.3753228010573993,
          1.858129575474277,
          -0.410338179001649,
          0.06578969746370358,
          0.02812693570402251,
          -0.4959420275610195,
          0.8245449967185711,
          0.8970874856189467,
          0.4342376261779318,
          -1.6091052459307453,
          0.10184110231934021,
          -0.32789649319607544,
          -0.14231212741311852,
          -2.2402585402238167,
          -0.3783759284288644,
          1.2294658269371008,
          -1.0970226066162452,
          0.3949060328821529,
          -1.132296672987899,
          1.4279325357338581,
          0.4238269504118731,
          -0.008926958075053124,
          2.424574010497762,
          -0.9328386620541995,
          0.5414467385750422,
          -0.9314591609922944,
          0.052633016753005656,
          -0.12576691211142352,
          0.6847643753519642,
          -1.2974907918066008,
          -0.7696913172305885,
          -0.9136269413259297,
          -1.545713162635616,
          0.4161387135306835,
          -0.10200530663667176,
          -2.4327974954223865,
          -0.05321917349328707,
          -0.6328615429733635,
          -0.6744681332884495,
          -0.24925962268233195,
          0.38919561182835344,
          0.8049393690481663,
          1.4458933582231004,
          -1.6221275727873135,
          -0.6976194079398013,
          0.48272843420133904,
          1.148385401939861,
          0.14765539629373253,
          0.59007658295707,
          0.3731507780312944,
          0.6241960978758901,
          0.1095484823920591,
          0.45064294773707103,
          -0.1722019130125348,
          0.6009314982453949,
          -1.172349887740591,
          -1.4475847318474597,
          0.6900589918064277,
          1.5964645228105674,
          0.2702345716396932,
          0.2981014047026115,
          0.22148674540187993,
          0.9582094304926657,
          0.7435627424755311,
          0.9869096239364953,
          0.8357176148687951,
          -0.16316499409709204,
          1.2614625645977382,
          1.1761086437007806,
          -0.7674673954835308,
          -1.6303511184250903,
          -0.4619167546539699,
          1.168306445699756,
          0.2299046603383653,
          -0.9950985765275402,
          1.552482036186919,
          0.041378516482204634,
          -0.05402766256180481,
          -0.9055172178998108,
          0.9422362872900651,
          -0.22669546984099972,
          -1.6094780444493595,
          -0.7415029913765331,
          -0.37541987485767153,
          -0.05750943247085447,
          0.14487771319822293,
          0.08763028003387387,
          -1.304855717147345,
          0.08655745541765933,
          0.7653324221178338,
          -0.2898753934127883,
          -0.8177000003282332,
          1.0131080962274233,
          2.1381429648324444,
          -0.7194002707524055,
          -0.6339893868374737,
          1.5523038248212073,
          2.1409810569211465,
          -1.1856906691572626,
          -0.9166628496982585
         ],
         "xaxis": "x15",
         "y": [
          2.013306412940443,
          -0.546359007082015,
          -1.7358315419013177,
          0.30103014281966867,
          0.5746072563282305,
          -1.4683629011121622,
          0.5433898110049855,
          -0.4705383955933248,
          -0.5811949410421311,
          -0.26159351696635313,
          -0.5043934914972953,
          0.9563554543819979,
          -0.08123950952249014,
          -1.2868499631647008,
          0.09783539747168195,
          0.9545658411093363,
          0.5245848175306133,
          0.3380350670194684,
          -1.4512106655645505,
          -1.281981400206145,
          -1.308167115357359,
          -0.35971045477861996,
          -0.512420043415833,
          -1.251905065483918,
          -0.8531422464828465,
          1.7341768531601454,
          0.038559351769476974,
          0.25191655836668336,
          -0.7303094209929796,
          1.7073604597804095,
          0.6386004345852292,
          -1.2311390362296117,
          -1.7755482716441562,
          1.9988565931832505,
          -2.0632775649910777,
          -0.21049229262690292,
          -1.8778805246002777,
          0.6525592916215323,
          -0.7997056429463001,
          -1.1757248916738905,
          -1.1359675326188294,
          -1.5935276916117505,
          0.041970134548078734,
          -0.3762072173207476,
          -0.36614637268815997,
          0.3182567706749178,
          -0.9132663471931876,
          1.0913725038434774,
          0.4771002710613205,
          0.47771941217539,
          2.5098980414141354,
          0.8084513541777368,
          0.6425955767501527,
          -0.12545797075193033,
          -0.568183437787671,
          0.39032519349837813,
          1.2767458147189956,
          0.8626422744060817,
          1.347223013704634,
          0.8376804724224781,
          1.217008455633511,
          -2.703109035744153,
          -0.9823449596702638,
          1.0215461583447056,
          0.27851803283081566,
          1.535145160250474,
          -1.4654834864491812,
          2.629129758597347,
          0.06586344585141272,
          1.8509978941094412,
          -1.2542237800052558,
          0.6693318373123142,
          0.2323479216721576,
          -2.423542526904085,
          1.3037205182045077,
          -0.8483692836455508,
          -1.146158764120612,
          -1.8277110038885906,
          1.0518143856691187,
          -0.6592324129786179,
          0.57230639271418,
          -0.9879612155120544,
          -0.5286940017556415,
          1.8231001217684917,
          0.9581230817567549,
          0.8491335328189504,
          -0.6629866808294782,
          0.2120136137861718,
          -0.41367427410916635,
          -1.9095340910520697,
          -0.18012523161650384,
          0.8276139682214836,
          0.24466091808603413,
          1.922611906807397,
          1.1926326949465051,
          -0.056344368898362765,
          0.35688581746126197,
          0.26450865748555785,
          -2.0455276522260277,
          -0.7505010965986343
         ],
         "yaxis": "y15"
        },
        {
         "histfunc": "count",
         "histnorm": "",
         "marker": {
          "color": "rgba(128, 0, 128, 1.0)",
          "line": {
           "color": "#4D5663",
           "width": 1.3
          }
         },
         "name": "D",
         "nbinsx": 10,
         "opacity": 0.8,
         "orientation": "v",
         "type": "histogram",
         "x": [
          2.013306412940443,
          -0.546359007082015,
          -1.7358315419013177,
          0.30103014281966867,
          0.5746072563282305,
          -1.4683629011121622,
          0.5433898110049855,
          -0.4705383955933248,
          -0.5811949410421311,
          -0.26159351696635313,
          -0.5043934914972953,
          0.9563554543819979,
          -0.08123950952249014,
          -1.2868499631647008,
          0.09783539747168195,
          0.9545658411093363,
          0.5245848175306133,
          0.3380350670194684,
          -1.4512106655645505,
          -1.281981400206145,
          -1.308167115357359,
          -0.35971045477861996,
          -0.512420043415833,
          -1.251905065483918,
          -0.8531422464828465,
          1.7341768531601454,
          0.038559351769476974,
          0.25191655836668336,
          -0.7303094209929796,
          1.7073604597804095,
          0.6386004345852292,
          -1.2311390362296117,
          -1.7755482716441562,
          1.9988565931832505,
          -2.0632775649910777,
          -0.21049229262690292,
          -1.8778805246002777,
          0.6525592916215323,
          -0.7997056429463001,
          -1.1757248916738905,
          -1.1359675326188294,
          -1.5935276916117505,
          0.041970134548078734,
          -0.3762072173207476,
          -0.36614637268815997,
          0.3182567706749178,
          -0.9132663471931876,
          1.0913725038434774,
          0.4771002710613205,
          0.47771941217539,
          2.5098980414141354,
          0.8084513541777368,
          0.6425955767501527,
          -0.12545797075193033,
          -0.568183437787671,
          0.39032519349837813,
          1.2767458147189956,
          0.8626422744060817,
          1.347223013704634,
          0.8376804724224781,
          1.217008455633511,
          -2.703109035744153,
          -0.9823449596702638,
          1.0215461583447056,
          0.27851803283081566,
          1.535145160250474,
          -1.4654834864491812,
          2.629129758597347,
          0.06586344585141272,
          1.8509978941094412,
          -1.2542237800052558,
          0.6693318373123142,
          0.2323479216721576,
          -2.423542526904085,
          1.3037205182045077,
          -0.8483692836455508,
          -1.146158764120612,
          -1.8277110038885906,
          1.0518143856691187,
          -0.6592324129786179,
          0.57230639271418,
          -0.9879612155120544,
          -0.5286940017556415,
          1.8231001217684917,
          0.9581230817567549,
          0.8491335328189504,
          -0.6629866808294782,
          0.2120136137861718,
          -0.41367427410916635,
          -1.9095340910520697,
          -0.18012523161650384,
          0.8276139682214836,
          0.24466091808603413,
          1.922611906807397,
          1.1926326949465051,
          -0.056344368898362765,
          0.35688581746126197,
          0.26450865748555785,
          -2.0455276522260277,
          -0.7505010965986343
         ],
         "xaxis": "x16",
         "yaxis": "y16"
        }
       ],
       "layout": {
        "autosize": true,
        "bargap": 0.02,
        "legend": {
         "bgcolor": "#F5F6F9",
         "font": {
          "color": "#4D5663"
         }
        },
        "paper_bgcolor": "#F5F6F9",
        "plot_bgcolor": "#F5F6F9",
        "showlegend": false,
        "template": {
         "data": {
          "bar": [
           {
            "error_x": {
             "color": "#2a3f5f"
            },
            "error_y": {
             "color": "#2a3f5f"
            },
            "marker": {
             "line": {
              "color": "#E5ECF6",
              "width": 0.5
             },
             "pattern": {
              "fillmode": "overlay",
              "size": 10,
              "solidity": 0.2
             }
            },
            "type": "bar"
           }
          ],
          "barpolar": [
           {
            "marker": {
             "line": {
              "color": "#E5ECF6",
              "width": 0.5
             },
             "pattern": {
              "fillmode": "overlay",
              "size": 10,
              "solidity": 0.2
             }
            },
            "type": "barpolar"
           }
          ],
          "carpet": [
           {
            "aaxis": {
             "endlinecolor": "#2a3f5f",
             "gridcolor": "white",
             "linecolor": "white",
             "minorgridcolor": "white",
             "startlinecolor": "#2a3f5f"
            },
            "baxis": {
             "endlinecolor": "#2a3f5f",
             "gridcolor": "white",
             "linecolor": "white",
             "minorgridcolor": "white",
             "startlinecolor": "#2a3f5f"
            },
            "type": "carpet"
           }
          ],
          "choropleth": [
           {
            "colorbar": {
             "outlinewidth": 0,
             "ticks": ""
            },
            "type": "choropleth"
           }
          ],
          "contour": [
           {
            "colorbar": {
             "outlinewidth": 0,
             "ticks": ""
            },
            "colorscale": [
             [
              0,
              "#0d0887"
             ],
             [
              0.1111111111111111,
              "#46039f"
             ],
             [
              0.2222222222222222,
              "#7201a8"
             ],
             [
              0.3333333333333333,
              "#9c179e"
             ],
             [
              0.4444444444444444,
              "#bd3786"
             ],
             [
              0.5555555555555556,
              "#d8576b"
             ],
             [
              0.6666666666666666,
              "#ed7953"
             ],
             [
              0.7777777777777778,
              "#fb9f3a"
             ],
             [
              0.8888888888888888,
              "#fdca26"
             ],
             [
              1,
              "#f0f921"
             ]
            ],
            "type": "contour"
           }
          ],
          "contourcarpet": [
           {
            "colorbar": {
             "outlinewidth": 0,
             "ticks": ""
            },
            "type": "contourcarpet"
           }
          ],
          "heatmap": [
           {
            "colorbar": {
             "outlinewidth": 0,
             "ticks": ""
            },
            "colorscale": [
             [
              0,
              "#0d0887"
             ],
             [
              0.1111111111111111,
              "#46039f"
             ],
             [
              0.2222222222222222,
              "#7201a8"
             ],
             [
              0.3333333333333333,
              "#9c179e"
             ],
             [
              0.4444444444444444,
              "#bd3786"
             ],
             [
              0.5555555555555556,
              "#d8576b"
             ],
             [
              0.6666666666666666,
              "#ed7953"
             ],
             [
              0.7777777777777778,
              "#fb9f3a"
             ],
             [
              0.8888888888888888,
              "#fdca26"
             ],
             [
              1,
              "#f0f921"
             ]
            ],
            "type": "heatmap"
           }
          ],
          "heatmapgl": [
           {
            "colorbar": {
             "outlinewidth": 0,
             "ticks": ""
            },
            "colorscale": [
             [
              0,
              "#0d0887"
             ],
             [
              0.1111111111111111,
              "#46039f"
             ],
             [
              0.2222222222222222,
              "#7201a8"
             ],
             [
              0.3333333333333333,
              "#9c179e"
             ],
             [
              0.4444444444444444,
              "#bd3786"
             ],
             [
              0.5555555555555556,
              "#d8576b"
             ],
             [
              0.6666666666666666,
              "#ed7953"
             ],
             [
              0.7777777777777778,
              "#fb9f3a"
             ],
             [
              0.8888888888888888,
              "#fdca26"
             ],
             [
              1,
              "#f0f921"
             ]
            ],
            "type": "heatmapgl"
           }
          ],
          "histogram": [
           {
            "marker": {
             "pattern": {
              "fillmode": "overlay",
              "size": 10,
              "solidity": 0.2
             }
            },
            "type": "histogram"
           }
          ],
          "histogram2d": [
           {
            "colorbar": {
             "outlinewidth": 0,
             "ticks": ""
            },
            "colorscale": [
             [
              0,
              "#0d0887"
             ],
             [
              0.1111111111111111,
              "#46039f"
             ],
             [
              0.2222222222222222,
              "#7201a8"
             ],
             [
              0.3333333333333333,
              "#9c179e"
             ],
             [
              0.4444444444444444,
              "#bd3786"
             ],
             [
              0.5555555555555556,
              "#d8576b"
             ],
             [
              0.6666666666666666,
              "#ed7953"
             ],
             [
              0.7777777777777778,
              "#fb9f3a"
             ],
             [
              0.8888888888888888,
              "#fdca26"
             ],
             [
              1,
              "#f0f921"
             ]
            ],
            "type": "histogram2d"
           }
          ],
          "histogram2dcontour": [
           {
            "colorbar": {
             "outlinewidth": 0,
             "ticks": ""
            },
            "colorscale": [
             [
              0,
              "#0d0887"
             ],
             [
              0.1111111111111111,
              "#46039f"
             ],
             [
              0.2222222222222222,
              "#7201a8"
             ],
             [
              0.3333333333333333,
              "#9c179e"
             ],
             [
              0.4444444444444444,
              "#bd3786"
             ],
             [
              0.5555555555555556,
              "#d8576b"
             ],
             [
              0.6666666666666666,
              "#ed7953"
             ],
             [
              0.7777777777777778,
              "#fb9f3a"
             ],
             [
              0.8888888888888888,
              "#fdca26"
             ],
             [
              1,
              "#f0f921"
             ]
            ],
            "type": "histogram2dcontour"
           }
          ],
          "mesh3d": [
           {
            "colorbar": {
             "outlinewidth": 0,
             "ticks": ""
            },
            "type": "mesh3d"
           }
          ],
          "parcoords": [
           {
            "line": {
             "colorbar": {
              "outlinewidth": 0,
              "ticks": ""
             }
            },
            "type": "parcoords"
           }
          ],
          "pie": [
           {
            "automargin": true,
            "type": "pie"
           }
          ],
          "scatter": [
           {
            "fillpattern": {
             "fillmode": "overlay",
             "size": 10,
             "solidity": 0.2
            },
            "type": "scatter"
           }
          ],
          "scatter3d": [
           {
            "line": {
             "colorbar": {
              "outlinewidth": 0,
              "ticks": ""
             }
            },
            "marker": {
             "colorbar": {
              "outlinewidth": 0,
              "ticks": ""
             }
            },
            "type": "scatter3d"
           }
          ],
          "scattercarpet": [
           {
            "marker": {
             "colorbar": {
              "outlinewidth": 0,
              "ticks": ""
             }
            },
            "type": "scattercarpet"
           }
          ],
          "scattergeo": [
           {
            "marker": {
             "colorbar": {
              "outlinewidth": 0,
              "ticks": ""
             }
            },
            "type": "scattergeo"
           }
          ],
          "scattergl": [
           {
            "marker": {
             "colorbar": {
              "outlinewidth": 0,
              "ticks": ""
             }
            },
            "type": "scattergl"
           }
          ],
          "scattermapbox": [
           {
            "marker": {
             "colorbar": {
              "outlinewidth": 0,
              "ticks": ""
             }
            },
            "type": "scattermapbox"
           }
          ],
          "scatterpolar": [
           {
            "marker": {
             "colorbar": {
              "outlinewidth": 0,
              "ticks": ""
             }
            },
            "type": "scatterpolar"
           }
          ],
          "scatterpolargl": [
           {
            "marker": {
             "colorbar": {
              "outlinewidth": 0,
              "ticks": ""
             }
            },
            "type": "scatterpolargl"
           }
          ],
          "scatterternary": [
           {
            "marker": {
             "colorbar": {
              "outlinewidth": 0,
              "ticks": ""
             }
            },
            "type": "scatterternary"
           }
          ],
          "surface": [
           {
            "colorbar": {
             "outlinewidth": 0,
             "ticks": ""
            },
            "colorscale": [
             [
              0,
              "#0d0887"
             ],
             [
              0.1111111111111111,
              "#46039f"
             ],
             [
              0.2222222222222222,
              "#7201a8"
             ],
             [
              0.3333333333333333,
              "#9c179e"
             ],
             [
              0.4444444444444444,
              "#bd3786"
             ],
             [
              0.5555555555555556,
              "#d8576b"
             ],
             [
              0.6666666666666666,
              "#ed7953"
             ],
             [
              0.7777777777777778,
              "#fb9f3a"
             ],
             [
              0.8888888888888888,
              "#fdca26"
             ],
             [
              1,
              "#f0f921"
             ]
            ],
            "type": "surface"
           }
          ],
          "table": [
           {
            "cells": {
             "fill": {
              "color": "#EBF0F8"
             },
             "line": {
              "color": "white"
             }
            },
            "header": {
             "fill": {
              "color": "#C8D4E3"
             },
             "line": {
              "color": "white"
             }
            },
            "type": "table"
           }
          ]
         },
         "layout": {
          "annotationdefaults": {
           "arrowcolor": "#2a3f5f",
           "arrowhead": 0,
           "arrowwidth": 1
          },
          "autotypenumbers": "strict",
          "coloraxis": {
           "colorbar": {
            "outlinewidth": 0,
            "ticks": ""
           }
          },
          "colorscale": {
           "diverging": [
            [
             0,
             "#8e0152"
            ],
            [
             0.1,
             "#c51b7d"
            ],
            [
             0.2,
             "#de77ae"
            ],
            [
             0.3,
             "#f1b6da"
            ],
            [
             0.4,
             "#fde0ef"
            ],
            [
             0.5,
             "#f7f7f7"
            ],
            [
             0.6,
             "#e6f5d0"
            ],
            [
             0.7,
             "#b8e186"
            ],
            [
             0.8,
             "#7fbc41"
            ],
            [
             0.9,
             "#4d9221"
            ],
            [
             1,
             "#276419"
            ]
           ],
           "sequential": [
            [
             0,
             "#0d0887"
            ],
            [
             0.1111111111111111,
             "#46039f"
            ],
            [
             0.2222222222222222,
             "#7201a8"
            ],
            [
             0.3333333333333333,
             "#9c179e"
            ],
            [
             0.4444444444444444,
             "#bd3786"
            ],
            [
             0.5555555555555556,
             "#d8576b"
            ],
            [
             0.6666666666666666,
             "#ed7953"
            ],
            [
             0.7777777777777778,
             "#fb9f3a"
            ],
            [
             0.8888888888888888,
             "#fdca26"
            ],
            [
             1,
             "#f0f921"
            ]
           ],
           "sequentialminus": [
            [
             0,
             "#0d0887"
            ],
            [
             0.1111111111111111,
             "#46039f"
            ],
            [
             0.2222222222222222,
             "#7201a8"
            ],
            [
             0.3333333333333333,
             "#9c179e"
            ],
            [
             0.4444444444444444,
             "#bd3786"
            ],
            [
             0.5555555555555556,
             "#d8576b"
            ],
            [
             0.6666666666666666,
             "#ed7953"
            ],
            [
             0.7777777777777778,
             "#fb9f3a"
            ],
            [
             0.8888888888888888,
             "#fdca26"
            ],
            [
             1,
             "#f0f921"
            ]
           ]
          },
          "colorway": [
           "#636efa",
           "#EF553B",
           "#00cc96",
           "#ab63fa",
           "#FFA15A",
           "#19d3f3",
           "#FF6692",
           "#B6E880",
           "#FF97FF",
           "#FECB52"
          ],
          "font": {
           "color": "#2a3f5f"
          },
          "geo": {
           "bgcolor": "white",
           "lakecolor": "white",
           "landcolor": "#E5ECF6",
           "showlakes": true,
           "showland": true,
           "subunitcolor": "white"
          },
          "hoverlabel": {
           "align": "left"
          },
          "hovermode": "closest",
          "mapbox": {
           "style": "light"
          },
          "paper_bgcolor": "white",
          "plot_bgcolor": "#E5ECF6",
          "polar": {
           "angularaxis": {
            "gridcolor": "white",
            "linecolor": "white",
            "ticks": ""
           },
           "bgcolor": "#E5ECF6",
           "radialaxis": {
            "gridcolor": "white",
            "linecolor": "white",
            "ticks": ""
           }
          },
          "scene": {
           "xaxis": {
            "backgroundcolor": "#E5ECF6",
            "gridcolor": "white",
            "gridwidth": 2,
            "linecolor": "white",
            "showbackground": true,
            "ticks": "",
            "zerolinecolor": "white"
           },
           "yaxis": {
            "backgroundcolor": "#E5ECF6",
            "gridcolor": "white",
            "gridwidth": 2,
            "linecolor": "white",
            "showbackground": true,
            "ticks": "",
            "zerolinecolor": "white"
           },
           "zaxis": {
            "backgroundcolor": "#E5ECF6",
            "gridcolor": "white",
            "gridwidth": 2,
            "linecolor": "white",
            "showbackground": true,
            "ticks": "",
            "zerolinecolor": "white"
           }
          },
          "shapedefaults": {
           "line": {
            "color": "#2a3f5f"
           }
          },
          "ternary": {
           "aaxis": {
            "gridcolor": "white",
            "linecolor": "white",
            "ticks": ""
           },
           "baxis": {
            "gridcolor": "white",
            "linecolor": "white",
            "ticks": ""
           },
           "bgcolor": "#E5ECF6",
           "caxis": {
            "gridcolor": "white",
            "linecolor": "white",
            "ticks": ""
           }
          },
          "title": {
           "x": 0.05
          },
          "xaxis": {
           "automargin": true,
           "gridcolor": "white",
           "linecolor": "white",
           "ticks": "",
           "title": {
            "standoff": 15
           },
           "zerolinecolor": "white",
           "zerolinewidth": 2
          },
          "yaxis": {
           "automargin": true,
           "gridcolor": "white",
           "linecolor": "white",
           "ticks": "",
           "title": {
            "standoff": 15
           },
           "zerolinecolor": "white",
           "zerolinewidth": 2
          }
         }
        },
        "title": {
         "font": {
          "color": "#4D5663"
         }
        },
        "xaxis": {
         "anchor": "y",
         "autorange": true,
         "domain": [
          0,
          0.2125
         ],
         "gridcolor": "#E1E5ED",
         "range": [
          -3,
          3
         ],
         "showgrid": false,
         "tickfont": {
          "color": "#4D5663"
         },
         "title": {
          "font": {
           "color": "#4D5663"
          },
          "text": ""
         },
         "type": "linear",
         "zerolinecolor": "#E1E5ED"
        },
        "xaxis10": {
         "anchor": "y10",
         "autorange": true,
         "domain": [
          0.2625,
          0.475
         ],
         "gridcolor": "#E1E5ED",
         "range": [
          -1.9159869870975674,
          2.026377763691737
         ],
         "showgrid": false,
         "tickfont": {
          "color": "#4D5663"
         },
         "title": {
          "font": {
           "color": "#4D5663"
          },
          "text": ""
         },
         "type": "linear",
         "zerolinecolor": "#E1E5ED"
        },
        "xaxis11": {
         "anchor": "y11",
         "autorange": true,
         "domain": [
          0.525,
          0.7375
         ],
         "gridcolor": "#E1E5ED",
         "range": [
          -2.5,
          2.5
         ],
         "showgrid": false,
         "tickfont": {
          "color": "#4D5663"
         },
         "title": {
          "font": {
           "color": "#4D5663"
          },
          "text": ""
         },
         "type": "linear",
         "zerolinecolor": "#E1E5ED"
        },
        "xaxis12": {
         "anchor": "y12",
         "autorange": true,
         "domain": [
          0.7875,
          1
         ],
         "gridcolor": "#E1E5ED",
         "range": [
          -3.0863127411479,
          3.012333464001094
         ],
         "showgrid": false,
         "tickfont": {
          "color": "#4D5663"
         },
         "title": {
          "font": {
           "color": "#4D5663"
          },
          "text": ""
         },
         "type": "linear",
         "zerolinecolor": "#E1E5ED"
        },
        "xaxis13": {
         "anchor": "y13",
         "autorange": true,
         "domain": [
          0,
          0.2125
         ],
         "gridcolor": "#E1E5ED",
         "range": [
          -2.7773637097811705,
          3.2568920176078344
         ],
         "showgrid": false,
         "tickfont": {
          "color": "#4D5663"
         },
         "title": {
          "font": {
           "color": "#4D5663"
          },
          "text": ""
         },
         "type": "linear",
         "zerolinecolor": "#E1E5ED"
        },
        "xaxis14": {
         "anchor": "y14",
         "autorange": true,
         "domain": [
          0.2625,
          0.475
         ],
         "gridcolor": "#E1E5ED",
         "range": [
          -1.9159869870975674,
          2.026377763691737
         ],
         "showgrid": false,
         "tickfont": {
          "color": "#4D5663"
         },
         "title": {
          "font": {
           "color": "#4D5663"
          },
          "text": ""
         },
         "type": "linear",
         "zerolinecolor": "#E1E5ED"
        },
        "xaxis15": {
         "anchor": "y15",
         "autorange": true,
         "domain": [
          0.525,
          0.7375
         ],
         "gridcolor": "#E1E5ED",
         "range": [
          -2.7818746525756692,
          2.7736511676510447
         ],
         "showgrid": false,
         "tickfont": {
          "color": "#4D5663"
         },
         "title": {
          "font": {
           "color": "#4D5663"
          },
          "text": ""
         },
         "type": "linear",
         "zerolinecolor": "#E1E5ED"
        },
        "xaxis16": {
         "anchor": "y16",
         "autorange": true,
         "domain": [
          0.7875,
          1
         ],
         "gridcolor": "#E1E5ED",
         "range": [
          -3,
          3
         ],
         "showgrid": false,
         "tickfont": {
          "color": "#4D5663"
         },
         "title": {
          "font": {
           "color": "#4D5663"
          },
          "text": ""
         },
         "type": "linear",
         "zerolinecolor": "#E1E5ED"
        },
        "xaxis2": {
         "anchor": "y2",
         "autorange": true,
         "domain": [
          0.2625,
          0.475
         ],
         "gridcolor": "#E1E5ED",
         "range": [
          -1.9159869870975674,
          2.026377763691737
         ],
         "showgrid": false,
         "tickfont": {
          "color": "#4D5663"
         },
         "title": {
          "font": {
           "color": "#4D5663"
          },
          "text": ""
         },
         "type": "linear",
         "zerolinecolor": "#E1E5ED"
        },
        "xaxis3": {
         "anchor": "y3",
         "autorange": true,
         "domain": [
          0.525,
          0.7375
         ],
         "gridcolor": "#E1E5ED",
         "range": [
          -2.7818746525756692,
          2.7736511676510447
         ],
         "showgrid": false,
         "tickfont": {
          "color": "#4D5663"
         },
         "title": {
          "font": {
           "color": "#4D5663"
          },
          "text": ""
         },
         "type": "linear",
         "zerolinecolor": "#E1E5ED"
        },
        "xaxis4": {
         "anchor": "y4",
         "autorange": true,
         "domain": [
          0.7875,
          1
         ],
         "gridcolor": "#E1E5ED",
         "range": [
          -3.0863127411479,
          3.012333464001094
         ],
         "showgrid": false,
         "tickfont": {
          "color": "#4D5663"
         },
         "title": {
          "font": {
           "color": "#4D5663"
          },
          "text": ""
         },
         "type": "linear",
         "zerolinecolor": "#E1E5ED"
        },
        "xaxis5": {
         "anchor": "y5",
         "autorange": true,
         "domain": [
          0,
          0.2125
         ],
         "gridcolor": "#E1E5ED",
         "range": [
          -2.7773637097811705,
          3.2568920176078344
         ],
         "showgrid": false,
         "tickfont": {
          "color": "#4D5663"
         },
         "title": {
          "font": {
           "color": "#4D5663"
          },
          "text": ""
         },
         "type": "linear",
         "zerolinecolor": "#E1E5ED"
        },
        "xaxis6": {
         "anchor": "y6",
         "autorange": true,
         "domain": [
          0.2625,
          0.475
         ],
         "gridcolor": "#E1E5ED",
         "range": [
          -2,
          2
         ],
         "showgrid": false,
         "tickfont": {
          "color": "#4D5663"
         },
         "title": {
          "font": {
           "color": "#4D5663"
          },
          "text": ""
         },
         "type": "linear",
         "zerolinecolor": "#E1E5ED"
        },
        "xaxis7": {
         "anchor": "y7",
         "autorange": true,
         "domain": [
          0.525,
          0.7375
         ],
         "gridcolor": "#E1E5ED",
         "range": [
          -2.7818746525756692,
          2.7736511676510447
         ],
         "showgrid": false,
         "tickfont": {
          "color": "#4D5663"
         },
         "title": {
          "font": {
           "color": "#4D5663"
          },
          "text": ""
         },
         "type": "linear",
         "zerolinecolor": "#E1E5ED"
        },
        "xaxis8": {
         "anchor": "y8",
         "autorange": true,
         "domain": [
          0.7875,
          1
         ],
         "gridcolor": "#E1E5ED",
         "range": [
          -3.0863127411479,
          3.012333464001094
         ],
         "showgrid": false,
         "tickfont": {
          "color": "#4D5663"
         },
         "title": {
          "font": {
           "color": "#4D5663"
          },
          "text": ""
         },
         "type": "linear",
         "zerolinecolor": "#E1E5ED"
        },
        "xaxis9": {
         "anchor": "y9",
         "autorange": true,
         "domain": [
          0,
          0.2125
         ],
         "gridcolor": "#E1E5ED",
         "range": [
          -2.7773637097811705,
          3.2568920176078344
         ],
         "showgrid": false,
         "tickfont": {
          "color": "#4D5663"
         },
         "title": {
          "font": {
           "color": "#4D5663"
          },
          "text": ""
         },
         "type": "linear",
         "zerolinecolor": "#E1E5ED"
        },
        "yaxis": {
         "anchor": "x",
         "autorange": true,
         "domain": [
          0.8025,
          1
         ],
         "gridcolor": "#E1E5ED",
         "range": [
          0,
          40
         ],
         "showgrid": false,
         "tickfont": {
          "color": "#4D5663"
         },
         "title": {
          "font": {
           "color": "#4D5663"
          },
          "text": ""
         },
         "zerolinecolor": "#E1E5ED"
        },
        "yaxis10": {
         "anchor": "x10",
         "autorange": true,
         "domain": [
          0.2675,
          0.465
         ],
         "gridcolor": "#E1E5ED",
         "range": [
          -3.3255111853448143,
          3.3172877004201897
         ],
         "showgrid": false,
         "tickfont": {
          "color": "#4D5663"
         },
         "title": {
          "font": {
           "color": "#4D5663"
          },
          "text": ""
         },
         "type": "linear",
         "zerolinecolor": "#E1E5ED"
        },
        "yaxis11": {
         "anchor": "x11",
         "autorange": true,
         "domain": [
          0.2675,
          0.465
         ],
         "gridcolor": "#E1E5ED",
         "range": [
          0,
          23.157894736842106
         ],
         "showgrid": false,
         "tickfont": {
          "color": "#4D5663"
         },
         "title": {
          "font": {
           "color": "#4D5663"
          },
          "text": ""
         },
         "zerolinecolor": "#E1E5ED"
        },
        "yaxis12": {
         "anchor": "x12",
         "autorange": true,
         "domain": [
          0.2675,
          0.465
         ],
         "gridcolor": "#E1E5ED",
         "range": [
          -3.3255111853448143,
          3.3172877004201897
         ],
         "showgrid": false,
         "tickfont": {
          "color": "#4D5663"
         },
         "title": {
          "font": {
           "color": "#4D5663"
          },
          "text": ""
         },
         "type": "linear",
         "zerolinecolor": "#E1E5ED"
        },
        "yaxis13": {
         "anchor": "x13",
         "autorange": true,
         "domain": [
          0,
          0.1975
         ],
         "gridcolor": "#E1E5ED",
         "range": [
          -3.683096373307781,
          3.6091170961609746
         ],
         "showgrid": false,
         "tickfont": {
          "color": "#4D5663"
         },
         "title": {
          "font": {
           "color": "#4D5663"
          },
          "text": ""
         },
         "type": "linear",
         "zerolinecolor": "#E1E5ED"
        },
        "yaxis14": {
         "anchor": "x14",
         "autorange": true,
         "domain": [
          0,
          0.1975
         ],
         "gridcolor": "#E1E5ED",
         "range": [
          -3.683096373307781,
          3.6091170961609746
         ],
         "showgrid": false,
         "tickfont": {
          "color": "#4D5663"
         },
         "title": {
          "font": {
           "color": "#4D5663"
          },
          "text": ""
         },
         "type": "linear",
         "zerolinecolor": "#E1E5ED"
        },
        "yaxis15": {
         "anchor": "x15",
         "autorange": true,
         "domain": [
          0,
          0.1975
         ],
         "gridcolor": "#E1E5ED",
         "range": [
          -3.683096373307781,
          3.6091170961609746
         ],
         "showgrid": false,
         "tickfont": {
          "color": "#4D5663"
         },
         "title": {
          "font": {
           "color": "#4D5663"
          },
          "text": ""
         },
         "type": "linear",
         "zerolinecolor": "#E1E5ED"
        },
        "yaxis16": {
         "anchor": "x16",
         "autorange": true,
         "domain": [
          0,
          0.1975
         ],
         "gridcolor": "#E1E5ED",
         "range": [
          0,
          34.73684210526316
         ],
         "showgrid": false,
         "tickfont": {
          "color": "#4D5663"
         },
         "title": {
          "font": {
           "color": "#4D5663"
          },
          "text": ""
         },
         "zerolinecolor": "#E1E5ED"
        },
        "yaxis2": {
         "anchor": "x2",
         "autorange": true,
         "domain": [
          0.8025,
          1
         ],
         "gridcolor": "#E1E5ED",
         "range": [
          -3.3678464053230734,
          3.8473747131497373
         ],
         "showgrid": false,
         "tickfont": {
          "color": "#4D5663"
         },
         "title": {
          "font": {
           "color": "#4D5663"
          },
          "text": ""
         },
         "type": "linear",
         "zerolinecolor": "#E1E5ED"
        },
        "yaxis3": {
         "anchor": "x3",
         "autorange": true,
         "domain": [
          0.8025,
          1
         ],
         "gridcolor": "#E1E5ED",
         "range": [
          -3.3678464053230734,
          3.8473747131497373
         ],
         "showgrid": false,
         "tickfont": {
          "color": "#4D5663"
         },
         "title": {
          "font": {
           "color": "#4D5663"
          },
          "text": ""
         },
         "type": "linear",
         "zerolinecolor": "#E1E5ED"
        },
        "yaxis4": {
         "anchor": "x4",
         "autorange": true,
         "domain": [
          0.8025,
          1
         ],
         "gridcolor": "#E1E5ED",
         "range": [
          -3.3678464053230734,
          3.8473747131497373
         ],
         "showgrid": false,
         "tickfont": {
          "color": "#4D5663"
         },
         "title": {
          "font": {
           "color": "#4D5663"
          },
          "text": ""
         },
         "type": "linear",
         "zerolinecolor": "#E1E5ED"
        },
        "yaxis5": {
         "anchor": "x5",
         "autorange": true,
         "domain": [
          0.535,
          0.7325
         ],
         "gridcolor": "#E1E5ED",
         "range": [
          -2.301767482658819,
          2.4121582592529887
         ],
         "showgrid": false,
         "tickfont": {
          "color": "#4D5663"
         },
         "title": {
          "font": {
           "color": "#4D5663"
          },
          "text": ""
         },
         "type": "linear",
         "zerolinecolor": "#E1E5ED"
        },
        "yaxis6": {
         "anchor": "x6",
         "autorange": true,
         "domain": [
          0.535,
          0.7325
         ],
         "gridcolor": "#E1E5ED",
         "range": [
          0,
          24.210526315789473
         ],
         "showgrid": false,
         "tickfont": {
          "color": "#4D5663"
         },
         "title": {
          "font": {
           "color": "#4D5663"
          },
          "text": ""
         },
         "zerolinecolor": "#E1E5ED"
        },
        "yaxis7": {
         "anchor": "x7",
         "autorange": true,
         "domain": [
          0.535,
          0.7325
         ],
         "gridcolor": "#E1E5ED",
         "range": [
          -2.301767482658819,
          2.4121582592529887
         ],
         "showgrid": false,
         "tickfont": {
          "color": "#4D5663"
         },
         "title": {
          "font": {
           "color": "#4D5663"
          },
          "text": ""
         },
         "type": "linear",
         "zerolinecolor": "#E1E5ED"
        },
        "yaxis8": {
         "anchor": "x8",
         "autorange": true,
         "domain": [
          0.535,
          0.7325
         ],
         "gridcolor": "#E1E5ED",
         "range": [
          -2.301767482658819,
          2.4121582592529887
         ],
         "showgrid": false,
         "tickfont": {
          "color": "#4D5663"
         },
         "title": {
          "font": {
           "color": "#4D5663"
          },
          "text": ""
         },
         "type": "linear",
         "zerolinecolor": "#E1E5ED"
        },
        "yaxis9": {
         "anchor": "x9",
         "autorange": true,
         "domain": [
          0.2675,
          0.465
         ],
         "gridcolor": "#E1E5ED",
         "range": [
          -3.3255111853448143,
          3.3172877004201897
         ],
         "showgrid": false,
         "tickfont": {
          "color": "#4D5663"
         },
         "title": {
          "font": {
           "color": "#4D5663"
          },
          "text": ""
         },
         "type": "linear",
         "zerolinecolor": "#E1E5ED"
        }
       }
      },
      "image/png": "[encoded data removed]",
      "text/html": [
       "<div>                            <div id=\"0c83643f-da4e-4d0b-94ac-62a8aed3c917\" class=\"plotly-graph-div\" style=\"height:525px; width:100%;\"></div>            <script type=\"text/javascript\">                require([\"plotly\"], function(Plotly) {                    window.PLOTLYENV=window.PLOTLYENV || {};\n",
       "                    window.PLOTLYENV.BASE_URL='https://plot.ly';                                    if (document.getElementById(\"0c83643f-da4e-4d0b-94ac-62a8aed3c917\")) {                    Plotly.newPlot(                        \"0c83643f-da4e-4d0b-94ac-62a8aed3c917\",                        [{\"histfunc\":\"count\",\"histnorm\":\"\",\"marker\":{\"color\":\"rgba(255, 153, 51, 1.0)\",\"line\":{\"color\":\"#4D5663\",\"width\":1.3}},\"name\":\"A\",\"nbinsx\":10,\"opacity\":0.8,\"orientation\":\"v\",\"x\":[0.5528846479247638,-2.398205930119027,-0.3028121147097552,0.4955055579660399,-0.8031139027427731,-1.0439615893646255,1.6840254798100713,-1.2270555973290076,0.03836565760442624,-0.7119933256566789,1.306205741116208,-0.298729867404561,-0.7626919498830378,-0.6865924844463516,0.40668760667413334,0.4591508148789853,-0.47679836895868144,0.12238283386054362,-0.2519742371876982,-0.5350962519073955,0.9495119626283427,1.317827160891446,0.06555116071136115,0.49179795262488285,0.10062406066380053,0.32118901639531455,-0.211126656422741,1.0841690624860194,0.3892873236104735,0.37450011731539384,0.7387478968533783,1.645689502745466,-0.07196554987844637,0.23900174535492802,0.6409689628833247,1.4639297982677268,1.3740544669976316,0.028651022122856213,0.7132598611898975,-0.4669090564868793,-0.09442894209417246,1.0368611520075945,1.2363172261610667,0.3824133876492034,1.3545419182200922,1.1829339768784208,-0.19995253590227513,0.27672726185968394,0.000979222163437031,1.1198026754737844,0.2413950682021842,-0.9897486524611538,0.969790314908981,-0.7233597095313674,0.8537501041961911,-0.33290215549787927,-0.2103438556569867,-0.466192267738929,-1.1823537998364433,1.851959835464232,-1.2308259465982763,2.4622169560603697,0.9465961004381525,-2.1211974351879124,0.5863806468807722,-0.6106802223716836,-0.604000303410238,-2.0524370532876093,0.09028238740701096,-0.2324593934384782,1.019924496688148,1.1891483232697713,0.4713522395845208,0.47272716034600604,-1.3138557741641002,-1.3422754707240987,-0.1202028018800572,0.3874772662295193,0.011290612252812894,-1.2153978471663942,0.22593818094665838,0.032367283112389796,0.33515367135340945,0.8229895475611503,-1.9283577588198613,-0.2864119360756065,1.6941256129076236,-0.6245918701287434,-1.2634541802059043,-1.1407703435522039,0.7356260860775407,-0.29457276598016724,0.2839443237372972,0.935454658824385,2.877734237945691,-1.1702742402057313,-1.4944762966648328,-1.2815063454992062,-0.9770578514226053,1.3034403383361466],\"xaxis\":\"x\",\"yaxis\":\"y\",\"type\":\"histogram\"},{\"line\":{\"color\":\"rgba(128, 128, 128, 1.0)\",\"dash\":\"solid\",\"shape\":\"linear\",\"width\":1.3},\"marker\":{\"size\":2,\"symbol\":\"circle\"},\"mode\":\"markers\",\"name\":\"A\",\"text\":\"\",\"x\":[1.5221338266976558,0.37112679507706564,0.36603957292691625,0.29252692212843173,0.036180660230443626,-0.7132962320772471,0.9141168083341438,-0.31192340367024846,-0.4825095769901552,0.16428901034785823,-0.14475789553589113,-1.0352430195694506,-1.5284693687654274,0.681164249488606,-0.564706140357884,1.4755447264649455,-0.32321602983062203,-0.7450592141304335,-0.7966035904657918,-0.1773245865098007,-1.126571722363632,0.9150626029671826,-1.091207438666216,0.8506294575866586,0.12371120342549463,-0.21731773112055477,-1.1130142266214658,0.5876701597506964,-0.5459226254608572,1.061672954810636,0.09446784284243107,-0.6829616273707716,0.9993656743472096,-0.5238729745094756,-0.9232682602030104,-1.1399099972844873,1.4177239382333449,-1.2385489459203411,0.9139327716213272,-0.1950190652257846,-0.7232280071985164,0.7178925572634225,-0.3869231850219358,-1.1110851121638883,0.5109203316297612,-1.0237058951468863,0.2777672213480589,0.9089347935577019,-0.47784841609201906,-0.18572038347878303,0.8181607377617439,-0.1555509408673983,1.6178024580284072,0.3168010772059872,-0.2344649450137472,-0.662325975502222,0.6812579548900719,-0.7037293013550847,0.3301009805558109,-1.6682715548955656,-0.5264304897415376,1.7786623314897354,0.08480322344048465,-0.9894575910807079,-0.6439454455787141,0.3532004796723608,-0.8274164104569124,-1.4936469024672425,-1.098119458352122,0.3359393018625474,-0.7913022006639495,0.4786980437487143,-0.06091557618027851,-0.8692385683549835,0.740960427595297,0.455549182852374,0.5109694916206015,-0.1498626427348044,1.6363708541023787,-0.42878290153449566,0.7050625674866938,-0.8983136534757796,-0.0352934325531089,-0.26314957187421667,-0.6158653409088861,0.7635530856460303,0.7551151722237617,-0.2213995845641046,0.670924714055657,0.2975795439836924,0.6040090013886447,-0.3941627300692083,0.8109266800499798,-0.5948765923255269,-0.8475615283178858,-0.4422235713998791,-0.0017861220796952838,-0.02908560937847064,0.9115052490577542,-0.1889504278134778],\"xaxis\":\"x2\",\"y\":[0.5528846479247638,-2.398205930119027,-0.3028121147097552,0.4955055579660399,-0.8031139027427731,-1.0439615893646255,1.6840254798100713,-1.2270555973290076,0.03836565760442624,-0.7119933256566789,1.306205741116208,-0.298729867404561,-0.7626919498830378,-0.6865924844463516,0.40668760667413334,0.4591508148789853,-0.47679836895868144,0.12238283386054362,-0.2519742371876982,-0.5350962519073955,0.9495119626283427,1.317827160891446,0.06555116071136115,0.49179795262488285,0.10062406066380053,0.32118901639531455,-0.211126656422741,1.0841690624860194,0.3892873236104735,0.37450011731539384,0.7387478968533783,1.645689502745466,-0.07196554987844637,0.23900174535492802,0.6409689628833247,1.4639297982677268,1.3740544669976316,0.028651022122856213,0.7132598611898975,-0.4669090564868793,-0.09442894209417246,1.0368611520075945,1.2363172261610667,0.3824133876492034,1.3545419182200922,1.1829339768784208,-0.19995253590227513,0.27672726185968394,0.000979222163437031,1.1198026754737844,0.2413950682021842,-0.9897486524611538,0.969790314908981,-0.7233597095313674,0.8537501041961911,-0.33290215549787927,-0.2103438556569867,-0.466192267738929,-1.1823537998364433,1.851959835464232,-1.2308259465982763,2.4622169560603697,0.9465961004381525,-2.1211974351879124,0.5863806468807722,-0.6106802223716836,-0.604000303410238,-2.0524370532876093,0.09028238740701096,-0.2324593934384782,1.019924496688148,1.1891483232697713,0.4713522395845208,0.47272716034600604,-1.3138557741641002,-1.3422754707240987,-0.1202028018800572,0.3874772662295193,0.011290612252812894,-1.2153978471663942,0.22593818094665838,0.032367283112389796,0.33515367135340945,0.8229895475611503,-1.9283577588198613,-0.2864119360756065,1.6941256129076236,-0.6245918701287434,-1.2634541802059043,-1.1407703435522039,0.7356260860775407,-0.29457276598016724,0.2839443237372972,0.935454658824385,2.877734237945691,-1.1702742402057313,-1.4944762966648328,-1.2815063454992062,-0.9770578514226053,1.3034403383361466],\"yaxis\":\"y2\",\"type\":\"scatter\"},{\"line\":{\"color\":\"rgba(128, 128, 128, 1.0)\",\"dash\":\"solid\",\"shape\":\"linear\",\"width\":1.3},\"marker\":{\"size\":2,\"symbol\":\"circle\"},\"mode\":\"markers\",\"name\":\"A\",\"text\":\"\",\"x\":[-0.3753228010573993,1.858129575474277,-0.410338179001649,0.06578969746370358,0.02812693570402251,-0.4959420275610195,0.8245449967185711,0.8970874856189467,0.4342376261779318,-1.6091052459307453,0.10184110231934021,-0.32789649319607544,-0.14231212741311852,-2.2402585402238167,-0.3783759284288644,1.2294658269371008,-1.0970226066162452,0.3949060328821529,-1.132296672987899,1.4279325357338581,0.4238269504118731,-0.008926958075053124,2.424574010497762,-0.9328386620541995,0.5414467385750422,-0.9314591609922944,0.052633016753005656,-0.12576691211142352,0.6847643753519642,-1.2974907918066008,-0.7696913172305885,-0.9136269413259297,-1.545713162635616,0.4161387135306835,-0.10200530663667176,-2.4327974954223865,-0.05321917349328707,-0.6328615429733635,-0.6744681332884495,-0.24925962268233195,0.38919561182835344,0.8049393690481663,1.4458933582231004,-1.6221275727873135,-0.6976194079398013,0.48272843420133904,1.148385401939861,0.14765539629373253,0.59007658295707,0.3731507780312944,0.6241960978758901,0.1095484823920591,0.45064294773707103,-0.1722019130125348,0.6009314982453949,-1.172349887740591,-1.4475847318474597,0.6900589918064277,1.5964645228105674,0.2702345716396932,0.2981014047026115,0.22148674540187993,0.9582094304926657,0.7435627424755311,0.9869096239364953,0.8357176148687951,-0.16316499409709204,1.2614625645977382,1.1761086437007806,-0.7674673954835308,-1.6303511184250903,-0.4619167546539699,1.168306445699756,0.2299046603383653,-0.9950985765275402,1.552482036186919,0.041378516482204634,-0.05402766256180481,-0.9055172178998108,0.9422362872900651,-0.22669546984099972,-1.6094780444493595,-0.7415029913765331,-0.37541987485767153,-0.05750943247085447,0.14487771319822293,0.08763028003387387,-1.304855717147345,0.08655745541765933,0.7653324221178338,-0.2898753934127883,-0.8177000003282332,1.0131080962274233,2.1381429648324444,-0.7194002707524055,-0.6339893868374737,1.5523038248212073,2.1409810569211465,-1.1856906691572626,-0.9166628496982585],\"xaxis\":\"x3\",\"y\":[0.5528846479247638,-2.398205930119027,-0.3028121147097552,0.4955055579660399,-0.8031139027427731,-1.0439615893646255,1.6840254798100713,-1.2270555973290076,0.03836565760442624,-0.7119933256566789,1.306205741116208,-0.298729867404561,-0.7626919498830378,-0.6865924844463516,0.40668760667413334,0.4591508148789853,-0.47679836895868144,0.12238283386054362,-0.2519742371876982,-0.5350962519073955,0.9495119626283427,1.317827160891446,0.06555116071136115,0.49179795262488285,0.10062406066380053,0.32118901639531455,-0.211126656422741,1.0841690624860194,0.3892873236104735,0.37450011731539384,0.7387478968533783,1.645689502745466,-0.07196554987844637,0.23900174535492802,0.6409689628833247,1.4639297982677268,1.3740544669976316,0.028651022122856213,0.7132598611898975,-0.4669090564868793,-0.09442894209417246,1.0368611520075945,1.2363172261610667,0.3824133876492034,1.3545419182200922,1.1829339768784208,-0.19995253590227513,0.27672726185968394,0.000979222163437031,1.1198026754737844,0.2413950682021842,-0.9897486524611538,0.969790314908981,-0.7233597095313674,0.8537501041961911,-0.33290215549787927,-0.2103438556569867,-0.466192267738929,-1.1823537998364433,1.851959835464232,-1.2308259465982763,2.4622169560603697,0.9465961004381525,-2.1211974351879124,0.5863806468807722,-0.6106802223716836,-0.604000303410238,-2.0524370532876093,0.09028238740701096,-0.2324593934384782,1.019924496688148,1.1891483232697713,0.4713522395845208,0.47272716034600604,-1.3138557741641002,-1.3422754707240987,-0.1202028018800572,0.3874772662295193,0.011290612252812894,-1.2153978471663942,0.22593818094665838,0.032367283112389796,0.33515367135340945,0.8229895475611503,-1.9283577588198613,-0.2864119360756065,1.6941256129076236,-0.6245918701287434,-1.2634541802059043,-1.1407703435522039,0.7356260860775407,-0.29457276598016724,0.2839443237372972,0.935454658824385,2.877734237945691,-1.1702742402057313,-1.4944762966648328,-1.2815063454992062,-0.9770578514226053,1.3034403383361466],\"yaxis\":\"y3\",\"type\":\"scatter\"},{\"line\":{\"color\":\"rgba(128, 128, 128, 1.0)\",\"dash\":\"solid\",\"shape\":\"linear\",\"width\":1.3},\"marker\":{\"size\":2,\"symbol\":\"circle\"},\"mode\":\"markers\",\"name\":\"A\",\"text\":\"\",\"x\":[2.013306412940443,-0.546359007082015,-1.7358315419013177,0.30103014281966867,0.5746072563282305,-1.4683629011121622,0.5433898110049855,-0.4705383955933248,-0.5811949410421311,-0.26159351696635313,-0.5043934914972953,0.9563554543819979,-0.08123950952249014,-1.2868499631647008,0.09783539747168195,0.9545658411093363,0.5245848175306133,0.3380350670194684,-1.4512106655645505,-1.281981400206145,-1.308167115357359,-0.35971045477861996,-0.512420043415833,-1.251905065483918,-0.8531422464828465,1.7341768531601454,0.038559351769476974,0.25191655836668336,-0.7303094209929796,1.7073604597804095,0.6386004345852292,-1.2311390362296117,-1.7755482716441562,1.9988565931832505,-2.0632775649910777,-0.21049229262690292,-1.8778805246002777,0.6525592916215323,-0.7997056429463001,-1.1757248916738905,-1.1359675326188294,-1.5935276916117505,0.041970134548078734,-0.3762072173207476,-0.36614637268815997,0.3182567706749178,-0.9132663471931876,1.0913725038434774,0.4771002710613205,0.47771941217539,2.5098980414141354,0.8084513541777368,0.6425955767501527,-0.12545797075193033,-0.568183437787671,0.39032519349837813,1.2767458147189956,0.8626422744060817,1.347223013704634,0.8376804724224781,1.217008455633511,-2.703109035744153,-0.9823449596702638,1.0215461583447056,0.27851803283081566,1.535145160250474,-1.4654834864491812,2.629129758597347,0.06586344585141272,1.8509978941094412,-1.2542237800052558,0.6693318373123142,0.2323479216721576,-2.423542526904085,1.3037205182045077,-0.8483692836455508,-1.146158764120612,-1.8277110038885906,1.0518143856691187,-0.6592324129786179,0.57230639271418,-0.9879612155120544,-0.5286940017556415,1.8231001217684917,0.9581230817567549,0.8491335328189504,-0.6629866808294782,0.2120136137861718,-0.41367427410916635,-1.9095340910520697,-0.18012523161650384,0.8276139682214836,0.24466091808603413,1.922611906807397,1.1926326949465051,-0.056344368898362765,0.35688581746126197,0.26450865748555785,-2.0455276522260277,-0.7505010965986343],\"xaxis\":\"x4\",\"y\":[0.5528846479247638,-2.398205930119027,-0.3028121147097552,0.4955055579660399,-0.8031139027427731,-1.0439615893646255,1.6840254798100713,-1.2270555973290076,0.03836565760442624,-0.7119933256566789,1.306205741116208,-0.298729867404561,-0.7626919498830378,-0.6865924844463516,0.40668760667413334,0.4591508148789853,-0.47679836895868144,0.12238283386054362,-0.2519742371876982,-0.5350962519073955,0.9495119626283427,1.317827160891446,0.06555116071136115,0.49179795262488285,0.10062406066380053,0.32118901639531455,-0.211126656422741,1.0841690624860194,0.3892873236104735,0.37450011731539384,0.7387478968533783,1.645689502745466,-0.07196554987844637,0.23900174535492802,0.6409689628833247,1.4639297982677268,1.3740544669976316,0.028651022122856213,0.7132598611898975,-0.4669090564868793,-0.09442894209417246,1.0368611520075945,1.2363172261610667,0.3824133876492034,1.3545419182200922,1.1829339768784208,-0.19995253590227513,0.27672726185968394,0.000979222163437031,1.1198026754737844,0.2413950682021842,-0.9897486524611538,0.969790314908981,-0.7233597095313674,0.8537501041961911,-0.33290215549787927,-0.2103438556569867,-0.466192267738929,-1.1823537998364433,1.851959835464232,-1.2308259465982763,2.4622169560603697,0.9465961004381525,-2.1211974351879124,0.5863806468807722,-0.6106802223716836,-0.604000303410238,-2.0524370532876093,0.09028238740701096,-0.2324593934384782,1.019924496688148,1.1891483232697713,0.4713522395845208,0.47272716034600604,-1.3138557741641002,-1.3422754707240987,-0.1202028018800572,0.3874772662295193,0.011290612252812894,-1.2153978471663942,0.22593818094665838,0.032367283112389796,0.33515367135340945,0.8229895475611503,-1.9283577588198613,-0.2864119360756065,1.6941256129076236,-0.6245918701287434,-1.2634541802059043,-1.1407703435522039,0.7356260860775407,-0.29457276598016724,0.2839443237372972,0.935454658824385,2.877734237945691,-1.1702742402057313,-1.4944762966648328,-1.2815063454992062,-0.9770578514226053,1.3034403383361466],\"yaxis\":\"y4\",\"type\":\"scatter\"},{\"line\":{\"color\":\"rgba(128, 128, 128, 1.0)\",\"dash\":\"solid\",\"shape\":\"linear\",\"width\":1.3},\"marker\":{\"size\":2,\"symbol\":\"circle\"},\"mode\":\"markers\",\"name\":\"B\",\"text\":\"\",\"x\":[0.5528846479247638,-2.398205930119027,-0.3028121147097552,0.4955055579660399,-0.8031139027427731,-1.0439615893646255,1.6840254798100713,-1.2270555973290076,0.03836565760442624,-0.7119933256566789,1.306205741116208,-0.298729867404561,-0.7626919498830378,-0.6865924844463516,0.40668760667413334,0.4591508148789853,-0.47679836895868144,0.12238283386054362,-0.2519742371876982,-0.5350962519073955,0.9495119626283427,1.317827160891446,0.06555116071136115,0.49179795262488285,0.10062406066380053,0.32118901639531455,-0.211126656422741,1.0841690624860194,0.3892873236104735,0.37450011731539384,0.7387478968533783,1.645689502745466,-0.07196554987844637,0.23900174535492802,0.6409689628833247,1.4639297982677268,1.3740544669976316,0.028651022122856213,0.7132598611898975,-0.4669090564868793,-0.09442894209417246,1.0368611520075945,1.2363172261610667,0.3824133876492034,1.3545419182200922,1.1829339768784208,-0.19995253590227513,0.27672726185968394,0.000979222163437031,1.1198026754737844,0.2413950682021842,-0.9897486524611538,0.969790314908981,-0.7233597095313674,0.8537501041961911,-0.33290215549787927,-0.2103438556569867,-0.466192267738929,-1.1823537998364433,1.851959835464232,-1.2308259465982763,2.4622169560603697,0.9465961004381525,-2.1211974351879124,0.5863806468807722,-0.6106802223716836,-0.604000303410238,-2.0524370532876093,0.09028238740701096,-0.2324593934384782,1.019924496688148,1.1891483232697713,0.4713522395845208,0.47272716034600604,-1.3138557741641002,-1.3422754707240987,-0.1202028018800572,0.3874772662295193,0.011290612252812894,-1.2153978471663942,0.22593818094665838,0.032367283112389796,0.33515367135340945,0.8229895475611503,-1.9283577588198613,-0.2864119360756065,1.6941256129076236,-0.6245918701287434,-1.2634541802059043,-1.1407703435522039,0.7356260860775407,-0.29457276598016724,0.2839443237372972,0.935454658824385,2.877734237945691,-1.1702742402057313,-1.4944762966648328,-1.2815063454992062,-0.9770578514226053,1.3034403383361466],\"xaxis\":\"x5\",\"y\":[1.5221338266976558,0.37112679507706564,0.36603957292691625,0.29252692212843173,0.036180660230443626,-0.7132962320772471,0.9141168083341438,-0.31192340367024846,-0.4825095769901552,0.16428901034785823,-0.14475789553589113,-1.0352430195694506,-1.5284693687654274,0.681164249488606,-0.564706140357884,1.4755447264649455,-0.32321602983062203,-0.7450592141304335,-0.7966035904657918,-0.1773245865098007,-1.126571722363632,0.9150626029671826,-1.091207438666216,0.8506294575866586,0.12371120342549463,-0.21731773112055477,-1.1130142266214658,0.5876701597506964,-0.5459226254608572,1.061672954810636,0.09446784284243107,-0.6829616273707716,0.9993656743472096,-0.5238729745094756,-0.9232682602030104,-1.1399099972844873,1.4177239382333449,-1.2385489459203411,0.9139327716213272,-0.1950190652257846,-0.7232280071985164,0.7178925572634225,-0.3869231850219358,-1.1110851121638883,0.5109203316297612,-1.0237058951468863,0.2777672213480589,0.9089347935577019,-0.47784841609201906,-0.18572038347878303,0.8181607377617439,-0.1555509408673983,1.6178024580284072,0.3168010772059872,-0.2344649450137472,-0.662325975502222,0.6812579548900719,-0.7037293013550847,0.3301009805558109,-1.6682715548955656,-0.5264304897415376,1.7786623314897354,0.08480322344048465,-0.9894575910807079,-0.6439454455787141,0.3532004796723608,-0.8274164104569124,-1.4936469024672425,-1.098119458352122,0.3359393018625474,-0.7913022006639495,0.4786980437487143,-0.06091557618027851,-0.8692385683549835,0.740960427595297,0.455549182852374,0.5109694916206015,-0.1498626427348044,1.6363708541023787,-0.42878290153449566,0.7050625674866938,-0.8983136534757796,-0.0352934325531089,-0.26314957187421667,-0.6158653409088861,0.7635530856460303,0.7551151722237617,-0.2213995845641046,0.670924714055657,0.2975795439836924,0.6040090013886447,-0.3941627300692083,0.8109266800499798,-0.5948765923255269,-0.8475615283178858,-0.4422235713998791,-0.0017861220796952838,-0.02908560937847064,0.9115052490577542,-0.1889504278134778],\"yaxis\":\"y5\",\"type\":\"scatter\"},{\"histfunc\":\"count\",\"histnorm\":\"\",\"marker\":{\"color\":\"rgba(55, 128, 191, 1.0)\",\"line\":{\"color\":\"#4D5663\",\"width\":1.3}},\"name\":\"B\",\"nbinsx\":10,\"opacity\":0.8,\"orientation\":\"v\",\"x\":[1.5221338266976558,0.37112679507706564,0.36603957292691625,0.29252692212843173,0.036180660230443626,-0.7132962320772471,0.9141168083341438,-0.31192340367024846,-0.4825095769901552,0.16428901034785823,-0.14475789553589113,-1.0352430195694506,-1.5284693687654274,0.681164249488606,-0.564706140357884,1.4755447264649455,-0.32321602983062203,-0.7450592141304335,-0.7966035904657918,-0.1773245865098007,-1.126571722363632,0.9150626029671826,-1.091207438666216,0.8506294575866586,0.12371120342549463,-0.21731773112055477,-1.1130142266214658,0.5876701597506964,-0.5459226254608572,1.061672954810636,0.09446784284243107,-0.6829616273707716,0.9993656743472096,-0.5238729745094756,-0.9232682602030104,-1.1399099972844873,1.4177239382333449,-1.2385489459203411,0.9139327716213272,-0.1950190652257846,-0.7232280071985164,0.7178925572634225,-0.3869231850219358,-1.1110851121638883,0.5109203316297612,-1.0237058951468863,0.2777672213480589,0.9089347935577019,-0.47784841609201906,-0.18572038347878303,0.8181607377617439,-0.1555509408673983,1.6178024580284072,0.3168010772059872,-0.2344649450137472,-0.662325975502222,0.6812579548900719,-0.7037293013550847,0.3301009805558109,-1.6682715548955656,-0.5264304897415376,1.7786623314897354,0.08480322344048465,-0.9894575910807079,-0.6439454455787141,0.3532004796723608,-0.8274164104569124,-1.4936469024672425,-1.098119458352122,0.3359393018625474,-0.7913022006639495,0.4786980437487143,-0.06091557618027851,-0.8692385683549835,0.740960427595297,0.455549182852374,0.5109694916206015,-0.1498626427348044,1.6363708541023787,-0.42878290153449566,0.7050625674866938,-0.8983136534757796,-0.0352934325531089,-0.26314957187421667,-0.6158653409088861,0.7635530856460303,0.7551151722237617,-0.2213995845641046,0.670924714055657,0.2975795439836924,0.6040090013886447,-0.3941627300692083,0.8109266800499798,-0.5948765923255269,-0.8475615283178858,-0.4422235713998791,-0.0017861220796952838,-0.02908560937847064,0.9115052490577542,-0.1889504278134778],\"xaxis\":\"x6\",\"yaxis\":\"y6\",\"type\":\"histogram\"},{\"line\":{\"color\":\"rgba(128, 128, 128, 1.0)\",\"dash\":\"solid\",\"shape\":\"linear\",\"width\":1.3},\"marker\":{\"size\":2,\"symbol\":\"circle\"},\"mode\":\"markers\",\"name\":\"B\",\"text\":\"\",\"x\":[-0.3753228010573993,1.858129575474277,-0.410338179001649,0.06578969746370358,0.02812693570402251,-0.4959420275610195,0.8245449967185711,0.8970874856189467,0.4342376261779318,-1.6091052459307453,0.10184110231934021,-0.32789649319607544,-0.14231212741311852,-2.2402585402238167,-0.3783759284288644,1.2294658269371008,-1.0970226066162452,0.3949060328821529,-1.132296672987899,1.4279325357338581,0.4238269504118731,-0.008926958075053124,2.424574010497762,-0.9328386620541995,0.5414467385750422,-0.9314591609922944,0.052633016753005656,-0.12576691211142352,0.6847643753519642,-1.2974907918066008,-0.7696913172305885,-0.9136269413259297,-1.545713162635616,0.4161387135306835,-0.10200530663667176,-2.4327974954223865,-0.05321917349328707,-0.6328615429733635,-0.6744681332884495,-0.24925962268233195,0.38919561182835344,0.8049393690481663,1.4458933582231004,-1.6221275727873135,-0.6976194079398013,0.48272843420133904,1.148385401939861,0.14765539629373253,0.59007658295707,0.3731507780312944,0.6241960978758901,0.1095484823920591,0.45064294773707103,-0.1722019130125348,0.6009314982453949,-1.172349887740591,-1.4475847318474597,0.6900589918064277,1.5964645228105674,0.2702345716396932,0.2981014047026115,0.22148674540187993,0.9582094304926657,0.7435627424755311,0.9869096239364953,0.8357176148687951,-0.16316499409709204,1.2614625645977382,1.1761086437007806,-0.7674673954835308,-1.6303511184250903,-0.4619167546539699,1.168306445699756,0.2299046603383653,-0.9950985765275402,1.552482036186919,0.041378516482204634,-0.05402766256180481,-0.9055172178998108,0.9422362872900651,-0.22669546984099972,-1.6094780444493595,-0.7415029913765331,-0.37541987485767153,-0.05750943247085447,0.14487771319822293,0.08763028003387387,-1.304855717147345,0.08655745541765933,0.7653324221178338,-0.2898753934127883,-0.8177000003282332,1.0131080962274233,2.1381429648324444,-0.7194002707524055,-0.6339893868374737,1.5523038248212073,2.1409810569211465,-1.1856906691572626,-0.9166628496982585],\"xaxis\":\"x7\",\"y\":[1.5221338266976558,0.37112679507706564,0.36603957292691625,0.29252692212843173,0.036180660230443626,-0.7132962320772471,0.9141168083341438,-0.31192340367024846,-0.4825095769901552,0.16428901034785823,-0.14475789553589113,-1.0352430195694506,-1.5284693687654274,0.681164249488606,-0.564706140357884,1.4755447264649455,-0.32321602983062203,-0.7450592141304335,-0.7966035904657918,-0.1773245865098007,-1.126571722363632,0.9150626029671826,-1.091207438666216,0.8506294575866586,0.12371120342549463,-0.21731773112055477,-1.1130142266214658,0.5876701597506964,-0.5459226254608572,1.061672954810636,0.09446784284243107,-0.6829616273707716,0.9993656743472096,-0.5238729745094756,-0.9232682602030104,-1.1399099972844873,1.4177239382333449,-1.2385489459203411,0.9139327716213272,-0.1950190652257846,-0.7232280071985164,0.7178925572634225,-0.3869231850219358,-1.1110851121638883,0.5109203316297612,-1.0237058951468863,0.2777672213480589,0.9089347935577019,-0.47784841609201906,-0.18572038347878303,0.8181607377617439,-0.1555509408673983,1.6178024580284072,0.3168010772059872,-0.2344649450137472,-0.662325975502222,0.6812579548900719,-0.7037293013550847,0.3301009805558109,-1.6682715548955656,-0.5264304897415376,1.7786623314897354,0.08480322344048465,-0.9894575910807079,-0.6439454455787141,0.3532004796723608,-0.8274164104569124,-1.4936469024672425,-1.098119458352122,0.3359393018625474,-0.7913022006639495,0.4786980437487143,-0.06091557618027851,-0.8692385683549835,0.740960427595297,0.455549182852374,0.5109694916206015,-0.1498626427348044,1.6363708541023787,-0.42878290153449566,0.7050625674866938,-0.8983136534757796,-0.0352934325531089,-0.26314957187421667,-0.6158653409088861,0.7635530856460303,0.7551151722237617,-0.2213995845641046,0.670924714055657,0.2975795439836924,0.6040090013886447,-0.3941627300692083,0.8109266800499798,-0.5948765923255269,-0.8475615283178858,-0.4422235713998791,-0.0017861220796952838,-0.02908560937847064,0.9115052490577542,-0.1889504278134778],\"yaxis\":\"y7\",\"type\":\"scatter\"},{\"line\":{\"color\":\"rgba(128, 128, 128, 1.0)\",\"dash\":\"solid\",\"shape\":\"linear\",\"width\":1.3},\"marker\":{\"size\":2,\"symbol\":\"circle\"},\"mode\":\"markers\",\"name\":\"B\",\"text\":\"\",\"x\":[2.013306412940443,-0.546359007082015,-1.7358315419013177,0.30103014281966867,0.5746072563282305,-1.4683629011121622,0.5433898110049855,-0.4705383955933248,-0.5811949410421311,-0.26159351696635313,-0.5043934914972953,0.9563554543819979,-0.08123950952249014,-1.2868499631647008,0.09783539747168195,0.9545658411093363,0.5245848175306133,0.3380350670194684,-1.4512106655645505,-1.281981400206145,-1.308167115357359,-0.35971045477861996,-0.512420043415833,-1.251905065483918,-0.8531422464828465,1.7341768531601454,0.038559351769476974,0.25191655836668336,-0.7303094209929796,1.7073604597804095,0.6386004345852292,-1.2311390362296117,-1.7755482716441562,1.9988565931832505,-2.0632775649910777,-0.21049229262690292,-1.8778805246002777,0.6525592916215323,-0.7997056429463001,-1.1757248916738905,-1.1359675326188294,-1.5935276916117505,0.041970134548078734,-0.3762072173207476,-0.36614637268815997,0.3182567706749178,-0.9132663471931876,1.0913725038434774,0.4771002710613205,0.47771941217539,2.5098980414141354,0.8084513541777368,0.6425955767501527,-0.12545797075193033,-0.568183437787671,0.39032519349837813,1.2767458147189956,0.8626422744060817,1.347223013704634,0.8376804724224781,1.217008455633511,-2.703109035744153,-0.9823449596702638,1.0215461583447056,0.27851803283081566,1.535145160250474,-1.4654834864491812,2.629129758597347,0.06586344585141272,1.8509978941094412,-1.2542237800052558,0.6693318373123142,0.2323479216721576,-2.423542526904085,1.3037205182045077,-0.8483692836455508,-1.146158764120612,-1.8277110038885906,1.0518143856691187,-0.6592324129786179,0.57230639271418,-0.9879612155120544,-0.5286940017556415,1.8231001217684917,0.9581230817567549,0.8491335328189504,-0.6629866808294782,0.2120136137861718,-0.41367427410916635,-1.9095340910520697,-0.18012523161650384,0.8276139682214836,0.24466091808603413,1.922611906807397,1.1926326949465051,-0.056344368898362765,0.35688581746126197,0.26450865748555785,-2.0455276522260277,-0.7505010965986343],\"xaxis\":\"x8\",\"y\":[1.5221338266976558,0.37112679507706564,0.36603957292691625,0.29252692212843173,0.036180660230443626,-0.7132962320772471,0.9141168083341438,-0.31192340367024846,-0.4825095769901552,0.16428901034785823,-0.14475789553589113,-1.0352430195694506,-1.5284693687654274,0.681164249488606,-0.564706140357884,1.4755447264649455,-0.32321602983062203,-0.7450592141304335,-0.7966035904657918,-0.1773245865098007,-1.126571722363632,0.9150626029671826,-1.091207438666216,0.8506294575866586,0.12371120342549463,-0.21731773112055477,-1.1130142266214658,0.5876701597506964,-0.5459226254608572,1.061672954810636,0.09446784284243107,-0.6829616273707716,0.9993656743472096,-0.5238729745094756,-0.9232682602030104,-1.1399099972844873,1.4177239382333449,-1.2385489459203411,0.9139327716213272,-0.1950190652257846,-0.7232280071985164,0.7178925572634225,-0.3869231850219358,-1.1110851121638883,0.5109203316297612,-1.0237058951468863,0.2777672213480589,0.9089347935577019,-0.47784841609201906,-0.18572038347878303,0.8181607377617439,-0.1555509408673983,1.6178024580284072,0.3168010772059872,-0.2344649450137472,-0.662325975502222,0.6812579548900719,-0.7037293013550847,0.3301009805558109,-1.6682715548955656,-0.5264304897415376,1.7786623314897354,0.08480322344048465,-0.9894575910807079,-0.6439454455787141,0.3532004796723608,-0.8274164104569124,-1.4936469024672425,-1.098119458352122,0.3359393018625474,-0.7913022006639495,0.4786980437487143,-0.06091557618027851,-0.8692385683549835,0.740960427595297,0.455549182852374,0.5109694916206015,-0.1498626427348044,1.6363708541023787,-0.42878290153449566,0.7050625674866938,-0.8983136534757796,-0.0352934325531089,-0.26314957187421667,-0.6158653409088861,0.7635530856460303,0.7551151722237617,-0.2213995845641046,0.670924714055657,0.2975795439836924,0.6040090013886447,-0.3941627300692083,0.8109266800499798,-0.5948765923255269,-0.8475615283178858,-0.4422235713998791,-0.0017861220796952838,-0.02908560937847064,0.9115052490577542,-0.1889504278134778],\"yaxis\":\"y8\",\"type\":\"scatter\"},{\"line\":{\"color\":\"rgba(128, 128, 128, 1.0)\",\"dash\":\"solid\",\"shape\":\"linear\",\"width\":1.3},\"marker\":{\"size\":2,\"symbol\":\"circle\"},\"mode\":\"markers\",\"name\":\"C\",\"text\":\"\",\"x\":[0.5528846479247638,-2.398205930119027,-0.3028121147097552,0.4955055579660399,-0.8031139027427731,-1.0439615893646255,1.6840254798100713,-1.2270555973290076,0.03836565760442624,-0.7119933256566789,1.306205741116208,-0.298729867404561,-0.7626919498830378,-0.6865924844463516,0.40668760667413334,0.4591508148789853,-0.47679836895868144,0.12238283386054362,-0.2519742371876982,-0.5350962519073955,0.9495119626283427,1.317827160891446,0.06555116071136115,0.49179795262488285,0.10062406066380053,0.32118901639531455,-0.211126656422741,1.0841690624860194,0.3892873236104735,0.37450011731539384,0.7387478968533783,1.645689502745466,-0.07196554987844637,0.23900174535492802,0.6409689628833247,1.4639297982677268,1.3740544669976316,0.028651022122856213,0.7132598611898975,-0.4669090564868793,-0.09442894209417246,1.0368611520075945,1.2363172261610667,0.3824133876492034,1.3545419182200922,1.1829339768784208,-0.19995253590227513,0.27672726185968394,0.000979222163437031,1.1198026754737844,0.2413950682021842,-0.9897486524611538,0.969790314908981,-0.7233597095313674,0.8537501041961911,-0.33290215549787927,-0.2103438556569867,-0.466192267738929,-1.1823537998364433,1.851959835464232,-1.2308259465982763,2.4622169560603697,0.9465961004381525,-2.1211974351879124,0.5863806468807722,-0.6106802223716836,-0.604000303410238,-2.0524370532876093,0.09028238740701096,-0.2324593934384782,1.019924496688148,1.1891483232697713,0.4713522395845208,0.47272716034600604,-1.3138557741641002,-1.3422754707240987,-0.1202028018800572,0.3874772662295193,0.011290612252812894,-1.2153978471663942,0.22593818094665838,0.032367283112389796,0.33515367135340945,0.8229895475611503,-1.9283577588198613,-0.2864119360756065,1.6941256129076236,-0.6245918701287434,-1.2634541802059043,-1.1407703435522039,0.7356260860775407,-0.29457276598016724,0.2839443237372972,0.935454658824385,2.877734237945691,-1.1702742402057313,-1.4944762966648328,-1.2815063454992062,-0.9770578514226053,1.3034403383361466],\"xaxis\":\"x9\",\"y\":[-0.3753228010573993,1.858129575474277,-0.410338179001649,0.06578969746370358,0.02812693570402251,-0.4959420275610195,0.8245449967185711,0.8970874856189467,0.4342376261779318,-1.6091052459307453,0.10184110231934021,-0.32789649319607544,-0.14231212741311852,-2.2402585402238167,-0.3783759284288644,1.2294658269371008,-1.0970226066162452,0.3949060328821529,-1.132296672987899,1.4279325357338581,0.4238269504118731,-0.008926958075053124,2.424574010497762,-0.9328386620541995,0.5414467385750422,-0.9314591609922944,0.052633016753005656,-0.12576691211142352,0.6847643753519642,-1.2974907918066008,-0.7696913172305885,-0.9136269413259297,-1.545713162635616,0.4161387135306835,-0.10200530663667176,-2.4327974954223865,-0.05321917349328707,-0.6328615429733635,-0.6744681332884495,-0.24925962268233195,0.38919561182835344,0.8049393690481663,1.4458933582231004,-1.6221275727873135,-0.6976194079398013,0.48272843420133904,1.148385401939861,0.14765539629373253,0.59007658295707,0.3731507780312944,0.6241960978758901,0.1095484823920591,0.45064294773707103,-0.1722019130125348,0.6009314982453949,-1.172349887740591,-1.4475847318474597,0.6900589918064277,1.5964645228105674,0.2702345716396932,0.2981014047026115,0.22148674540187993,0.9582094304926657,0.7435627424755311,0.9869096239364953,0.8357176148687951,-0.16316499409709204,1.2614625645977382,1.1761086437007806,-0.7674673954835308,-1.6303511184250903,-0.4619167546539699,1.168306445699756,0.2299046603383653,-0.9950985765275402,1.552482036186919,0.041378516482204634,-0.05402766256180481,-0.9055172178998108,0.9422362872900651,-0.22669546984099972,-1.6094780444493595,-0.7415029913765331,-0.37541987485767153,-0.05750943247085447,0.14487771319822293,0.08763028003387387,-1.304855717147345,0.08655745541765933,0.7653324221178338,-0.2898753934127883,-0.8177000003282332,1.0131080962274233,2.1381429648324444,-0.7194002707524055,-0.6339893868374737,1.5523038248212073,2.1409810569211465,-1.1856906691572626,-0.9166628496982585],\"yaxis\":\"y9\",\"type\":\"scatter\"},{\"line\":{\"color\":\"rgba(128, 128, 128, 1.0)\",\"dash\":\"solid\",\"shape\":\"linear\",\"width\":1.3},\"marker\":{\"size\":2,\"symbol\":\"circle\"},\"mode\":\"markers\",\"name\":\"C\",\"text\":\"\",\"x\":[1.5221338266976558,0.37112679507706564,0.36603957292691625,0.29252692212843173,0.036180660230443626,-0.7132962320772471,0.9141168083341438,-0.31192340367024846,-0.4825095769901552,0.16428901034785823,-0.14475789553589113,-1.0352430195694506,-1.5284693687654274,0.681164249488606,-0.564706140357884,1.4755447264649455,-0.32321602983062203,-0.7450592141304335,-0.7966035904657918,-0.1773245865098007,-1.126571722363632,0.9150626029671826,-1.091207438666216,0.8506294575866586,0.12371120342549463,-0.21731773112055477,-1.1130142266214658,0.5876701597506964,-0.5459226254608572,1.061672954810636,0.09446784284243107,-0.6829616273707716,0.9993656743472096,-0.5238729745094756,-0.9232682602030104,-1.1399099972844873,1.4177239382333449,-1.2385489459203411,0.9139327716213272,-0.1950190652257846,-0.7232280071985164,0.7178925572634225,-0.3869231850219358,-1.1110851121638883,0.5109203316297612,-1.0237058951468863,0.2777672213480589,0.9089347935577019,-0.47784841609201906,-0.18572038347878303,0.8181607377617439,-0.1555509408673983,1.6178024580284072,0.3168010772059872,-0.2344649450137472,-0.662325975502222,0.6812579548900719,-0.7037293013550847,0.3301009805558109,-1.6682715548955656,-0.5264304897415376,1.7786623314897354,0.08480322344048465,-0.9894575910807079,-0.6439454455787141,0.3532004796723608,-0.8274164104569124,-1.4936469024672425,-1.098119458352122,0.3359393018625474,-0.7913022006639495,0.4786980437487143,-0.06091557618027851,-0.8692385683549835,0.740960427595297,0.455549182852374,0.5109694916206015,-0.1498626427348044,1.6363708541023787,-0.42878290153449566,0.7050625674866938,-0.8983136534757796,-0.0352934325531089,-0.26314957187421667,-0.6158653409088861,0.7635530856460303,0.7551151722237617,-0.2213995845641046,0.670924714055657,0.2975795439836924,0.6040090013886447,-0.3941627300692083,0.8109266800499798,-0.5948765923255269,-0.8475615283178858,-0.4422235713998791,-0.0017861220796952838,-0.02908560937847064,0.9115052490577542,-0.1889504278134778],\"xaxis\":\"x10\",\"y\":[-0.3753228010573993,1.858129575474277,-0.410338179001649,0.06578969746370358,0.02812693570402251,-0.4959420275610195,0.8245449967185711,0.8970874856189467,0.4342376261779318,-1.6091052459307453,0.10184110231934021,-0.32789649319607544,-0.14231212741311852,-2.2402585402238167,-0.3783759284288644,1.2294658269371008,-1.0970226066162452,0.3949060328821529,-1.132296672987899,1.4279325357338581,0.4238269504118731,-0.008926958075053124,2.424574010497762,-0.9328386620541995,0.5414467385750422,-0.9314591609922944,0.052633016753005656,-0.12576691211142352,0.6847643753519642,-1.2974907918066008,-0.7696913172305885,-0.9136269413259297,-1.545713162635616,0.4161387135306835,-0.10200530663667176,-2.4327974954223865,-0.05321917349328707,-0.6328615429733635,-0.6744681332884495,-0.24925962268233195,0.38919561182835344,0.8049393690481663,1.4458933582231004,-1.6221275727873135,-0.6976194079398013,0.48272843420133904,1.148385401939861,0.14765539629373253,0.59007658295707,0.3731507780312944,0.6241960978758901,0.1095484823920591,0.45064294773707103,-0.1722019130125348,0.6009314982453949,-1.172349887740591,-1.4475847318474597,0.6900589918064277,1.5964645228105674,0.2702345716396932,0.2981014047026115,0.22148674540187993,0.9582094304926657,0.7435627424755311,0.9869096239364953,0.8357176148687951,-0.16316499409709204,1.2614625645977382,1.1761086437007806,-0.7674673954835308,-1.6303511184250903,-0.4619167546539699,1.168306445699756,0.2299046603383653,-0.9950985765275402,1.552482036186919,0.041378516482204634,-0.05402766256180481,-0.9055172178998108,0.9422362872900651,-0.22669546984099972,-1.6094780444493595,-0.7415029913765331,-0.37541987485767153,-0.05750943247085447,0.14487771319822293,0.08763028003387387,-1.304855717147345,0.08655745541765933,0.7653324221178338,-0.2898753934127883,-0.8177000003282332,1.0131080962274233,2.1381429648324444,-0.7194002707524055,-0.6339893868374737,1.5523038248212073,2.1409810569211465,-1.1856906691572626,-0.9166628496982585],\"yaxis\":\"y10\",\"type\":\"scatter\"},{\"histfunc\":\"count\",\"histnorm\":\"\",\"marker\":{\"color\":\"rgba(50, 171, 96, 1.0)\",\"line\":{\"color\":\"#4D5663\",\"width\":1.3}},\"name\":\"C\",\"nbinsx\":10,\"opacity\":0.8,\"orientation\":\"v\",\"x\":[-0.3753228010573993,1.858129575474277,-0.410338179001649,0.06578969746370358,0.02812693570402251,-0.4959420275610195,0.8245449967185711,0.8970874856189467,0.4342376261779318,-1.6091052459307453,0.10184110231934021,-0.32789649319607544,-0.14231212741311852,-2.2402585402238167,-0.3783759284288644,1.2294658269371008,-1.0970226066162452,0.3949060328821529,-1.132296672987899,1.4279325357338581,0.4238269504118731,-0.008926958075053124,2.424574010497762,-0.9328386620541995,0.5414467385750422,-0.9314591609922944,0.052633016753005656,-0.12576691211142352,0.6847643753519642,-1.2974907918066008,-0.7696913172305885,-0.9136269413259297,-1.545713162635616,0.4161387135306835,-0.10200530663667176,-2.4327974954223865,-0.05321917349328707,-0.6328615429733635,-0.6744681332884495,-0.24925962268233195,0.38919561182835344,0.8049393690481663,1.4458933582231004,-1.6221275727873135,-0.6976194079398013,0.48272843420133904,1.148385401939861,0.14765539629373253,0.59007658295707,0.3731507780312944,0.6241960978758901,0.1095484823920591,0.45064294773707103,-0.1722019130125348,0.6009314982453949,-1.172349887740591,-1.4475847318474597,0.6900589918064277,1.5964645228105674,0.2702345716396932,0.2981014047026115,0.22148674540187993,0.9582094304926657,0.7435627424755311,0.9869096239364953,0.8357176148687951,-0.16316499409709204,1.2614625645977382,1.1761086437007806,-0.7674673954835308,-1.6303511184250903,-0.4619167546539699,1.168306445699756,0.2299046603383653,-0.9950985765275402,1.552482036186919,0.041378516482204634,-0.05402766256180481,-0.9055172178998108,0.9422362872900651,-0.22669546984099972,-1.6094780444493595,-0.7415029913765331,-0.37541987485767153,-0.05750943247085447,0.14487771319822293,0.08763028003387387,-1.304855717147345,0.08655745541765933,0.7653324221178338,-0.2898753934127883,-0.8177000003282332,1.0131080962274233,2.1381429648324444,-0.7194002707524055,-0.6339893868374737,1.5523038248212073,2.1409810569211465,-1.1856906691572626,-0.9166628496982585],\"xaxis\":\"x11\",\"yaxis\":\"y11\",\"type\":\"histogram\"},{\"line\":{\"color\":\"rgba(128, 128, 128, 1.0)\",\"dash\":\"solid\",\"shape\":\"linear\",\"width\":1.3},\"marker\":{\"size\":2,\"symbol\":\"circle\"},\"mode\":\"markers\",\"name\":\"C\",\"text\":\"\",\"x\":[2.013306412940443,-0.546359007082015,-1.7358315419013177,0.30103014281966867,0.5746072563282305,-1.4683629011121622,0.5433898110049855,-0.4705383955933248,-0.5811949410421311,-0.26159351696635313,-0.5043934914972953,0.9563554543819979,-0.08123950952249014,-1.2868499631647008,0.09783539747168195,0.9545658411093363,0.5245848175306133,0.3380350670194684,-1.4512106655645505,-1.281981400206145,-1.308167115357359,-0.35971045477861996,-0.512420043415833,-1.251905065483918,-0.8531422464828465,1.7341768531601454,0.038559351769476974,0.25191655836668336,-0.7303094209929796,1.7073604597804095,0.6386004345852292,-1.2311390362296117,-1.7755482716441562,1.9988565931832505,-2.0632775649910777,-0.21049229262690292,-1.8778805246002777,0.6525592916215323,-0.7997056429463001,-1.1757248916738905,-1.1359675326188294,-1.5935276916117505,0.041970134548078734,-0.3762072173207476,-0.36614637268815997,0.3182567706749178,-0.9132663471931876,1.0913725038434774,0.4771002710613205,0.47771941217539,2.5098980414141354,0.8084513541777368,0.6425955767501527,-0.12545797075193033,-0.568183437787671,0.39032519349837813,1.2767458147189956,0.8626422744060817,1.347223013704634,0.8376804724224781,1.217008455633511,-2.703109035744153,-0.9823449596702638,1.0215461583447056,0.27851803283081566,1.535145160250474,-1.4654834864491812,2.629129758597347,0.06586344585141272,1.8509978941094412,-1.2542237800052558,0.6693318373123142,0.2323479216721576,-2.423542526904085,1.3037205182045077,-0.8483692836455508,-1.146158764120612,-1.8277110038885906,1.0518143856691187,-0.6592324129786179,0.57230639271418,-0.9879612155120544,-0.5286940017556415,1.8231001217684917,0.9581230817567549,0.8491335328189504,-0.6629866808294782,0.2120136137861718,-0.41367427410916635,-1.9095340910520697,-0.18012523161650384,0.8276139682214836,0.24466091808603413,1.922611906807397,1.1926326949465051,-0.056344368898362765,0.35688581746126197,0.26450865748555785,-2.0455276522260277,-0.7505010965986343],\"xaxis\":\"x12\",\"y\":[-0.3753228010573993,1.858129575474277,-0.410338179001649,0.06578969746370358,0.02812693570402251,-0.4959420275610195,0.8245449967185711,0.8970874856189467,0.4342376261779318,-1.6091052459307453,0.10184110231934021,-0.32789649319607544,-0.14231212741311852,-2.2402585402238167,-0.3783759284288644,1.2294658269371008,-1.0970226066162452,0.3949060328821529,-1.132296672987899,1.4279325357338581,0.4238269504118731,-0.008926958075053124,2.424574010497762,-0.9328386620541995,0.5414467385750422,-0.9314591609922944,0.052633016753005656,-0.12576691211142352,0.6847643753519642,-1.2974907918066008,-0.7696913172305885,-0.9136269413259297,-1.545713162635616,0.4161387135306835,-0.10200530663667176,-2.4327974954223865,-0.05321917349328707,-0.6328615429733635,-0.6744681332884495,-0.24925962268233195,0.38919561182835344,0.8049393690481663,1.4458933582231004,-1.6221275727873135,-0.6976194079398013,0.48272843420133904,1.148385401939861,0.14765539629373253,0.59007658295707,0.3731507780312944,0.6241960978758901,0.1095484823920591,0.45064294773707103,-0.1722019130125348,0.6009314982453949,-1.172349887740591,-1.4475847318474597,0.6900589918064277,1.5964645228105674,0.2702345716396932,0.2981014047026115,0.22148674540187993,0.9582094304926657,0.7435627424755311,0.9869096239364953,0.8357176148687951,-0.16316499409709204,1.2614625645977382,1.1761086437007806,-0.7674673954835308,-1.6303511184250903,-0.4619167546539699,1.168306445699756,0.2299046603383653,-0.9950985765275402,1.552482036186919,0.041378516482204634,-0.05402766256180481,-0.9055172178998108,0.9422362872900651,-0.22669546984099972,-1.6094780444493595,-0.7415029913765331,-0.37541987485767153,-0.05750943247085447,0.14487771319822293,0.08763028003387387,-1.304855717147345,0.08655745541765933,0.7653324221178338,-0.2898753934127883,-0.8177000003282332,1.0131080962274233,2.1381429648324444,-0.7194002707524055,-0.6339893868374737,1.5523038248212073,2.1409810569211465,-1.1856906691572626,-0.9166628496982585],\"yaxis\":\"y12\",\"type\":\"scatter\"},{\"line\":{\"color\":\"rgba(128, 128, 128, 1.0)\",\"dash\":\"solid\",\"shape\":\"linear\",\"width\":1.3},\"marker\":{\"size\":2,\"symbol\":\"circle\"},\"mode\":\"markers\",\"name\":\"D\",\"text\":\"\",\"x\":[0.5528846479247638,-2.398205930119027,-0.3028121147097552,0.4955055579660399,-0.8031139027427731,-1.0439615893646255,1.6840254798100713,-1.2270555973290076,0.03836565760442624,-0.7119933256566789,1.306205741116208,-0.298729867404561,-0.7626919498830378,-0.6865924844463516,0.40668760667413334,0.4591508148789853,-0.47679836895868144,0.12238283386054362,-0.2519742371876982,-0.5350962519073955,0.9495119626283427,1.317827160891446,0.06555116071136115,0.49179795262488285,0.10062406066380053,0.32118901639531455,-0.211126656422741,1.0841690624860194,0.3892873236104735,0.37450011731539384,0.7387478968533783,1.645689502745466,-0.07196554987844637,0.23900174535492802,0.6409689628833247,1.4639297982677268,1.3740544669976316,0.028651022122856213,0.7132598611898975,-0.4669090564868793,-0.09442894209417246,1.0368611520075945,1.2363172261610667,0.3824133876492034,1.3545419182200922,1.1829339768784208,-0.19995253590227513,0.27672726185968394,0.000979222163437031,1.1198026754737844,0.2413950682021842,-0.9897486524611538,0.969790314908981,-0.7233597095313674,0.8537501041961911,-0.33290215549787927,-0.2103438556569867,-0.466192267738929,-1.1823537998364433,1.851959835464232,-1.2308259465982763,2.4622169560603697,0.9465961004381525,-2.1211974351879124,0.5863806468807722,-0.6106802223716836,-0.604000303410238,-2.0524370532876093,0.09028238740701096,-0.2324593934384782,1.019924496688148,1.1891483232697713,0.4713522395845208,0.47272716034600604,-1.3138557741641002,-1.3422754707240987,-0.1202028018800572,0.3874772662295193,0.011290612252812894,-1.2153978471663942,0.22593818094665838,0.032367283112389796,0.33515367135340945,0.8229895475611503,-1.9283577588198613,-0.2864119360756065,1.6941256129076236,-0.6245918701287434,-1.2634541802059043,-1.1407703435522039,0.7356260860775407,-0.29457276598016724,0.2839443237372972,0.935454658824385,2.877734237945691,-1.1702742402057313,-1.4944762966648328,-1.2815063454992062,-0.9770578514226053,1.3034403383361466],\"xaxis\":\"x13\",\"y\":[2.013306412940443,-0.546359007082015,-1.7358315419013177,0.30103014281966867,0.5746072563282305,-1.4683629011121622,0.5433898110049855,-0.4705383955933248,-0.5811949410421311,-0.26159351696635313,-0.5043934914972953,0.9563554543819979,-0.08123950952249014,-1.2868499631647008,0.09783539747168195,0.9545658411093363,0.5245848175306133,0.3380350670194684,-1.4512106655645505,-1.281981400206145,-1.308167115357359,-0.35971045477861996,-0.512420043415833,-1.251905065483918,-0.8531422464828465,1.7341768531601454,0.038559351769476974,0.25191655836668336,-0.7303094209929796,1.7073604597804095,0.6386004345852292,-1.2311390362296117,-1.7755482716441562,1.9988565931832505,-2.0632775649910777,-0.21049229262690292,-1.8778805246002777,0.6525592916215323,-0.7997056429463001,-1.1757248916738905,-1.1359675326188294,-1.5935276916117505,0.041970134548078734,-0.3762072173207476,-0.36614637268815997,0.3182567706749178,-0.9132663471931876,1.0913725038434774,0.4771002710613205,0.47771941217539,2.5098980414141354,0.8084513541777368,0.6425955767501527,-0.12545797075193033,-0.568183437787671,0.39032519349837813,1.2767458147189956,0.8626422744060817,1.347223013704634,0.8376804724224781,1.217008455633511,-2.703109035744153,-0.9823449596702638,1.0215461583447056,0.27851803283081566,1.535145160250474,-1.4654834864491812,2.629129758597347,0.06586344585141272,1.8509978941094412,-1.2542237800052558,0.6693318373123142,0.2323479216721576,-2.423542526904085,1.3037205182045077,-0.8483692836455508,-1.146158764120612,-1.8277110038885906,1.0518143856691187,-0.6592324129786179,0.57230639271418,-0.9879612155120544,-0.5286940017556415,1.8231001217684917,0.9581230817567549,0.8491335328189504,-0.6629866808294782,0.2120136137861718,-0.41367427410916635,-1.9095340910520697,-0.18012523161650384,0.8276139682214836,0.24466091808603413,1.922611906807397,1.1926326949465051,-0.056344368898362765,0.35688581746126197,0.26450865748555785,-2.0455276522260277,-0.7505010965986343],\"yaxis\":\"y13\",\"type\":\"scatter\"},{\"line\":{\"color\":\"rgba(128, 128, 128, 1.0)\",\"dash\":\"solid\",\"shape\":\"linear\",\"width\":1.3},\"marker\":{\"size\":2,\"symbol\":\"circle\"},\"mode\":\"markers\",\"name\":\"D\",\"text\":\"\",\"x\":[1.5221338266976558,0.37112679507706564,0.36603957292691625,0.29252692212843173,0.036180660230443626,-0.7132962320772471,0.9141168083341438,-0.31192340367024846,-0.4825095769901552,0.16428901034785823,-0.14475789553589113,-1.0352430195694506,-1.5284693687654274,0.681164249488606,-0.564706140357884,1.4755447264649455,-0.32321602983062203,-0.7450592141304335,-0.7966035904657918,-0.1773245865098007,-1.126571722363632,0.9150626029671826,-1.091207438666216,0.8506294575866586,0.12371120342549463,-0.21731773112055477,-1.1130142266214658,0.5876701597506964,-0.5459226254608572,1.061672954810636,0.09446784284243107,-0.6829616273707716,0.9993656743472096,-0.5238729745094756,-0.9232682602030104,-1.1399099972844873,1.4177239382333449,-1.2385489459203411,0.9139327716213272,-0.1950190652257846,-0.7232280071985164,0.7178925572634225,-0.3869231850219358,-1.1110851121638883,0.5109203316297612,-1.0237058951468863,0.2777672213480589,0.9089347935577019,-0.47784841609201906,-0.18572038347878303,0.8181607377617439,-0.1555509408673983,1.6178024580284072,0.3168010772059872,-0.2344649450137472,-0.662325975502222,0.6812579548900719,-0.7037293013550847,0.3301009805558109,-1.6682715548955656,-0.5264304897415376,1.7786623314897354,0.08480322344048465,-0.9894575910807079,-0.6439454455787141,0.3532004796723608,-0.8274164104569124,-1.4936469024672425,-1.098119458352122,0.3359393018625474,-0.7913022006639495,0.4786980437487143,-0.06091557618027851,-0.8692385683549835,0.740960427595297,0.455549182852374,0.5109694916206015,-0.1498626427348044,1.6363708541023787,-0.42878290153449566,0.7050625674866938,-0.8983136534757796,-0.0352934325531089,-0.26314957187421667,-0.6158653409088861,0.7635530856460303,0.7551151722237617,-0.2213995845641046,0.670924714055657,0.2975795439836924,0.6040090013886447,-0.3941627300692083,0.8109266800499798,-0.5948765923255269,-0.8475615283178858,-0.4422235713998791,-0.0017861220796952838,-0.02908560937847064,0.9115052490577542,-0.1889504278134778],\"xaxis\":\"x14\",\"y\":[2.013306412940443,-0.546359007082015,-1.7358315419013177,0.30103014281966867,0.5746072563282305,-1.4683629011121622,0.5433898110049855,-0.4705383955933248,-0.5811949410421311,-0.26159351696635313,-0.5043934914972953,0.9563554543819979,-0.08123950952249014,-1.2868499631647008,0.09783539747168195,0.9545658411093363,0.5245848175306133,0.3380350670194684,-1.4512106655645505,-1.281981400206145,-1.308167115357359,-0.35971045477861996,-0.512420043415833,-1.251905065483918,-0.8531422464828465,1.7341768531601454,0.038559351769476974,0.25191655836668336,-0.7303094209929796,1.7073604597804095,0.6386004345852292,-1.2311390362296117,-1.7755482716441562,1.9988565931832505,-2.0632775649910777,-0.21049229262690292,-1.8778805246002777,0.6525592916215323,-0.7997056429463001,-1.1757248916738905,-1.1359675326188294,-1.5935276916117505,0.041970134548078734,-0.3762072173207476,-0.36614637268815997,0.3182567706749178,-0.9132663471931876,1.0913725038434774,0.4771002710613205,0.47771941217539,2.5098980414141354,0.8084513541777368,0.6425955767501527,-0.12545797075193033,-0.568183437787671,0.39032519349837813,1.2767458147189956,0.8626422744060817,1.347223013704634,0.8376804724224781,1.217008455633511,-2.703109035744153,-0.9823449596702638,1.0215461583447056,0.27851803283081566,1.535145160250474,-1.4654834864491812,2.629129758597347,0.06586344585141272,1.8509978941094412,-1.2542237800052558,0.6693318373123142,0.2323479216721576,-2.423542526904085,1.3037205182045077,-0.8483692836455508,-1.146158764120612,-1.8277110038885906,1.0518143856691187,-0.6592324129786179,0.57230639271418,-0.9879612155120544,-0.5286940017556415,1.8231001217684917,0.9581230817567549,0.8491335328189504,-0.6629866808294782,0.2120136137861718,-0.41367427410916635,-1.9095340910520697,-0.18012523161650384,0.8276139682214836,0.24466091808603413,1.922611906807397,1.1926326949465051,-0.056344368898362765,0.35688581746126197,0.26450865748555785,-2.0455276522260277,-0.7505010965986343],\"yaxis\":\"y14\",\"type\":\"scatter\"},{\"line\":{\"color\":\"rgba(128, 128, 128, 1.0)\",\"dash\":\"solid\",\"shape\":\"linear\",\"width\":1.3},\"marker\":{\"size\":2,\"symbol\":\"circle\"},\"mode\":\"markers\",\"name\":\"D\",\"text\":\"\",\"x\":[-0.3753228010573993,1.858129575474277,-0.410338179001649,0.06578969746370358,0.02812693570402251,-0.4959420275610195,0.8245449967185711,0.8970874856189467,0.4342376261779318,-1.6091052459307453,0.10184110231934021,-0.32789649319607544,-0.14231212741311852,-2.2402585402238167,-0.3783759284288644,1.2294658269371008,-1.0970226066162452,0.3949060328821529,-1.132296672987899,1.4279325357338581,0.4238269504118731,-0.008926958075053124,2.424574010497762,-0.9328386620541995,0.5414467385750422,-0.9314591609922944,0.052633016753005656,-0.12576691211142352,0.6847643753519642,-1.2974907918066008,-0.7696913172305885,-0.9136269413259297,-1.545713162635616,0.4161387135306835,-0.10200530663667176,-2.4327974954223865,-0.05321917349328707,-0.6328615429733635,-0.6744681332884495,-0.24925962268233195,0.38919561182835344,0.8049393690481663,1.4458933582231004,-1.6221275727873135,-0.6976194079398013,0.48272843420133904,1.148385401939861,0.14765539629373253,0.59007658295707,0.3731507780312944,0.6241960978758901,0.1095484823920591,0.45064294773707103,-0.1722019130125348,0.6009314982453949,-1.172349887740591,-1.4475847318474597,0.6900589918064277,1.5964645228105674,0.2702345716396932,0.2981014047026115,0.22148674540187993,0.9582094304926657,0.7435627424755311,0.9869096239364953,0.8357176148687951,-0.16316499409709204,1.2614625645977382,1.1761086437007806,-0.7674673954835308,-1.6303511184250903,-0.4619167546539699,1.168306445699756,0.2299046603383653,-0.9950985765275402,1.552482036186919,0.041378516482204634,-0.05402766256180481,-0.9055172178998108,0.9422362872900651,-0.22669546984099972,-1.6094780444493595,-0.7415029913765331,-0.37541987485767153,-0.05750943247085447,0.14487771319822293,0.08763028003387387,-1.304855717147345,0.08655745541765933,0.7653324221178338,-0.2898753934127883,-0.8177000003282332,1.0131080962274233,2.1381429648324444,-0.7194002707524055,-0.6339893868374737,1.5523038248212073,2.1409810569211465,-1.1856906691572626,-0.9166628496982585],\"xaxis\":\"x15\",\"y\":[2.013306412940443,-0.546359007082015,-1.7358315419013177,0.30103014281966867,0.5746072563282305,-1.4683629011121622,0.5433898110049855,-0.4705383955933248,-0.5811949410421311,-0.26159351696635313,-0.5043934914972953,0.9563554543819979,-0.08123950952249014,-1.2868499631647008,0.09783539747168195,0.9545658411093363,0.5245848175306133,0.3380350670194684,-1.4512106655645505,-1.281981400206145,-1.308167115357359,-0.35971045477861996,-0.512420043415833,-1.251905065483918,-0.8531422464828465,1.7341768531601454,0.038559351769476974,0.25191655836668336,-0.7303094209929796,1.7073604597804095,0.6386004345852292,-1.2311390362296117,-1.7755482716441562,1.9988565931832505,-2.0632775649910777,-0.21049229262690292,-1.8778805246002777,0.6525592916215323,-0.7997056429463001,-1.1757248916738905,-1.1359675326188294,-1.5935276916117505,0.041970134548078734,-0.3762072173207476,-0.36614637268815997,0.3182567706749178,-0.9132663471931876,1.0913725038434774,0.4771002710613205,0.47771941217539,2.5098980414141354,0.8084513541777368,0.6425955767501527,-0.12545797075193033,-0.568183437787671,0.39032519349837813,1.2767458147189956,0.8626422744060817,1.347223013704634,0.8376804724224781,1.217008455633511,-2.703109035744153,-0.9823449596702638,1.0215461583447056,0.27851803283081566,1.535145160250474,-1.4654834864491812,2.629129758597347,0.06586344585141272,1.8509978941094412,-1.2542237800052558,0.6693318373123142,0.2323479216721576,-2.423542526904085,1.3037205182045077,-0.8483692836455508,-1.146158764120612,-1.8277110038885906,1.0518143856691187,-0.6592324129786179,0.57230639271418,-0.9879612155120544,-0.5286940017556415,1.8231001217684917,0.9581230817567549,0.8491335328189504,-0.6629866808294782,0.2120136137861718,-0.41367427410916635,-1.9095340910520697,-0.18012523161650384,0.8276139682214836,0.24466091808603413,1.922611906807397,1.1926326949465051,-0.056344368898362765,0.35688581746126197,0.26450865748555785,-2.0455276522260277,-0.7505010965986343],\"yaxis\":\"y15\",\"type\":\"scatter\"},{\"histfunc\":\"count\",\"histnorm\":\"\",\"marker\":{\"color\":\"rgba(128, 0, 128, 1.0)\",\"line\":{\"color\":\"#4D5663\",\"width\":1.3}},\"name\":\"D\",\"nbinsx\":10,\"opacity\":0.8,\"orientation\":\"v\",\"x\":[2.013306412940443,-0.546359007082015,-1.7358315419013177,0.30103014281966867,0.5746072563282305,-1.4683629011121622,0.5433898110049855,-0.4705383955933248,-0.5811949410421311,-0.26159351696635313,-0.5043934914972953,0.9563554543819979,-0.08123950952249014,-1.2868499631647008,0.09783539747168195,0.9545658411093363,0.5245848175306133,0.3380350670194684,-1.4512106655645505,-1.281981400206145,-1.308167115357359,-0.35971045477861996,-0.512420043415833,-1.251905065483918,-0.8531422464828465,1.7341768531601454,0.038559351769476974,0.25191655836668336,-0.7303094209929796,1.7073604597804095,0.6386004345852292,-1.2311390362296117,-1.7755482716441562,1.9988565931832505,-2.0632775649910777,-0.21049229262690292,-1.8778805246002777,0.6525592916215323,-0.7997056429463001,-1.1757248916738905,-1.1359675326188294,-1.5935276916117505,0.041970134548078734,-0.3762072173207476,-0.36614637268815997,0.3182567706749178,-0.9132663471931876,1.0913725038434774,0.4771002710613205,0.47771941217539,2.5098980414141354,0.8084513541777368,0.6425955767501527,-0.12545797075193033,-0.568183437787671,0.39032519349837813,1.2767458147189956,0.8626422744060817,1.347223013704634,0.8376804724224781,1.217008455633511,-2.703109035744153,-0.9823449596702638,1.0215461583447056,0.27851803283081566,1.535145160250474,-1.4654834864491812,2.629129758597347,0.06586344585141272,1.8509978941094412,-1.2542237800052558,0.6693318373123142,0.2323479216721576,-2.423542526904085,1.3037205182045077,-0.8483692836455508,-1.146158764120612,-1.8277110038885906,1.0518143856691187,-0.6592324129786179,0.57230639271418,-0.9879612155120544,-0.5286940017556415,1.8231001217684917,0.9581230817567549,0.8491335328189504,-0.6629866808294782,0.2120136137861718,-0.41367427410916635,-1.9095340910520697,-0.18012523161650384,0.8276139682214836,0.24466091808603413,1.922611906807397,1.1926326949465051,-0.056344368898362765,0.35688581746126197,0.26450865748555785,-2.0455276522260277,-0.7505010965986343],\"xaxis\":\"x16\",\"yaxis\":\"y16\",\"type\":\"histogram\"}],                        {\"bargap\":0.02,\"legend\":{\"bgcolor\":\"#F5F6F9\",\"font\":{\"color\":\"#4D5663\"}},\"paper_bgcolor\":\"#F5F6F9\",\"plot_bgcolor\":\"#F5F6F9\",\"showlegend\":false,\"template\":{\"data\":{\"barpolar\":[{\"marker\":{\"line\":{\"color\":\"#E5ECF6\",\"width\":0.5},\"pattern\":{\"fillmode\":\"overlay\",\"size\":10,\"solidity\":0.2}},\"type\":\"barpolar\"}],\"bar\":[{\"error_x\":{\"color\":\"#2a3f5f\"},\"error_y\":{\"color\":\"#2a3f5f\"},\"marker\":{\"line\":{\"color\":\"#E5ECF6\",\"width\":0.5},\"pattern\":{\"fillmode\":\"overlay\",\"size\":10,\"solidity\":0.2}},\"type\":\"bar\"}],\"carpet\":[{\"aaxis\":{\"endlinecolor\":\"#2a3f5f\",\"gridcolor\":\"white\",\"linecolor\":\"white\",\"minorgridcolor\":\"white\",\"startlinecolor\":\"#2a3f5f\"},\"baxis\":{\"endlinecolor\":\"#2a3f5f\",\"gridcolor\":\"white\",\"linecolor\":\"white\",\"minorgridcolor\":\"white\",\"startlinecolor\":\"#2a3f5f\"},\"type\":\"carpet\"}],\"choropleth\":[{\"colorbar\":{\"outlinewidth\":0,\"ticks\":\"\"},\"type\":\"choropleth\"}],\"contourcarpet\":[{\"colorbar\":{\"outlinewidth\":0,\"ticks\":\"\"},\"type\":\"contourcarpet\"}],\"contour\":[{\"colorbar\":{\"outlinewidth\":0,\"ticks\":\"\"},\"colorscale\":[[0.0,\"#0d0887\"],[0.1111111111111111,\"#46039f\"],[0.2222222222222222,\"#7201a8\"],[0.3333333333333333,\"#9c179e\"],[0.4444444444444444,\"#bd3786\"],[0.5555555555555556,\"#d8576b\"],[0.6666666666666666,\"#ed7953\"],[0.7777777777777778,\"#fb9f3a\"],[0.8888888888888888,\"#fdca26\"],[1.0,\"#f0f921\"]],\"type\":\"contour\"}],\"heatmapgl\":[{\"colorbar\":{\"outlinewidth\":0,\"ticks\":\"\"},\"colorscale\":[[0.0,\"#0d0887\"],[0.1111111111111111,\"#46039f\"],[0.2222222222222222,\"#7201a8\"],[0.3333333333333333,\"#9c179e\"],[0.4444444444444444,\"#bd3786\"],[0.5555555555555556,\"#d8576b\"],[0.6666666666666666,\"#ed7953\"],[0.7777777777777778,\"#fb9f3a\"],[0.8888888888888888,\"#fdca26\"],[1.0,\"#f0f921\"]],\"type\":\"heatmapgl\"}],\"heatmap\":[{\"colorbar\":{\"outlinewidth\":0,\"ticks\":\"\"},\"colorscale\":[[0.0,\"#0d0887\"],[0.1111111111111111,\"#46039f\"],[0.2222222222222222,\"#7201a8\"],[0.3333333333333333,\"#9c179e\"],[0.4444444444444444,\"#bd3786\"],[0.5555555555555556,\"#d8576b\"],[0.6666666666666666,\"#ed7953\"],[0.7777777777777778,\"#fb9f3a\"],[0.8888888888888888,\"#fdca26\"],[1.0,\"#f0f921\"]],\"type\":\"heatmap\"}],\"histogram2dcontour\":[{\"colorbar\":{\"outlinewidth\":0,\"ticks\":\"\"},\"colorscale\":[[0.0,\"#0d0887\"],[0.1111111111111111,\"#46039f\"],[0.2222222222222222,\"#7201a8\"],[0.3333333333333333,\"#9c179e\"],[0.4444444444444444,\"#bd3786\"],[0.5555555555555556,\"#d8576b\"],[0.6666666666666666,\"#ed7953\"],[0.7777777777777778,\"#fb9f3a\"],[0.8888888888888888,\"#fdca26\"],[1.0,\"#f0f921\"]],\"type\":\"histogram2dcontour\"}],\"histogram2d\":[{\"colorbar\":{\"outlinewidth\":0,\"ticks\":\"\"},\"colorscale\":[[0.0,\"#0d0887\"],[0.1111111111111111,\"#46039f\"],[0.2222222222222222,\"#7201a8\"],[0.3333333333333333,\"#9c179e\"],[0.4444444444444444,\"#bd3786\"],[0.5555555555555556,\"#d8576b\"],[0.6666666666666666,\"#ed7953\"],[0.7777777777777778,\"#fb9f3a\"],[0.8888888888888888,\"#fdca26\"],[1.0,\"#f0f921\"]],\"type\":\"histogram2d\"}],\"histogram\":[{\"marker\":{\"pattern\":{\"fillmode\":\"overlay\",\"size\":10,\"solidity\":0.2}},\"type\":\"histogram\"}],\"mesh3d\":[{\"colorbar\":{\"outlinewidth\":0,\"ticks\":\"\"},\"type\":\"mesh3d\"}],\"parcoords\":[{\"line\":{\"colorbar\":{\"outlinewidth\":0,\"ticks\":\"\"}},\"type\":\"parcoords\"}],\"pie\":[{\"automargin\":true,\"type\":\"pie\"}],\"scatter3d\":[{\"line\":{\"colorbar\":{\"outlinewidth\":0,\"ticks\":\"\"}},\"marker\":{\"colorbar\":{\"outlinewidth\":0,\"ticks\":\"\"}},\"type\":\"scatter3d\"}],\"scattercarpet\":[{\"marker\":{\"colorbar\":{\"outlinewidth\":0,\"ticks\":\"\"}},\"type\":\"scattercarpet\"}],\"scattergeo\":[{\"marker\":{\"colorbar\":{\"outlinewidth\":0,\"ticks\":\"\"}},\"type\":\"scattergeo\"}],\"scattergl\":[{\"marker\":{\"colorbar\":{\"outlinewidth\":0,\"ticks\":\"\"}},\"type\":\"scattergl\"}],\"scattermapbox\":[{\"marker\":{\"colorbar\":{\"outlinewidth\":0,\"ticks\":\"\"}},\"type\":\"scattermapbox\"}],\"scatterpolargl\":[{\"marker\":{\"colorbar\":{\"outlinewidth\":0,\"ticks\":\"\"}},\"type\":\"scatterpolargl\"}],\"scatterpolar\":[{\"marker\":{\"colorbar\":{\"outlinewidth\":0,\"ticks\":\"\"}},\"type\":\"scatterpolar\"}],\"scatter\":[{\"fillpattern\":{\"fillmode\":\"overlay\",\"size\":10,\"solidity\":0.2},\"type\":\"scatter\"}],\"scatterternary\":[{\"marker\":{\"colorbar\":{\"outlinewidth\":0,\"ticks\":\"\"}},\"type\":\"scatterternary\"}],\"surface\":[{\"colorbar\":{\"outlinewidth\":0,\"ticks\":\"\"},\"colorscale\":[[0.0,\"#0d0887\"],[0.1111111111111111,\"#46039f\"],[0.2222222222222222,\"#7201a8\"],[0.3333333333333333,\"#9c179e\"],[0.4444444444444444,\"#bd3786\"],[0.5555555555555556,\"#d8576b\"],[0.6666666666666666,\"#ed7953\"],[0.7777777777777778,\"#fb9f3a\"],[0.8888888888888888,\"#fdca26\"],[1.0,\"#f0f921\"]],\"type\":\"surface\"}],\"table\":[{\"cells\":{\"fill\":{\"color\":\"#EBF0F8\"},\"line\":{\"color\":\"white\"}},\"header\":{\"fill\":{\"color\":\"#C8D4E3\"},\"line\":{\"color\":\"white\"}},\"type\":\"table\"}]},\"layout\":{\"annotationdefaults\":{\"arrowcolor\":\"#2a3f5f\",\"arrowhead\":0,\"arrowwidth\":1},\"autotypenumbers\":\"strict\",\"coloraxis\":{\"colorbar\":{\"outlinewidth\":0,\"ticks\":\"\"}},\"colorscale\":{\"diverging\":[[0,\"#8e0152\"],[0.1,\"#c51b7d\"],[0.2,\"#de77ae\"],[0.3,\"#f1b6da\"],[0.4,\"#fde0ef\"],[0.5,\"#f7f7f7\"],[0.6,\"#e6f5d0\"],[0.7,\"#b8e186\"],[0.8,\"#7fbc41\"],[0.9,\"#4d9221\"],[1,\"#276419\"]],\"sequential\":[[0.0,\"#0d0887\"],[0.1111111111111111,\"#46039f\"],[0.2222222222222222,\"#7201a8\"],[0.3333333333333333,\"#9c179e\"],[0.4444444444444444,\"#bd3786\"],[0.5555555555555556,\"#d8576b\"],[0.6666666666666666,\"#ed7953\"],[0.7777777777777778,\"#fb9f3a\"],[0.8888888888888888,\"#fdca26\"],[1.0,\"#f0f921\"]],\"sequentialminus\":[[0.0,\"#0d0887\"],[0.1111111111111111,\"#46039f\"],[0.2222222222222222,\"#7201a8\"],[0.3333333333333333,\"#9c179e\"],[0.4444444444444444,\"#bd3786\"],[0.5555555555555556,\"#d8576b\"],[0.6666666666666666,\"#ed7953\"],[0.7777777777777778,\"#fb9f3a\"],[0.8888888888888888,\"#fdca26\"],[1.0,\"#f0f921\"]]},\"colorway\":[\"#636efa\",\"#EF553B\",\"#00cc96\",\"#ab63fa\",\"#FFA15A\",\"#19d3f3\",\"#FF6692\",\"#B6E880\",\"#FF97FF\",\"#FECB52\"],\"font\":{\"color\":\"#2a3f5f\"},\"geo\":{\"bgcolor\":\"white\",\"lakecolor\":\"white\",\"landcolor\":\"#E5ECF6\",\"showlakes\":true,\"showland\":true,\"subunitcolor\":\"white\"},\"hoverlabel\":{\"align\":\"left\"},\"hovermode\":\"closest\",\"mapbox\":{\"style\":\"light\"},\"paper_bgcolor\":\"white\",\"plot_bgcolor\":\"#E5ECF6\",\"polar\":{\"angularaxis\":{\"gridcolor\":\"white\",\"linecolor\":\"white\",\"ticks\":\"\"},\"bgcolor\":\"#E5ECF6\",\"radialaxis\":{\"gridcolor\":\"white\",\"linecolor\":\"white\",\"ticks\":\"\"}},\"scene\":{\"xaxis\":{\"backgroundcolor\":\"#E5ECF6\",\"gridcolor\":\"white\",\"gridwidth\":2,\"linecolor\":\"white\",\"showbackground\":true,\"ticks\":\"\",\"zerolinecolor\":\"white\"},\"yaxis\":{\"backgroundcolor\":\"#E5ECF6\",\"gridcolor\":\"white\",\"gridwidth\":2,\"linecolor\":\"white\",\"showbackground\":true,\"ticks\":\"\",\"zerolinecolor\":\"white\"},\"zaxis\":{\"backgroundcolor\":\"#E5ECF6\",\"gridcolor\":\"white\",\"gridwidth\":2,\"linecolor\":\"white\",\"showbackground\":true,\"ticks\":\"\",\"zerolinecolor\":\"white\"}},\"shapedefaults\":{\"line\":{\"color\":\"#2a3f5f\"}},\"ternary\":{\"aaxis\":{\"gridcolor\":\"white\",\"linecolor\":\"white\",\"ticks\":\"\"},\"baxis\":{\"gridcolor\":\"white\",\"linecolor\":\"white\",\"ticks\":\"\"},\"bgcolor\":\"#E5ECF6\",\"caxis\":{\"gridcolor\":\"white\",\"linecolor\":\"white\",\"ticks\":\"\"}},\"title\":{\"x\":0.05},\"xaxis\":{\"automargin\":true,\"gridcolor\":\"white\",\"linecolor\":\"white\",\"ticks\":\"\",\"title\":{\"standoff\":15},\"zerolinecolor\":\"white\",\"zerolinewidth\":2},\"yaxis\":{\"automargin\":true,\"gridcolor\":\"white\",\"linecolor\":\"white\",\"ticks\":\"\",\"title\":{\"standoff\":15},\"zerolinecolor\":\"white\",\"zerolinewidth\":2}}},\"title\":{\"font\":{\"color\":\"#4D5663\"}},\"xaxis\":{\"anchor\":\"y\",\"domain\":[0.0,0.2125],\"gridcolor\":\"#E1E5ED\",\"showgrid\":false,\"tickfont\":{\"color\":\"#4D5663\"},\"title\":{\"font\":{\"color\":\"#4D5663\"},\"text\":\"\"},\"zerolinecolor\":\"#E1E5ED\"},\"yaxis\":{\"anchor\":\"x\",\"domain\":[0.8025,1.0],\"gridcolor\":\"#E1E5ED\",\"showgrid\":false,\"tickfont\":{\"color\":\"#4D5663\"},\"title\":{\"font\":{\"color\":\"#4D5663\"},\"text\":\"\"},\"zerolinecolor\":\"#E1E5ED\"},\"xaxis2\":{\"anchor\":\"y2\",\"domain\":[0.2625,0.475],\"gridcolor\":\"#E1E5ED\",\"showgrid\":false,\"tickfont\":{\"color\":\"#4D5663\"},\"title\":{\"font\":{\"color\":\"#4D5663\"},\"text\":\"\"},\"zerolinecolor\":\"#E1E5ED\"},\"yaxis2\":{\"anchor\":\"x2\",\"domain\":[0.8025,1.0],\"gridcolor\":\"#E1E5ED\",\"showgrid\":false,\"tickfont\":{\"color\":\"#4D5663\"},\"title\":{\"font\":{\"color\":\"#4D5663\"},\"text\":\"\"},\"zerolinecolor\":\"#E1E5ED\"},\"xaxis3\":{\"anchor\":\"y3\",\"domain\":[0.525,0.7375],\"gridcolor\":\"#E1E5ED\",\"showgrid\":false,\"tickfont\":{\"color\":\"#4D5663\"},\"title\":{\"font\":{\"color\":\"#4D5663\"},\"text\":\"\"},\"zerolinecolor\":\"#E1E5ED\"},\"yaxis3\":{\"anchor\":\"x3\",\"domain\":[0.8025,1.0],\"gridcolor\":\"#E1E5ED\",\"showgrid\":false,\"tickfont\":{\"color\":\"#4D5663\"},\"title\":{\"font\":{\"color\":\"#4D5663\"},\"text\":\"\"},\"zerolinecolor\":\"#E1E5ED\"},\"xaxis4\":{\"anchor\":\"y4\",\"domain\":[0.7875,1.0],\"gridcolor\":\"#E1E5ED\",\"showgrid\":false,\"tickfont\":{\"color\":\"#4D5663\"},\"title\":{\"font\":{\"color\":\"#4D5663\"},\"text\":\"\"},\"zerolinecolor\":\"#E1E5ED\"},\"yaxis4\":{\"anchor\":\"x4\",\"domain\":[0.8025,1.0],\"gridcolor\":\"#E1E5ED\",\"showgrid\":false,\"tickfont\":{\"color\":\"#4D5663\"},\"title\":{\"font\":{\"color\":\"#4D5663\"},\"text\":\"\"},\"zerolinecolor\":\"#E1E5ED\"},\"xaxis5\":{\"anchor\":\"y5\",\"domain\":[0.0,0.2125],\"gridcolor\":\"#E1E5ED\",\"showgrid\":false,\"tickfont\":{\"color\":\"#4D5663\"},\"title\":{\"font\":{\"color\":\"#4D5663\"},\"text\":\"\"},\"zerolinecolor\":\"#E1E5ED\"},\"yaxis5\":{\"anchor\":\"x5\",\"domain\":[0.535,0.7325],\"gridcolor\":\"#E1E5ED\",\"showgrid\":false,\"tickfont\":{\"color\":\"#4D5663\"},\"title\":{\"font\":{\"color\":\"#4D5663\"},\"text\":\"\"},\"zerolinecolor\":\"#E1E5ED\"},\"xaxis6\":{\"anchor\":\"y6\",\"domain\":[0.2625,0.475],\"gridcolor\":\"#E1E5ED\",\"showgrid\":false,\"tickfont\":{\"color\":\"#4D5663\"},\"title\":{\"font\":{\"color\":\"#4D5663\"},\"text\":\"\"},\"zerolinecolor\":\"#E1E5ED\"},\"yaxis6\":{\"anchor\":\"x6\",\"domain\":[0.535,0.7325],\"gridcolor\":\"#E1E5ED\",\"showgrid\":false,\"tickfont\":{\"color\":\"#4D5663\"},\"title\":{\"font\":{\"color\":\"#4D5663\"},\"text\":\"\"},\"zerolinecolor\":\"#E1E5ED\"},\"xaxis7\":{\"anchor\":\"y7\",\"domain\":[0.525,0.7375],\"gridcolor\":\"#E1E5ED\",\"showgrid\":false,\"tickfont\":{\"color\":\"#4D5663\"},\"title\":{\"font\":{\"color\":\"#4D5663\"},\"text\":\"\"},\"zerolinecolor\":\"#E1E5ED\"},\"yaxis7\":{\"anchor\":\"x7\",\"domain\":[0.535,0.7325],\"gridcolor\":\"#E1E5ED\",\"showgrid\":false,\"tickfont\":{\"color\":\"#4D5663\"},\"title\":{\"font\":{\"color\":\"#4D5663\"},\"text\":\"\"},\"zerolinecolor\":\"#E1E5ED\"},\"xaxis8\":{\"anchor\":\"y8\",\"domain\":[0.7875,1.0],\"gridcolor\":\"#E1E5ED\",\"showgrid\":false,\"tickfont\":{\"color\":\"#4D5663\"},\"title\":{\"font\":{\"color\":\"#4D5663\"},\"text\":\"\"},\"zerolinecolor\":\"#E1E5ED\"},\"yaxis8\":{\"anchor\":\"x8\",\"domain\":[0.535,0.7325],\"gridcolor\":\"#E1E5ED\",\"showgrid\":false,\"tickfont\":{\"color\":\"#4D5663\"},\"title\":{\"font\":{\"color\":\"#4D5663\"},\"text\":\"\"},\"zerolinecolor\":\"#E1E5ED\"},\"xaxis9\":{\"anchor\":\"y9\",\"domain\":[0.0,0.2125],\"gridcolor\":\"#E1E5ED\",\"showgrid\":false,\"tickfont\":{\"color\":\"#4D5663\"},\"title\":{\"font\":{\"color\":\"#4D5663\"},\"text\":\"\"},\"zerolinecolor\":\"#E1E5ED\"},\"yaxis9\":{\"anchor\":\"x9\",\"domain\":[0.2675,0.465],\"gridcolor\":\"#E1E5ED\",\"showgrid\":false,\"tickfont\":{\"color\":\"#4D5663\"},\"title\":{\"font\":{\"color\":\"#4D5663\"},\"text\":\"\"},\"zerolinecolor\":\"#E1E5ED\"},\"xaxis10\":{\"anchor\":\"y10\",\"domain\":[0.2625,0.475],\"gridcolor\":\"#E1E5ED\",\"showgrid\":false,\"tickfont\":{\"color\":\"#4D5663\"},\"title\":{\"font\":{\"color\":\"#4D5663\"},\"text\":\"\"},\"zerolinecolor\":\"#E1E5ED\"},\"yaxis10\":{\"anchor\":\"x10\",\"domain\":[0.2675,0.465],\"gridcolor\":\"#E1E5ED\",\"showgrid\":false,\"tickfont\":{\"color\":\"#4D5663\"},\"title\":{\"font\":{\"color\":\"#4D5663\"},\"text\":\"\"},\"zerolinecolor\":\"#E1E5ED\"},\"xaxis11\":{\"anchor\":\"y11\",\"domain\":[0.525,0.7375],\"gridcolor\":\"#E1E5ED\",\"showgrid\":false,\"tickfont\":{\"color\":\"#4D5663\"},\"title\":{\"font\":{\"color\":\"#4D5663\"},\"text\":\"\"},\"zerolinecolor\":\"#E1E5ED\"},\"yaxis11\":{\"anchor\":\"x11\",\"domain\":[0.2675,0.465],\"gridcolor\":\"#E1E5ED\",\"showgrid\":false,\"tickfont\":{\"color\":\"#4D5663\"},\"title\":{\"font\":{\"color\":\"#4D5663\"},\"text\":\"\"},\"zerolinecolor\":\"#E1E5ED\"},\"xaxis12\":{\"anchor\":\"y12\",\"domain\":[0.7875,1.0],\"gridcolor\":\"#E1E5ED\",\"showgrid\":false,\"tickfont\":{\"color\":\"#4D5663\"},\"title\":{\"font\":{\"color\":\"#4D5663\"},\"text\":\"\"},\"zerolinecolor\":\"#E1E5ED\"},\"yaxis12\":{\"anchor\":\"x12\",\"domain\":[0.2675,0.465],\"gridcolor\":\"#E1E5ED\",\"showgrid\":false,\"tickfont\":{\"color\":\"#4D5663\"},\"title\":{\"font\":{\"color\":\"#4D5663\"},\"text\":\"\"},\"zerolinecolor\":\"#E1E5ED\"},\"xaxis13\":{\"anchor\":\"y13\",\"domain\":[0.0,0.2125],\"gridcolor\":\"#E1E5ED\",\"showgrid\":false,\"tickfont\":{\"color\":\"#4D5663\"},\"title\":{\"font\":{\"color\":\"#4D5663\"},\"text\":\"\"},\"zerolinecolor\":\"#E1E5ED\"},\"yaxis13\":{\"anchor\":\"x13\",\"domain\":[0.0,0.1975],\"gridcolor\":\"#E1E5ED\",\"showgrid\":false,\"tickfont\":{\"color\":\"#4D5663\"},\"title\":{\"font\":{\"color\":\"#4D5663\"},\"text\":\"\"},\"zerolinecolor\":\"#E1E5ED\"},\"xaxis14\":{\"anchor\":\"y14\",\"domain\":[0.2625,0.475],\"gridcolor\":\"#E1E5ED\",\"showgrid\":false,\"tickfont\":{\"color\":\"#4D5663\"},\"title\":{\"font\":{\"color\":\"#4D5663\"},\"text\":\"\"},\"zerolinecolor\":\"#E1E5ED\"},\"yaxis14\":{\"anchor\":\"x14\",\"domain\":[0.0,0.1975],\"gridcolor\":\"#E1E5ED\",\"showgrid\":false,\"tickfont\":{\"color\":\"#4D5663\"},\"title\":{\"font\":{\"color\":\"#4D5663\"},\"text\":\"\"},\"zerolinecolor\":\"#E1E5ED\"},\"xaxis15\":{\"anchor\":\"y15\",\"domain\":[0.525,0.7375],\"gridcolor\":\"#E1E5ED\",\"showgrid\":false,\"tickfont\":{\"color\":\"#4D5663\"},\"title\":{\"font\":{\"color\":\"#4D5663\"},\"text\":\"\"},\"zerolinecolor\":\"#E1E5ED\"},\"yaxis15\":{\"anchor\":\"x15\",\"domain\":[0.0,0.1975],\"gridcolor\":\"#E1E5ED\",\"showgrid\":false,\"tickfont\":{\"color\":\"#4D5663\"},\"title\":{\"font\":{\"color\":\"#4D5663\"},\"text\":\"\"},\"zerolinecolor\":\"#E1E5ED\"},\"xaxis16\":{\"anchor\":\"y16\",\"domain\":[0.7875,1.0],\"gridcolor\":\"#E1E5ED\",\"showgrid\":false,\"tickfont\":{\"color\":\"#4D5663\"},\"title\":{\"font\":{\"color\":\"#4D5663\"},\"text\":\"\"},\"zerolinecolor\":\"#E1E5ED\"},\"yaxis16\":{\"anchor\":\"x16\",\"domain\":[0.0,0.1975],\"gridcolor\":\"#E1E5ED\",\"showgrid\":false,\"tickfont\":{\"color\":\"#4D5663\"},\"title\":{\"font\":{\"color\":\"#4D5663\"},\"text\":\"\"},\"zerolinecolor\":\"#E1E5ED\"}},                        {\"showLink\": true, \"linkText\": \"Export to plot.ly\", \"plotlyServerURL\": \"https://plot.ly\", \"responsive\": true}                    ).then(function(){\n",
       "                            \n",
       "var gd = document.getElementById('0c83643f-da4e-4d0b-94ac-62a8aed3c917');\n",
       "var x = new MutationObserver(function (mutations, observer) {{\n",
       "        var display = window.getComputedStyle(gd).display;\n",
       "        if (!display || display === 'none') {{\n",
       "            console.log([gd, 'removed!']);\n",
       "            Plotly.purge(gd);\n",
       "            observer.disconnect();\n",
       "        }}\n",
       "}});\n",
       "\n",
       "// Listen for the removal of the full notebook cells\n",
       "var notebookContainer = gd.closest('#notebook-container');\n",
       "if (notebookContainer) {{\n",
       "    x.observe(notebookContainer, {childList: true});\n",
       "}}\n",
       "\n",
       "// Listen for the clearing of the current output cell\n",
       "var outputEl = gd.closest('.output');\n",
       "if (outputEl) {{\n",
       "    x.observe(outputEl, {childList: true});\n",
       "}}\n",
       "\n",
       "                        })                };                });            </script>        </div>"
      ]
     },
     "metadata": {},
     "output_type": "display_data"
    }
   ],
   "source": [
    "df.scatter_matrix()"
   ]
  },
  {
   "cell_type": "markdown",
   "metadata": {
    "collapsed": true,
    "jupyter": {
     "outputs_hidden": true
    }
   },
   "source": [
    "# Great Job!"
   ]
  },
  {
   "cell_type": "markdown",
   "metadata": {},
   "source": [
    "* Use Plotly when you need interactive, web-based visualizations, especially for dashboards or real-time data displays.\n",
    "* Use Matplotlib when you need high-quality static plots for academic or research purposes, especially if you are working primarily in a Python scripting or Jupyter Notebook environment.\n"
   ]
  },
  {
   "cell_type": "code",
   "execution_count": null,
   "metadata": {},
   "outputs": [],
   "source": []
  }
 ],
 "metadata": {
  "kernelspec": {
   "display_name": "Python 3 (ipykernel)",
   "language": "python",
   "name": "python3"
  },
  "language_info": {
   "codemirror_mode": {
    "name": "ipython",
    "version": 3
   },
   "file_extension": ".py",
   "mimetype": "text/x-python",
   "name": "python",
   "nbconvert_exporter": "python",
   "pygments_lexer": "ipython3",
   "version": "3.11.7"
  }
 },
 "nbformat": 4,
 "nbformat_minor": 4
}
